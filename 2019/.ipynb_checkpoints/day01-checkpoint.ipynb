{
 "cells": [
  {
   "cell_type": "markdown",
   "id": "d39ddae1",
   "metadata": {},
   "source": [
    "# Day 1: The Tyranny of the Rocket Equation"
   ]
  },
  {
   "cell_type": "markdown",
   "id": "0c46517e",
   "metadata": {},
   "source": [
    "## Part 1"
   ]
  },
  {
   "cell_type": "markdown",
   "id": "20e9f891",
   "metadata": {},
   "source": [
    "Santa has become stranded at the edge of the Solar System while delivering presents to other planets! To accurately calculate his position in space, safely align his warp drive, and return to Earth in time to save Christmas, he needs you to bring him measurements from fifty stars.\n",
    "\n",
    "Collect stars by solving puzzles. Two puzzles will be made available on each day in the Advent calendar; the second puzzle is unlocked when you complete the first. Each puzzle grants one star. Good luck!\n",
    "\n",
    "The Elves quickly load you into a spacecraft and prepare to launch.\n",
    "\n",
    "At the first Go / No Go poll, every Elf is Go until the Fuel Counter-Upper. They haven't determined the amount of fuel required yet.\n",
    "\n",
    "Fuel required to launch a given module is based on its mass. Specifically, to find the fuel required for a module, take its mass, divide by three, round down, and subtract 2.\n",
    "\n",
    "For example:\n",
    "\n",
    "- For a mass of ```12```, divide by ```3``` and round down to get ```4```, then subtract ```2``` to get ```2```.\n",
    "- For a mass of ```14```, dividing by ```3``` and rounding down still yields ```4```, so the fuel required is also ```2```.\n",
    "- For a mass of ```1969```, the fuel required is ```654```.\n",
    "- For a mass of ```100756```, the fuel required is ```33583```.\n",
    "\n",
    "The Fuel Counter-Upper needs to know the total fuel requirement. To find it, individually calculate the fuel needed for the mass of each module (your puzzle input), then add together all the fuel values.\n",
    "\n",
    "What is the sum of the fuel requirements for all of the modules on your spacecraft?"
   ]
  },
  {
   "cell_type": "code",
   "execution_count": 1,
   "id": "4ed11a87",
   "metadata": {},
   "outputs": [],
   "source": [
    "import numpy as np"
   ]
  },
  {
   "cell_type": "code",
   "execution_count": 13,
   "id": "592ce4c6",
   "metadata": {},
   "outputs": [],
   "source": [
    "class Module:\n",
    "    def __init__(self, mass):\n",
    "        self.mass = mass\n",
    "        self.fuel = self.calc_fuel(mass)\n",
    "        \n",
    "    def calc_fuel(self, mass):\n",
    "        self.fuel = (self.mass//3) - 2\n",
    "        return self.fuel"
   ]
  },
  {
   "cell_type": "code",
   "execution_count": 33,
   "id": "d3e845f1",
   "metadata": {},
   "outputs": [],
   "source": [
    "def load_modules(path):\n",
    "    file = open(path, \"r\")\n",
    "    lines = file.readlines()\n",
    "    lines = [int(l.replace(\"\\n\",'')) for l in lines]   \n",
    "    \n",
    "    Modules = []\n",
    "    \n",
    "    for l in lines:\n",
    "        Modules.append(Module(l))\n",
    "    \n",
    "    return Modules"
   ]
  },
  {
   "cell_type": "code",
   "execution_count": 34,
   "id": "27a0d6d9",
   "metadata": {},
   "outputs": [
    {
     "name": "stdout",
     "output_type": "stream",
     "text": [
      "Mass: 12 Required Fuel: 2\n",
      "Mass: 14 Required Fuel: 2\n",
      "Mass: 1969 Required Fuel: 654\n",
      "Mass: 100756 Required Fuel: 33583\n"
     ]
    }
   ],
   "source": [
    "m = Module(12)\n",
    "print(\"Mass: \"+str(m.mass)+\" Required Fuel: \"+str(m.fuel))\n",
    "\n",
    "m = Module(14)\n",
    "print(\"Mass: \"+str(m.mass)+\" Required Fuel: \"+str(m.fuel))\n",
    "\n",
    "m = Module(1969)\n",
    "print(\"Mass: \"+str(m.mass)+\" Required Fuel: \"+str(m.fuel))\n",
    "\n",
    "m = Module(100756)\n",
    "print(\"Mass: \"+str(m.mass)+\" Required Fuel: \"+str(m.fuel))"
   ]
  },
  {
   "cell_type": "code",
   "execution_count": 36,
   "id": "ac4002d8",
   "metadata": {},
   "outputs": [
    {
     "name": "stdout",
     "output_type": "stream",
     "text": [
      "3295206\n"
     ]
    }
   ],
   "source": [
    "Modules = load_modules(\"day01_data.txt\")\n",
    "\n",
    "total_fuel = 0\n",
    "\n",
    "for m in Modules:\n",
    "    total_fuel += m.fuel\n",
    "    \n",
    "print(total_fuel)"
   ]
  },
  {
   "cell_type": "markdown",
   "id": "0d8ea4e5",
   "metadata": {},
   "source": [
    "## Part 2"
   ]
  },
  {
   "cell_type": "markdown",
   "id": "8253a8fc",
   "metadata": {},
   "source": [
    "During the second Go / No Go poll, the Elf in charge of the Rocket Equation Double-Checker stops the launch sequence. Apparently, you forgot to include additional fuel for the fuel you just added.\n",
    "\n",
    "Fuel itself requires fuel just like a module - take its mass, divide by three, round down, and subtract 2. However, that fuel also requires fuel, and that fuel requires fuel, and so on. Any mass that would require negative fuel should instead be treated as if it requires zero fuel; the remaining mass, if any, is instead handled by wishing really hard, which has no mass and is outside the scope of this calculation.\n",
    "\n",
    "So, for each module mass, calculate its fuel and add it to the total. Then, treat the fuel amount you just calculated as the input mass and repeat the process, continuing until a fuel requirement is zero or negative. For example:\n",
    "\n",
    "- A module of mass ```14``` requires ```2``` fuel. This fuel requires no further fuel (```2``` divided by ```3``` and rounded down is ```0```, which would call for a negative fuel), so the total fuel required is still just ```2```.\n",
    "- At first, a module of mass ```1969``` requires ```654``` fuel. Then, this fuel requires ```216``` more fuel (```654 / 3 - 2```). ```216``` then requires ```70``` more fuel, which requires ```21``` fuel, which requires ```5``` fuel, which requires no further fuel. So, the total fuel required for a module of mass ```1969``` is ```654 + 216 + `70 + 21 + 5 = 966```.\n",
    "- The fuel required by a module of mass ```100756``` and its fuel is: ```33583 + 11192 + 3728 + 1240 + 411 + 135 + 43 + 12 + 2 = 50346```.\n",
    "\n",
    "What is the sum of the fuel requirements for all of the modules on your spacecraft when also taking into account the mass of the added fuel? (Calculate the fuel requirements for each module separately, then add them all up at the end.)"
   ]
  },
  {
   "cell_type": "code",
   "execution_count": 42,
   "id": "5b7f1ccc",
   "metadata": {},
   "outputs": [],
   "source": [
    "class Module:\n",
    "    def __init__(self, mass):\n",
    "        self.mass = mass\n",
    "        self.fuel = self.calc_fuel(self.mass)\n",
    "        \n",
    "    def calc_fuel(self, mass):\n",
    "        \n",
    "        fuel = (self.mass//3) - 2\n",
    "        new_fuel = fuel\n",
    "        \n",
    "        while True:\n",
    "            \n",
    "            new_fuel = (new_fuel//3) - 2\n",
    "            if new_fuel <= 0:\n",
    "                break\n",
    "            else:\n",
    "                fuel += new_fuel\n",
    "        \n",
    "        \n",
    "        self.fuel = fuel\n",
    "        \n",
    "        return self.fuel"
   ]
  },
  {
   "cell_type": "code",
   "execution_count": 43,
   "id": "1d42e22d",
   "metadata": {},
   "outputs": [
    {
     "ename": "NameError",
     "evalue": "name 'new_feul' is not defined",
     "output_type": "error",
     "traceback": [
      "\u001b[1;31m---------------------------------------------------------------------------\u001b[0m",
      "\u001b[1;31mNameError\u001b[0m                                 Traceback (most recent call last)",
      "\u001b[1;32m~\\AppData\\Local\\Temp/ipykernel_27964/911198978.py\u001b[0m in \u001b[0;36m<module>\u001b[1;34m\u001b[0m\n\u001b[1;32m----> 1\u001b[1;33m \u001b[0mModules\u001b[0m \u001b[1;33m=\u001b[0m \u001b[0mload_modules\u001b[0m\u001b[1;33m(\u001b[0m\u001b[1;34m\"day01_data.txt\"\u001b[0m\u001b[1;33m)\u001b[0m\u001b[1;33m\u001b[0m\u001b[1;33m\u001b[0m\u001b[0m\n\u001b[0m\u001b[0;32m      2\u001b[0m \u001b[1;33m\u001b[0m\u001b[0m\n\u001b[0;32m      3\u001b[0m \u001b[0mtotal_fuel\u001b[0m \u001b[1;33m=\u001b[0m \u001b[1;36m0\u001b[0m\u001b[1;33m\u001b[0m\u001b[1;33m\u001b[0m\u001b[0m\n\u001b[0;32m      4\u001b[0m \u001b[1;33m\u001b[0m\u001b[0m\n\u001b[0;32m      5\u001b[0m \u001b[1;32mfor\u001b[0m \u001b[0mm\u001b[0m \u001b[1;32min\u001b[0m \u001b[0mModules\u001b[0m\u001b[1;33m:\u001b[0m\u001b[1;33m\u001b[0m\u001b[1;33m\u001b[0m\u001b[0m\n",
      "\u001b[1;32m~\\AppData\\Local\\Temp/ipykernel_27964/639751809.py\u001b[0m in \u001b[0;36mload_modules\u001b[1;34m(path)\u001b[0m\n\u001b[0;32m      7\u001b[0m \u001b[1;33m\u001b[0m\u001b[0m\n\u001b[0;32m      8\u001b[0m     \u001b[1;32mfor\u001b[0m \u001b[0ml\u001b[0m \u001b[1;32min\u001b[0m \u001b[0mlines\u001b[0m\u001b[1;33m:\u001b[0m\u001b[1;33m\u001b[0m\u001b[1;33m\u001b[0m\u001b[0m\n\u001b[1;32m----> 9\u001b[1;33m         \u001b[0mModules\u001b[0m\u001b[1;33m.\u001b[0m\u001b[0mappend\u001b[0m\u001b[1;33m(\u001b[0m\u001b[0mModule\u001b[0m\u001b[1;33m(\u001b[0m\u001b[0ml\u001b[0m\u001b[1;33m)\u001b[0m\u001b[1;33m)\u001b[0m\u001b[1;33m\u001b[0m\u001b[1;33m\u001b[0m\u001b[0m\n\u001b[0m\u001b[0;32m     10\u001b[0m \u001b[1;33m\u001b[0m\u001b[0m\n\u001b[0;32m     11\u001b[0m     \u001b[1;32mreturn\u001b[0m \u001b[0mModules\u001b[0m\u001b[1;33m\u001b[0m\u001b[1;33m\u001b[0m\u001b[0m\n",
      "\u001b[1;32m~\\AppData\\Local\\Temp/ipykernel_27964/4126644599.py\u001b[0m in \u001b[0;36m__init__\u001b[1;34m(self, mass)\u001b[0m\n\u001b[0;32m      2\u001b[0m     \u001b[1;32mdef\u001b[0m \u001b[0m__init__\u001b[0m\u001b[1;33m(\u001b[0m\u001b[0mself\u001b[0m\u001b[1;33m,\u001b[0m \u001b[0mmass\u001b[0m\u001b[1;33m)\u001b[0m\u001b[1;33m:\u001b[0m\u001b[1;33m\u001b[0m\u001b[1;33m\u001b[0m\u001b[0m\n\u001b[0;32m      3\u001b[0m         \u001b[0mself\u001b[0m\u001b[1;33m.\u001b[0m\u001b[0mmass\u001b[0m \u001b[1;33m=\u001b[0m \u001b[0mmass\u001b[0m\u001b[1;33m\u001b[0m\u001b[1;33m\u001b[0m\u001b[0m\n\u001b[1;32m----> 4\u001b[1;33m         \u001b[0mself\u001b[0m\u001b[1;33m.\u001b[0m\u001b[0mfuel\u001b[0m \u001b[1;33m=\u001b[0m \u001b[0mself\u001b[0m\u001b[1;33m.\u001b[0m\u001b[0mcalc_fuel\u001b[0m\u001b[1;33m(\u001b[0m\u001b[0mself\u001b[0m\u001b[1;33m.\u001b[0m\u001b[0mmass\u001b[0m\u001b[1;33m)\u001b[0m\u001b[1;33m\u001b[0m\u001b[1;33m\u001b[0m\u001b[0m\n\u001b[0m\u001b[0;32m      5\u001b[0m \u001b[1;33m\u001b[0m\u001b[0m\n\u001b[0;32m      6\u001b[0m     \u001b[1;32mdef\u001b[0m \u001b[0mcalc_fuel\u001b[0m\u001b[1;33m(\u001b[0m\u001b[0mself\u001b[0m\u001b[1;33m,\u001b[0m \u001b[0mmass\u001b[0m\u001b[1;33m)\u001b[0m\u001b[1;33m:\u001b[0m\u001b[1;33m\u001b[0m\u001b[1;33m\u001b[0m\u001b[0m\n",
      "\u001b[1;32m~\\AppData\\Local\\Temp/ipykernel_27964/4126644599.py\u001b[0m in \u001b[0;36mcalc_fuel\u001b[1;34m(self, mass)\u001b[0m\n\u001b[0;32m     12\u001b[0m \u001b[1;33m\u001b[0m\u001b[0m\n\u001b[0;32m     13\u001b[0m             \u001b[0mnew_fuel\u001b[0m \u001b[1;33m=\u001b[0m \u001b[1;33m(\u001b[0m\u001b[0mnew_fuel\u001b[0m\u001b[1;33m//\u001b[0m\u001b[1;36m3\u001b[0m\u001b[1;33m)\u001b[0m \u001b[1;33m-\u001b[0m \u001b[1;36m2\u001b[0m\u001b[1;33m\u001b[0m\u001b[1;33m\u001b[0m\u001b[0m\n\u001b[1;32m---> 14\u001b[1;33m             \u001b[1;32mif\u001b[0m \u001b[0mnew_feul\u001b[0m \u001b[1;33m<=\u001b[0m \u001b[1;36m0\u001b[0m\u001b[1;33m:\u001b[0m\u001b[1;33m\u001b[0m\u001b[1;33m\u001b[0m\u001b[0m\n\u001b[0m\u001b[0;32m     15\u001b[0m                 \u001b[1;32mbreak\u001b[0m\u001b[1;33m\u001b[0m\u001b[1;33m\u001b[0m\u001b[0m\n\u001b[0;32m     16\u001b[0m             \u001b[1;32melse\u001b[0m\u001b[1;33m:\u001b[0m\u001b[1;33m\u001b[0m\u001b[1;33m\u001b[0m\u001b[0m\n",
      "\u001b[1;31mNameError\u001b[0m: name 'new_feul' is not defined"
     ]
    }
   ],
   "source": [
    "Modules = load_modules(\"day01_data.txt\")\n",
    "\n",
    "total_fuel = 0\n",
    "\n",
    "for m in Modules:\n",
    "    total_fuel += m.fuel\n",
    "    \n",
    "print(total_fuel)"
   ]
  },
  {
   "cell_type": "code",
   "execution_count": null,
   "id": "df108ed1",
   "metadata": {},
   "outputs": [],
   "source": []
  }
 ],
 "metadata": {
  "kernelspec": {
   "display_name": "Python 3 (ipykernel)",
   "language": "python",
   "name": "python3"
  },
  "language_info": {
   "codemirror_mode": {
    "name": "ipython",
    "version": 3
   },
   "file_extension": ".py",
   "mimetype": "text/x-python",
   "name": "python",
   "nbconvert_exporter": "python",
   "pygments_lexer": "ipython3",
   "version": "3.8.8"
  },
  "varInspector": {
   "cols": {
    "lenName": 16,
    "lenType": 16,
    "lenVar": 40
   },
   "kernels_config": {
    "python": {
     "delete_cmd_postfix": "",
     "delete_cmd_prefix": "del ",
     "library": "var_list.py",
     "varRefreshCmd": "print(var_dic_list())"
    },
    "r": {
     "delete_cmd_postfix": ") ",
     "delete_cmd_prefix": "rm(",
     "library": "var_list.r",
     "varRefreshCmd": "cat(var_dic_list()) "
    }
   },
   "types_to_exclude": [
    "module",
    "function",
    "builtin_function_or_method",
    "instance",
    "_Feature"
   ],
   "window_display": false
  }
 },
 "nbformat": 4,
 "nbformat_minor": 5
}
