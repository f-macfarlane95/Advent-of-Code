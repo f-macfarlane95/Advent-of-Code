{
 "cells": [
  {
   "cell_type": "markdown",
   "id": "49c2960a",
   "metadata": {},
   "source": [
    "# Day 4: Giant Squid"
   ]
  },
  {
   "cell_type": "markdown",
   "id": "d67e7027",
   "metadata": {},
   "source": [
    "## Part 1"
   ]
  },
  {
   "cell_type": "markdown",
   "id": "53267ceb",
   "metadata": {},
   "source": [
    "You're already almost 1.5km (almost a mile) below the surface of the ocean, already so deep that you can't see any sunlight. What you can see, however, is a giant squid that has attached itself to the outside of your submarine.\n",
    "\n",
    "Maybe it wants to play bingo?\n",
    "\n",
    "Bingo is played on a set of boards each consisting of a 5x5 grid of numbers. Numbers are chosen at random, and the chosen number is marked on all boards on which it appears. (Numbers may not appear on all boards.) If all numbers in any row or any column of a board are marked, that board wins. (Diagonals don't count.)\n",
    "\n",
    "The submarine has a bingo subsystem to help passengers (currently, you and the giant squid) pass the time. It automatically generates a random order in which to draw numbers and a random set of boards (your puzzle input). For example:\n",
    "```\n",
    "7,4,9,5,11,17,23,2,0,14,21,24,10,16,13,6,15,25,12,22,18,20,8,19,3,26,1\n",
    "\n",
    "22 13 17 11  0\n",
    " 8  2 23  4 24\n",
    "21  9 14 16  7\n",
    " 6 10  3 18  5\n",
    " 1 12 20 15 19\n",
    "\n",
    " 3 15  0  2 22\n",
    " 9 18 13 17  5\n",
    "19  8  7 25 23\n",
    "20 11 10 24  4\n",
    "14 21 16 12  6\n",
    "\n",
    "14 21 17 24  4\n",
    "10 16 15  9 19\n",
    "18  8 23 26 20\n",
    "22 11 13  6  5\n",
    " 2  0 12  3  7\n",
    " ```\n",
    "After the first five numbers are drawn (7, 4, 9, 5, and 11), there are no winners, but the boards are marked as follows (shown here adjacent to each other to save space):\n",
    "\n",
    "<pre>\n",
    "22 13 17 <b>11</b>  0         3 15  0  2 22        14 21 17 24  <b>4</b>\n",
    " 8  2 23 <b> 4</b> 24        <b> 9</b> 18 13 17 <b> 5</b>        10 16 15 <b> 9</b> 19\n",
    "21 <b> 9</b> 14 16 <b> 7</b>        19  8 <b> 7</b> 25 23        18  8 23 26 20\n",
    " 6 10  3 18 <b> 5</b>        20 <b>11</b> 10 24 <b> 4</b>        22 <b>11</b> 13  6 <b> 5</b>\n",
    " 1 12 20 15 19        14 21 16 12  6         2  0 12  3 <b> 7</b>\n",
    "</pre>\n",
    "\n",
    "After the next six numbers are drawn (17, 23, 2, 0, 14, and 21), there are still no winners:\n",
    "<pre>\n",
    "22 13 <b>17</b> <b>11</b> <b> 0</b>         3 15 <b> 0</b> <b> 2</b> 22        <b>14</b> <b>21</b> <b>17</b> 24  <b>4</b>\n",
    " 8 <b> 2</b> <b>23</b> <b> 4</b> 24        <b> 9</b> 18 13 <b>17</b> <b> 5</b>        10 16 15 <b> 9</b> 19\n",
    "<b>21</b> <b> 9</b> <b>14</b> 16 <b> 7</b>        19  8 <b> 7</b> 25 <b>23</b>        18  8 <b>23</b> 26 20\n",
    " 6 10  3 18 <b> 5</b>        20 <b>11</b> 10 24 <b> 4</b>        22 <b>11</b> 13  6 <b> 5</b>\n",
    " 1 12 20 15 19        <b>14</b> <b>21</b> 16 12  6        <b> 2</b> <b> 0</b> 12  3 <b> 7</b>\n",
    "</pre>\n",
    "\n",
    "Finally, 24 is drawn:\n",
    "<pre>\n",
    "22 13 <b>17</b> <b>11</b> <b> 0</b>         3 15 <b> 0</b> <b> 2</b> 22        <b>14</b> <b>21</b> <b>17</b> <b>24</b>  <b>4</b>\n",
    " 8 <b> 2</b> <b>23</b> <b> 4</b> <b>24</b>        <b> 9</b> 18 13 <b>17</b> <b> 5</b>        10 16 15 <b> 9</b> 19\n",
    "<b>21</b> <b> 9</b> <b>14</b> 16 <b> 7</b>        19  8 <b> 7</b> 25 <b>23</b>        18  8 <b>23</b> 26 20\n",
    " 6 10  3 18 <b> 5</b>        20 <b>11</b> 10 <b>24</b> <b> 4</b>        22 <b>11</b> 13  6 <b> 5</b>\n",
    " 1 12 20 15 19        <b>14</b> <b>21</b> 16 12  6        <b> 2</b> <b> 0</b> 12  3 <b> 7</b>\n",
    "</pre>\n",
    "At this point, the third board wins because it has at least one complete row or column of marked numbers (in this case, the entire top row is marked: 14 21 17 24 4).\n",
    "\n",
    "The score of the winning board can now be calculated. Start by finding the sum of all unmarked numbers on that board; in this case, the sum is 188. Then, multiply that sum by the number that was just called when the board won, 24, to get the final score, 188 * 24 = 4512.\n",
    "\n",
    "To guarantee victory against the giant squid, figure out which board will win first. What will your final score be if you choose that board?"
   ]
  },
  {
   "cell_type": "code",
   "execution_count": 1,
   "id": "ca716c97",
   "metadata": {},
   "outputs": [],
   "source": [
    "import numpy as np"
   ]
  },
  {
   "cell_type": "code",
   "execution_count": 2,
   "id": "8d9664ac",
   "metadata": {},
   "outputs": [],
   "source": [
    "class Board:\n",
    "\n",
    "    def __init__(self, data):\n",
    "        self.data = data\n",
    "        self.marked = np.zeros(data.shape,dtype=None)\n",
    "        \n",
    "        \n",
    "    def update_scoreboard(self, number):\n",
    "        inds = np.where(self.data == number)\n",
    "        #print(self.data)\n",
    "        #print(inds)\n",
    "        #print(number)\n",
    "        self.marked[inds]=1\n",
    "        #print(self.marked)\n",
    "        \n",
    "    def is_winner(self):\n",
    "        rows = np.sum(self.marked,1)\n",
    "        cols = np.sum(self.marked,0)\n",
    "        #print(rows,cols)\n",
    "        if np.any(rows == 5) or np.any(cols == 5):\n",
    "            return True\n",
    "        else:\n",
    "            return False\n",
    "    def final_score(self, number):\n",
    "        #print(self.data)\n",
    "        #print(self.marked)\n",
    "        #print(number)\n",
    "        inds = np.where(self.marked == 0)\n",
    "        score = 0\n",
    "        #print(np.sum(self.data[inds]))\n",
    "        score = np.sum(self.data[inds])*number\n",
    "       \n",
    "        return score\n",
    "    \n",
    "    def remove_board(self):\n",
    "        del self\n",
    "    \n",
    "    \n"
   ]
  },
  {
   "cell_type": "code",
   "execution_count": 3,
   "id": "42af7fb3",
   "metadata": {},
   "outputs": [],
   "source": [
    "def load_boards(path):\n",
    "    file = open(path, \"r\")\n",
    "    lines = file.readlines()\n",
    "    lines = [l.strip(\"\\n\\n\") for l in lines]\n",
    "    #print(lines)\n",
    "    numbers= list(map(int, lines[0].split(\",\")))\n",
    "    boards: list[Board] = []\n",
    "    rows = []\n",
    "\n",
    "    for l in lines[1:]:\n",
    "        if len(l) == 0:\n",
    "            continue\n",
    "    \n",
    "        l = l.split(\" \")\n",
    "        l = [int(j) for j in l if len(j) > 0]\n",
    "\n",
    "\n",
    "        rows.append(l)\n",
    "\n",
    "        if len(rows) == 5:\n",
    "            rows = np.asarray(rows)\n",
    "            boards.append(Board(rows))\n",
    "            rows = []\n",
    "        \n",
    "        \n",
    "    return numbers, boards"
   ]
  },
  {
   "cell_type": "code",
   "execution_count": 4,
   "id": "d69fce3d",
   "metadata": {},
   "outputs": [],
   "source": [
    "[numbers, boards] = load_boards(\"day04_data_test.txt\")"
   ]
  },
  {
   "cell_type": "code",
   "execution_count": 5,
   "id": "399bb678",
   "metadata": {},
   "outputs": [
    {
     "name": "stdout",
     "output_type": "stream",
     "text": [
      "[7, 4, 9, 5, 11, 17, 23, 2, 0, 14, 21, 24, 10, 16, 13, 6, 15, 25, 12, 22, 18, 20, 8, 19, 3, 26, 1]\n"
     ]
    }
   ],
   "source": [
    "print(numbers)"
   ]
  },
  {
   "cell_type": "code",
   "execution_count": 6,
   "id": "a7841f3a",
   "metadata": {},
   "outputs": [],
   "source": [
    "#for b in boards:\n",
    "#    print(b.data)\n",
    "#    print(b.marked)"
   ]
  },
  {
   "cell_type": "code",
   "execution_count": 7,
   "id": "dedc528f",
   "metadata": {},
   "outputs": [],
   "source": [
    "#for b in boards:\n",
    "#    b.is_winner()"
   ]
  },
  {
   "cell_type": "code",
   "execution_count": 8,
   "id": "2436f7a3",
   "metadata": {},
   "outputs": [
    {
     "name": "stdout",
     "output_type": "stream",
     "text": [
      "winner found\n",
      "[[14 21 17 24  4]\n",
      " [10 16 15  9 19]\n",
      " [18  8 23 26 20]\n",
      " [22 11 13  6  5]\n",
      " [ 2  0 12  3  7]]\n",
      "[[1. 1. 1. 1. 1.]\n",
      " [0. 0. 0. 1. 0.]\n",
      " [0. 0. 1. 0. 0.]\n",
      " [0. 1. 0. 0. 1.]\n",
      " [1. 1. 0. 0. 1.]]\n",
      "Final Score: 4512\n"
     ]
    }
   ],
   "source": [
    "for n in numbers:\n",
    "    for b in boards:\n",
    "        b.update_scoreboard(n)\n",
    "        if b.is_winner():\n",
    "            print(\"winner found\")\n",
    "            print(b.data)\n",
    "            print(b.marked)\n",
    "            print(\"Final Score:\", b.final_score(n))\n",
    "            break\n",
    "    else:\n",
    "        # Continue if the inner loop wasn't broken.\n",
    "        continue\n",
    "    # Inner loop was broken, break the outer.\n",
    "    break\n",
    "    "
   ]
  },
  {
   "cell_type": "code",
   "execution_count": 9,
   "id": "083ac85d",
   "metadata": {},
   "outputs": [],
   "source": [
    "[numbers, boards] = load_boards(\"day04_data.txt\")"
   ]
  },
  {
   "cell_type": "code",
   "execution_count": 10,
   "id": "2ff4b070",
   "metadata": {},
   "outputs": [
    {
     "name": "stdout",
     "output_type": "stream",
     "text": [
      "winner found after number  48\n",
      "[[63  3 22  7 10]\n",
      " [36 76 14 77 38]\n",
      " [48 27 40  9 60]\n",
      " [31 56 75 74 78]\n",
      " [86 64 71 90 67]]\n",
      "[[0. 0. 0. 0. 0.]\n",
      " [1. 0. 1. 0. 0.]\n",
      " [1. 1. 1. 1. 1.]\n",
      " [0. 1. 0. 0. 0.]\n",
      " [0. 0. 0. 0. 0.]]\n",
      "Final Score: 44736\n"
     ]
    }
   ],
   "source": [
    "for n in numbers:\n",
    "    for b in boards:\n",
    "        b.update_scoreboard(n)\n",
    "        if b.is_winner():\n",
    "            print(\"winner found after number \", n)\n",
    "            print(b.data)\n",
    "            print(b.marked)\n",
    "            print(\"Final Score:\", b.final_score(n))\n",
    "            break\n",
    "    else:\n",
    "        # Continue if the inner loop wasn't broken.\n",
    "        continue\n",
    "    # Inner loop was broken, break the outer.\n",
    "    break"
   ]
  },
  {
   "cell_type": "code",
   "execution_count": 11,
   "id": "8538a02f",
   "metadata": {},
   "outputs": [],
   "source": [
    "def winning_board(numbers, boards):\n",
    "    for n in numbers:\n",
    "        for b in boards:\n",
    "            b.update_scoreboard(n)\n",
    "            if b.is_winner():\n",
    "                print(\"winner found after number \", n)\n",
    "                print(b.data)\n",
    "                print(b.marked)\n",
    "                print(\"Final Score:\", b.final_score(n))\n",
    "                break\n",
    "        else:\n",
    "            # Continue if the inner loop wasn't broken.\n",
    "            continue\n",
    "        # Inner loop was broken, break the outer.\n",
    "        break"
   ]
  },
  {
   "cell_type": "code",
   "execution_count": 12,
   "id": "92b70ed2",
   "metadata": {},
   "outputs": [
    {
     "name": "stdout",
     "output_type": "stream",
     "text": [
      "winner found after number  24\n",
      "[[14 21 17 24  4]\n",
      " [10 16 15  9 19]\n",
      " [18  8 23 26 20]\n",
      " [22 11 13  6  5]\n",
      " [ 2  0 12  3  7]]\n",
      "[[1. 1. 1. 1. 1.]\n",
      " [0. 0. 0. 1. 0.]\n",
      " [0. 0. 1. 0. 0.]\n",
      " [0. 1. 0. 0. 1.]\n",
      " [1. 1. 0. 0. 1.]]\n",
      "Final Score: 4512\n"
     ]
    }
   ],
   "source": [
    "[numbers, boards] = load_boards(\"day04_data_test.txt\")\n",
    "winning_board(numbers, boards)"
   ]
  },
  {
   "cell_type": "code",
   "execution_count": 13,
   "id": "99c4f79a",
   "metadata": {},
   "outputs": [
    {
     "name": "stdout",
     "output_type": "stream",
     "text": [
      "winner found after number  48\n",
      "[[63  3 22  7 10]\n",
      " [36 76 14 77 38]\n",
      " [48 27 40  9 60]\n",
      " [31 56 75 74 78]\n",
      " [86 64 71 90 67]]\n",
      "[[0. 0. 0. 0. 0.]\n",
      " [1. 0. 1. 0. 0.]\n",
      " [1. 1. 1. 1. 1.]\n",
      " [0. 1. 0. 0. 0.]\n",
      " [0. 0. 0. 0. 0.]]\n",
      "Final Score: 44736\n"
     ]
    }
   ],
   "source": [
    "[numbers, boards] = load_boards(\"day04_data.txt\")\n",
    "winning_board(numbers, boards)"
   ]
  },
  {
   "cell_type": "markdown",
   "id": "4566a534",
   "metadata": {},
   "source": [
    "## Part 2"
   ]
  },
  {
   "cell_type": "markdown",
   "id": "0aa903ec",
   "metadata": {},
   "source": [
    "On the other hand, it might be wise to try a different strategy: let the giant squid win.\n",
    "\n",
    "You aren't sure how many bingo boards a giant squid could play at once, so rather than waste time counting its arms, the safe thing to do is to figure out which board will win last and choose that one. That way, no matter which boards it picks, it will win for sure.\n",
    "\n",
    "In the above example, the second board is the last to win, which happens after 13 is eventually called and its middle column is completely marked. If you were to keep playing until this point, the second board would have a sum of unmarked numbers equal to 148 for a final score of 148 * 13 = 1924.\n",
    "\n",
    "Figure out which board will win last. Once it wins, what would its final score be?"
   ]
  },
  {
   "cell_type": "code",
   "execution_count": 14,
   "id": "6ac4788c",
   "metadata": {},
   "outputs": [],
   "source": [
    "def losing_board(numbers, boards):\n",
    "    \n",
    "    #step through each of the called numbers\n",
    "    for n in numbers:\n",
    "        \n",
    "        #create a copy of the avaliable boards in order to remove winning boards\n",
    "        valid_boards = boards.copy()\n",
    "        \n",
    "        num_removed = 0\n",
    "        \n",
    "        # step through each of the avaliable boards\n",
    "        for i, b in enumerate(boards):\n",
    "            \n",
    "            # update score card if number is called \n",
    "            b.update_scoreboard(n)\n",
    "\n",
    "            # check if a row or column has been filled (i.e., sum ==5)\n",
    "            if b.is_winner():\n",
    "                \n",
    "                # if it is the last board\n",
    "                if len(boards) == 1:\n",
    "                    print(\"Final winner found after number \", n)\n",
    "                    print(b.data)\n",
    "                    print(b.marked)\n",
    "                    print(\"Final Score:\", b.final_score(n))\n",
    "                    return(b.final_score(n))\n",
    "                \n",
    "                # if it is not the last board\n",
    "                if len(boards) > 1:\n",
    "                    #print(b.data)\n",
    "                    #print(i)\n",
    "                    #print(\"winner found after number \", n)\n",
    "                    #print(b.data)\n",
    "                    #print(b.marked)\n",
    "                    #print(\"Final Score:\", b.final_score(n))\n",
    "                    #print(i)\n",
    "                    #print(len(valid_boards))\n",
    "                    valid_boards.pop(i-num_removed)  # THIS WAS THE ISSUE WHEN BOTH LISTS REFERENCE EACH OTHER                 \n",
    "                    num_removed+=1\n",
    "                    \n",
    "        boards = valid_boards.copy()\n"
   ]
  },
  {
   "cell_type": "code",
   "execution_count": 15,
   "id": "28cece20",
   "metadata": {},
   "outputs": [
    {
     "name": "stdout",
     "output_type": "stream",
     "text": [
      "Final winner found after number  13\n",
      "[[ 3 15  0  2 22]\n",
      " [ 9 18 13 17  5]\n",
      " [19  8  7 25 23]\n",
      " [20 11 10 24  4]\n",
      " [14 21 16 12  6]]\n",
      "[[0. 0. 1. 1. 0.]\n",
      " [1. 0. 1. 1. 1.]\n",
      " [0. 0. 1. 0. 1.]\n",
      " [0. 1. 1. 1. 1.]\n",
      " [1. 1. 1. 0. 0.]]\n",
      "Final Score: 1924\n"
     ]
    },
    {
     "data": {
      "text/plain": [
       "1924"
      ]
     },
     "execution_count": 15,
     "metadata": {},
     "output_type": "execute_result"
    }
   ],
   "source": [
    "[numbers, boards] = load_boards(\"day04_data_test.txt\")\n",
    "losing_board(numbers, boards)"
   ]
  },
  {
   "cell_type": "code",
   "execution_count": 16,
   "id": "973a9204",
   "metadata": {},
   "outputs": [
    {
     "name": "stdout",
     "output_type": "stream",
     "text": [
      "Final winner found after number  7\n",
      "[[ 1 20 23 79 14]\n",
      " [27 76  3 90 85]\n",
      " [88 35  7 10 92]\n",
      " [67 97 59 41  8]\n",
      " [56 57 65 45 81]]\n",
      "[[1. 0. 1. 1. 1.]\n",
      " [1. 1. 0. 0. 1.]\n",
      " [1. 1. 1. 1. 1.]\n",
      " [0. 1. 1. 1. 1.]\n",
      " [1. 1. 1. 1. 0.]]\n",
      "Final Score: 1827\n"
     ]
    },
    {
     "data": {
      "text/plain": [
       "1827"
      ]
     },
     "execution_count": 16,
     "metadata": {},
     "output_type": "execute_result"
    }
   ],
   "source": [
    "[numbers, boards] = load_boards(\"day04_data.txt\")\n",
    "losing_board(numbers, boards)"
   ]
  }
 ],
 "metadata": {
  "kernelspec": {
   "display_name": "Python 3 (ipykernel)",
   "language": "python",
   "name": "python3"
  },
  "language_info": {
   "codemirror_mode": {
    "name": "ipython",
    "version": 3
   },
   "file_extension": ".py",
   "mimetype": "text/x-python",
   "name": "python",
   "nbconvert_exporter": "python",
   "pygments_lexer": "ipython3",
   "version": "3.8.8"
  },
  "varInspector": {
   "cols": {
    "lenName": 16,
    "lenType": 16,
    "lenVar": 40
   },
   "kernels_config": {
    "python": {
     "delete_cmd_postfix": "",
     "delete_cmd_prefix": "del ",
     "library": "var_list.py",
     "varRefreshCmd": "print(var_dic_list())"
    },
    "r": {
     "delete_cmd_postfix": ") ",
     "delete_cmd_prefix": "rm(",
     "library": "var_list.r",
     "varRefreshCmd": "cat(var_dic_list()) "
    }
   },
   "oldHeight": 378.844,
   "position": {
    "height": "40px",
    "left": "1206px",
    "right": "20px",
    "top": "49px",
    "width": "350px"
   },
   "types_to_exclude": [
    "module",
    "function",
    "builtin_function_or_method",
    "instance",
    "_Feature"
   ],
   "varInspector_section_display": "none",
   "window_display": true
  }
 },
 "nbformat": 4,
 "nbformat_minor": 5
}
