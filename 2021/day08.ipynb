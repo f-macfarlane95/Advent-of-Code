{
 "cells": [
  {
   "cell_type": "markdown",
   "id": "283d4d54",
   "metadata": {},
   "source": [
    "# Day 8: Seven Segment Search"
   ]
  },
  {
   "cell_type": "markdown",
   "id": "53b5528c",
   "metadata": {},
   "source": [
    "## Part 1"
   ]
  },
  {
   "cell_type": "markdown",
   "id": "41c0e958",
   "metadata": {},
   "source": [
    "You barely reach the safety of the cave when the whale smashes into the cave mouth, collapsing it. Sensors indicate another exit to this cave at a much greater depth, so you have no choice but to press on.\n",
    "\n",
    "As your submarine slowly makes its way through the cave system, you notice that the four-digit seven-segment displays in your submarine are malfunctioning; they must have been damaged during the escape. You'll be in a lot of trouble without them, so you'd better figure out what's wrong.\n",
    "\n",
    "Each digit of a seven-segment display is rendered by turning on or off any of seven segments named a through g:\n",
    "```\n",
    "  0:      1:      2:      3:      4:\n",
    " aaaa    ....    aaaa    aaaa    ....\n",
    "b    c  .    c  .    c  .    c  b    c\n",
    "b    c  .    c  .    c  .    c  b    c\n",
    " ....    ....    dddd    dddd    dddd\n",
    "e    f  .    f  e    .  .    f  .    f\n",
    "e    f  .    f  e    .  .    f  .    f\n",
    " gggg    ....    gggg    gggg    ....\n",
    "\n",
    "  5:      6:      7:      8:      9:\n",
    " aaaa    aaaa    aaaa    aaaa    aaaa\n",
    "b    .  b    .  .    c  b    c  b    c\n",
    "b    .  b    .  .    c  b    c  b    c\n",
    " dddd    dddd    ....    dddd    dddd\n",
    ".    f  e    f  .    f  e    f  .    f\n",
    ".    f  e    f  .    f  e    f  .    f\n",
    " gggg    gggg    ....    gggg    gggg\n",
    "```\n",
    "So, to render a 1, only segments c and f would be turned on; the rest would be off. To render a 7, only segments a, c, and f would be turned on.\n",
    "\n",
    "The problem is that the signals which control the segments have been mixed up on each display. The submarine is still trying to display numbers by producing output on signal wires a through g, but those wires are connected to segments randomly. Worse, the wire/segment connections are mixed up separately for each four-digit display! (All of the digits within a display use the same connections, though.)\n",
    "\n",
    "So, you might know that only signal wires b and g are turned on, but that doesn't mean segments b and g are turned on: the only digit that uses two segments is 1, so it must mean segments c and f are meant to be on. With just that information, you still can't tell which wire (b/g) goes to which segment (c/f). For that, you'll need to collect more information.\n",
    "\n",
    "For each display, you watch the changing signals for a while, make a note of all ten unique signal patterns you see, and then write down a single four digit output value (your puzzle input). Using the signal patterns, you should be able to work out which pattern corresponds to which digit.\n",
    "\n",
    "For example, here is what you might see in a single entry in your notes:\n",
    "```\n",
    "acedgfb cdfbe gcdfa fbcad dab cefabd cdfgeb eafb cagedb ab |\n",
    "cdfeb fcadb cdfeb cdbaf\n",
    "```\n",
    "(The entry is wrapped here to two lines so it fits; in your notes, it will all be on a single line.)\n",
    "\n",
    "Each entry consists of ten unique signal patterns, a | delimiter, and finally the four digit output value. Within an entry, the same wire/segment connections are used (but you don't know what the connections actually are). The unique signal patterns correspond to the ten different ways the submarine tries to render a digit using the current wire/segment connections. Because 7 is the only digit that uses three segments, dab in the above example means that to render a 7, signal lines d, a, and b are on. Because 4 is the only digit that uses four segments, eafb means that to render a 4, signal lines e, a, f, and b are on.\n",
    "\n",
    "Using this information, you should be able to work out which combination of signal wires corresponds to each of the ten digits. Then, you can decode the four digit output value. Unfortunately, in the above example, all of the digits in the output value (cdfeb fcadb cdfeb cdbaf) use five segments and are more difficult to deduce.\n",
    "\n",
    "For now, focus on the easy digits. Consider this larger example:\n",
    "```\n",
    "be cfbegad cbdgef fgaecd cgeb fdcge agebfd fecdb fabcd edb |\n",
    "fdgacbe cefdb cefbgd gcbe\n",
    "edbfga begcd cbg gc gcadebf fbgde acbgfd abcde gfcbed gfec |\n",
    "fcgedb cgb dgebacf gc\n",
    "fgaebd cg bdaec gdafb agbcfd gdcbef bgcad gfac gcb cdgabef |\n",
    "cg cg fdcagb cbg\n",
    "fbegcd cbd adcefb dageb afcb bc aefdc ecdab fgdeca fcdbega |\n",
    "efabcd cedba gadfec cb\n",
    "aecbfdg fbg gf bafeg dbefa fcge gcbea fcaegb dgceab fcbdga |\n",
    "gecf egdcabf bgf bfgea\n",
    "fgeab ca afcebg bdacfeg cfaedg gcfdb baec bfadeg bafgc acf |\n",
    "gebdcfa ecba ca fadegcb\n",
    "dbcfg fgd bdegcaf fgec aegbdf ecdfab fbedc dacgb gdcebf gf |\n",
    "cefg dcbef fcge gbcadfe\n",
    "bdfegc cbegaf gecbf dfcage bdacg ed bedf ced adcbefg gebcd |\n",
    "ed bcgafe cdgba cbgef\n",
    "egadfb cdbfeg cegd fecab cgb gbdefca cg fgcdab egfdb bfceg |\n",
    "gbdfcae bgc cg cgb\n",
    "gcafb gcf dcaebfg ecagb gf abcdeg gaef cafbge fdbac fegbdc |\n",
    "fgae cfgab fg bagce\n",
    "```\n",
    "Because the digits 1, 4, 7, and 8 each use a unique number of segments, you should be able to tell which combinations of signals correspond to those digits. Counting only digits in the output values (the part after | on each line), in the above example, there are 26 instances of digits that use a unique number of segments (highlighted above).\n",
    "\n",
    "In the output values, how many times do digits 1, 4, 7, or 8 appear?"
   ]
  },
  {
   "cell_type": "code",
   "execution_count": 1,
   "id": "167f1e50",
   "metadata": {},
   "outputs": [],
   "source": [
    "import numpy as np\n",
    "from collections import Counter"
   ]
  },
  {
   "cell_type": "code",
   "execution_count": 2,
   "id": "40d2fbb2",
   "metadata": {},
   "outputs": [],
   "source": [
    "def load_numbers(path):\n",
    "    file = open(path, \"r\")\n",
    "    lines = file.readlines()\n",
    "    lines = [l.replace(\"\\n\", '') for l in lines]\n",
    "    #[print(l) for l in lines]\n",
    "    lines = [l.split(\" | \") for l in lines]\n",
    "    #[print(l) for l in lines]\n",
    "    \n",
    "    lines = [[l[0].split(\" \"), l[1].split(\" \")] for l in lines]\n",
    "    #[print(l[1]) for l in lines]\n",
    "    \n",
    "    inputs = list()\n",
    "    outputs = list()\n",
    "    lineout = list()\n",
    "    for l in lines:\n",
    "        inputs.append(l[0])\n",
    "        outputs.append(l[1])\n",
    "        lineout.append(l[0] + l[1])\n",
    "    return inputs, outputs, lineout"
   ]
  },
  {
   "cell_type": "code",
   "execution_count": 3,
   "id": "ddb538ed",
   "metadata": {},
   "outputs": [
    {
     "name": "stdout",
     "output_type": "stream",
     "text": [
      "493\n"
     ]
    }
   ],
   "source": [
    "[inputs, outputs, lines] = load_numbers(\"day08_data.txt\")\n",
    "\n",
    "num_lines = len(outputs)\n",
    "num_elems = len(outputs[0])\n",
    "\n",
    "lengths = np.zeros([num_lines,num_elems], dtype=int)\n",
    "\n",
    "for l in range(num_lines):\n",
    "    for e in range(num_elems):\n",
    "        #print(l, e)\n",
    "        lengths[l, e] = len(outputs[l][e])\n",
    "        \n",
    "u, c = np.unique(lengths, return_counts=True)\n",
    "print(np.sum([c[np.where(u == 2)], c[np.where(u == 3)], c[np.where(u == 4)], c[np.where(u == 7)]]))"
   ]
  },
  {
   "cell_type": "markdown",
   "id": "7c58c7f2",
   "metadata": {},
   "source": [
    "## Part 2"
   ]
  },
  {
   "cell_type": "markdown",
   "id": "6a869681",
   "metadata": {},
   "source": [
    "Through a little deduction, you should now be able to determine the remaining digits. Consider again the first example above:\n",
    "\n",
    "acedgfb cdfbe gcdfa fbcad dab cefabd cdfgeb eafb cagedb ab |\n",
    "cdfeb fcadb cdfeb cdbaf\n",
    "After some careful analysis, the mapping between signal wires and segments only make sense in the following configuration:\n",
    "```\n",
    " dddd\n",
    "e    a\n",
    "e    a\n",
    " ffff\n",
    "g    b\n",
    "g    b\n",
    " cccc\n",
    " ```\n",
    "So, the unique signal patterns would correspond to the following digits:\n",
    "\n",
    "- acedgfb: 8\n",
    "- cdfbe: 5\n",
    "- gcdfa: 2\n",
    "- fbcad: 3\n",
    "- dab: 7\n",
    "- cefabd: 9\n",
    "- cdfgeb: 6\n",
    "- eafb: 4\n",
    "- cagedb: 0\n",
    "- ab: 1\n",
    "\n",
    "Then, the four digits of the output value can be decoded:\n",
    "\n",
    "- cdfeb: 5\n",
    "- fcadb: 3\n",
    "- cdfeb: 5\n",
    "- cdbaf: 3\n",
    "\n",
    "Therefore, the output value for this entry is 5353.\n",
    "\n",
    "Following this same process for each entry in the second, larger example above, the output value of each entry can be determined:\n",
    "\n",
    "- fdgacbe cefdb cefbgd gcbe: 8394\n",
    "- fcgedb cgb dgebacf gc: 9781\n",
    "- cg cg fdcagb cbg: 1197\n",
    "- efabcd cedba gadfec cb: 9361\n",
    "- gecf egdcabf bgf bfgea: 4873\n",
    "- gebdcfa ecba ca fadegcb: 8418\n",
    "- cefg dcbef fcge gbcadfe: 4548\n",
    "- ed bcgafe cdgba cbgef: 1625\n",
    "- gbdfcae bgc cg cgb: 8717\n",
    "- fgae cfgab fg bagce: 4315\n",
    "Adding all of the output values in this larger example produces 61229.\n",
    "\n",
    "For each entry, determine all of the wire/segment connections and decode the four-digit output values. What do you get if you add up all of the output values?"
   ]
  },
  {
   "cell_type": "code",
   "execution_count": 4,
   "id": "f61d0795",
   "metadata": {},
   "outputs": [],
   "source": [
    "def decode_line(line, output):\n",
    "    num_set = [set()] * 10\n",
    "    \n",
    "    # identify the 1's, 4's, 7's and 8's\n",
    "    \n",
    "    for string in line:\n",
    "        #print(string, len(string))\n",
    "        \n",
    "        if len(string) == 2:\n",
    "            num_set[1] = set(string)\n",
    "        elif len(string) == 4:\n",
    "            num_set[4] = set(string)\n",
    "        elif len(string) == 3:\n",
    "            num_set[7] = set(string)\n",
    "        elif len(string) == 7:\n",
    "            num_set[8] = set(string)\n",
    "    \n",
    "    # isolate the 6's from 0's and 9's as they only share 1 value with 1 vs 2 for both 0 and 9 \n",
    "    for string in line:\n",
    "        if len(string) == 6:\n",
    "            if len(num_set[1] - set(string)) == 1:\n",
    "                num_set[6] = set(string)\n",
    "     \n",
    "    # isolate the 3's from 2's and 5's as they share 2 values with 1 vs 1 for both 2 and 5 \n",
    "    # Then, using the set of letters for 6's, isolate 5\n",
    "    for string in line:\n",
    "        if len(string) == 5:  # 2,3,5\n",
    "            if len(num_set[1] - set(string)) == 0:  # 3\n",
    "                num_set[3] = set(string)\n",
    "            elif len(set(string) - num_set[6]) == 0:  # 5\n",
    "                num_set[5] = set(string)\n",
    "            elif len(set(string) - num_set[6]) == 1:  # 2\n",
    "                num_set[2] = set(string)\n",
    "\n",
    "    for string in line:\n",
    "        if len(string) == 6 and set(string) not in num_set:  # 0,9\n",
    "            if len(num_set[5] - set(string)) == 0:\n",
    "                num_set[9] = set(string)\n",
    "            else:\n",
    "                num_set[0] = set(string)                    \n",
    "    \n",
    "    #print(num_set)\n",
    "    \n",
    "    output_string = \"\"\n",
    "    \n",
    "    for e in output:\n",
    "        output_string+= str(num_set.index(set(e.strip())))\n",
    "    \n",
    "    return int(output_string)\n",
    "    "
   ]
  },
  {
   "cell_type": "code",
   "execution_count": 5,
   "id": "d5dc6f82",
   "metadata": {},
   "outputs": [
    {
     "name": "stdout",
     "output_type": "stream",
     "text": [
      "1010460\n"
     ]
    }
   ],
   "source": [
    "output_digits = np.zeros([num_lines,1], dtype=int)\n",
    "\n",
    "for i in range(num_lines):\n",
    "    output_digits[i] = decode_line(lines[i],outputs[i])\n",
    "    \n",
    "print(output_digits.sum())"
   ]
  }
 ],
 "metadata": {
  "kernelspec": {
   "display_name": "Python 3 (ipykernel)",
   "language": "python",
   "name": "python3"
  },
  "language_info": {
   "codemirror_mode": {
    "name": "ipython",
    "version": 3
   },
   "file_extension": ".py",
   "mimetype": "text/x-python",
   "name": "python",
   "nbconvert_exporter": "python",
   "pygments_lexer": "ipython3",
   "version": "3.8.8"
  },
  "varInspector": {
   "cols": {
    "lenName": 16,
    "lenType": 16,
    "lenVar": 40
   },
   "kernels_config": {
    "python": {
     "delete_cmd_postfix": "",
     "delete_cmd_prefix": "del ",
     "library": "var_list.py",
     "varRefreshCmd": "print(var_dic_list())"
    },
    "r": {
     "delete_cmd_postfix": ") ",
     "delete_cmd_prefix": "rm(",
     "library": "var_list.r",
     "varRefreshCmd": "cat(var_dic_list()) "
    }
   },
   "position": {
    "height": "421.844px",
    "left": "1546px",
    "right": "20px",
    "top": "102px",
    "width": "350px"
   },
   "types_to_exclude": [
    "module",
    "function",
    "builtin_function_or_method",
    "instance",
    "_Feature"
   ],
   "window_display": true
  }
 },
 "nbformat": 4,
 "nbformat_minor": 5
}
