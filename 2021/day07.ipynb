{
 "cells": [
  {
   "cell_type": "markdown",
   "id": "ae388073",
   "metadata": {},
   "source": [
    "## Day 7: The Treachery of Whales"
   ]
  },
  {
   "cell_type": "markdown",
   "id": "f550805a",
   "metadata": {},
   "source": [
    "## Part 1"
   ]
  },
  {
   "cell_type": "markdown",
   "id": "a2128c53",
   "metadata": {},
   "source": [
    "A giant whale has decided your submarine is its next meal, and it's much faster than you are. There's nowhere to run!\n",
    "\n",
    "Suddenly, a swarm of crabs (each in its own tiny submarine - it's too deep for them otherwise) zooms in to rescue you! They seem to be preparing to blast a hole in the ocean floor; sensors indicate a massive underground cave system just beyond where they're aiming!\n",
    "\n",
    "The crab submarines all need to be aligned before they'll have enough power to blast a large enough hole for your submarine to get through. However, it doesn't look like they'll be aligned before the whale catches you! Maybe you can help?\n",
    "\n",
    "There's one major catch - crab submarines can only move horizontally.\n",
    "\n",
    "You quickly make a list of the horizontal position of each crab (your puzzle input). Crab submarines have limited fuel, so you need to find a way to make all of their horizontal positions match while requiring them to spend as little fuel as possible.\n",
    "\n",
    "For example, consider the following horizontal positions:\n",
    "```\n",
    "16,1,2,0,4,2,7,1,2,14\n",
    "```\n",
    "This means there's a crab with horizontal position 16, a crab with horizontal position 1, and so on.\n",
    "\n",
    "Each change of 1 step in horizontal position of a single crab costs 1 fuel. You could choose any horizontal position to align them all on, but the one that costs the least fuel is horizontal position 2:\n",
    "\n",
    "- Move from 16 to 2: 14 fuel\n",
    "- Move from 1 to 2: 1 fuel\n",
    "- Move from 2 to 2: 0 fuel\n",
    "- Move from 0 to 2: 2 fuel\n",
    "- Move from 4 to 2: 2 fuel\n",
    "- Move from 2 to 2: 0 fuel\n",
    "- Move from 7 to 2: 5 fuel\n",
    "- Move from 1 to 2: 1 fuel\n",
    "- Move from 2 to 2: 0 fuel\n",
    "- Move from 14 to 2: 12 fuel\n",
    "\n",
    "This costs a total of 37 fuel. This is the cheapest possible outcome; more expensive outcomes include aligning at position 1 (41 fuel), position 3 (39 fuel), or position 10 (71 fuel).\n",
    "\n",
    "Determine the horizontal position that the crabs can align to using the least fuel possible. How much fuel must they spend to align to that position?"
   ]
  },
  {
   "cell_type": "code",
   "execution_count": 1,
   "id": "92dab758",
   "metadata": {},
   "outputs": [],
   "source": [
    "import re\n",
    "import numpy as np\n",
    "import statistics\n",
    "import math"
   ]
  },
  {
   "cell_type": "code",
   "execution_count": 2,
   "id": "f1028f0f",
   "metadata": {},
   "outputs": [],
   "source": [
    "def load_positions(path):\n",
    "    file = open(path, \"r\")\n",
    "    lines = file.readlines()\n",
    "    lines = [re.split(r'\\D+',l) for l in lines]\n",
    "    lines = list(map(int, lines[0]))\n",
    "    return lines"
   ]
  },
  {
   "cell_type": "code",
   "execution_count": 3,
   "id": "905e41f5",
   "metadata": {},
   "outputs": [],
   "source": [
    "def get_additorial(n):\n",
    "    return abs(sum(range(0, n+1)))"
   ]
  },
  {
   "cell_type": "code",
   "execution_count": 4,
   "id": "e7ca8d49",
   "metadata": {},
   "outputs": [
    {
     "name": "stdout",
     "output_type": "stream",
     "text": [
      "37\n"
     ]
    }
   ],
   "source": [
    "# Desired distance is the median of positions in the input set\n",
    "\n",
    "pos = load_positions(\"day07_data_test.txt\")\n",
    "dists = np.zeros(len(pos),dtype=int)\n",
    "\n",
    "median_pos = int(statistics.median(pos))\n",
    "dists[:] = [p - median_pos for p in pos]\n",
    "print(int(sum(abs(dists))))"
   ]
  },
  {
   "cell_type": "code",
   "execution_count": 5,
   "id": "17694f25",
   "metadata": {},
   "outputs": [
    {
     "name": "stdout",
     "output_type": "stream",
     "text": [
      "340056\n"
     ]
    }
   ],
   "source": [
    "pos = load_positions(\"day07_data.txt\")\n",
    "dists = np.zeros(len(pos),dtype=int)\n",
    "\n",
    "median_pos = statistics.median(pos)\n",
    "dists[:] = [p - median_pos for p in pos]\n",
    "print(sum(abs(dists)))"
   ]
  },
  {
   "cell_type": "markdown",
   "id": "6a407105",
   "metadata": {},
   "source": [
    "## Part 2"
   ]
  },
  {
   "cell_type": "markdown",
   "id": "61e2df13",
   "metadata": {},
   "source": [
    "The crabs don't seem interested in your proposed solution. Perhaps you misunderstand crab engineering?\n",
    "\n",
    "As it turns out, crab submarine engines don't burn fuel at a constant rate. Instead, each change of 1 step in horizontal position costs 1 more unit of fuel than the last: the first step costs 1, the second step costs 2, the third step costs 3, and so on.\n",
    "\n",
    "As each crab moves, moving further becomes more expensive. This changes the best horizontal position to align them all on; in the example above, this becomes 5:\n",
    "\n",
    "- Move from 16 to 5: 66 fuel\n",
    "- Move from 1 to 5: 10 fuel\n",
    "- Move from 2 to 5: 6 fuel\n",
    "- Move from 0 to 5: 15 fuel\n",
    "- Move from 4 to 5: 1 fuel\n",
    "- Move from 2 to 5: 6 fuel\n",
    "- Move from 7 to 5: 3 fuel\n",
    "- Move from 1 to 5: 10 fuel\n",
    "- Move from 2 to 5: 6 fuel\n",
    "- Move from 14 to 5: 45 fuel\n",
    "\n",
    "This costs a total of 168 fuel. This is the new cheapest possible outcome; the old alignment position (2) now costs 206 fuel instead.\n",
    "\n",
    "Determine the horizontal position that the crabs can align to using the least fuel possible so they can make you an escape route! How much fuel must they spend to align to that position?"
   ]
  },
  {
   "cell_type": "code",
   "execution_count": 6,
   "id": "aad92c98",
   "metadata": {},
   "outputs": [
    {
     "name": "stdout",
     "output_type": "stream",
     "text": [
      "168\n"
     ]
    }
   ],
   "source": [
    "pos = load_positions(\"day07_data_test.txt\")\n",
    "dists = np.zeros(len(pos),dtype=int)\n",
    "\n",
    "min_p = min(pos)\n",
    "max_p = max(pos)\n",
    "\n",
    "\n",
    "fuel = np.zeros(len(range(min_p, max_p))+1,dtype=int)\n",
    "\n",
    "\n",
    "for n, i in enumerate(range(min_p, max_p + 1)):\n",
    "    median_pos = int(statistics.median(pos))\n",
    "    dists[:] = [abs(p - i) for p in pos]\n",
    "    dists[:] = [get_additorial(d) for d in dists]\n",
    "    fuel[n] = int(sum(abs(dists)))\n",
    "    \n",
    "print(min(fuel))"
   ]
  },
  {
   "cell_type": "markdown",
   "id": "f3c274df",
   "metadata": {},
   "source": [
    "Testing all possible positions in the provided data would be expensive so multiple optimisations can be made. Getting the triangular number can be simplified and rather than searching over the whole space, the average displacement of the crabs can be used. However, unlike the median, the mean value will not necessarily appear in the set of positions so both the floor and ceiling of the mean need to be tested to find the minimum fuel usage."
   ]
  },
  {
   "cell_type": "code",
   "execution_count": 7,
   "id": "cd889558",
   "metadata": {},
   "outputs": [
    {
     "name": "stdout",
     "output_type": "stream",
     "text": [
      "168\n"
     ]
    }
   ],
   "source": [
    "# Verify with test data\n",
    "\n",
    "pos = load_positions(\"day07_data_test.txt\")\n",
    "dists = np.zeros(len(pos),dtype=int)\n",
    "\n",
    "mean_pos = [math.floor(statistics.mean(pos)), math.ceil(statistics.mean(pos))]\n",
    "print(int(min([sum([abs(p - m) * (abs(p - m) + 1) / 2 for p in pos]) for m in mean_pos])))"
   ]
  },
  {
   "cell_type": "code",
   "execution_count": 8,
   "id": "3ff74b6c",
   "metadata": {},
   "outputs": [
    {
     "name": "stdout",
     "output_type": "stream",
     "text": [
      "96592275\n"
     ]
    }
   ],
   "source": [
    "pos = load_positions(\"day07_data.txt\")\n",
    "dists = np.zeros(len(pos),dtype=int)\n",
    "\n",
    "mean_pos = [math.floor(statistics.mean(pos)), math.ceil(statistics.mean(pos))]\n",
    "print(int(min([sum([abs(p - m) * (abs(p - m) + 1) / 2 for p in pos]) for m in mean_pos])))"
   ]
  }
 ],
 "metadata": {
  "kernelspec": {
   "display_name": "Python 3 (ipykernel)",
   "language": "python",
   "name": "python3"
  },
  "language_info": {
   "codemirror_mode": {
    "name": "ipython",
    "version": 3
   },
   "file_extension": ".py",
   "mimetype": "text/x-python",
   "name": "python",
   "nbconvert_exporter": "python",
   "pygments_lexer": "ipython3",
   "version": "3.8.8"
  },
  "varInspector": {
   "cols": {
    "lenName": 16,
    "lenType": 16,
    "lenVar": 40
   },
   "kernels_config": {
    "python": {
     "delete_cmd_postfix": "",
     "delete_cmd_prefix": "del ",
     "library": "var_list.py",
     "varRefreshCmd": "print(var_dic_list())"
    },
    "r": {
     "delete_cmd_postfix": ") ",
     "delete_cmd_prefix": "rm(",
     "library": "var_list.r",
     "varRefreshCmd": "cat(var_dic_list()) "
    }
   },
   "position": {
    "height": "477.622px",
    "left": "1526.31px",
    "right": "20px",
    "top": "131.99px",
    "width": "625.764px"
   },
   "types_to_exclude": [
    "module",
    "function",
    "builtin_function_or_method",
    "instance",
    "_Feature"
   ],
   "window_display": true
  }
 },
 "nbformat": 4,
 "nbformat_minor": 5
}
