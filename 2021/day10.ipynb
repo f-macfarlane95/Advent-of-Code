{
 "cells": [
  {
   "cell_type": "markdown",
   "id": "eeb14292",
   "metadata": {},
   "source": [
    "# Day 10: Syntax Scoring"
   ]
  },
  {
   "cell_type": "markdown",
   "id": "c2b4ef61",
   "metadata": {},
   "source": [
    "## Part 1"
   ]
  },
  {
   "cell_type": "markdown",
   "id": "c359c267",
   "metadata": {},
   "source": [
    "You ask the submarine to determine the best route out of the deep-sea cave, but it only replies:\n",
    "\n",
    "Syntax error in navigation subsystem on line: all of them\n",
    "All of them?! The damage is worse than you thought. You bring up a copy of the navigation subsystem (your puzzle input).\n",
    "\n",
    "The navigation subsystem syntax is made of several lines containing chunks. There are one or more chunks on each line, and chunks contain zero or more other chunks. Adjacent chunks are not separated by any delimiter; if one chunk stops, the next chunk (if any) can immediately start. Every chunk must open and close with one of four legal pairs of matching characters:\n",
    "\n",
    "- If a chunk opens with (, it must close with ).\n",
    "- If a chunk opens with [, it must close with ].\n",
    "- If a chunk opens with {, it must close with }.\n",
    "- If a chunk opens with <, it must close with >.\n",
    "\n",
    "So, ```()``` is a legal chunk that contains no other chunks, as is ```[]```. More complex but valid chunks include ```([])```, ```{()()()}```, ```<([{}])>```, ```[<>({}){}[([])<>]]```, and even ```(((((((((())))))))))```.\n",
    "\n",
    "Some lines are incomplete, but others are corrupted. Find and discard the corrupted lines first.\n",
    "\n",
    "A corrupted line is one where a chunk closes with the wrong character - that is, where the characters it opens and closes with do not form one of the four legal pairs listed above.\n",
    "\n",
    "Examples of corrupted chunks include ```(], {()()()>```, ```(((()))}```, and ```<([]){()}[{}])```. Such a chunk can appear anywhere within a line, and its presence causes the whole line to be considered corrupted.\n",
    "\n",
    "For example, consider the following navigation subsystem:\n",
    "\n",
    "```\n",
    "[({(<(())[]>[[{[]{<()<>>\n",
    "[(()[<>])]({[<{<<[]>>(\n",
    "{([(<{}[<>[]}>{[]{[(<()>\n",
    "(((({<>}<{<{<>}{[]{[]{}\n",
    "[[<[([]))<([[{}[[()]]]\n",
    "[{[{({}]{}}([{[{{{}}([]\n",
    "{<[[]]>}<{[{[{[]{()[[[]\n",
    "[<(<(<(<{}))><([]([]()\n",
    "<{([([[(<>()){}]>(<<{{\n",
    "<{([{{}}[<[[[<>{}]]]>[]]\n",
    "```\n",
    "\n",
    "\n",
    "Some of the lines aren't corrupted, just incomplete; you can ignore these lines for now. The remaining five lines are corrupted:\n",
    "\n",
    "- ```{([(<{}[<>[]}>{[]{[(<()>         Expected ], but found } instead.```\n",
    "- ```[[<[([]))<([[{}[[()]]]           Expected ], but found ) instead.```\n",
    "- ```[{[{({}]{}}([{[{{{}}([]          Expected ), but found ] instead.```\n",
    "- ```[<(<(<(<{}))><([]([]()           Expected >, but found ) instead.```\n",
    "- ```<{([([[(<>()){}]>(<<{{           Expected ], but found > instead.```\n",
    "\n",
    "Stop at the first incorrect closing character on each corrupted line.\n",
    "\n",
    "Did you know that syntax checkers actually have contests to see who can get the high score for syntax errors in a file? It's true! To calculate the syntax error score for a line, take the first illegal character on the line and look it up in the following table:\n",
    "\n",
    "- `)`: 3 points.\n",
    "- `]`: 57 points.\n",
    "- `}`: 1197 points.\n",
    "- `>`: 25137 points.\n",
    "\n",
    "In the above example, an illegal ) was found twice (2*3 = 6 points), an illegal ] was found once (57 points), an illegal } was found once (1197 points), and an illegal > was found once (25137 points). So, the total syntax error score for this file is 6+57+1197+25137 = 26397 points!\n",
    "\n",
    "Find the first illegal character in each corrupted line of the navigation subsystem. What is the total syntax error score for those errors?"
   ]
  },
  {
   "cell_type": "code",
   "execution_count": 1,
   "id": "16da3d59",
   "metadata": {},
   "outputs": [],
   "source": [
    "import re\n",
    "import numpy as np"
   ]
  },
  {
   "cell_type": "code",
   "execution_count": 2,
   "id": "2521ea4d",
   "metadata": {},
   "outputs": [],
   "source": [
    "def load_data(path):\n",
    "    file = open(path, \"r\")\n",
    "    lines = file.readlines()\n",
    "    lines = [l.replace(\"\\n\",'') for l in lines]\n",
    "    \n",
    "    return lines"
   ]
  },
  {
   "cell_type": "code",
   "execution_count": 3,
   "id": "2550a095",
   "metadata": {},
   "outputs": [],
   "source": [
    "def get_invalid(diagnostics):\n",
    "\n",
    "    list_invalid_chars = []\n",
    "\n",
    "    for i, diag in enumerate(diagnostics):\n",
    "        list_open = []\n",
    "        for char in diag:\n",
    "            if char in '([{<':\n",
    "                list_open.append(char)\n",
    "        \n",
    "            elif char in ')]}>':\n",
    "                #print(list_open[-1],char)\n",
    "                if char == ')':\n",
    "                    if list_open[-1] != '(':\n",
    "                        list_invalid_chars.append(char)\n",
    "                        #print(list_open,char)\n",
    "                        print(\"Line \",i,\":\",\" Closing character was \", char,\". Expected a '(' but saw a \", list_open[-1])\n",
    "                        break\n",
    "                if char == ']':\n",
    "                    if list_open[-1] != '[':\n",
    "                        list_invalid_chars.append(char)\n",
    "                        #print(list_open,char)\n",
    "                        print(\"Line \",i,\":\",\" Closing character was \", char,\". Expected a '[' but saw a \", list_open[-1])\n",
    "                        break\n",
    "                    \n",
    "                if char == '}':\n",
    "                    if list_open[-1] != '{':\n",
    "                        list_invalid_chars.append(char)\n",
    "                        #print(list_open,char)\n",
    "                        print(\"Line \",i,\":\",\" Closing character was \", char,\". Expected a '{' but saw a \", list_open[-1])\n",
    "                        break\n",
    "                    \n",
    "                if char == '>':\n",
    "                    if list_open[-1] != '<':\n",
    "                        list_invalid_chars.append(char)\n",
    "                        #print(list_open,char)\n",
    "                        print(\"Line \",i,\":\",\" Closing character was \", char,\". Expected a '<' but saw a \", list_open[-1])\n",
    "                        break\n",
    "                list_open.pop()      \n",
    "            \n",
    "    return list_invalid_chars"
   ]
  },
  {
   "cell_type": "code",
   "execution_count": 4,
   "id": "e2021151",
   "metadata": {},
   "outputs": [],
   "source": [
    "def get_score(invalids):\n",
    "    score = 0\n",
    "    for c in invalids:\n",
    "        if c == \")\":\n",
    "            score+=3\n",
    "        if c == \"]\":\n",
    "            score+=57\n",
    "        if c == \"}\":\n",
    "            score+=1197\n",
    "        if c == \">\":\n",
    "            score+=25137\n",
    "    return(score)"
   ]
  },
  {
   "cell_type": "code",
   "execution_count": 5,
   "id": "d0c6bd8b",
   "metadata": {},
   "outputs": [
    {
     "name": "stdout",
     "output_type": "stream",
     "text": [
      "Line  2 :  Closing character was  } . Expected a '{' but saw a  [\n",
      "Line  4 :  Closing character was  ) . Expected a '(' but saw a  [\n",
      "Line  5 :  Closing character was  ] . Expected a '[' but saw a  (\n",
      "Line  7 :  Closing character was  ) . Expected a '(' but saw a  <\n",
      "Line  8 :  Closing character was  > . Expected a '<' but saw a  [\n",
      "26397\n"
     ]
    }
   ],
   "source": [
    "diagnostics = load_data(\"day10_data_test.txt\")\n",
    "\n",
    "list_invalid_chars = get_invalid(diagnostics)\n",
    "score = get_score(list_invalid_chars)\n",
    "       \n",
    "print(score)"
   ]
  },
  {
   "cell_type": "code",
   "execution_count": 6,
   "id": "246ac567",
   "metadata": {},
   "outputs": [
    {
     "name": "stdout",
     "output_type": "stream",
     "text": [
      "Line  1 :  Closing character was  ] . Expected a '[' but saw a  <\n",
      "Line  2 :  Closing character was  > . Expected a '<' but saw a  {\n",
      "Line  3 :  Closing character was  > . Expected a '<' but saw a  [\n",
      "Line  4 :  Closing character was  > . Expected a '<' but saw a  [\n",
      "Line  5 :  Closing character was  } . Expected a '{' but saw a  (\n",
      "Line  7 :  Closing character was  ) . Expected a '(' but saw a  {\n",
      "Line  8 :  Closing character was  > . Expected a '<' but saw a  (\n",
      "Line  9 :  Closing character was  ] . Expected a '[' but saw a  <\n",
      "Line  10 :  Closing character was  ] . Expected a '[' but saw a  (\n",
      "Line  11 :  Closing character was  } . Expected a '{' but saw a  (\n",
      "Line  12 :  Closing character was  ) . Expected a '(' but saw a  {\n",
      "Line  13 :  Closing character was  } . Expected a '{' but saw a  (\n",
      "Line  14 :  Closing character was  > . Expected a '<' but saw a  (\n",
      "Line  15 :  Closing character was  } . Expected a '{' but saw a  [\n",
      "Line  20 :  Closing character was  > . Expected a '<' but saw a  {\n",
      "Line  21 :  Closing character was  ) . Expected a '(' but saw a  {\n",
      "Line  22 :  Closing character was  > . Expected a '<' but saw a  [\n",
      "Line  24 :  Closing character was  ] . Expected a '[' but saw a  (\n",
      "Line  26 :  Closing character was  > . Expected a '<' but saw a  [\n",
      "Line  27 :  Closing character was  } . Expected a '{' but saw a  [\n",
      "Line  30 :  Closing character was  } . Expected a '{' but saw a  [\n",
      "Line  36 :  Closing character was  > . Expected a '<' but saw a  {\n",
      "Line  37 :  Closing character was  } . Expected a '{' but saw a  <\n",
      "Line  38 :  Closing character was  ] . Expected a '[' but saw a  (\n",
      "Line  39 :  Closing character was  } . Expected a '{' but saw a  (\n",
      "Line  40 :  Closing character was  } . Expected a '{' but saw a  <\n",
      "Line  41 :  Closing character was  ) . Expected a '(' but saw a  {\n",
      "Line  47 :  Closing character was  } . Expected a '{' but saw a  <\n",
      "Line  49 :  Closing character was  ] . Expected a '[' but saw a  (\n",
      "Line  51 :  Closing character was  ] . Expected a '[' but saw a  {\n",
      "Line  52 :  Closing character was  ) . Expected a '(' but saw a  <\n",
      "Line  54 :  Closing character was  } . Expected a '{' but saw a  [\n",
      "Line  57 :  Closing character was  ] . Expected a '[' but saw a  {\n",
      "Line  59 :  Closing character was  ] . Expected a '[' but saw a  {\n",
      "Line  60 :  Closing character was  ] . Expected a '[' but saw a  {\n",
      "Line  64 :  Closing character was  > . Expected a '<' but saw a  [\n",
      "Line  66 :  Closing character was  > . Expected a '<' but saw a  {\n",
      "Line  69 :  Closing character was  > . Expected a '<' but saw a  {\n",
      "Line  70 :  Closing character was  > . Expected a '<' but saw a  {\n",
      "Line  71 :  Closing character was  > . Expected a '<' but saw a  {\n",
      "Line  74 :  Closing character was  > . Expected a '<' but saw a  {\n",
      "Line  75 :  Closing character was  > . Expected a '<' but saw a  {\n",
      "Line  80 :  Closing character was  ) . Expected a '(' but saw a  <\n",
      "Line  81 :  Closing character was  ) . Expected a '(' but saw a  {\n",
      "Line  86 :  Closing character was  ) . Expected a '(' but saw a  [\n",
      "415953\n"
     ]
    }
   ],
   "source": [
    "diagnostics = load_data(\"day10_data.txt\")\n",
    "\n",
    "list_invalid_chars = get_invalid(diagnostics)\n",
    "score = get_score(list_invalid_chars)\n",
    "       \n",
    "print(score)"
   ]
  },
  {
   "cell_type": "markdown",
   "id": "47a18c92",
   "metadata": {},
   "source": [
    "## Part 2"
   ]
  },
  {
   "cell_type": "markdown",
   "id": "f06a4d2e",
   "metadata": {},
   "source": [
    "Now, discard the corrupted lines. The remaining lines are incomplete.\n",
    "\n",
    "Incomplete lines don't have any incorrect characters - instead, they're missing some closing characters at the end of the line. To repair the navigation subsystem, you just need to figure out the sequence of closing characters that complete all open chunks in the line.\n",
    "\n",
    "You can only use closing characters (), ], }, or >), and you must add them in the correct order so that only legal pairs are formed and all chunks end up closed.\n",
    "\n",
    "In the example above, there are five incomplete lines:\n",
    "\n",
    "- ```[({(<(())[]>[[{[]{<()<>> - Complete by adding }}]])})]```.\n",
    "- ```[(()[<>])]({[<{<<[]>>( - Complete by adding )}>]})```.\n",
    "- ```(((({<>}<{<{<>}{[]{[]{} - Complete by adding }}>}>))))```.\n",
    "- ```{<[[]]>}<{[{[{[]{()[[[] - Complete by adding ]]}}]}]}>```.\n",
    "- ```<{([{{}}[<[[[<>{}]]]>[]] - Complete by adding ])}>```.\n",
    "\n",
    "Did you know that autocomplete tools also have contests? It's true! The score is determined by considering the completion string character-by-character. Start with a total score of 0. Then, for each character, multiply the total score by 5 and then increase the total score by the point value given for the character in the following table:\n",
    "\n",
    "- `)`: 1 points.\n",
    "- `]`: 2 points.\n",
    "- `}`: 3 points.\n",
    "- `>`: 4 points.\n",
    "\n",
    "So, the last completion string above - ```])}>``` - would be scored as follows:\n",
    "\n",
    "- Start with a total score of 0.\n",
    "- Multiply the total score by 5 to get 0, then add the value of ] (2) to get a new total score of 2.\n",
    "- Multiply the total score by 5 to get 10, then add the value of ) (1) to get a new total score of 11.\n",
    "- Multiply the total score by 5 to get 55, then add the value of } (3) to get a new total score of 58.\n",
    "- Multiply the total score by 5 to get 290, then add the value of > (4) to get a new total score of 294.\n",
    "\n",
    "The five lines' completion strings have total scores as follows:\n",
    "\n",
    "- ```}}]])})]      - 288957 total points```.\n",
    "- ```)}>]})        - 5566 total points```.\n",
    "- ```}}>}>))))     - 1480781 total points```.\n",
    "- ```]]}}]}]}>     - 995444 total points```.\n",
    "- ```])}>          - 294 total points```.\n",
    "\n",
    "Autocomplete tools are an odd bunch: the winner is found by sorting all of the scores and then taking the middle score. (There will always be an odd number of scores to consider.) In this example, the middle score is 288957 because there are the same number of scores smaller and larger than it.\n",
    "\n",
    "Find the completion string for each incomplete line, score the completion strings, and sort the scores. What is the middle score?"
   ]
  },
  {
   "cell_type": "code",
   "execution_count": 7,
   "id": "03234177",
   "metadata": {},
   "outputs": [],
   "source": [
    "def get_invalid(diagnostics):\n",
    "\n",
    "    stack_list_open = []\n",
    "    list_invalid = []\n",
    "    list_invalid_chars = []\n",
    "\n",
    "    for i, diag in enumerate(diagnostics):\n",
    "        list_open = []\n",
    "        for char in diag:\n",
    "            if char in '([{<':\n",
    "                list_open.append(char)\n",
    "        \n",
    "            elif char in ')]}>':\n",
    "                #print(list_open[-1],char)\n",
    "                if char == ')':\n",
    "                    if list_open[-1] != '(':\n",
    "                        list_invalid.append(i)\n",
    "                        list_invalid_chars.append(char)\n",
    "                        #print(list_open,char)\n",
    "                        #print(\"Line \",i,\":\",\" Closing character was \", char,\". Expected a '(' but saw a \", list_open[-1])\n",
    "                        break\n",
    "                if char == ']':\n",
    "                    if list_open[-1] != '[':\n",
    "                        list_invalid.append(i)\n",
    "                        list_invalid_chars.append(char)\n",
    "                        #print(list_open,char)\n",
    "                        #print(\"Line \",i,\":\",\" Closing character was \", char,\". Expected a '[' but saw a \", list_open[-1])\n",
    "                        break\n",
    "                    \n",
    "                if char == '}':\n",
    "                    if list_open[-1] != '{':\n",
    "                        list_invalid.append(i)\n",
    "                        list_invalid_chars.append(char)\n",
    "                        #print(list_open,char)\n",
    "                        #print(\"Line \",i,\":\",\" Closing character was \", char,\". Expected a '{' but saw a \", list_open[-1])\n",
    "                        break\n",
    "                    \n",
    "                if char == '>':\n",
    "                    if list_open[-1] != '<':\n",
    "                        list_invalid.append(i)\n",
    "                        list_invalid_chars.append(char)\n",
    "                        #print(list_open,char)\n",
    "                        #print(\"Line \",i,\":\",\" Closing character was \", char,\". Expected a '<' but saw a \", list_open[-1])\n",
    "                        break\n",
    "                list_open.pop()\n",
    "            \n",
    "        else:\n",
    "        \n",
    "            stack_list_open.append(list_open)\n",
    "            \n",
    "    return list_invalid_chars, stack_list_open"
   ]
  },
  {
   "cell_type": "code",
   "execution_count": 8,
   "id": "08213f09",
   "metadata": {},
   "outputs": [],
   "source": [
    "def get_valid_score(valids):\n",
    "    scores = []\n",
    "    \n",
    "    for valid in valids:\n",
    "        valid = valid[::-1]\n",
    "        score = 0\n",
    "        for c in valid:\n",
    "            score = score*5\n",
    "            if c == \"(\":\n",
    "                score+=1\n",
    "            if c == \"[\":\n",
    "                score+=2\n",
    "            if c == \"{\":\n",
    "                score+=3\n",
    "            if c == \"<\":\n",
    "                score+=4\n",
    "            #print(score)\n",
    "        scores.append(score)\n",
    "    return scores"
   ]
  },
  {
   "cell_type": "code",
   "execution_count": 9,
   "id": "09fb9ef4",
   "metadata": {},
   "outputs": [
    {
     "name": "stdout",
     "output_type": "stream",
     "text": [
      "Median score:  288957\n"
     ]
    }
   ],
   "source": [
    "diagnostics = load_data(\"day10_data_test.txt\")\n",
    "\n",
    "list_invalid_chars, valid_lines = get_invalid(diagnostics)\n",
    "#print(valid_lines)\n",
    "scores = get_valid_score(valid_lines)\n",
    "print(\"Median score: \", int(np.median(scores)))"
   ]
  },
  {
   "cell_type": "code",
   "execution_count": 10,
   "id": "3240626a",
   "metadata": {},
   "outputs": [
    {
     "name": "stdout",
     "output_type": "stream",
     "text": [
      "Median score:  2292863731\n"
     ]
    }
   ],
   "source": [
    "diagnostics = load_data(\"day10_data.txt\")\n",
    "\n",
    "list_invalid_chars, valid_lines = get_invalid(diagnostics)\n",
    "scores = get_valid_score(valid_lines)\n",
    "       \n",
    "print(\"Median score: \", int(np.median(scores)))"
   ]
  }
 ],
 "metadata": {
  "kernelspec": {
   "display_name": "Python 3 (ipykernel)",
   "language": "python",
   "name": "python3"
  },
  "language_info": {
   "codemirror_mode": {
    "name": "ipython",
    "version": 3
   },
   "file_extension": ".py",
   "mimetype": "text/x-python",
   "name": "python",
   "nbconvert_exporter": "python",
   "pygments_lexer": "ipython3",
   "version": "3.8.8"
  },
  "varInspector": {
   "cols": {
    "lenName": 16,
    "lenType": 16,
    "lenVar": 40
   },
   "kernels_config": {
    "python": {
     "delete_cmd_postfix": "",
     "delete_cmd_prefix": "del ",
     "library": "var_list.py",
     "varRefreshCmd": "print(var_dic_list())"
    },
    "r": {
     "delete_cmd_postfix": ") ",
     "delete_cmd_prefix": "rm(",
     "library": "var_list.r",
     "varRefreshCmd": "cat(var_dic_list()) "
    }
   },
   "position": {
    "height": "340.844px",
    "left": "1568px",
    "right": "20px",
    "top": "121px",
    "width": "350px"
   },
   "types_to_exclude": [
    "module",
    "function",
    "builtin_function_or_method",
    "instance",
    "_Feature"
   ],
   "window_display": true
  }
 },
 "nbformat": 4,
 "nbformat_minor": 5
}
