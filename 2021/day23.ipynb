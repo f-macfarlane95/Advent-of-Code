{
 "cells": [
  {
   "cell_type": "markdown",
   "id": "e4f47428",
   "metadata": {},
   "source": [
    "```\n",
    "#############\n",
    "#...........#\n",
    "###D#C#A#B###\n",
    "  #D#C#B#A#\n",
    "  #########\n",
    "```"
   ]
  },
  {
   "cell_type": "markdown",
   "id": "08ddbaf1",
   "metadata": {},
   "source": [
    "Move the B and A from the C room out into the hall:\n",
    "\n",
    "- A - 7 moves for 7 energy\n",
    "- B - 3 moves for 30 energy\n",
    "\n",
    "Total 37 Energy"
   ]
  },
  {
   "cell_type": "markdown",
   "id": "68ef0f99",
   "metadata": {},
   "source": [
    "```\n",
    "#############\n",
    "#A......B...#\n",
    "###D#C#.#B###\n",
    "  #D#C#.#A#\n",
    "  #########\n",
    "```"
   ]
  },
  {
   "cell_type": "markdown",
   "id": "1391e33a",
   "metadata": {},
   "source": [
    "Move the Two C's into their room:\n",
    "\n",
    "- C 5 moves for 500 energy\n",
    "- C 5 moves for 500 energy\n",
    "\n",
    "Total 1037 Energy"
   ]
  },
  {
   "cell_type": "markdown",
   "id": "ca0d6d45",
   "metadata": {},
   "source": [
    "```\n",
    "#############\n",
    "#A......B...#\n",
    "###D#.#C#B###\n",
    "  #D#.#C#A#\n",
    "  #########\n",
    "```"
   ]
  },
  {
   "cell_type": "markdown",
   "id": "84db26b1",
   "metadata": {},
   "source": [
    "Move both B's into their room and move an A to the far end of the corridor:\n",
    "\n",
    "- B 5 moves for 50 energy\n",
    "- B 6 moves for 60 energy\n",
    "- A 9 moves for 9 energy\n",
    "\n",
    "Total 1153"
   ]
  },
  {
   "cell_type": "markdown",
   "id": "5cb817b4",
   "metadata": {},
   "source": [
    "```\n",
    "#############\n",
    "#AA.........#\n",
    "###D#B#C#.###\n",
    "  #D#B#C#.#\n",
    "  #########\n",
    "```"
   ]
  },
  {
   "cell_type": "markdown",
   "id": "29ac028b",
   "metadata": {},
   "source": [
    "Move both D's into their room:\n",
    "\n",
    "- D 9 moves for 9000 energy\n",
    "- D 9 moves for 9000 energy\n",
    "\n",
    "Total 19153"
   ]
  },
  {
   "cell_type": "markdown",
   "id": "ab2f19a3",
   "metadata": {},
   "source": [
    "```\n",
    "#############\n",
    "#AA.........#\n",
    "###.#B#C#D###\n",
    "  #.#B#C#D#\n",
    "  #########\n",
    "```"
   ]
  },
  {
   "cell_type": "markdown",
   "id": "fdfb6801",
   "metadata": {},
   "source": [
    "Finally, move the two A's into their room:\n",
    "\n",
    "- A 3 moves for 3 energy\n",
    "- A 3 moves for 3 energy\n",
    "\n"
   ]
  },
  {
   "cell_type": "markdown",
   "id": "0f40eb2f",
   "metadata": {},
   "source": [
    "```\n",
    "#############\n",
    "#...........#\n",
    "###A#B#C#D###\n",
    "  #A#B#C#D#\n",
    "  #########\n",
    "```"
   ]
  },
  {
   "cell_type": "markdown",
   "id": "36e8950a",
   "metadata": {},
   "source": [
    "```\n",
    "#############\n",
    "#...........#\n",
    "###D#C#A#B###\n",
    "  #D#C#B#A#\n",
    "  #D#B#A#C#\n",
    "  #D#C#B#A#\n",
    "  #########\n",
    "```"
   ]
  },
  {
   "cell_type": "code",
   "execution_count": 3,
   "id": "6a28966b",
   "metadata": {
    "ExecuteTime": {
     "end_time": "2021-12-24T11:27:10.821717Z",
     "start_time": "2021-12-24T11:26:42.679151Z"
    }
   },
   "outputs": [
    {
     "name": "stdout",
     "output_type": "stream",
     "text": [
      "12521\n",
      "19160\n",
      "44169\n",
      "47232\n"
     ]
    }
   ],
   "source": [
    "from functools import lru_cache\n",
    "\n",
    "rooms_main = ((\"D\", \"D\"), (\"C\", \"C\"), (\"A\", \"B\"), (\"B\", \"A\"))\n",
    "rooms_example = ((\"B\", \"A\"), (\"C\", \"D\"), (\"B\", \"C\"), (\"D\", \"A\"))\n",
    "\n",
    "rooms_main2 = ((\"D\", \"D\", \"D\", \"D\"), (\"C\", \"C\", \"B\", \"C\"), (\"A\", \"B\", \"A\", \"B\"), (\"B\", \"A\", \"C\", \"A\"))\n",
    "rooms_example2 = ((\"B\", \"D\", \"D\", \"A\"), (\"C\", \"C\", \"B\", \"D\"), (\"B\", \"B\", \"A\", \"C\"), (\"D\", \"A\", \"C\", \"A\"))\n",
    "\n",
    "\n",
    "def main():\n",
    "    print(f(rooms_example))\n",
    "    print(f(rooms_main))\n",
    "\n",
    "    print(f(rooms_example2))\n",
    "    print(f(rooms_main2))\n",
    "\n",
    "\n",
    "def f(lines):\n",
    "    room_map = (2, 4, 6, 8)\n",
    "    hall_spots = (0, 1, 3, 5, 7, 9, 10)\n",
    "    destination = {\"A\": 0, \"B\": 1, \"C\": 2, \"D\": 3}\n",
    "    costs = {\"A\": 1, \"B\": 10, \"C\": 100, \"D\": 1000}\n",
    "\n",
    "    room_size = len(lines[0])\n",
    "\n",
    "    hallway_start = tuple(None for _ in range(len(room_map) + len(hall_spots)))\n",
    "       \n",
    "    def helper(hallway, rooms):\n",
    "        if rooms == ((\"A\",) * room_size, (\"B\",) * room_size, (\"C\",) * room_size, (\"D\",) * room_size):\n",
    "            return 0\n",
    "\n",
    "        best_cost = float('inf')\n",
    "        for i, square in enumerate(hallway):  # Move from the hallway into a room.\n",
    "            if square is None:\n",
    "                continue\n",
    "            dest = destination[square]\n",
    "            can_move = True\n",
    "            for roommate in rooms[dest]:\n",
    "                if roommate is not None and roommate != square:\n",
    "                    # Foreigner in room: can't move there.\n",
    "                    can_move = False\n",
    "                    break\n",
    "            if not can_move:\n",
    "                continue\n",
    "            offset = 1 if room_map[dest] > i else -1\n",
    "            for j in range(i + offset, room_map[dest] + offset, offset):\n",
    "                if hallway[j] is not None:\n",
    "                    can_move = False\n",
    "                    break\n",
    "            if not can_move:\n",
    "                continue\n",
    "            none_count = sum(elem is None for elem in rooms[dest])\n",
    "            new_room = (None,) * (none_count - 1) + (square,) * (room_size - none_count + 1)\n",
    "            steps = none_count + abs(i - room_map[dest])\n",
    "            cost = steps * costs[square]\n",
    "            helper_result = helper(hallway[:i] + (None,) + hallway[i + 1:], rooms[:dest] + (new_room,)\n",
    "                                   + rooms[dest + 1:])\n",
    "            new_cost = cost + helper_result\n",
    "            if new_cost < best_cost:\n",
    "                best_cost = new_cost\n",
    "        for i, room in enumerate(rooms):  # Move from a room into the hallway.\n",
    "            wants_to_move = False\n",
    "            for elem in room:\n",
    "                if elem is not None and destination[elem] != i:\n",
    "                    wants_to_move = True\n",
    "            if not wants_to_move:\n",
    "                continue\n",
    "            none_count = sum(elem is None for elem in room)\n",
    "            steps = none_count + 1\n",
    "            square = room[none_count]\n",
    "            for hall_destination in hall_spots:\n",
    "                destination_steps = steps + abs(hall_destination - room_map[i])\n",
    "                destination_cost = destination_steps * costs[square]\n",
    "                blocked = False\n",
    "                for j in range(min(hall_destination, room_map[i]), max(hall_destination, room_map[i])+1):\n",
    "                    if hallway[j] is not None:\n",
    "                        blocked = True\n",
    "                        break\n",
    "                if blocked:\n",
    "                    continue\n",
    "                new_room = (None,) * (none_count + 1) + room[none_count + 1:]\n",
    "                helper_result = helper(\n",
    "                    hallway[:hall_destination] + (square,) + hallway[hall_destination + 1:],\n",
    "                    rooms[:i] + (new_room,) + rooms[i + 1:])\n",
    "                new_cost = destination_cost + helper_result\n",
    "                if new_cost < best_cost:\n",
    "                    best_cost = new_cost\n",
    "\n",
    "        return best_cost\n",
    "\n",
    "    cost = helper(hallway_start, lines)\n",
    "    return cost\n",
    "\n",
    "\n",
    "if __name__ == \"__main__\":\n",
    "    main()\n"
   ]
  },
  {
   "cell_type": "code",
   "execution_count": 2,
   "id": "2267abd3",
   "metadata": {
    "ExecuteTime": {
     "end_time": "2021-12-23T09:55:10.808321Z",
     "start_time": "2021-12-23T09:54:55.799325Z"
    }
   },
   "outputs": [
    {
     "name": "stdout",
     "output_type": "stream",
     "text": [
      "19160\n",
      "47232\n"
     ]
    }
   ],
   "source": [
    "import collections\n",
    "import itertools\n",
    "import math\n",
    "import re\n",
    "\n",
    "goal = {\n",
    "    'A': 2,\n",
    "    'B': 4,\n",
    "    'C': 6,\n",
    "    'D': 8,\n",
    "}\n",
    "goalSpaces = set(goal.values())\n",
    "moveCosts = {\n",
    "    'A': 1,\n",
    "    'B': 10,\n",
    "    'C': 100,\n",
    "    'D': 1000,\n",
    "}\n",
    "\n",
    "\n",
    "def canReach(board, pos, dest):\n",
    "    a = min(pos, dest)\n",
    "    b = max(pos, dest)\n",
    "    for i in range(a, b+1):\n",
    "        if i == pos:\n",
    "            continue\n",
    "        if i in goalSpaces:\n",
    "            continue\n",
    "        if board[i] != '.':\n",
    "            # print(' ', i, board[i][0], 'cannot reach')\n",
    "            return False\n",
    "    return True\n",
    "\n",
    "\n",
    "def roomOnlyContainsGoal(board, piece, dest):\n",
    "    inRoom = board[dest]\n",
    "    return len(inRoom) == inRoom.count('.') + inRoom.count(piece) \n",
    "\n",
    "\n",
    "def getPieceFromRoom(room):\n",
    "    for c in room:\n",
    "        if c != '.':\n",
    "            return c\n",
    "\n",
    "\n",
    "def possibleMoves(board, pos):\n",
    "    piece = board[pos]\n",
    "    # print(board, pos, piece)\n",
    "    if pos not in goalSpaces:\n",
    "        if canReach(board, pos, goal[piece]) and roomOnlyContainsGoal(board, piece, goal[piece]):\n",
    "            return [goal[piece]]\n",
    "        return []\n",
    "\n",
    "    movingLetter = getPieceFromRoom(piece)\n",
    "    if pos == goal[movingLetter] and roomOnlyContainsGoal(board, movingLetter, pos):\n",
    "        return []\n",
    "\n",
    "    possible = []\n",
    "    for dest in range(len(board)):\n",
    "        if dest == pos:\n",
    "            continue\n",
    "        if dest in goalSpaces and goal[movingLetter] != dest:\n",
    "            continue\n",
    "        if goal[movingLetter] == dest:\n",
    "            if not roomOnlyContainsGoal(board, movingLetter, dest):\n",
    "                continue\n",
    "        if canReach(board, pos, dest):\n",
    "            possible.append(dest)\n",
    "    return possible\n",
    "\n",
    "\n",
    "def addToRoom(letter, room):\n",
    "    room = list(room)\n",
    "    dist = room.count('.')\n",
    "    assert dist != 0\n",
    "    room[dist-1] = letter\n",
    "    return ''.join(room), dist\n",
    "\n",
    "\n",
    "def move(board, pos, dest):\n",
    "    new_board = board[:]\n",
    "    dist = 0\n",
    "    movingLetter = getPieceFromRoom(board[pos])\n",
    "    if len(board[pos]) == 1:\n",
    "        new_board[pos] = '.'\n",
    "    else:\n",
    "        new_room = ''\n",
    "        found = False\n",
    "        for c in board[pos]:\n",
    "            if c == '.':\n",
    "                dist += 1\n",
    "                new_room += c\n",
    "            elif not found:\n",
    "                new_room += '.'\n",
    "                dist += 1\n",
    "                found = True\n",
    "            else:\n",
    "                new_room += c\n",
    "        new_board[pos] = new_room\n",
    "    \n",
    "    dist += abs(pos - dest)\n",
    "\n",
    "    if len(board[dest]) == 1:\n",
    "        new_board[dest] = movingLetter\n",
    "        return new_board, dist * moveCosts[movingLetter]\n",
    "    else:\n",
    "        new_board[dest], addl_dist = addToRoom(movingLetter, board[dest])\n",
    "        dist += addl_dist\n",
    "        return new_board, dist * moveCosts[movingLetter]\n",
    "\n",
    "\n",
    "def solve(board):\n",
    "    states = {tuple(board): 0}\n",
    "    queue = [board]\n",
    "    while queue:\n",
    "        # print(len(queue))\n",
    "        board = queue.pop()\n",
    "        for pos, piece in enumerate(board):\n",
    "            if getPieceFromRoom(piece) is None:\n",
    "                continue\n",
    "            dests = possibleMoves(board, pos)\n",
    "            #print('{} ({}) can move to {}'.format(piece, pos, dests))\n",
    "            for dest in dests:\n",
    "                new_board, addl_cost = move(board, pos, dest)\n",
    "                new_cost = states[tuple(board)] + addl_cost\n",
    "                new_board_tuple = tuple(new_board)\n",
    "                cost = states.get(new_board_tuple, 9999999)\n",
    "                if new_cost < cost:\n",
    "                    #print(board, '->', new_board, ':', new_cost)\n",
    "                    states[new_board_tuple] = new_cost\n",
    "                    queue.append(new_board)\n",
    "\n",
    "    return states\n",
    "\n",
    "board = ['.', '.', 'DD', '.', 'CC', '.', 'AB', '.', 'BA', '.', '.']\n",
    "states = solve(board)  # 15322\n",
    "print(states[('.', '.', 'AA', '.', 'BB', '.', 'CC', '.', 'DD', '.', '.')])\n",
    "\n",
    "board = ['.', '.', 'DDDD', '.', 'CCBC', '.', 'ABAB', '.', 'BACA', '.', '.']\n",
    "states = solve(board)  # 56324\n",
    "print(states[('.', '.', 'AAAA', '.', 'BBBB', '.', 'CCCC', '.', 'DDDD', '.', '.')])"
   ]
  },
  {
   "cell_type": "code",
   "execution_count": null,
   "id": "ba01f60f",
   "metadata": {},
   "outputs": [],
   "source": []
  }
 ],
 "metadata": {
  "kernelspec": {
   "display_name": "Python 3 (ipykernel)",
   "language": "python",
   "name": "python3"
  },
  "language_info": {
   "codemirror_mode": {
    "name": "ipython",
    "version": 3
   },
   "file_extension": ".py",
   "mimetype": "text/x-python",
   "name": "python",
   "nbconvert_exporter": "python",
   "pygments_lexer": "ipython3",
   "version": "3.9.7"
  },
  "toc": {
   "base_numbering": 1,
   "nav_menu": {},
   "number_sections": true,
   "sideBar": true,
   "skip_h1_title": false,
   "title_cell": "Table of Contents",
   "title_sidebar": "Contents",
   "toc_cell": false,
   "toc_position": {},
   "toc_section_display": true,
   "toc_window_display": false
  },
  "varInspector": {
   "cols": {
    "lenName": 16,
    "lenType": 16,
    "lenVar": 40
   },
   "kernels_config": {
    "python": {
     "delete_cmd_postfix": "",
     "delete_cmd_prefix": "del ",
     "library": "var_list.py",
     "varRefreshCmd": "print(var_dic_list())"
    },
    "r": {
     "delete_cmd_postfix": ") ",
     "delete_cmd_prefix": "rm(",
     "library": "var_list.r",
     "varRefreshCmd": "cat(var_dic_list()) "
    }
   },
   "types_to_exclude": [
    "module",
    "function",
    "builtin_function_or_method",
    "instance",
    "_Feature"
   ],
   "window_display": false
  }
 },
 "nbformat": 4,
 "nbformat_minor": 5
}
