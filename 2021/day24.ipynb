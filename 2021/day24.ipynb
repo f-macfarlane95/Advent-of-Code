{
 "cells": [
  {
   "cell_type": "code",
   "execution_count": 17,
   "id": "332b048b",
   "metadata": {
    "ExecuteTime": {
     "end_time": "2021-12-24T19:17:34.777853Z",
     "start_time": "2021-12-24T19:17:34.764563Z"
    }
   },
   "outputs": [],
   "source": [
    "import itertools"
   ]
  },
  {
   "cell_type": "code",
   "execution_count": 18,
   "id": "cf5592ab",
   "metadata": {
    "ExecuteTime": {
     "end_time": "2021-12-24T19:17:35.531270Z",
     "start_time": "2021-12-24T19:17:35.503698Z"
    }
   },
   "outputs": [],
   "source": [
    "def add(a,b):\n",
    "    return int(a+b)\n",
    "\n",
    "def mul(a,b):\n",
    "    return int(a*b)\n",
    "\n",
    "def mod(a,b):\n",
    "    return int(a%b)\n",
    "\n",
    "def div(a,b):\n",
    "    return int(a/b)\n",
    "\n",
    "def eql(a,b):\n",
    "    if a==b:\n",
    "        return 1\n",
    "    else:\n",
    "        return 0\n"
   ]
  },
  {
   "cell_type": "code",
   "execution_count": 33,
   "id": "185a3ac2",
   "metadata": {
    "ExecuteTime": {
     "end_time": "2021-12-24T19:37:52.608754Z",
     "start_time": "2021-12-24T19:37:52.570415Z"
    }
   },
   "outputs": [],
   "source": [
    "def check_model_no(W):\n",
    "    \n",
    "    w = []\n",
    "    x = int(0)\n",
    "    y = int(0)\n",
    "    z = int(0)\n",
    "    \n",
    "    a = [1,  1,  1,  1,  1,  26, 1,  26,  26, 1,  26,  26,  26, 26]\n",
    "    b = [13, 11, 12, 10, 14, -1, 14, -16, -8, 12, -16, -13, -6, -6]\n",
    "    c = [6 , 11, 5,  6,  8,  14, 9,  4,   7,  13, 11,  11,  6,  1 ]\n",
    "    \n",
    "    for i in range(len(W)):\n",
    "        w = W[i]\n",
    "        \n",
    "        x = mul(x,0)\n",
    "        x = add(x,z)\n",
    "        x = mod(x,26)\n",
    "        z = div(z,a[i])\n",
    "        x = add(x,b[i])\n",
    "        x = eql(x,w)\n",
    "        x = eql(x,0)\n",
    "        y = mul(y,0)\n",
    "        y = add(y,25)\n",
    "        y = mul(y,x)\n",
    "        y = add(y,1)\n",
    "        z = mul(z,y)\n",
    "        y = mul(y,0)\n",
    "        y = add(y,w)\n",
    "        y = add(y,c[i])\n",
    "        y = mul(y,x)\n",
    "        z = add(z,y)\n",
    "        \n",
    "        #print(w,x,y,z)\n",
    "        \n",
    "        #z = (0 if (z % 26 + b[i]) == w else 1) * ((z//a[i]) * 25 + w + c[i]) + (z//a[i])\n",
    "        print(z)\n",
    "        \n",
    "    return z"
   ]
  },
  {
   "cell_type": "code",
   "execution_count": 34,
   "id": "776fda85",
   "metadata": {
    "ExecuteTime": {
     "end_time": "2021-12-24T19:37:53.921574Z",
     "start_time": "2021-12-24T19:37:53.899277Z"
    }
   },
   "outputs": [
    {
     "name": "stdout",
     "output_type": "stream",
     "text": [
      "15\n",
      "405\n",
      "10544\n",
      "274159\n",
      "7128144\n",
      "274159\n",
      "7128152\n",
      "274159\n",
      "10544\n",
      "274166\n",
      "10544\n",
      "405\n",
      "15\n",
      "0\n"
     ]
    },
    {
     "data": {
      "text/plain": [
       "0"
      ]
     },
     "execution_count": 34,
     "metadata": {},
     "output_type": "execute_result"
    }
   ],
   "source": [
    "check_model_no([9,4,9,9,2,9,9,2,7,9,6,1,9,9])"
   ]
  },
  {
   "cell_type": "code",
   "execution_count": 35,
   "id": "23f8d161",
   "metadata": {
    "ExecuteTime": {
     "end_time": "2021-12-24T19:37:55.018216Z",
     "start_time": "2021-12-24T19:37:54.986159Z"
    }
   },
   "outputs": [
    {
     "name": "stdout",
     "output_type": "stream",
     "text": [
      "7\n",
      "194\n",
      "5058\n",
      "131517\n",
      "3419451\n",
      "131517\n",
      "3419459\n",
      "131517\n",
      "5058\n",
      "131525\n",
      "5058\n",
      "194\n",
      "7\n",
      "0\n"
     ]
    },
    {
     "data": {
      "text/plain": [
       "0"
      ]
     },
     "execution_count": 35,
     "metadata": {},
     "output_type": "execute_result"
    }
   ],
   "source": [
    "check_model_no([1,1,9,3,1,8,8,1,1,4,1,1,6,1])"
   ]
  },
  {
   "cell_type": "code",
   "execution_count": null,
   "id": "99dd5f03",
   "metadata": {
    "ExecuteTime": {
     "end_time": "2021-12-24T17:25:14.827031Z",
     "start_time": "2021-12-24T17:25:14.827031Z"
    }
   },
   "outputs": [],
   "source": [
    "for comb in itertools.product([9,8,7,6,5,4,3,2,1], repeat=14):\n",
    "#for comb in itertools.product([1,2,3,4,5,6,7,8,9], repeat=14):\n",
    "    #print(comb)\n",
    "    if check_model_no(comb) == 0:\n",
    "        print(comb)\n",
    "        break"
   ]
  },
  {
   "cell_type": "code",
   "execution_count": null,
   "id": "4914339b",
   "metadata": {
    "ExecuteTime": {
     "end_time": "2021-12-24T17:25:29.188629Z",
     "start_time": "2021-12-24T17:25:29.175859Z"
    }
   },
   "outputs": [],
   "source": []
  },
  {
   "cell_type": "code",
   "execution_count": null,
   "id": "5be9a3dc",
   "metadata": {
    "ExecuteTime": {
     "end_time": "2021-12-24T17:38:35.268148Z",
     "start_time": "2021-12-24T17:38:35.216442Z"
    }
   },
   "outputs": [],
   "source": [
    "z.push(A + 6)\n",
    "\n",
    "z.push(B + 11)\n",
    "\n",
    "z.push(C + 5)\n",
    "\n",
    "z.push(D + 6)\n",
    "\n",
    "z.push(E + 8)\n",
    "\n",
    "if F != z.pop() - 1:\n",
    "    z.push(F + 14)\n",
    "\n",
    "z.push(G + 14)\n",
    "    \n",
    "if H != z.pop() - 16:\n",
    "    z.push(H + 4)\n",
    "    \n",
    "if I != z.pop() - 8:\n",
    "    z.push(I + 7)\n",
    "    \n",
    "z.push(J + 13)\n",
    "  \n",
    "if K != z.pop() - 16:\n",
    "    z.push(K + 11)\n",
    "    \n",
    "if L != z.pop() - 13:\n",
    "    z.push(L + 11)\n",
    "    \n",
    "if M != z.pop() - 6:\n",
    "    z.push(M + 6)\n",
    "    \n",
    "if N != z.pop() - 6:\n",
    "    z.push(N + 1)\n"
   ]
  },
  {
   "cell_type": "code",
   "execution_count": null,
   "id": "f2ae9bc6",
   "metadata": {},
   "outputs": [],
   "source": [
    "E + 7 = F\n",
    "G - 2 = H\n",
    "D - 2 = I\n",
    "J - 3 = K \n",
    "C - 8 = L\n",
    "B + 5 = M\n",
    "A = N"
   ]
  },
  {
   "cell_type": "code",
   "execution_count": 37,
   "id": "e7e12a3f",
   "metadata": {
    "ExecuteTime": {
     "end_time": "2021-12-25T09:01:32.779764Z",
     "start_time": "2021-12-25T09:01:32.759503Z"
    }
   },
   "outputs": [
    {
     "name": "stdout",
     "output_type": "stream",
     "text": [
      "15\n",
      "405\n",
      "10544\n",
      "274159\n",
      "7128144\n",
      "274159\n",
      "7128152\n",
      "274159\n",
      "10544\n",
      "274166\n",
      "10544\n",
      "405\n",
      "15\n",
      "0\n"
     ]
    },
    {
     "data": {
      "text/plain": [
       "0"
      ]
     },
     "execution_count": 37,
     "metadata": {},
     "output_type": "execute_result"
    }
   ],
   "source": [
    "check_model_no([9,4,9,9,2,9,9,2,7,9,6,1,9,9])"
   ]
  },
  {
   "cell_type": "code",
   "execution_count": null,
   "id": "004be00b",
   "metadata": {},
   "outputs": [],
   "source": []
  }
 ],
 "metadata": {
  "kernelspec": {
   "display_name": "Python 3 (ipykernel)",
   "language": "python",
   "name": "python3"
  },
  "language_info": {
   "codemirror_mode": {
    "name": "ipython",
    "version": 3
   },
   "file_extension": ".py",
   "mimetype": "text/x-python",
   "name": "python",
   "nbconvert_exporter": "python",
   "pygments_lexer": "ipython3",
   "version": "3.9.7"
  },
  "toc": {
   "base_numbering": 1,
   "nav_menu": {},
   "number_sections": true,
   "sideBar": true,
   "skip_h1_title": false,
   "title_cell": "Table of Contents",
   "title_sidebar": "Contents",
   "toc_cell": false,
   "toc_position": {},
   "toc_section_display": true,
   "toc_window_display": false
  },
  "varInspector": {
   "cols": {
    "lenName": 16,
    "lenType": 16,
    "lenVar": 40
   },
   "kernels_config": {
    "python": {
     "delete_cmd_postfix": "",
     "delete_cmd_prefix": "del ",
     "library": "var_list.py",
     "varRefreshCmd": "print(var_dic_list())"
    },
    "r": {
     "delete_cmd_postfix": ") ",
     "delete_cmd_prefix": "rm(",
     "library": "var_list.r",
     "varRefreshCmd": "cat(var_dic_list()) "
    }
   },
   "position": {
    "height": "251.833px",
    "left": "1336.67px",
    "right": "20px",
    "top": "120px",
    "width": "350px"
   },
   "types_to_exclude": [
    "module",
    "function",
    "builtin_function_or_method",
    "instance",
    "_Feature"
   ],
   "window_display": false
  }
 },
 "nbformat": 4,
 "nbformat_minor": 5
}
