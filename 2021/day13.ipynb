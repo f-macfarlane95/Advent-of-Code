{
 "cells": [
  {
   "cell_type": "markdown",
   "id": "77b9b575",
   "metadata": {},
   "source": [
    "# Day 13: Transparent Origami"
   ]
  },
  {
   "cell_type": "markdown",
   "id": "378f9cb0",
   "metadata": {},
   "source": [
    "## Part 1"
   ]
  },
  {
   "cell_type": "markdown",
   "id": "66301d6f",
   "metadata": {},
   "source": [
    "You reach another volcanically active part of the cave. It would be nice if you could do some kind of thermal imaging so you could tell ahead of time which caves are too hot to safely enter.\n",
    "\n",
    "Fortunately, the submarine seems to be equipped with a thermal camera! When you activate it, you are greeted with:\n",
    "\n",
    "```Congratulations on your purchase! To activate this infrared thermal imaging camera system, please enter the code found on page 1 of the manual.```\n",
    "\n",
    "\n",
    "Apparently, the Elves have never used this feature. To your surprise, you manage to find the manual; as you go to open it, page 1 falls out. It's a large sheet of transparent paper! The transparent paper is marked with random dots and includes instructions on how to fold it up (your puzzle input). For example:\n",
    "\n",
    "```\n",
    "6,10\n",
    "0,14\n",
    "9,10\n",
    "0,3\n",
    "10,4\n",
    "4,11\n",
    "6,0\n",
    "6,12\n",
    "4,1\n",
    "0,13\n",
    "10,12\n",
    "3,4\n",
    "3,0\n",
    "8,4\n",
    "1,10\n",
    "2,14\n",
    "8,10\n",
    "9,0\n",
    "\n",
    "fold along y=7\n",
    "fold along x=5\n",
    "```\n",
    "\n",
    "The first section is a list of dots on the transparent paper. ```0,0``` represents the top-left coordinate. The first value, ```x```, increases to the right. The second value, ```y```, increases downward. So, the coordinate ```3,0``` is to the right of ```0,0```, and the coordinate ```0,7``` is below ```0,0```. The coordinates in this example form the following pattern, where ```#``` is a dot on the paper and . is an empty, unmarked position:\n",
    "\n",
    "```\n",
    "...#..#..#.\n",
    "....#......\n",
    "...........\n",
    "#..........\n",
    "...#....#.#\n",
    "...........\n",
    "...........\n",
    "...........\n",
    "...........\n",
    "...........\n",
    ".#....#.##.\n",
    "....#......\n",
    "......#...#\n",
    "#..........\n",
    "#.#........\n",
    "```\n",
    "\n",
    "Then, there is a list of fold instructions. Each instruction indicates a line on the transparent paper and wants you to fold the paper up (for horizontal ```y=...``` lines) or left (for vertical ```x=...``` lines). In this example, the first fold instruction is ```fold along y=7```, which designates the line formed by all of the positions where ```y``` is ```7``` (marked here with -):\n",
    "\n",
    "```\n",
    "...#..#..#.\n",
    "....#......\n",
    "...........\n",
    "#..........\n",
    "...#....#.#\n",
    "...........\n",
    "...........\n",
    "-----------\n",
    "...........\n",
    "...........\n",
    ".#....#.##.\n",
    "....#......\n",
    "......#...#\n",
    "#..........\n",
    "#.#........\n",
    "```\n",
    "\n",
    "Because this is a horizontal line, fold the bottom half up. Some of the dots might end up overlapping after the fold is complete, but dots will never appear exactly on a fold line. The result of doing this fold looks like this:\n",
    "\n",
    "```\n",
    "#.##..#..#.\n",
    "#...#......\n",
    "......#...#\n",
    "#...#......\n",
    ".#.#..#.###\n",
    "...........\n",
    "...........\n",
    "```\n",
    "\n",
    "Now, only ```17``` dots are visible.\n",
    "\n",
    "Notice, for example, the two dots in the bottom left corner before the transparent paper is folded; after the fold is complete, those dots appear in the top left corner (at ```0,0``` and ```0,1```). Because the paper is transparent, the dot just below them in the result (at ```0,3```) remains visible, as it can be seen through the transparent paper.\n",
    "\n",
    "Also notice that some dots can end up overlapping; in this case, the dots merge together and become a single dot.\n",
    "\n",
    "The second fold instruction is ```fold along x=5```, which indicates this line:\n",
    "\n",
    "```\n",
    "#.##.|#..#.\n",
    "#...#|.....\n",
    ".....|#...#\n",
    "#...#|.....\n",
    ".#.#.|#.###\n",
    ".....|.....\n",
    ".....|.....\n",
    "```\n",
    "\n",
    "Because this is a vertical line, fold left:\n",
    "\n",
    "```\n",
    "#####\n",
    "#...#\n",
    "#...#\n",
    "#...#\n",
    "#####\n",
    ".....\n",
    ".....\n",
    "```\n",
    "\n",
    "The instructions made a square!\n",
    "\n",
    "The transparent paper is pretty big, so for now, focus on just completing the first fold. After the first fold in the example above, ```17``` dots are visible - dots that end up overlapping after the fold is completed count as a single dot.\n",
    "\n",
    "How many dots are visible after completing just the first fold instruction on your transparent paper?"
   ]
  },
  {
   "cell_type": "code",
   "execution_count": 1,
   "id": "0ddda38c",
   "metadata": {},
   "outputs": [],
   "source": [
    "import numpy as np\n",
    "import re\n",
    "\n",
    "from IPython.display import Image\n",
    "from matplotlib import pyplot as plt\n",
    "plt.rcParams['figure.figsize'] = [10, 5]"
   ]
  },
  {
   "cell_type": "code",
   "execution_count": 2,
   "id": "2a721ad5",
   "metadata": {},
   "outputs": [],
   "source": [
    "def load_input(path):\n",
    "    file = open(path, \"r\")\n",
    "    lines = file.readlines()\n",
    "    file.close()\n",
    "    \n",
    "    split_ind = lines.index(\"\\n\")\n",
    "    lines = ([l.strip(\"\\n\") for l in lines])\n",
    "    \n",
    "    coords = lines[:split_ind]\n",
    "    coords = np.array([c.split(',') for c in coords], dtype=int)\n",
    "    \n",
    "    folds = lines[split_ind+1:]\n",
    "    folds = [f.replace(\"fold along \",\"\") for f in folds]\n",
    "    folds = [f.split(\"=\") for f in folds]\n",
    "    \n",
    "    for f in folds:\n",
    "        f[1] = int(f[1])\n",
    "    \n",
    "    return coords,folds"
   ]
  },
  {
   "cell_type": "code",
   "execution_count": 3,
   "id": "2c397bd6",
   "metadata": {},
   "outputs": [],
   "source": [
    "def print_page(coords):\n",
    "    num_cols, num_rows = np.max(coordinates,0)+1\n",
    "    page = np.zeros([num_rows,num_cols])\n",
    "    \n",
    "    for c in coords:\n",
    "        page[c[1],c[0]] = 1    \n",
    "    return page\n",
    "\n",
    "\n",
    "\n",
    "def fold_page(page, fold):\n",
    "    \n",
    "    \n",
    "    if fold[0] == 'x': # fold on vertical\n",
    "        \n",
    "        folded_page = np.zeros((page.shape[0], fold[1]))\n",
    "        fold_range = page.shape[1] - fold[1] - 1\n",
    "        \n",
    "        folded_page[:, -fold_range:] = page[:, fold[1] - fold_range : fold[1]] + np.fliplr(page[:, fold[1]+1:])\n",
    "        folded_page[:, :-fold_range] = page[:, :fold[1] - fold_range]\n",
    "        \n",
    "        folded_page = np.minimum(1, folded_page)        \n",
    "        return folded_page\n",
    "        \n",
    "    elif fold[0] == 'y': # fold on horizontal\n",
    "\n",
    "        folded_page = np.zeros((fold[1], page.shape[1]))\n",
    "        fold_range = page.shape[0] - fold[1] - 1\n",
    "        \n",
    "        folded_page[-fold_range:, :] = page[fold[1] - fold_range : fold[1], :] + np.flipud(page[fold[1]+1:, :])\n",
    "        folded_page[:-fold_range, :] = page[:fold[1] - fold_range, :]\n",
    "        \n",
    "        folded_page = np.minimum(1, folded_page)        \n",
    "        return folded_page"
   ]
  },
  {
   "cell_type": "code",
   "execution_count": 4,
   "id": "6d402240",
   "metadata": {},
   "outputs": [
    {
     "name": "stdout",
     "output_type": "stream",
     "text": [
      "[[0. 0. 0. 1. 0. 0. 1. 0. 0. 1. 0.]\n",
      " [0. 0. 0. 0. 1. 0. 0. 0. 0. 0. 0.]\n",
      " [0. 0. 0. 0. 0. 0. 0. 0. 0. 0. 0.]\n",
      " [1. 0. 0. 0. 0. 0. 0. 0. 0. 0. 0.]\n",
      " [0. 0. 0. 1. 0. 0. 0. 0. 1. 0. 1.]\n",
      " [0. 0. 0. 0. 0. 0. 0. 0. 0. 0. 0.]\n",
      " [0. 0. 0. 0. 0. 0. 0. 0. 0. 0. 0.]\n",
      " [0. 0. 0. 0. 0. 0. 0. 0. 0. 0. 0.]\n",
      " [0. 0. 0. 0. 0. 0. 0. 0. 0. 0. 0.]\n",
      " [0. 0. 0. 0. 0. 0. 0. 0. 0. 0. 0.]\n",
      " [0. 1. 0. 0. 0. 0. 1. 0. 1. 1. 0.]\n",
      " [0. 0. 0. 0. 1. 0. 0. 0. 0. 0. 0.]\n",
      " [0. 0. 0. 0. 0. 0. 1. 0. 0. 0. 1.]\n",
      " [1. 0. 0. 0. 0. 0. 0. 0. 0. 0. 0.]\n",
      " [1. 0. 1. 0. 0. 0. 0. 0. 0. 0. 0.]]\n",
      "\n",
      "Number of dots:  18\n"
     ]
    }
   ],
   "source": [
    "coordinates, folds = load_input(\"day13_data_test.txt\")\n",
    "page = print_page(coordinates)\n",
    "print(page)\n",
    "print('')\n",
    "print(\"Number of dots: \",int(np.sum(page)))"
   ]
  },
  {
   "cell_type": "code",
   "execution_count": 5,
   "id": "9d17b885",
   "metadata": {},
   "outputs": [
    {
     "name": "stdout",
     "output_type": "stream",
     "text": [
      "[[1. 0. 1. 1. 0. 0. 1. 0. 0. 1. 0.]\n",
      " [1. 0. 0. 0. 1. 0. 0. 0. 0. 0. 0.]\n",
      " [0. 0. 0. 0. 0. 0. 1. 0. 0. 0. 1.]\n",
      " [1. 0. 0. 0. 1. 0. 0. 0. 0. 0. 0.]\n",
      " [0. 1. 0. 1. 0. 0. 1. 0. 1. 1. 1.]\n",
      " [0. 0. 0. 0. 0. 0. 0. 0. 0. 0. 0.]\n",
      " [0. 0. 0. 0. 0. 0. 0. 0. 0. 0. 0.]]\n",
      "\n",
      "Number of dots:  17\n"
     ]
    }
   ],
   "source": [
    "page = fold_page(page, folds[0])\n",
    "print(page) \n",
    "print('')\n",
    "print(\"Number of dots: \",int(np.sum(page)))"
   ]
  },
  {
   "cell_type": "code",
   "execution_count": 6,
   "id": "d151ce63",
   "metadata": {},
   "outputs": [
    {
     "name": "stdout",
     "output_type": "stream",
     "text": [
      "[[1. 1. 1. 1. 1.]\n",
      " [1. 0. 0. 0. 1.]\n",
      " [1. 0. 0. 0. 1.]\n",
      " [1. 0. 0. 0. 1.]\n",
      " [1. 1. 1. 1. 1.]\n",
      " [0. 0. 0. 0. 0.]\n",
      " [0. 0. 0. 0. 0.]]\n",
      "\n",
      "Number of dots:  16\n"
     ]
    }
   ],
   "source": [
    "page = fold_page(page, folds[1])\n",
    "print(page) \n",
    "print('')\n",
    "print(\"Number of dots: \",int(np.sum(page)))"
   ]
  },
  {
   "cell_type": "code",
   "execution_count": 7,
   "id": "e582bff0",
   "metadata": {},
   "outputs": [
    {
     "name": "stdout",
     "output_type": "stream",
     "text": [
      "Number of dots:  675\n"
     ]
    }
   ],
   "source": [
    "coordinates, folds = load_input(\"day13_data.txt\")\n",
    "page = print_page(coordinates)\n",
    "page = fold_page(page, folds[0])\n",
    "print(\"Number of dots: \",int(np.sum(page)))"
   ]
  },
  {
   "cell_type": "markdown",
   "id": "ac660db5",
   "metadata": {},
   "source": [
    "## Part 2"
   ]
  },
  {
   "cell_type": "markdown",
   "id": "f4b2f1bf",
   "metadata": {},
   "source": [
    "Finish folding the transparent paper according to the instructions. The manual says the code is always eight capital letters.\n",
    "\n",
    "What code do you use to activate the infrared thermal imaging camera system?"
   ]
  },
  {
   "cell_type": "code",
   "execution_count": 8,
   "id": "22514ff8",
   "metadata": {},
   "outputs": [
    {
     "data": {
      "image/png": "[encoded data removed]",
      "text/plain": [
       "<Figure size 720x360 with 1 Axes>"
      ]
     },
     "metadata": {},
     "output_type": "display_data"
    },
    {
     "name": "stdout",
     "output_type": "stream",
     "text": [
      "\n",
      "Number of dots:  98\n"
     ]
    }
   ],
   "source": [
    "for f in folds[1:]:\n",
    "    page = fold_page(page, f)\n",
    "    \n",
    "plt.imshow(page)\n",
    "plt.xticks([]), plt.yticks([])  # Hides the graph ticks and x / y axis\n",
    "plt.show()\n",
    "\n",
    "print('')\n",
    "print(\"Number of dots: \",int(np.sum(page)))"
   ]
  },
  {
   "cell_type": "markdown",
   "id": "bb5f1da1",
   "metadata": {},
   "source": [
    "The code is \"HZKHFEJZ\""
   ]
  }
 ],
 "metadata": {
  "kernelspec": {
   "display_name": "Python 3 (ipykernel)",
   "language": "python",
   "name": "python3"
  },
  "language_info": {
   "codemirror_mode": {
    "name": "ipython",
    "version": 3
   },
   "file_extension": ".py",
   "mimetype": "text/x-python",
   "name": "python",
   "nbconvert_exporter": "python",
   "pygments_lexer": "ipython3",
   "version": "3.9.7"
  },
  "varInspector": {
   "cols": {
    "lenName": 16,
    "lenType": 16,
    "lenVar": 40
   },
   "kernels_config": {
    "python": {
     "delete_cmd_postfix": "",
     "delete_cmd_prefix": "del ",
     "library": "var_list.py",
     "varRefreshCmd": "print(var_dic_list())"
    },
    "r": {
     "delete_cmd_postfix": ") ",
     "delete_cmd_prefix": "rm(",
     "library": "var_list.r",
     "varRefreshCmd": "cat(var_dic_list()) "
    }
   },
   "position": {
    "height": "297.622px",
    "left": "1763.33px",
    "right": "20px",
    "top": "120px",
    "width": "350px"
   },
   "types_to_exclude": [
    "module",
    "function",
    "builtin_function_or_method",
    "instance",
    "_Feature"
   ],
   "window_display": true
  }
 },
 "nbformat": 4,
 "nbformat_minor": 5
}
