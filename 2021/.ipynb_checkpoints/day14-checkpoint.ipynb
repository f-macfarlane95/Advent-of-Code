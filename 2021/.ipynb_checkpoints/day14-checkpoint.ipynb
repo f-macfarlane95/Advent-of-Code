{
 "cells": [
  {
   "cell_type": "markdown",
   "id": "2dfd667c",
   "metadata": {},
   "source": [
    "# Day 14: Extended Polymerization"
   ]
  },
  {
   "cell_type": "markdown",
   "id": "a41047fa",
   "metadata": {},
   "source": [
    "## Part 1"
   ]
  },
  {
   "cell_type": "markdown",
   "id": "ae52d446",
   "metadata": {},
   "source": [
    "The incredible pressures at this depth are starting to put a strain on your submarine. The submarine has polymerization equipment that would produce suitable materials to reinforce the submarine, and the nearby volcanically-active caves should even have the necessary input elements in sufficient quantities.\n",
    "\n",
    "The submarine manual contains instructions for finding the optimal polymer formula; specifically, it offers a polymer template and a list of pair insertion rules (your puzzle input). You just need to work out what polymer would result after repeating the pair insertion process a few times.\n",
    "\n",
    "For example:\n",
    "```\n",
    "NNCB\n",
    "\n",
    "CH -> B\n",
    "HH -> N\n",
    "CB -> H\n",
    "NH -> C\n",
    "HB -> C\n",
    "HC -> B\n",
    "HN -> C\n",
    "NN -> C\n",
    "BH -> H\n",
    "NC -> B\n",
    "NB -> B\n",
    "BN -> B\n",
    "BB -> N\n",
    "BC -> B\n",
    "CC -> N\n",
    "CN -> C\n",
    "```\n",
    "\n",
    "The first line is the polymer template - this is the starting point of the process.\n",
    "\n",
    "The following section defines the pair insertion rules. A rule like ```AB -> C``` means that when elements ```A``` and ```B``` are immediately adjacent, element ```C``` should be inserted between them. These insertions all happen simultaneously.\n",
    "\n",
    "So, starting with the polymer template ```NNCB```, the first step simultaneously considers all three pairs:\n",
    "\n",
    "The first pair (```NN```) matches the rule ```NN -> C```, so element ```C``` is inserted between the first ```N``` and the second ```N```.\n",
    "The second pair (```NC```) matches the rule ```NC -> B```, so element ```B``` is inserted between the ```N``` and the ```C```.\n",
    "The third pair (```CB```) matches the rule ```CB -> H```, so element ```H``` is inserted between the ```C``` and the ```B```.\n",
    "Note that these pairs overlap: the second element of one pair is the first element of the next pair. Also, because all pairs are considered simultaneously, inserted elements are not considered to be part of a pair until the next step.\n",
    "\n",
    "After the first step of this process, the polymer becomes ```NCNBCHB```.\n",
    "\n",
    "Here are the results of a few steps using the above rules:\n",
    "```\n",
    "Template:     NNCB\n",
    "After step 1: NCNBCHB\n",
    "After step 2: NBCCNBBBCBHCB\n",
    "After step 3: NBBBCNCCNBBNBNBBCHBHHBCHB\n",
    "After step 4: NBBNBNBBCCNBCNCCNBBNBBNBBBNBBNBBCBHCBHHNHCBBCBHCB\n",
    "```\n",
    "\n",
    "This polymer grows quickly. After step 5, it has length 97; After step 10, it has length 3073. After step 10, ```B``` occurs 1749 times, ```C``` occurs 298 times, ```H``` occurs 161 times, and ```N``` occurs 865 times; taking the quantity of the most common element (```B```, 1749) and subtracting the quantity of the least common element (```H```, 161) produces ```1749 - 161 = 1588```.\n",
    "\n",
    "Apply 10 steps of pair insertion to the polymer template and find the most and least common elements in the result. What do you get if you take the quantity of the most common element and subtract the quantity of the least common element?"
   ]
  },
  {
   "cell_type": "code",
   "execution_count": 1,
   "id": "6f3e1836",
   "metadata": {},
   "outputs": [],
   "source": [
    "from collections import Counter"
   ]
  },
  {
   "cell_type": "code",
   "execution_count": 2,
   "id": "fa7ef12a",
   "metadata": {},
   "outputs": [],
   "source": [
    "def load_insertions(path):\n",
    "    file = open(path,'r')\n",
    "    lines = file.readlines()\n",
    "    file.close()\n",
    "    \n",
    "    split_ind = lines.index(\"\\n\")\n",
    "    lines = ([l.strip(\"\\n\") for l in lines]) \n",
    "    \n",
    "    initial = lines[:split_ind]\n",
    "    \n",
    "    ins = lines[split_ind+1:]\n",
    "    pairs_arr = []\n",
    "    inserts_arr = []\n",
    "    for i in ins:\n",
    "        pairs, inserts = i.split(' -> ')\n",
    "        pairs_arr.append(pairs)\n",
    "        inserts_arr.append(inserts)\n",
    "    \n",
    "    return initial[0], pairs_arr, inserts_arr"
   ]
  },
  {
   "cell_type": "code",
   "execution_count": 3,
   "id": "d1c468e6",
   "metadata": {},
   "outputs": [],
   "source": [
    "def poly_ins(polymer, pairs, insertions, steps):\n",
    "    \n",
    "    print(\"Polymer has an initial length of \"+str(len(polymer))+\": \"+polymer)\n",
    "    print()\n",
    "    \n",
    "    freqs = Counter() # counter to count the individual pairs\n",
    "\n",
    "    for a, b in zip(polymer, polymer[1:]): # extract pairs of elements and count the frequencies\n",
    "        s = a + b\n",
    "        freqs[s]+=1\n",
    "    \n",
    "        inserts = {} # empty dictionary for which new pairs will be included with each insertion\n",
    "\n",
    "    for i in range(len(pairs)): # step through each of the pair insertion rules\n",
    "        # populate the inserts dictionary with the resultant pairs from each insertion\n",
    "        inserts[pairs[i]] = [pairs[i][0]+insertions[i], insertions[i]+pairs[i][1]]\n",
    "        \n",
    "    counts = Counter(polymer) # count the individual elements in the polymer\n",
    "\n",
    "    for _ in range(steps):\n",
    "        tmp_ctr = Counter() # set up counter for each insertion step\n",
    "        for pair, count in freqs.items(): # get each pair and counts \n",
    "            if pair in inserts:    # check for required insertions\n",
    "                counts[inserts[pair][0][1]] += count # iterate the counter for each element in the pair\n",
    "                for new_pair in inserts[pair]:\n",
    "                    tmp_ctr[new_pair] += count # iterate the counter for each element in the new pairs\n",
    "        freqs = tmp_ctr \n",
    "        print(\"Step \"+str(_+1)+\": Polymer has a length of \"+str(sum(counts.values()))+\"\")\n",
    "        \n",
    "        \n",
    "    mostCommon = counts.most_common()\n",
    "    print()\n",
    "    print(\"Most common element is \"+mostCommon[0][0]+\" with \"+str(mostCommon[0][1])+\" entries.\")  \n",
    "    print(\"The least common element is \"+mostCommon[-1][0]+\" with \"+str(mostCommon[-1][1])+\" entries.\")\n",
    "    print(\"The solution is: \"+str(mostCommon[0][1])+\" - \"+str(mostCommon[-1][1])+\" = \"+str(mostCommon[0][1]-mostCommon[-1][1])+\".\")"
   ]
  },
  {
   "cell_type": "code",
   "execution_count": 4,
   "id": "43531035",
   "metadata": {},
   "outputs": [
    {
     "name": "stdout",
     "output_type": "stream",
     "text": [
      "Polymer has an initial length of 4: NNCB\n",
      "\n",
      "Step 1: Polymer has a length of 7\n",
      "Step 2: Polymer has a length of 13\n",
      "Step 3: Polymer has a length of 25\n",
      "Step 4: Polymer has a length of 49\n",
      "Step 5: Polymer has a length of 97\n",
      "Step 6: Polymer has a length of 193\n",
      "Step 7: Polymer has a length of 385\n",
      "Step 8: Polymer has a length of 769\n",
      "Step 9: Polymer has a length of 1537\n",
      "Step 10: Polymer has a length of 3073\n",
      "\n",
      "Most common element is B with 1749 entries.\n",
      "The least common element is H with 161 entries.\n",
      "The solution is: 1749 - 161 = 1588.\n"
     ]
    }
   ],
   "source": [
    "p_init, pairs, inserts = load_insertions(\"day14_data_test.txt\")\n",
    "\n",
    "poly_ins(p_init, pairs, inserts, 10)"
   ]
  },
  {
   "cell_type": "code",
   "execution_count": 5,
   "id": "0451b858",
   "metadata": {},
   "outputs": [
    {
     "name": "stdout",
     "output_type": "stream",
     "text": [
      "Polymer has an initial length of 20: PHOSBSKBBBFSPPPCCCHN\n",
      "\n",
      "Step 1: Polymer has a length of 39\n",
      "Step 2: Polymer has a length of 77\n",
      "Step 3: Polymer has a length of 153\n",
      "Step 4: Polymer has a length of 305\n",
      "Step 5: Polymer has a length of 609\n",
      "Step 6: Polymer has a length of 1217\n",
      "Step 7: Polymer has a length of 2433\n",
      "Step 8: Polymer has a length of 4865\n",
      "Step 9: Polymer has a length of 9729\n",
      "Step 10: Polymer has a length of 19457\n",
      "\n",
      "Most common element is N with 3661 entries.\n",
      "The least common element is B with 787 entries.\n",
      "The solution is: 3661 - 787 = 2874.\n"
     ]
    }
   ],
   "source": [
    "p_init, pairs, inserts = load_insertions(\"day14_data.txt\")\n",
    "poly_ins(p_init, pairs, inserts, 10)"
   ]
  },
  {
   "cell_type": "markdown",
   "id": "f9835ff0",
   "metadata": {},
   "source": [
    "## Part 2"
   ]
  },
  {
   "cell_type": "markdown",
   "id": "3671df97",
   "metadata": {},
   "source": [
    "The resulting polymer isn't nearly strong enough to reinforce the submarine. You'll need to run more steps of the pair insertion process; a total of 40 steps should do it.\n",
    "\n",
    "In the above example, the most common element is ```B``` (occurring ```2192039569602``` times) and the least common element is ```H``` (occurring ```3849876073``` times); subtracting these produces ```2188189693529```.\n",
    "\n",
    "Apply 40 steps of pair insertion to the polymer template and find the most and least common elements in the result. What do you get if you take the quantity of the most common element and subtract the quantity of the least common element?"
   ]
  },
  {
   "cell_type": "code",
   "execution_count": 6,
   "id": "6dddd3e3",
   "metadata": {},
   "outputs": [
    {
     "name": "stdout",
     "output_type": "stream",
     "text": [
      "Polymer has an initial length of 4: NNCB\n",
      "\n",
      "Step 1: Polymer has a length of 7\n",
      "Step 2: Polymer has a length of 13\n",
      "Step 3: Polymer has a length of 25\n",
      "Step 4: Polymer has a length of 49\n",
      "Step 5: Polymer has a length of 97\n",
      "Step 6: Polymer has a length of 193\n",
      "Step 7: Polymer has a length of 385\n",
      "Step 8: Polymer has a length of 769\n",
      "Step 9: Polymer has a length of 1537\n",
      "Step 10: Polymer has a length of 3073\n",
      "Step 11: Polymer has a length of 6145\n",
      "Step 12: Polymer has a length of 12289\n",
      "Step 13: Polymer has a length of 24577\n",
      "Step 14: Polymer has a length of 49153\n",
      "Step 15: Polymer has a length of 98305\n",
      "Step 16: Polymer has a length of 196609\n",
      "Step 17: Polymer has a length of 393217\n",
      "Step 18: Polymer has a length of 786433\n",
      "Step 19: Polymer has a length of 1572865\n",
      "Step 20: Polymer has a length of 3145729\n",
      "Step 21: Polymer has a length of 6291457\n",
      "Step 22: Polymer has a length of 12582913\n",
      "Step 23: Polymer has a length of 25165825\n",
      "Step 24: Polymer has a length of 50331649\n",
      "Step 25: Polymer has a length of 100663297\n",
      "Step 26: Polymer has a length of 201326593\n",
      "Step 27: Polymer has a length of 402653185\n",
      "Step 28: Polymer has a length of 805306369\n",
      "Step 29: Polymer has a length of 1610612737\n",
      "Step 30: Polymer has a length of 3221225473\n",
      "Step 31: Polymer has a length of 6442450945\n",
      "Step 32: Polymer has a length of 12884901889\n",
      "Step 33: Polymer has a length of 25769803777\n",
      "Step 34: Polymer has a length of 51539607553\n",
      "Step 35: Polymer has a length of 103079215105\n",
      "Step 36: Polymer has a length of 206158430209\n",
      "Step 37: Polymer has a length of 412316860417\n",
      "Step 38: Polymer has a length of 824633720833\n",
      "Step 39: Polymer has a length of 1649267441665\n",
      "Step 40: Polymer has a length of 3298534883329\n",
      "\n",
      "Most common element is B with 2192039569602 entries.\n",
      "The least common element is H with 3849876073 entries.\n",
      "The solution is: 2192039569602 - 3849876073 = 2188189693529.\n"
     ]
    }
   ],
   "source": [
    "p_init, pairs, inserts = load_insertions(\"day14_data_test.txt\")\n",
    "poly_ins(p_init, pairs, inserts, 40)"
   ]
  },
  {
   "cell_type": "code",
   "execution_count": 7,
   "id": "730ebfa0",
   "metadata": {},
   "outputs": [
    {
     "name": "stdout",
     "output_type": "stream",
     "text": [
      "Polymer has an initial length of 20: PHOSBSKBBBFSPPPCCCHN\n",
      "\n",
      "Step 1: Polymer has a length of 39\n",
      "Step 2: Polymer has a length of 77\n",
      "Step 3: Polymer has a length of 153\n",
      "Step 4: Polymer has a length of 305\n",
      "Step 5: Polymer has a length of 609\n",
      "Step 6: Polymer has a length of 1217\n",
      "Step 7: Polymer has a length of 2433\n",
      "Step 8: Polymer has a length of 4865\n",
      "Step 9: Polymer has a length of 9729\n",
      "Step 10: Polymer has a length of 19457\n",
      "Step 11: Polymer has a length of 38913\n",
      "Step 12: Polymer has a length of 77825\n",
      "Step 13: Polymer has a length of 155649\n",
      "Step 14: Polymer has a length of 311297\n",
      "Step 15: Polymer has a length of 622593\n",
      "Step 16: Polymer has a length of 1245185\n",
      "Step 17: Polymer has a length of 2490369\n",
      "Step 18: Polymer has a length of 4980737\n",
      "Step 19: Polymer has a length of 9961473\n",
      "Step 20: Polymer has a length of 19922945\n",
      "Step 21: Polymer has a length of 39845889\n",
      "Step 22: Polymer has a length of 79691777\n",
      "Step 23: Polymer has a length of 159383553\n",
      "Step 24: Polymer has a length of 318767105\n",
      "Step 25: Polymer has a length of 637534209\n",
      "Step 26: Polymer has a length of 1275068417\n",
      "Step 27: Polymer has a length of 2550136833\n",
      "Step 28: Polymer has a length of 5100273665\n",
      "Step 29: Polymer has a length of 10200547329\n",
      "Step 30: Polymer has a length of 20401094657\n",
      "Step 31: Polymer has a length of 40802189313\n",
      "Step 32: Polymer has a length of 81604378625\n",
      "Step 33: Polymer has a length of 163208757249\n",
      "Step 34: Polymer has a length of 326417514497\n",
      "Step 35: Polymer has a length of 652835028993\n",
      "Step 36: Polymer has a length of 1305670057985\n",
      "Step 37: Polymer has a length of 2611340115969\n",
      "Step 38: Polymer has a length of 5222680231937\n",
      "Step 39: Polymer has a length of 10445360463873\n",
      "Step 40: Polymer has a length of 20890720927745\n",
      "\n",
      "Most common element is N with 5746537815098 entries.\n",
      "The least common element is B with 538160787903 entries.\n",
      "The solution is: 5746537815098 - 538160787903 = 5208377027195.\n"
     ]
    }
   ],
   "source": [
    "p_init, pairs, inserts = load_insertions(\"day14_data.txt\")\n",
    "poly_ins(p_init, pairs, inserts, 40)"
   ]
  }
 ],
 "metadata": {
  "kernelspec": {
   "display_name": "Python 3 (ipykernel)",
   "language": "python",
   "name": "python3"
  },
  "language_info": {
   "codemirror_mode": {
    "name": "ipython",
    "version": 3
   },
   "file_extension": ".py",
   "mimetype": "text/x-python",
   "name": "python",
   "nbconvert_exporter": "python",
   "pygments_lexer": "ipython3",
   "version": "3.8.8"
  },
  "varInspector": {
   "cols": {
    "lenName": 16,
    "lenType": 16,
    "lenVar": 40
   },
   "kernels_config": {
    "python": {
     "delete_cmd_postfix": "",
     "delete_cmd_prefix": "del ",
     "library": "var_list.py",
     "varRefreshCmd": "print(var_dic_list())"
    },
    "r": {
     "delete_cmd_postfix": ") ",
     "delete_cmd_prefix": "rm(",
     "library": "var_list.r",
     "varRefreshCmd": "cat(var_dic_list()) "
    }
   },
   "position": {
    "height": "494.85px",
    "left": "1166px",
    "right": "20px",
    "top": "120px",
    "width": "350px"
   },
   "types_to_exclude": [
    "module",
    "function",
    "builtin_function_or_method",
    "instance",
    "_Feature"
   ],
   "window_display": false
  }
 },
 "nbformat": 4,
 "nbformat_minor": 5
}
