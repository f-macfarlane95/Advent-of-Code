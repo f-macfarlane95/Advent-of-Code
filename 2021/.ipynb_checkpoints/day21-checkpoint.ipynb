{
 "cells": [
  {
   "cell_type": "markdown",
   "id": "56a10854",
   "metadata": {},
   "source": [
    "# Day 21: Dirac Dice"
   ]
  },
  {
   "cell_type": "markdown",
   "id": "a92cb6cd",
   "metadata": {},
   "source": [
    "## Part 1"
   ]
  },
  {
   "cell_type": "markdown",
   "id": "e48fa9a2",
   "metadata": {},
   "source": [
    "There's not much to do as you slowly descend to the bottom of the ocean. The submarine computer challenges you to a nice game of Dirac Dice.\n",
    "\n",
    "This game consists of a single die, two pawns, and a game board with a circular track containing ten spaces marked ```1``` through ```10``` clockwise. Each player's **starting space** is chosen randomly (your puzzle input). Player 1 goes first.\n",
    "\n",
    "Players take turns moving. On each player's turn, the player rolls the die **three times** and adds up the results. Then, the player moves their pawn that many times **forward** around the track (that is, moving clockwise on spaces in order of increasing value, wrapping back around to ```1``` after ```10```). So, if a player is on space ```7``` and they roll ```2```, ```2```, and ```1```, they would move forward ```5``` times, to spaces ```8```, ```9```, ```10```, ```1```, and finally stopping on ```2```.\n",
    "\n",
    "After each player moves, they increase their **score** by the value of the space their pawn stopped on. Players' scores start at ```0```. So, if the first player starts on space ```7``` and rolls a total of ```5```, they would stop on space ```2``` and add ```2``` to their score (for a total score of ```2```). The game immediately ends as a win for any player whose score reaches **at least ```1000```**.\n",
    "\n",
    "Since the first game is a practice game, the submarine opens a compartment labeled **deterministic** dice and a 100-sided die falls out. This die always rolls ```1``` first, then ```2```, then ```3```, and so on up to ```100```, after which it starts over at ```1``` again. Play using this die.\n",
    "\n",
    "For example, given these starting positions:\n",
    "\n",
    "```\n",
    "Player 1 starting position: 4\n",
    "Player 2 starting position: 8\n",
    "```\n",
    "\n",
    "This is how the game would go:\n",
    "\n",
    "- Player 1 rolls ```1```+```2```+```3``` and moves to space ```10``` for a total score of ```10```.\n",
    "- Player 2 rolls ```4```+```5```+```6``` and moves to space ```3``` for a total score of ```3```.\n",
    "- Player 1 rolls ```7```+```8```+```9``` and moves to space ```4``` for a total score of ```14```.\n",
    "- Player 2 rolls ```10```+```1```1+```12``` and moves to space ```6``` for a total score of ```9```.\n",
    "- Player 1 rolls ```13```+```14```+```15``` and moves to space ```6``` for a total score of ```20```.\n",
    "- Player 2 rolls ```16```+```17```+```18``` and moves to space ```7``` for a total score of ```16```.\n",
    "- Player 1 rolls ```19```+```20```+```21``` and moves to space ```6``` for a total score of ```26```.\n",
    "- Player 2 rolls ```22```+```23```+```24``` and moves to space ```6``` for a total score of ```22```.\n",
    "\n",
    "...after many turns...\n",
    "\n",
    "- Player 2 rolls ```82```+```83```+```84``` and moves to space ```6``` for a total score of ```742```.\n",
    "- Player 1 rolls ```85```+```86```+```87``` and moves to space ```4``` for a total score of ```990```.\n",
    "- Player 2 rolls ```88```+```89```+```90``` and moves to space ```3``` for a total score of ```745```.\n",
    "- Player 1 rolls ```91```+```92```+```93``` and moves to space ```10``` for a final score, ```1000```.\n",
    "\n",
    "Since player 1 has at least ```1000``` points, player 1 wins and the game ends. At this point, the losing player had ```745``` points and the die had been rolled a total of ```993``` times; ```745 * 993 = 739785```.\n",
    "\n",
    "Play a practice game using the deterministic 100-sided die. The moment either player wins, **what do you get if you multiply the score of the losing player by the number of times the die was rolled during the game?**"
   ]
  },
  {
   "cell_type": "code",
   "execution_count": 1,
   "id": "297fefcc",
   "metadata": {
    "ExecuteTime": {
     "end_time": "2021-12-21T07:46:10.175813Z",
     "start_time": "2021-12-21T07:46:10.147604Z"
    }
   },
   "outputs": [],
   "source": [
    "import itertools"
   ]
  },
  {
   "cell_type": "code",
   "execution_count": 2,
   "id": "521891b0",
   "metadata": {
    "ExecuteTime": {
     "end_time": "2021-12-21T07:46:10.191610Z",
     "start_time": "2021-12-21T07:46:10.179607Z"
    }
   },
   "outputs": [],
   "source": [
    "def die():\n",
    "    face = (next(counter) % 100) + 1\n",
    "    return face\n",
    "\n",
    "def roll():\n",
    "    total = die() + die() + die()\n",
    "    return total\n",
    "\n",
    "def mod10(x):\n",
    "    modx = ((x - 1) % 10) + 1\n",
    "    return modx\n",
    "\n",
    "def play_practice(p1_start, p2_start):\n",
    "    \n",
    "\n",
    "    pos = [p1_start, p2_start]\n",
    "    score = [0, 0]\n",
    "    turn = 0\n",
    "    \n",
    "    while True:\n",
    "        \n",
    "        player_ind = turn%2\n",
    "        turn+=1\n",
    "        pos[player_ind] = mod10(pos[player_ind] + roll())\n",
    "        score[player_ind] += pos[player_ind]\n",
    "        if score[player_ind] >= 1000:\n",
    "            final_turn = next(counter)\n",
    "            print(\"Player \"+str(player_ind+1)+\" won in \"+str(final_turn)+\" rolls with a score of \"+str(score[player_ind])+\". The losing score is \"+str(min(score) * final_turn))\n",
    "            break\n",
    "    \n",
    "            "
   ]
  },
  {
   "cell_type": "code",
   "execution_count": 3,
   "id": "fe58e4dc",
   "metadata": {
    "ExecuteTime": {
     "end_time": "2021-12-21T07:46:10.535170Z",
     "start_time": "2021-12-21T07:46:10.195608Z"
    }
   },
   "outputs": [
    {
     "ename": "NameError",
     "evalue": "name 'dieroll' is not defined",
     "output_type": "error",
     "traceback": [
      "\u001b[1;31m---------------------------------------------------------------------------\u001b[0m",
      "\u001b[1;31mNameError\u001b[0m                                 Traceback (most recent call last)",
      "\u001b[1;32m~\\AppData\\Local\\Temp/ipykernel_4996/1906271444.py\u001b[0m in \u001b[0;36m<module>\u001b[1;34m\u001b[0m\n\u001b[0;32m      2\u001b[0m \u001b[0mp1\u001b[0m \u001b[1;33m=\u001b[0m \u001b[1;36m4\u001b[0m\u001b[1;33m\u001b[0m\u001b[1;33m\u001b[0m\u001b[0m\n\u001b[0;32m      3\u001b[0m \u001b[0mp2\u001b[0m \u001b[1;33m=\u001b[0m \u001b[1;36m8\u001b[0m\u001b[1;33m\u001b[0m\u001b[1;33m\u001b[0m\u001b[0m\n\u001b[1;32m----> 4\u001b[1;33m \u001b[0mplay_practice\u001b[0m\u001b[1;33m(\u001b[0m\u001b[0mp1\u001b[0m\u001b[1;33m,\u001b[0m \u001b[0mp2\u001b[0m\u001b[1;33m)\u001b[0m\u001b[1;33m\u001b[0m\u001b[1;33m\u001b[0m\u001b[0m\n\u001b[0m",
      "\u001b[1;32m~\\AppData\\Local\\Temp/ipykernel_4996/214604817.py\u001b[0m in \u001b[0;36mplay_practice\u001b[1;34m(p1_start, p2_start)\u001b[0m\n\u001b[0;32m     22\u001b[0m         \u001b[0mplayer_ind\u001b[0m \u001b[1;33m=\u001b[0m \u001b[0mturn\u001b[0m\u001b[1;33m%\u001b[0m\u001b[1;36m2\u001b[0m\u001b[1;33m\u001b[0m\u001b[1;33m\u001b[0m\u001b[0m\n\u001b[0;32m     23\u001b[0m         \u001b[0mturn\u001b[0m\u001b[1;33m+=\u001b[0m\u001b[1;36m1\u001b[0m\u001b[1;33m\u001b[0m\u001b[1;33m\u001b[0m\u001b[0m\n\u001b[1;32m---> 24\u001b[1;33m         \u001b[0mpos\u001b[0m\u001b[1;33m[\u001b[0m\u001b[0mplayer_ind\u001b[0m\u001b[1;33m]\u001b[0m \u001b[1;33m=\u001b[0m \u001b[0mmod10\u001b[0m\u001b[1;33m(\u001b[0m\u001b[0mpos\u001b[0m\u001b[1;33m[\u001b[0m\u001b[0mplayer_ind\u001b[0m\u001b[1;33m]\u001b[0m \u001b[1;33m+\u001b[0m \u001b[0mdieroll\u001b[0m\u001b[1;33m(\u001b[0m\u001b[1;33m)\u001b[0m\u001b[1;33m)\u001b[0m\u001b[1;33m\u001b[0m\u001b[1;33m\u001b[0m\u001b[0m\n\u001b[0m\u001b[0;32m     25\u001b[0m         \u001b[0mscore\u001b[0m\u001b[1;33m[\u001b[0m\u001b[0mplayer_ind\u001b[0m\u001b[1;33m]\u001b[0m \u001b[1;33m+=\u001b[0m \u001b[0mpos\u001b[0m\u001b[1;33m[\u001b[0m\u001b[0mplayer_ind\u001b[0m\u001b[1;33m]\u001b[0m\u001b[1;33m\u001b[0m\u001b[1;33m\u001b[0m\u001b[0m\n\u001b[0;32m     26\u001b[0m         \u001b[1;32mif\u001b[0m \u001b[0mscore\u001b[0m\u001b[1;33m[\u001b[0m\u001b[0mplayer_ind\u001b[0m\u001b[1;33m]\u001b[0m \u001b[1;33m>=\u001b[0m \u001b[1;36m1000\u001b[0m\u001b[1;33m:\u001b[0m\u001b[1;33m\u001b[0m\u001b[1;33m\u001b[0m\u001b[0m\n",
      "\u001b[1;31mNameError\u001b[0m: name 'dieroll' is not defined"
     ]
    }
   ],
   "source": [
    "counter = itertools.count()\n",
    "p1 = 4\n",
    "p2 = 8\n",
    "play_practice(p1, p2)"
   ]
  },
  {
   "cell_type": "code",
   "execution_count": null,
   "id": "cdca8c65",
   "metadata": {
    "ExecuteTime": {
     "end_time": "2021-12-21T07:46:10.539898Z",
     "start_time": "2021-12-21T07:46:10.539898Z"
    }
   },
   "outputs": [],
   "source": [
    "counter = itertools.count()\n",
    "p1 = 8\n",
    "p2 = 6\n",
    "play_practice(p1, p2)"
   ]
  },
  {
   "cell_type": "markdown",
   "id": "9b9417fe",
   "metadata": {},
   "source": [
    "## Part 2"
   ]
  },
  {
   "cell_type": "markdown",
   "id": "9eee8667",
   "metadata": {},
   "source": [
    "Now that you're warmed up, it's time to play the real game.\n",
    "\n",
    "A second compartment opens, this time labeled **Dirac dice**. Out of it falls a single three-sided die.\n",
    "\n",
    "As you experiment with the die, you feel a little strange. An informational brochure in the compartment explains that this is a **quantum die**: when you roll it, the universe **splits into multiple copies**, one copy for each possible outcome of the die. In this case, rolling the die always splits the universe into **three copies**: one where the outcome of the roll was ```1```, one where it was ```2```, and one where it was ```3```.\n",
    "\n",
    "The game is played the same as before, although to prevent things from getting too far out of hand, the game now ends when either player's score reaches at least **```21```**.\n",
    "\n",
    "Using the same starting positions as in the example above, player 1 wins in **```444356092776315```** universes, while player 2 merely wins in ```341960390180808``` universes.\n",
    "\n",
    "Using your given starting positions, determine every possible outcome. **Find the player that wins in more universes; in how many universes does that player win?**"
   ]
  },
  {
   "cell_type": "code",
   "execution_count": null,
   "id": "a02693b7",
   "metadata": {
    "ExecuteTime": {
     "end_time": "2021-12-21T07:46:10.541878Z",
     "start_time": "2021-12-21T07:46:10.541878Z"
    }
   },
   "outputs": [],
   "source": [
    "def update_universe(current_entry, turn, next_entry):\n",
    "    return ([next_entry, current_entry[0]][turn], [current_entry[1], next_entry][turn])\n",
    "\n",
    "\n",
    "def play_dirac_dice(p1_start, p2_start):\n",
    "    roll_possibilities = {3: 1, 4: 3, 5: 6, 6: 7, 7: 6, 8: 3, 9: 1}\n",
    "\n",
    "    total_wins = [0, 0]\n",
    "\n",
    "    score = (0, 0)\n",
    "    positions = (p1_start, p2_start)\n",
    "    turn = 0\n",
    "\n",
    "    num_universes = 1\n",
    "\n",
    "    universes = {(score, positions, turn): num_universes}\n",
    "    \n",
    "    while universes:\n",
    "        for (score, pos, turn), old_count in sorted(universes.items()):\n",
    "            del universes[(score, pos, turn)]\n",
    "            for move, count in roll_possibilities.items():\n",
    "                updated_pos = mod10(pos[turn] + move)\n",
    "                updated_score = score[turn] + updated_pos\n",
    "                updated_count = old_count * count\n",
    "                if updated_score >= 21:\n",
    "                    total_wins[turn] += updated_count\n",
    "                    continue\n",
    "                new_pos = update_universe(pos, turn, updated_pos)\n",
    "                new_score = update_universe(score, turn, updated_score)\n",
    "                new_key = (new_score, new_pos, (turn+1)%2)\n",
    "                universes[new_key] = universes.get(new_key, 0) + updated_count\n",
    "    \n",
    "\n",
    "    win_score = max(total_wins) \n",
    "    win_index = total_wins.index(win_score) \n",
    "\n",
    "    loss_score = min(total_wins) \n",
    "    loss_index = total_wins.index(loss_score) \n",
    "    \n",
    "    print(\"Player \"+str(win_index+1)+\" won with a total of \"+str(win_score)+\" universes. Player \"+str(loss_index+1)+\" only won \"+str(loss_score)+\".\")"
   ]
  },
  {
   "cell_type": "code",
   "execution_count": null,
   "id": "9d9ccd6b",
   "metadata": {
    "ExecuteTime": {
     "end_time": "2021-12-21T07:46:10.543912Z",
     "start_time": "2021-12-21T07:46:10.543912Z"
    }
   },
   "outputs": [],
   "source": [
    "p1 = 4\n",
    "p2 = 8\n",
    "play_dirac_dice(p1, p2)"
   ]
  },
  {
   "cell_type": "code",
   "execution_count": null,
   "id": "497dbaeb",
   "metadata": {
    "ExecuteTime": {
     "end_time": "2021-12-21T07:46:10.546881Z",
     "start_time": "2021-12-21T07:46:10.546881Z"
    }
   },
   "outputs": [],
   "source": [
    "p1 = 8\n",
    "p2 = 6\n",
    "play_dirac_dice(p1, p2)"
   ]
  }
 ],
 "metadata": {
  "kernelspec": {
   "display_name": "Python 3 (ipykernel)",
   "language": "python",
   "name": "python3"
  },
  "language_info": {
   "codemirror_mode": {
    "name": "ipython",
    "version": 3
   },
   "file_extension": ".py",
   "mimetype": "text/x-python",
   "name": "python",
   "nbconvert_exporter": "python",
   "pygments_lexer": "ipython3",
   "version": "3.9.7"
  },
  "toc": {
   "base_numbering": 1,
   "nav_menu": {},
   "number_sections": true,
   "sideBar": true,
   "skip_h1_title": false,
   "title_cell": "Table of Contents",
   "title_sidebar": "Contents",
   "toc_cell": false,
   "toc_position": {},
   "toc_section_display": true,
   "toc_window_display": false
  },
  "varInspector": {
   "cols": {
    "lenName": 16,
    "lenType": 16,
    "lenVar": 40
   },
   "kernels_config": {
    "python": {
     "delete_cmd_postfix": "",
     "delete_cmd_prefix": "del ",
     "library": "var_list.py",
     "varRefreshCmd": "print(var_dic_list())"
    },
    "r": {
     "delete_cmd_postfix": ") ",
     "delete_cmd_prefix": "rm(",
     "library": "var_list.r",
     "varRefreshCmd": "cat(var_dic_list()) "
    }
   },
   "position": {
    "height": "765.851px",
    "left": "1778.33px",
    "right": "20px",
    "top": "138px",
    "width": "350px"
   },
   "types_to_exclude": [
    "module",
    "function",
    "builtin_function_or_method",
    "instance",
    "_Feature"
   ],
   "window_display": true
  }
 },
 "nbformat": 4,
 "nbformat_minor": 5
}
