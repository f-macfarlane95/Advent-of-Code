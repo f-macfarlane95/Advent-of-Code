{
 "cells": [
  {
   "cell_type": "markdown",
   "id": "690fce4a",
   "metadata": {},
   "source": [
    "# Day 6: Lanternfish"
   ]
  },
  {
   "cell_type": "markdown",
   "id": "905385f8",
   "metadata": {},
   "source": [
    "## Part 1"
   ]
  },
  {
   "cell_type": "markdown",
   "id": "80fa19d1",
   "metadata": {},
   "source": [
    "The sea floor is getting steeper. Maybe the sleigh keys got carried this way?\n",
    "\n",
    "A massive school of glowing lanternfish swims past. They must spawn quickly to reach such large numbers - maybe exponentially quickly? You should model their growth rate to be sure.\n",
    "\n",
    "Although you know nothing about this specific species of lanternfish, you make some guesses about their attributes. Surely, each lanternfish creates a new lanternfish once every 7 days.\n",
    "\n",
    "However, this process isn't necessarily synchronized between every lanternfish - one lanternfish might have 2 days left until it creates another lanternfish, while another might have 4. So, you can model each fish as a single number that represents the number of days until it creates a new lanternfish.\n",
    "\n",
    "Furthermore, you reason, a new lanternfish would surely need slightly longer before it's capable of producing more lanternfish: two more days for its first cycle.\n",
    "\n",
    "So, suppose you have a lanternfish with an internal timer value of 3:\n",
    "\n",
    "After one day, its internal timer would become 2.\n",
    "After another day, its internal timer would become 1.\n",
    "After another day, its internal timer would become 0.\n",
    "After another day, its internal timer would reset to 6, and it would create a new lanternfish with an internal timer of 8.\n",
    "After another day, the first lanternfish would have an internal timer of 5, and the second lanternfish would have an internal timer of 7.\n",
    "A lanternfish that creates a new fish resets its timer to 6, not 7 (because 0 is included as a valid timer value). The new lanternfish starts with an internal timer of 8 and does not start counting down until the next day.\n",
    "\n",
    "Realizing what you're trying to do, the submarine automatically produces a list of the ages of several hundred nearby lanternfish (your puzzle input). For example, suppose you were given the following list:\n",
    "```\n",
    "3,4,3,1,2\n",
    "```\n",
    "This list means that the first fish has an internal timer of 3, the second fish has an internal timer of 4, and so on until the fifth fish, which has an internal timer of 2. Simulating these fish over several days would proceed as follows:\n",
    "```\n",
    "Initial state: 3,4,3,1,2\n",
    "After  1 day:  2,3,2,0,1\n",
    "After  2 days: 1,2,1,6,0,8\n",
    "After  3 days: 0,1,0,5,6,7,8\n",
    "After  4 days: 6,0,6,4,5,6,7,8,8\n",
    "After  5 days: 5,6,5,3,4,5,6,7,7,8\n",
    "After  6 days: 4,5,4,2,3,4,5,6,6,7\n",
    "After  7 days: 3,4,3,1,2,3,4,5,5,6\n",
    "After  8 days: 2,3,2,0,1,2,3,4,4,5\n",
    "After  9 days: 1,2,1,6,0,1,2,3,3,4,8\n",
    "After 10 days: 0,1,0,5,6,0,1,2,2,3,7,8\n",
    "After 11 days: 6,0,6,4,5,6,0,1,1,2,6,7,8,8,8\n",
    "After 12 days: 5,6,5,3,4,5,6,0,0,1,5,6,7,7,7,8,8\n",
    "After 13 days: 4,5,4,2,3,4,5,6,6,0,4,5,6,6,6,7,7,8,8\n",
    "After 14 days: 3,4,3,1,2,3,4,5,5,6,3,4,5,5,5,6,6,7,7,8\n",
    "After 15 days: 2,3,2,0,1,2,3,4,4,5,2,3,4,4,4,5,5,6,6,7\n",
    "After 16 days: 1,2,1,6,0,1,2,3,3,4,1,2,3,3,3,4,4,5,5,6,8\n",
    "After 17 days: 0,1,0,5,6,0,1,2,2,3,0,1,2,2,2,3,3,4,4,5,7,8\n",
    "After 18 days: 6,0,6,4,5,6,0,1,1,2,6,0,1,1,1,2,2,3,3,4,6,7,8,8,8,8\n",
    "```\n",
    "Each day, a 0 becomes a 6 and adds a new 8 to the end of the list, while each other number decreases by 1 if it was present at the start of the day.\n",
    "\n",
    "In this example, after 18 days, there are a total of 26 fish. After 80 days, there would be a total of 5934.\n",
    "\n",
    "Find a way to simulate lanternfish. How many lanternfish would there be after 80 days?"
   ]
  },
  {
   "cell_type": "code",
   "execution_count": 1,
   "id": "51525e71",
   "metadata": {},
   "outputs": [],
   "source": [
    "import numpy as np\n",
    "import re\n",
    "\n",
    "from matplotlib import pyplot as plt\n",
    "plt.rcParams['figure.figsize'] = [10, 5]"
   ]
  },
  {
   "cell_type": "code",
   "execution_count": 2,
   "id": "a769ac0c",
   "metadata": {},
   "outputs": [],
   "source": [
    "def load_input(path):\n",
    "    file = open(path, \"r\")\n",
    "    lines = file.readlines()\n",
    "    lines = [re.split(r'\\D+',l) for l in lines]\n",
    "    lines = list(map(int, lines[0]))\n",
    "    return lines"
   ]
  },
  {
   "cell_type": "code",
   "execution_count": 3,
   "id": "8fa18eed",
   "metadata": {},
   "outputs": [],
   "source": [
    "def make_school(fish):\n",
    "    school = {f:fish.count(f) for f in fish}\n",
    "    for i in range(9):\n",
    "        if i in school.keys():\n",
    "            continue\n",
    "        else:\n",
    "            school[i] = 0\n",
    "    #print(school)\n",
    "    \n",
    "    return school"
   ]
  },
  {
   "cell_type": "code",
   "execution_count": 4,
   "id": "41c8cbc6",
   "metadata": {},
   "outputs": [],
   "source": [
    "def school_iter(school):\n",
    "    # create a new empty dictionary for the updated school\n",
    "    school_updated = {}\n",
    "    \n",
    "    for i in range(1, 9):\n",
    "        \n",
    "        # update each nth dictionary element in the new school to be equal to that of the n+1 of the old one\n",
    "        school_updated[i - 1] = school[i]\n",
    "        \n",
    "    # set any fish that reaches 0 in the old school to 6 in the new school\n",
    "    school_updated[6] += school[0]\n",
    "        \n",
    "    # add a new fish with age 8 for every 0 fish in the old school\n",
    "    school_updated[8] = school[0]\n",
    "        \n",
    "    return school_updated      "
   ]
  },
  {
   "cell_type": "code",
   "execution_count": 5,
   "id": "87058c64",
   "metadata": {},
   "outputs": [],
   "source": [
    "def count_fish(school):\n",
    "    return sum(school.values())"
   ]
  },
  {
   "cell_type": "code",
   "execution_count": 6,
   "id": "b3d3cfd4",
   "metadata": {},
   "outputs": [
    {
     "name": "stdout",
     "output_type": "stream",
     "text": [
      "There will be  26 fish after  18  days\n"
     ]
    },
    {
     "data": {
      "image/png": "[encoded data removed]",
      "text/plain": [
       "<Figure size 720x360 with 1 Axes>"
      ]
     },
     "metadata": {
      "needs_background": "light"
     },
     "output_type": "display_data"
    },
    {
     "data": {
      "image/png": "[encoded data removed]",
      "text/plain": [
       "<Figure size 720x360 with 1 Axes>"
      ]
     },
     "metadata": {
      "needs_background": "light"
     },
     "output_type": "display_data"
    }
   ],
   "source": [
    "fish = load_input(\"day06_data_test.txt\")\n",
    "school = make_school(fish)\n",
    "\n",
    "days = 18\n",
    "\n",
    "count = np.zeros([days,1])\n",
    "for d in range(days):\n",
    "    school = school_iter(school)\n",
    "    count[d] = count_fish(school)\n",
    "\n",
    "print(\"There will be \",count_fish(school),\"fish after \",days,\" days\")\n",
    "\n",
    "plt.plot(range(days),count)\n",
    "plt.xlabel(\"Days\")\n",
    "plt.ylabel(\"No. of Fish\")\n",
    "plt.show()\n",
    "\n",
    "plt.bar(school.keys(), school.values())\n",
    "plt.xlabel(\"Age (Days)\")\n",
    "plt.ylabel(\"No. of Fish\")\n",
    "plt.show()"
   ]
  },
  {
   "cell_type": "code",
   "execution_count": 7,
   "id": "8f60d97d",
   "metadata": {},
   "outputs": [
    {
     "name": "stdout",
     "output_type": "stream",
     "text": [
      "There will be  5934 fish after  80  days\n"
     ]
    }
   ],
   "source": [
    "fish = load_input(\"day06_data_test.txt\")\n",
    "school = make_school(fish)\n",
    "\n",
    "days = 80\n",
    "\n",
    "count = np.zeros([days,1])\n",
    "for d in range(days):\n",
    "    school = school_iter(school)\n",
    "    count[d] = count_fish(school)\n",
    "\n",
    "print(\"There will be \",count_fish(school),\"fish after \",days,\" days\")"
   ]
  },
  {
   "cell_type": "code",
   "execution_count": 8,
   "id": "e495f952",
   "metadata": {},
   "outputs": [
    {
     "name": "stdout",
     "output_type": "stream",
     "text": [
      "There will be  365131 fish after  80  days\n"
     ]
    },
    {
     "data": {
      "image/png": "[encoded data removed]",
      "text/plain": [
       "<Figure size 720x360 with 1 Axes>"
      ]
     },
     "metadata": {
      "needs_background": "light"
     },
     "output_type": "display_data"
    },
    {
     "data": {
      "image/png": "[encoded data removed]",
      "text/plain": [
       "<Figure size 720x360 with 1 Axes>"
      ]
     },
     "metadata": {
      "needs_background": "light"
     },
     "output_type": "display_data"
    }
   ],
   "source": [
    "fish = load_input(\"day06_data.txt\")\n",
    "school = make_school(fish)\n",
    "\n",
    "days = 80\n",
    "\n",
    "for d in range(days):\n",
    "    school = school_iter(school)\n",
    "\n",
    "print(\"There will be \",count_fish(school),\"fish after \",days,\" days\")\n",
    "\n",
    "plt.plot(range(days),count)\n",
    "plt.xlabel(\"Days\")\n",
    "plt.ylabel(\"No. of Fish\")\n",
    "plt.show()\n",
    "\n",
    "plt.bar(school.keys(), school.values())\n",
    "plt.xlabel(\"Age (Days)\")\n",
    "plt.ylabel(\"No. of Fish\")\n",
    "plt.show()"
   ]
  },
  {
   "cell_type": "markdown",
   "id": "e9f043b0",
   "metadata": {},
   "source": [
    "## Part 2"
   ]
  },
  {
   "cell_type": "markdown",
   "id": "f6037f8b",
   "metadata": {},
   "source": [
    "Suppose the lanternfish live forever and have unlimited food and space. Would they take over the entire ocean?\n",
    "\n",
    "After 256 days in the example above, there would be a total of 26984457539 lanternfish!\n",
    "\n",
    "How many lanternfish would there be after 256 days?"
   ]
  },
  {
   "cell_type": "code",
   "execution_count": 9,
   "id": "eebf4a6a",
   "metadata": {},
   "outputs": [
    {
     "name": "stdout",
     "output_type": "stream",
     "text": [
      "There will be  1650309278600 fish after  256  days\n"
     ]
    },
    {
     "data": {
      "image/png": "[encoded data removed]",
      "text/plain": [
       "<Figure size 720x360 with 1 Axes>"
      ]
     },
     "metadata": {
      "needs_background": "light"
     },
     "output_type": "display_data"
    },
    {
     "data": {
      "image/png": "[encoded data removed]",
      "text/plain": [
       "<Figure size 720x360 with 1 Axes>"
      ]
     },
     "metadata": {
      "needs_background": "light"
     },
     "output_type": "display_data"
    }
   ],
   "source": [
    "fish = load_input(\"day06_data.txt\")\n",
    "school = make_school(fish)\n",
    "\n",
    "days = 256\n",
    "count = np.zeros([days,1])\n",
    "for d in range(days):\n",
    "    school = school_iter(school)\n",
    "    count[d] = count_fish(school)\n",
    "    \n",
    "print(\"There will be \",count_fish(school),\"fish after \",days,\" days\")\n",
    "\n",
    "plt.plot(range(days),count)\n",
    "plt.xlabel(\"Days\")\n",
    "plt.ylabel(\"No. of Fish\")\n",
    "plt.show()\n",
    "\n",
    "plt.bar(school.keys(), school.values())\n",
    "plt.xlabel(\"Age (Days)\")\n",
    "plt.ylabel(\"No. of Fish\")\n",
    "plt.show()"
   ]
  }
 ],
 "metadata": {
  "kernelspec": {
   "display_name": "Python 3 (ipykernel)",
   "language": "python",
   "name": "python3"
  },
  "language_info": {
   "codemirror_mode": {
    "name": "ipython",
    "version": 3
   },
   "file_extension": ".py",
   "mimetype": "text/x-python",
   "name": "python",
   "nbconvert_exporter": "python",
   "pygments_lexer": "ipython3",
   "version": "3.8.8"
  },
  "varInspector": {
   "cols": {
    "lenName": 16,
    "lenType": 16,
    "lenVar": 40
   },
   "kernels_config": {
    "python": {
     "delete_cmd_postfix": "",
     "delete_cmd_prefix": "del ",
     "library": "var_list.py",
     "varRefreshCmd": "print(var_dic_list())"
    },
    "r": {
     "delete_cmd_postfix": ") ",
     "delete_cmd_prefix": "rm(",
     "library": "var_list.r",
     "varRefreshCmd": "cat(var_dic_list()) "
    }
   },
   "position": {
    "height": "145.087px",
    "left": "1678.33px",
    "right": "20px",
    "top": "120px",
    "width": "350px"
   },
   "types_to_exclude": [
    "module",
    "function",
    "builtin_function_or_method",
    "instance",
    "_Feature"
   ],
   "window_display": true
  }
 },
 "nbformat": 4,
 "nbformat_minor": 5
}
