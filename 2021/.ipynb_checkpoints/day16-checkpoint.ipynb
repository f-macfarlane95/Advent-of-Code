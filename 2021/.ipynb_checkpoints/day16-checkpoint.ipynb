{
 "cells": [
  {
   "cell_type": "markdown",
   "id": "4c9d3193",
   "metadata": {
    "cell_style": "center"
   },
   "source": [
    "# Day 16: Packet Decoder"
   ]
  },
  {
   "cell_type": "markdown",
   "id": "ba706dbd",
   "metadata": {},
   "source": [
    "## Part 1"
   ]
  },
  {
   "cell_type": "markdown",
   "id": "bda75d4e",
   "metadata": {},
   "source": [
    "As you leave the cave and reach open waters, you receive a transmission from the Elves back on the ship.\n",
    "\n",
    "The transmission was sent using the Buoyancy Interchange Transmission System (BITS), a method of packing numeric expressions into a binary sequence. Your submarine's computer has saved the transmission in hexadecimal (your puzzle input).\n",
    "\n",
    "The first step of decoding the message is to convert the hexadecimal representation into binary. Each character of hexadecimal corresponds to four bits of binary data:\n",
    "```\n",
    "0 = 0000\n",
    "1 = 0001\n",
    "2 = 0010\n",
    "3 = 0011\n",
    "4 = 0100\n",
    "5 = 0101\n",
    "6 = 0110\n",
    "7 = 0111\n",
    "8 = 1000\n",
    "9 = 1001\n",
    "A = 1010\n",
    "B = 1011\n",
    "C = 1100\n",
    "D = 1101\n",
    "E = 1110\n",
    "F = 1111\n",
    "```\n",
    "\n",
    "The BITS transmission contains a single **packet** at its outermost layer which itself contains many other **packets**. The hexadecimal representation of this packet might encode a few extra 0 bits at the end; these are not part of the transmission and should be ignored.\n",
    "\n",
    "Every packet begins with a standard header: the first three bits encode the packet **version**, and the next three bits encode the packet **type ID**. These two values are numbers; all numbers encoded in any packet are represented as binary with the most significant bit first. For example, a version encoded as the binary sequence ```100``` represents the number ```4```.\n",
    "\n",
    "Packets with type ID ```4``` represent a **literal value**. Literal value packets encode a single binary number. To do this, the binary number is padded with leading zeroes until its length is a multiple of four bits, and then it is broken into groups of four bits. Each group is prefixed by a ```1``` bit except the last group, which is prefixed by a ```0``` bit. These groups of five bits immediately follow the packet header. For example, the hexadecimal string ```D2FE28``` becomes:\n",
    "```\n",
    "110100101111111000101000\n",
    "VVVTTTAAAAABBBBBCCCCC\n",
    "```\n",
    "\n",
    "Below each bit is a label indicating its purpose:\n",
    "\n",
    "- The three bits labeled ```V``` (```110```) are the packet version, ```6```.\n",
    "- The three bits labeled ```T``` (```100```) are the packet type ID, ```4```, which means the packet is a literal value.\n",
    "- The five bits labeled ```A``` (```10111```) start with a ```1``` (not the last group, keep reading) and contain the first four bits of the number, ```0111```.\n",
    "- The five bits labeled ```B``` (```11110```) start with a ```1``` (not the last group, keep reading) and contain four more bits of the number, ```1110```.\n",
    "- The five bits labeled ```C``` (```00101```) start with a ```0``` (last group, end of packet) and contain the last four bits of the number, ```0101```.\n",
    "- The three unlabeled ```0``` bits at the end are extra due to the hexadecimal representation and should be ignored.\n",
    "\n",
    "So, this packet represents a literal value with binary representation ```011111100101```, which is ```2021``` in decimal.\n",
    "\n",
    "Every other type of packet (any packet with a type ID other than ```4```) represent an **operator** that performs some calculation on one or more sub-packets contained within. Right now, the specific operations aren't important; focus on parsing the hierarchy of sub-packets.\n",
    "\n",
    "An operator packet contains one or more packets. To indicate which subsequent binary data represents its sub-packets, an operator packet can use one of two modes indicated by the bit immediately after the packet header; this is called the **length type ID**:\n",
    "\n",
    "- If the length type ID is ```0```, then the next ```15``` bits are a number that represents the **total length in bits** of the sub-packets contained by this packet.\n",
    "- If the length type ID is ```1```, then the next ```11``` bits are a number that represents the **number of sub-packets immediately contained** by this packet.\n",
    "\n",
    "For example, here is an operator packet (hexadecimal string 38006F45291200) with length type ID 0 that contains two sub-packets:\n",
    "```\n",
    "00111000000000000110111101000101001010010001001000000000\n",
    "VVVTTTILLLLLLLLLLLLLLLAAAAAAAAAAABBBBBBBBBBBBBBBB\n",
    "```\n",
    "\n",
    "- The three bits labeled ```V``` (```001```) are the packet version, ```1```.\n",
    "- The three bits labeled ```T``` (```110```) are the packet type ID, ```6```, which means the packet is an operator.\n",
    "- The bit labeled ```I``` (```0```) is the length type ID, which indicates that the length is a 15-bit number representing the number of bits in the sub-packets.\n",
    "- The 15 bits labeled ```L``` (```000000000011011```) contain the length of the sub-packets in bits, ```27```.\n",
    "- The 11 bits labeled ```A``` contain the first sub-packet, a literal value representing the number ```10```.\n",
    "- The 16 bits labeled ```B``` contain the second sub-packet, a literal value representing the number ```20```.\n",
    "\n",
    "After reading 11 and 16 bits of sub-packet data, the total length indicated in ```L``` (```27```) is reached, and so parsing of this packet stops.\n",
    "\n",
    "As another example, here is an operator packet (hexadecimal string ```EE00D40C823060```) with length type ID ```1``` that contains three sub-packets:\n",
    "```\n",
    "11101110000000001101010000001100100000100011000001100000\n",
    "VVVTTTILLLLLLLLLLLAAAAAAAAAAABBBBBBBBBBBCCCCCCCCCCC\n",
    "```\n",
    "- The three bits labeled ```V``` (```111```) are the packet version, ```7```.\n",
    "- The three bits labeled ```T``` (```011```) are the packet type ID, ```3```, which means the packet is an operator.\n",
    "- The bit labeled ```I``` (```1```) is the length type ID, which indicates that the length is a 11-bit number representing the number of sub-packets.\n",
    "- The 11 bits labeled ```L``` (```00000000011```) contain the number of sub-packets, ```3```.\n",
    "- The 11 bits labeled ```A``` contain the first sub-packet, a literal value representing the number ```1```.\n",
    "- The 11 bits labeled ```B``` contain the second sub-packet, a literal value representing the number ```2```.\n",
    "- The 11 bits labeled ```C``` contain the third sub-packet, a literal value representing the number ```3```.\n",
    "\n",
    "After reading 3 complete sub-packets, the number of sub-packets indicated in ```L``` (3) is reached, and so parsing of this packet stops.\n",
    "\n",
    "For now, parse the hierarchy of the packets throughout the transmission and add up all of the version numbers.\n",
    "\n",
    "Here are a few more examples of hexadecimal-encoded transmissions:\n",
    "\n",
    "- ```8A004A801A8002F478``` represents an operator packet (version 4) which contains an operator packet (version 1) which contains an operator packet (version 5) which contains a literal value (version 6); this packet has a version sum of **```16```**.\n",
    "- ```620080001611562C8802118E34``` represents an operator packet (version 3) which contains two sub-packets; each sub-packet is an operator packet that contains two literal values. This packet has a version sum of **```12```**.\n",
    "- ```C0015000016115A2E0802F182340``` has the same structure as the previous example, but the outermost packet uses a different length type ID. This packet has a version sum of **```23```**.\n",
    "- ```A0016C880162017C3686B18A3D4780``` is an operator packet that contains an operator packet that contains an operator packet that contains five literal values; it has a version sum of **```31```**.\n",
    "\n",
    "Decode the structure of your hexadecimal-encoded BITS transmission; what do you get if you add up the version numbers in all packets?"
   ]
  },
  {
   "cell_type": "code",
   "execution_count": 1,
   "id": "aa15d033",
   "metadata": {
    "ExecuteTime": {
     "end_time": "2021-12-17T05:59:41.609757Z",
     "start_time": "2021-12-17T05:59:41.408761Z"
    }
   },
   "outputs": [],
   "source": [
    "import numpy as np\n",
    "from math import prod"
   ]
  },
  {
   "cell_type": "code",
   "execution_count": 2,
   "id": "32659ce4",
   "metadata": {
    "ExecuteTime": {
     "end_time": "2021-12-17T05:59:41.625800Z",
     "start_time": "2021-12-17T05:59:41.611761Z"
    },
    "cell_style": "center"
   },
   "outputs": [],
   "source": [
    "def load_hex_string(path):\n",
    "    file = open(path,\"r\")\n",
    "    string = file.readlines()\n",
    "    return string[0]\n",
    "\n",
    "# I long for Python 3.10 and match statements... maybe dictionaries would be better\n",
    "\n",
    "def hex2bin(string):\n",
    "    binary_arr = np.array([],dtype=int)\n",
    "    binary_str = \"\"\n",
    "    for char in string:\n",
    "        if char == '0':\n",
    "            binary_arr = np.hstack((binary_arr, np.array([0,0,0,0])))\n",
    "            binary_str = binary_str+\"0000\"\n",
    "            \n",
    "        elif char == '1':\n",
    "            binary_arr = np.hstack((binary_arr, np.array([0,0,0,1])))\n",
    "            binary_str = binary_str+\"0001\"\n",
    "            \n",
    "        elif char == '2':\n",
    "            binary_arr = np.hstack((binary_arr, np.array([0,0,1,0])))\n",
    "            binary_str = binary_str+\"0010\"\n",
    "            \n",
    "        elif char == '3':\n",
    "            binary_arr = np.hstack((binary_arr, np.array([0,0,1,1])))\n",
    "            binary_str = binary_str+\"0011\"\n",
    "            \n",
    "        elif char == '4':\n",
    "            binary_arr = np.hstack((binary_arr, np.array([0,1,0,0])))\n",
    "            binary_str = binary_str+\"0100\"\n",
    "            \n",
    "        elif char == '5':\n",
    "            binary_arr = np.hstack((binary_arr, np.array([0,1,0,1])))\n",
    "            binary_str = binary_str+\"0101\"\n",
    "            \n",
    "        elif char == '6':\n",
    "            binary_arr = np.hstack((binary_arr, np.array([0,1,1,0])))\n",
    "            binary_str = binary_str+\"0110\"\n",
    "            \n",
    "        elif char == '7':\n",
    "            binary_arr = np.hstack((binary_arr, np.array([0,1,1,1])))\n",
    "            binary_str = binary_str+\"0111\"\n",
    "            \n",
    "        elif char == '8':\n",
    "            binary_arr = np.hstack((binary_arr, np.array([1,0,0,0])))\n",
    "            binary_str = binary_str+\"1000\"\n",
    "            \n",
    "        elif char == '9':\n",
    "            binary_arr = np.hstack((binary_arr, np.array([1,0,0,1])))\n",
    "            binary_str = binary_str+\"1001\"\n",
    "            \n",
    "        elif char == 'A':\n",
    "            binary_arr = np.hstack((binary_arr, np.array([1,0,1,0])))\n",
    "            binary_str = binary_str+\"1010\"\n",
    "            \n",
    "        elif char == 'B':\n",
    "            binary_arr = np.hstack((binary_arr, np.array([1,0,1,1])))\n",
    "            binary_str = binary_str+\"1011\"\n",
    "            \n",
    "        elif char == 'C':\n",
    "            binary_arr = np.hstack((binary_arr, np.array([1,1,0,0])))\n",
    "            binary_str = binary_str+\"1100\"\n",
    "            \n",
    "        elif char == 'D':\n",
    "            binary_arr = np.hstack((binary_arr, np.array([1,1,0,1])))\n",
    "            binary_str = binary_str+\"1101\"\n",
    "            \n",
    "        elif char == 'E':\n",
    "            binary_arr = np.hstack((binary_arr, np.array([1,1,1,0])))\n",
    "            binary_str = binary_str+\"1110\"\n",
    "            \n",
    "        elif char == 'F':\n",
    "            binary_arr = np.hstack((binary_arr, np.array([1,1,1,1])))\n",
    "            binary_str = binary_str+\"1111\"\n",
    "        else:\n",
    "            print(\"Invalid Character: \"+char)\n",
    "    return binary_str\n",
    "\n",
    "\n",
    "\n",
    "def bin2dec(binary):\n",
    "    decimal = int(binary, 2)\n",
    "    return decimal\n",
    "\n",
    "\n",
    "def dec2bin(decimal):\n",
    "    binary = format(decimal ,\"b\")\n",
    "    return binary"
   ]
  },
  {
   "cell_type": "code",
   "execution_count": 3,
   "id": "df52a5d3",
   "metadata": {
    "ExecuteTime": {
     "end_time": "2021-12-17T05:59:41.641760Z",
     "start_time": "2021-12-17T05:59:41.627763Z"
    }
   },
   "outputs": [],
   "source": [
    "class Packet:\n",
    "    def __init__(self, data):\n",
    "        self.data = data\n",
    "        self.version = self.read_data(3)\n",
    "        self.type = self.read_data(3)\n",
    "        self.value = 0\n",
    "        self.sub_packets = []\n",
    "\n",
    "        if self.type == 4:\n",
    "            self.parse_literal()\n",
    "        else:\n",
    "            self.parse_operator()\n",
    "\n",
    "    def read_data(self, n):\n",
    "        global current_bit\n",
    "        val = bin2dec(self.data[current_bit:current_bit+n])\n",
    "        current_bit += n\n",
    "        return val\n",
    "    \n",
    "    def parse_operator(self):\n",
    "        global current_bit\n",
    "        L_type_ID = self.read_data(1)\n",
    "        if L_type_ID == 0:\n",
    "            sub_len = self.read_data(15)\n",
    "            end_bit = current_bit + sub_len\n",
    "            while current_bit < end_bit:\n",
    "                self.sub_packets.append(Packet(self.data))\n",
    "        else:\n",
    "            num_packets = self.read_data(11)\n",
    "            for i in range(num_packets):\n",
    "                self.sub_packets.append(Packet(self.data))\n",
    "    \n",
    "    def parse_literal(self):\n",
    "        while True:\n",
    "            not_last = self.read_data(1)\n",
    "            self.value = (self.value << 4) + self.read_data(4)\n",
    "            if not not_last:\n",
    "                break\n",
    "    \n",
    "    \n",
    "    def sum_versions(self):\n",
    "        return self.version + sum([sub_packet.sum_versions() for sub_packet in self.sub_packets])   \n",
    "        "
   ]
  },
  {
   "cell_type": "code",
   "execution_count": 4,
   "id": "5578803d",
   "metadata": {
    "ExecuteTime": {
     "end_time": "2021-12-17T05:59:41.672758Z",
     "start_time": "2021-12-17T05:59:41.644760Z"
    }
   },
   "outputs": [
    {
     "name": "stdout",
     "output_type": "stream",
     "text": [
      "938\n"
     ]
    }
   ],
   "source": [
    "data = hex2bin(load_hex_string(\"day16_data.txt\"))\n",
    "current_bit = 0\n",
    "\n",
    "packet = Packet(data)\n",
    "print (packet.sum_versions())"
   ]
  },
  {
   "cell_type": "markdown",
   "id": "1fba212e",
   "metadata": {},
   "source": [
    "## Part 2"
   ]
  },
  {
   "cell_type": "markdown",
   "id": "ae6943d4",
   "metadata": {},
   "source": [
    "Now that you have the structure of your transmission decoded, you can calculate the value of the expression it represents.\n",
    "\n",
    "Literal values (type ID ```4```) represent a single number as described above. The remaining type IDs are more interesting:\n",
    "\n",
    "- Packets with type ID ```0``` are **sum** packets - their value is the sum of the values of their sub-packets. If they only have a single sub-packet, their value is the value of the sub-packet.\n",
    "- Packets with type ID ```1``` are **product** packets - their value is the result of multiplying together the values of their sub-packets. - If they only have a single sub-packet, their value is the value of the sub-packet.\n",
    "- Packets with type ID ```2``` are **minimum** packets - their value is the minimum of the values of their sub-packets.\n",
    "- Packets with type ID ```3``` are **maximum** packets - their value is the maximum of the values of their sub-packets.\n",
    "- Packets with type ID ```5``` are **greater than** packets - their value is **```1```** if the value of the first sub-packet is greater than the value of the second sub-packet; otherwise, their value is **```0```**. These packets always have exactly two sub-packets.\n",
    "- Packets with type ID ```6``` are **less than** packets - their value is **```1```** if the value of the first sub-packet is less than the value of the second sub-packet; otherwise, their value is **```0```**. These packets always have exactly two sub-packets.\n",
    "- Packets with type ID ```7``` are **equal to** packets - their value is **```1```** if the value of the first sub-packet is equal to the value of the second sub-packet; otherwise, their value is **```0```**. These packets always have exactly two sub-packets.\n",
    "\n",
    "\n",
    "Using these rules, you can now work out the value of the outermost packet in your BITS transmission.\n",
    "\n",
    "For example:\n",
    "\n",
    "- ```C200B40A82``` finds the sum of ```1``` and ```2```, resulting in the value **```3```**.\n",
    "- ```04005AC33890``` finds the product of ```6``` and ```9```, resulting in the value **```54```**.\n",
    "- ```880086C3E88112``` finds the minimum of ```7```, ```8```, and ```9```, resulting in the value **```7```**.\n",
    "- ```CE00C43D881120``` finds the maximum of ```7```, ```8```, and ```9```, resulting in the value **```9```**.\n",
    "- ```D8005AC2A8F0``` produces ```1```, because ```5``` is less than ```15```.\n",
    "- ```F600BC2D8F``` produces ```0```, because ```5``` is not greater than ```15```.\n",
    "- ```9C005AC2F8F0``` produces ```0```, because ```5``` is not equal to ```15```.\n",
    "- ```9C0141080250320F1802104A08``` produces ```1```, because ```1 + 3 = 2 * 2```."
   ]
  },
  {
   "cell_type": "code",
   "execution_count": 5,
   "id": "215379f0",
   "metadata": {
    "ExecuteTime": {
     "end_time": "2021-12-17T05:59:41.688782Z",
     "start_time": "2021-12-17T05:59:41.674758Z"
    }
   },
   "outputs": [],
   "source": [
    "class Packet:\n",
    "    def __init__(self, data):\n",
    "        self.data = data\n",
    "        self.version = self.read_data(3)\n",
    "        self.type = self.read_data(3)\n",
    "        self.value = 0\n",
    "        self.sub_packets = []\n",
    "\n",
    "        if self.type == 4:\n",
    "            self.parse_literal()\n",
    "        else:\n",
    "            self.parse_operator()\n",
    "            self.solve()\n",
    "\n",
    "            \n",
    "    def read_data(self, n):\n",
    "        global current_bit\n",
    "        val = bin2dec(self.data[current_bit:current_bit+n])\n",
    "        current_bit += n\n",
    "        return val\n",
    "    \n",
    "    \n",
    "    def parse_operator(self):\n",
    "        global current_bit\n",
    "        L_type_ID = self.read_data(1)\n",
    "        if L_type_ID == 0:\n",
    "            sub_len = self.read_data(15)\n",
    "            end_bit = current_bit + sub_len\n",
    "            while current_bit < end_bit:\n",
    "                self.sub_packets.append(Packet(self.data))\n",
    "        else:\n",
    "            num_packets = self.read_data(11)\n",
    "            for i in range(num_packets):\n",
    "                self.sub_packets.append(Packet(self.data))\n",
    "    \n",
    "    \n",
    "    def parse_literal(self):\n",
    "        while True:\n",
    "            not_last = self.read_data(1)\n",
    "            self.value = (self.value << 4) + self.read_data(4)\n",
    "            if not not_last:\n",
    "                break\n",
    "    \n",
    "    \n",
    "    def sum_versions(self):\n",
    "        return self.version + sum([sub_packet.sum_versions() for sub_packet in self.sub_packets])   \n",
    "    \n",
    "    \n",
    "    def operators(self):\n",
    "        x = self.type\n",
    "        if x == 0:\n",
    "            return sum(p.value for p in self.sub_packets)\n",
    "        \n",
    "        elif x == 1:\n",
    "            return prod(p.value for p in self.sub_packets)\n",
    "        \n",
    "        elif x == 2:\n",
    "            return min(p.value for p in self.sub_packets)\n",
    "        \n",
    "        elif x == 3:\n",
    "            return max(p.value for p in self.sub_packets)\n",
    "        \n",
    "        elif x == 5:\n",
    "            if self.sub_packets[0].value > self.sub_packets[1].value:\n",
    "                return 1\n",
    "            else:\n",
    "                return 0\n",
    "            \n",
    "        elif x == 6:\n",
    "            if self.sub_packets[0].value < self.sub_packets[1].value:\n",
    "                return 1\n",
    "            else:\n",
    "                return 0\n",
    "            \n",
    "        elif x == 7:\n",
    "            if self.sub_packets[0].value == self.sub_packets[1].value:\n",
    "                return 1\n",
    "            else:\n",
    "                return 0\n",
    "            \n",
    "        \n",
    "    def solve(self):\n",
    "        self.value = self.operators()\n",
    "        #print(self.type, self.value, self.operators())"
   ]
  },
  {
   "cell_type": "code",
   "execution_count": 6,
   "id": "2a7c2c05",
   "metadata": {
    "ExecuteTime": {
     "end_time": "2021-12-17T05:59:41.720790Z",
     "start_time": "2021-12-17T05:59:41.691799Z"
    }
   },
   "outputs": [
    {
     "name": "stdout",
     "output_type": "stream",
     "text": [
      "1495959086337\n"
     ]
    }
   ],
   "source": [
    "data = hex2bin(load_hex_string(\"day16_data.txt\"))\n",
    "current_bit = 0\n",
    "\n",
    "packet = Packet(data)\n",
    "print (packet.value)"
   ]
  }
 ],
 "metadata": {
  "kernelspec": {
   "display_name": "Python 3 (ipykernel)",
   "language": "python",
   "name": "python3"
  },
  "language_info": {
   "codemirror_mode": {
    "name": "ipython",
    "version": 3
   },
   "file_extension": ".py",
   "mimetype": "text/x-python",
   "name": "python",
   "nbconvert_exporter": "python",
   "pygments_lexer": "ipython3",
   "version": "3.9.7"
  },
  "toc": {
   "base_numbering": 1,
   "nav_menu": {
    "height": "177px",
    "width": "198px"
   },
   "number_sections": true,
   "sideBar": true,
   "skip_h1_title": false,
   "title_cell": "Table of Contents",
   "title_sidebar": "Contents",
   "toc_cell": false,
   "toc_position": {},
   "toc_section_display": true,
   "toc_window_display": false
  },
  "varInspector": {
   "cols": {
    "lenName": 16,
    "lenType": 16,
    "lenVar": 40
   },
   "kernels_config": {
    "python": {
     "delete_cmd_postfix": "",
     "delete_cmd_prefix": "del ",
     "library": "var_list.py",
     "varRefreshCmd": "print(var_dic_list())"
    },
    "r": {
     "delete_cmd_postfix": ") ",
     "delete_cmd_prefix": "rm(",
     "library": "var_list.r",
     "varRefreshCmd": "cat(var_dic_list()) "
    }
   },
   "position": {
    "height": "497.859px",
    "left": "1524.3px",
    "right": "20px",
    "top": "77.9688px",
    "width": "350px"
   },
   "types_to_exclude": [
    "module",
    "function",
    "builtin_function_or_method",
    "instance",
    "_Feature"
   ],
   "window_display": true
  }
 },
 "nbformat": 4,
 "nbformat_minor": 5
}
