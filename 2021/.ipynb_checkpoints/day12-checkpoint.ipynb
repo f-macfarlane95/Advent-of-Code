{
 "cells": [
  {
   "cell_type": "markdown",
   "id": "6b068917",
   "metadata": {},
   "source": [
    "# Day 12: Passage Pathing"
   ]
  },
  {
   "cell_type": "markdown",
   "id": "37d984da",
   "metadata": {},
   "source": [
    "## Part 1"
   ]
  },
  {
   "cell_type": "markdown",
   "id": "b8af5413",
   "metadata": {},
   "source": [
    "With your submarine's subterranean subsystems subsisting suboptimally, the only way you're getting out of this cave anytime soon is by finding a path yourself. Not just a path - the only way to know if you've found the best path is to find all of them.\n",
    "\n",
    "Fortunately, the sensors are still mostly working, and so you build a rough map of the remaining caves (your puzzle input). For example:\n",
    "```\n",
    "start-A\n",
    "start-b\n",
    "A-c\n",
    "A-b\n",
    "b-d\n",
    "A-end\n",
    "b-end\n",
    "```\n",
    "\n",
    "This is a list of how all of the caves are connected. You ```start``` in the cave named start, and your destination is the cave named ```end```. An entry like ```b-d``` means that cave ```b``` is connected to cave ```d``` - that is, you can move between them.\n",
    "\n",
    "So, the above cave system looks roughly like this:\n",
    "```\n",
    "    start\n",
    "    /   \\\n",
    "c--A-----b--d\n",
    "    \\   /\n",
    "     end\n",
    "```\n",
    "\n",
    "Your goal is to find the number of distinct paths that start at ```start```, end at ```end```, and don't visit small caves more than once. There are two types of caves: big caves (written in uppercase, like ```A```) and small caves (written in lowercase, like ```b```). It would be a waste of time to visit any small cave more than once, but big caves are large enough that it might be worth visiting them multiple times. So, all paths you find should visit small caves at most once, and can visit big caves any number of times.\n",
    "\n",
    "Given these rules, there are 10 paths through this example cave system:\n",
    "```\n",
    "start,A,b,A,c,A,end\n",
    "start,A,b,A,end\n",
    "start,A,b,end\n",
    "start,A,c,A,b,A,end\n",
    "start,A,c,A,b,end\n",
    "start,A,c,A,end\n",
    "start,A,end\n",
    "start,b,A,c,A,end\n",
    "start,b,A,end\n",
    "start,b,end\n",
    "```\n",
    "\n",
    "(Each line in the above list corresponds to a single path; the caves visited by that path are listed in the order they are visited and separated by commas.)\n",
    "\n",
    "Note that in this cave system, cave d is never visited by any path: to do so, cave ```b``` would need to be visited twice (once on the way to cave ```d``` and a second time when returning from cave ```d```), and since cave ```b``` is small, this is not allowed.\n",
    "\n",
    "Here is a slightly larger example:\n",
    "```\n",
    "dc-end\n",
    "HN-start\n",
    "start-kj\n",
    "dc-start\n",
    "dc-HN\n",
    "LN-dc\n",
    "HN-end\n",
    "kj-sa\n",
    "kj-HN\n",
    "kj-dc\n",
    "```\n",
    "\n",
    "The 19 paths through it are as follows:\n",
    "```\n",
    "start,HN,dc,HN,end\n",
    "start,HN,dc,HN,kj,HN,end\n",
    "start,HN,dc,end\n",
    "start,HN,dc,kj,HN,end\n",
    "start,HN,end\n",
    "start,HN,kj,HN,dc,HN,end\n",
    "start,HN,kj,HN,dc,end\n",
    "start,HN,kj,HN,end\n",
    "start,HN,kj,dc,HN,end\n",
    "start,HN,kj,dc,end\n",
    "start,dc,HN,end\n",
    "start,dc,HN,kj,HN,end\n",
    "start,dc,end\n",
    "start,dc,kj,HN,end\n",
    "start,kj,HN,dc,HN,end\n",
    "start,kj,HN,dc,end\n",
    "start,kj,HN,end\n",
    "start,kj,dc,HN,end\n",
    "start,kj,dc,end\n",
    "```\n",
    "\n",
    "Finally, this even larger example has 226 paths through it:\n",
    "```\n",
    "fs-end\n",
    "he-DX\n",
    "fs-he\n",
    "start-DX\n",
    "pj-DX\n",
    "end-zg\n",
    "zg-sl\n",
    "zg-pj\n",
    "pj-he\n",
    "RW-he\n",
    "fs-DX\n",
    "pj-RW\n",
    "zg-RW\n",
    "start-pj\n",
    "he-WI\n",
    "zg-he\n",
    "pj-fs\n",
    "start-RW\n",
    "```\n",
    "\n",
    "How many paths through this cave system are there that visit small caves at most once?"
   ]
  },
  {
   "cell_type": "code",
   "execution_count": 1,
   "id": "67c83166",
   "metadata": {},
   "outputs": [],
   "source": [
    "def load_file(path):\n",
    "    file = open(path, \"r\")\n",
    "    lines = file.readlines()\n",
    "    lines = [l.replace(\"\\n\",'') for l in lines]\n",
    "    file.close()\n",
    "    \n",
    "    return lines"
   ]
  },
  {
   "cell_type": "code",
   "execution_count": 2,
   "id": "118b3af1",
   "metadata": {},
   "outputs": [],
   "source": [
    "def count_paths(path, connections):\n",
    "    if path[-1] == \"end\":\n",
    "        return 1\n",
    "    count = 0\n",
    "    for neighbour in connections[path[-1]]:\n",
    "        if neighbour.isupper() or neighbour not in path:\n",
    "            path.append(neighbour)\n",
    "            count += count_paths(path, connections)\n",
    "            path.pop()\n",
    "    return count"
   ]
  },
  {
   "cell_type": "code",
   "execution_count": 3,
   "id": "791c1d0e",
   "metadata": {},
   "outputs": [],
   "source": [
    "pairs = load_file(\"day12_data.txt\")"
   ]
  },
  {
   "cell_type": "code",
   "execution_count": 4,
   "id": "9c0e5f80",
   "metadata": {},
   "outputs": [],
   "source": [
    "connections = {}\n",
    "for line in pairs:\n",
    "    cave_a, cave_b = line.split(\"-\")\n",
    "    if cave_a not in connections:\n",
    "        connections[cave_a] = []\n",
    "    connections[cave_a].append(cave_b)\n",
    "    if cave_b not in connections:\n",
    "        connections[cave_b] = []\n",
    "    connections[cave_b].append(cave_a)"
   ]
  },
  {
   "cell_type": "code",
   "execution_count": 5,
   "id": "8c4bf346",
   "metadata": {},
   "outputs": [
    {
     "name": "stdout",
     "output_type": "stream",
     "text": [
      "5576\n"
     ]
    }
   ],
   "source": [
    "print(count_paths(['start'], connections))"
   ]
  },
  {
   "cell_type": "markdown",
   "id": "99aefcf3",
   "metadata": {},
   "source": [
    "## Part 2"
   ]
  },
  {
   "cell_type": "markdown",
   "id": "2f1c8aa2",
   "metadata": {},
   "source": [
    "After reviewing the available paths, you realize you might have time to visit a single small cave twice. Specifically, big caves can be visited any number of times, a single small cave can be visited at most twice, and the remaining small caves can be visited at most once. However, the caves named ```start``` and ```end``` can only be visited exactly once each: once you leave the ```start``` cave, you may not return to it, and once you reach the ```end``` cave, the path must end immediately.\n",
    "\n",
    "Now, the 36 possible paths through the first example above are:\n",
    "\n",
    "```\n",
    "start,A,b,A,b,A,c,A,end\n",
    "start,A,b,A,b,A,end\n",
    "start,A,b,A,b,end\n",
    "start,A,b,A,c,A,b,A,end\n",
    "start,A,b,A,c,A,b,end\n",
    "start,A,b,A,c,A,c,A,end\n",
    "start,A,b,A,c,A,end\n",
    "start,A,b,A,end\n",
    "start,A,b,d,b,A,c,A,end\n",
    "start,A,b,d,b,A,end\n",
    "start,A,b,d,b,end\n",
    "start,A,b,end\n",
    "start,A,c,A,b,A,b,A,end\n",
    "start,A,c,A,b,A,b,end\n",
    "start,A,c,A,b,A,c,A,end\n",
    "start,A,c,A,b,A,end\n",
    "start,A,c,A,b,d,b,A,end\n",
    "start,A,c,A,b,d,b,end\n",
    "start,A,c,A,b,end\n",
    "start,A,c,A,c,A,b,A,end\n",
    "start,A,c,A,c,A,b,end\n",
    "start,A,c,A,c,A,end\n",
    "start,A,c,A,end\n",
    "start,A,end\n",
    "start,b,A,b,A,c,A,end\n",
    "start,b,A,b,A,end\n",
    "start,b,A,b,end\n",
    "start,b,A,c,A,b,A,end\n",
    "start,b,A,c,A,b,end\n",
    "start,b,A,c,A,c,A,end\n",
    "start,b,A,c,A,end\n",
    "start,b,A,end\n",
    "start,b,d,b,A,c,A,end\n",
    "start,b,d,b,A,end\n",
    "start,b,d,b,end\n",
    "start,b,end\n",
    "```\n",
    "\n",
    "The slightly larger example above now has 103 paths through it, and the even larger example now has 3509 paths through it.\n",
    "\n",
    "Given these new rules, how many paths through this cave system are there?"
   ]
  },
  {
   "cell_type": "code",
   "execution_count": 6,
   "id": "6d12ce0d",
   "metadata": {},
   "outputs": [],
   "source": [
    "def count_paths(path, connections, allow_repeat):\n",
    "    if path[-1] == \"end\":\n",
    "        return 1\n",
    "    count = 0\n",
    "    for neighbour in connections[path[-1]]:\n",
    "        if neighbour.isupper() or neighbour not in path:\n",
    "            path.append(neighbour)\n",
    "            count += count_paths(path, connections, allow_repeat)\n",
    "            path.pop()\n",
    "\n",
    "        elif allow_repeat and neighbour not in [\"start\", \"end\"]:\n",
    "            path.append(neighbour)\n",
    "            count += count_paths(path, connections, False)\n",
    "            path.pop()\n",
    "    return count"
   ]
  },
  {
   "cell_type": "code",
   "execution_count": 7,
   "id": "f4279b0d",
   "metadata": {},
   "outputs": [
    {
     "name": "stdout",
     "output_type": "stream",
     "text": [
      "152837\n"
     ]
    }
   ],
   "source": [
    "print(count_paths(['start'], connections, True))"
   ]
  }
 ],
 "metadata": {
  "kernelspec": {
   "display_name": "Python 3 (ipykernel)",
   "language": "python",
   "name": "python3"
  },
  "language_info": {
   "codemirror_mode": {
    "name": "ipython",
    "version": 3
   },
   "file_extension": ".py",
   "mimetype": "text/x-python",
   "name": "python",
   "nbconvert_exporter": "python",
   "pygments_lexer": "ipython3",
   "version": "3.9.7"
  },
  "varInspector": {
   "cols": {
    "lenName": 16,
    "lenType": 16,
    "lenVar": 40
   },
   "kernels_config": {
    "python": {
     "delete_cmd_postfix": "",
     "delete_cmd_prefix": "del ",
     "library": "var_list.py",
     "varRefreshCmd": "print(var_dic_list())"
    },
    "r": {
     "delete_cmd_postfix": ") ",
     "delete_cmd_prefix": "rm(",
     "library": "var_list.r",
     "varRefreshCmd": "cat(var_dic_list()) "
    }
   },
   "position": {
    "height": "425.851px",
    "left": "1763.33px",
    "right": "20px",
    "top": "120px",
    "width": "350px"
   },
   "types_to_exclude": [
    "module",
    "function",
    "builtin_function_or_method",
    "instance",
    "_Feature"
   ],
   "window_display": true
  }
 },
 "nbformat": 4,
 "nbformat_minor": 5
}
