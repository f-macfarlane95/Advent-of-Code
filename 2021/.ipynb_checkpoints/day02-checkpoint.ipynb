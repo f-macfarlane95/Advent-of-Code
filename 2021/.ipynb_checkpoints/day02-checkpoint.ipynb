{
 "cells": [
  {
   "cell_type": "markdown",
   "id": "a42e6493",
   "metadata": {},
   "source": [
    "# Day 2: Dive!"
   ]
  },
  {
   "cell_type": "markdown",
   "id": "46fbb948",
   "metadata": {},
   "source": [
    "## Part 1"
   ]
  },
  {
   "cell_type": "markdown",
   "id": "d76f3d5e",
   "metadata": {},
   "source": [
    "Now, you need to figure out how to pilot this thing.\n",
    "\n",
    "It seems like the submarine can take a series of commands like forward 1, down 2, or up 3:\n",
    "```\n",
    "forward X increases the horizontal position by X units.\n",
    "down X increases the depth by X units.\n",
    "up X decreases the depth by X units.\n",
    "```\n",
    "Note that since you're on a submarine, down and up affect your depth, and so they have the opposite result of what you might expect.\n",
    "\n",
    "The submarine seems to already have a planned course (your puzzle input). You should probably figure out where it's going. For example:\n",
    "```\n",
    "forward 5\n",
    "down 5\n",
    "forward 8\n",
    "up 3\n",
    "down 8\n",
    "forward 2\n",
    "```\n",
    "\n",
    "Your horizontal position and depth both start at 0. The steps above would then modify them as follows:\n",
    "```\n",
    "forward 5 adds 5 to your horizontal position, a total of 5.\n",
    "down 5 adds 5 to your depth, resulting in a value of 5.\n",
    "forward 8 adds 8 to your horizontal position, a total of 13.\n",
    "up 3 decreases your depth by 3, resulting in a value of 2.\n",
    "down 8 adds 8 to your depth, resulting in a value of 10.\n",
    "forward 2 adds 2 to your horizontal position, a total of 15.\n",
    "```\n",
    "After following these instructions, you would have a horizontal position of 15 and a depth of 10. (Multiplying these together produces 150.)\n",
    "\n",
    "Calculate the horizontal position and depth you would have after following the planned course. What do you get if you multiply your final horizontal position by your final depth?"
   ]
  },
  {
   "cell_type": "code",
   "execution_count": 1,
   "id": "22b9fe4d",
   "metadata": {},
   "outputs": [],
   "source": [
    "import numpy as np"
   ]
  },
  {
   "cell_type": "code",
   "execution_count": 2,
   "id": "8b13ac43",
   "metadata": {},
   "outputs": [],
   "source": [
    "def load_commands_string(path):\n",
    "    file = open(path, \"r\")\n",
    "    lines = file.read().splitlines()\n",
    "    #print(lines)\n",
    "    return lines"
   ]
  },
  {
   "cell_type": "code",
   "execution_count": 3,
   "id": "20f6a5b6",
   "metadata": {},
   "outputs": [],
   "source": [
    "def get_position(initial_position: [0,0], input_commands):\n",
    "    \n",
    "    pos = initial_position # [forward,(up,down)]\n",
    "    \n",
    "    for c in input_commands:\n",
    "        c = c.split(' ')\n",
    "        #print(c[0])\n",
    "        \n",
    "        if c[0] == \"forward\":\n",
    "            #print(\"Aye, full ahead\")\n",
    "            pos[0] = pos[0] + int(c[1])\n",
    "        elif c[0] == \"up\":\n",
    "            #print(\"Surfacing\")\n",
    "            pos[1] = pos[1] - int(c[1])\n",
    "        elif c[0] == \"down\":\n",
    "            #print(\"Dive! Dive! Dice!\")\n",
    "            pos[1] = pos[1] + int(c[1])\n",
    "        else:\n",
    "            print(\"Incorrect Command Provided\")\n",
    "            \n",
    "    return pos\n",
    "        "
   ]
  },
  {
   "cell_type": "code",
   "execution_count": 4,
   "id": "2dacef00",
   "metadata": {},
   "outputs": [],
   "source": [
    "commands = load_commands_string(\"day02_data_test.txt\")"
   ]
  },
  {
   "cell_type": "code",
   "execution_count": 5,
   "id": "12248d5e",
   "metadata": {},
   "outputs": [
    {
     "data": {
      "text/plain": [
       "150"
      ]
     },
     "execution_count": 5,
     "metadata": {},
     "output_type": "execute_result"
    }
   ],
   "source": [
    "new_pos = get_position([0,0],commands)\n",
    "np.prod(new_pos)"
   ]
  },
  {
   "cell_type": "code",
   "execution_count": 6,
   "id": "673e3e78",
   "metadata": {},
   "outputs": [],
   "source": [
    "commands_full = load_commands_string(\"day02_data.txt\")"
   ]
  },
  {
   "cell_type": "code",
   "execution_count": 7,
   "id": "2d12af1d",
   "metadata": {},
   "outputs": [
    {
     "data": {
      "text/plain": [
       "1855814"
      ]
     },
     "execution_count": 7,
     "metadata": {},
     "output_type": "execute_result"
    }
   ],
   "source": [
    "new_pos = get_position([0,0],commands_full)\n",
    "np.prod(new_pos)"
   ]
  },
  {
   "cell_type": "markdown",
   "id": "a9cb6978",
   "metadata": {},
   "source": [
    "## Part 2"
   ]
  },
  {
   "cell_type": "markdown",
   "id": "abfc4937",
   "metadata": {},
   "source": [
    "Based on your calculations, the planned course doesn't seem to make any sense. You find the submarine manual and discover that the process is actually slightly more complicated.\n",
    "\n",
    "In addition to horizontal position and depth, you'll also need to track a third value, aim, which also starts at 0. The commands also mean something entirely different than you first thought:\n",
    "```\n",
    "down X increases your aim by X units.\n",
    "up X decreases your aim by X units.\n",
    "forward X does two things:\n",
    "It increases your horizontal position by X units.\n",
    "It increases your depth by your aim multiplied by X.\n",
    "```\n",
    "Again note that since you're on a submarine, down and up do the opposite of what you might expect: \"down\" means aiming in the positive direction.\n",
    "\n",
    "Now, the above example does something different:\n",
    "```\n",
    "forward 5 adds 5 to your horizontal position, a total of 5. Because your aim is 0, your depth does not change.\n",
    "down 5 adds 5 to your aim, resulting in a value of 5.\n",
    "forward 8 adds 8 to your horizontal position, a total of 13. Because your aim is 5, your depth increases by 8*5=40.\n",
    "up 3 decreases your aim by 3, resulting in a value of 2.\n",
    "down 8 adds 8 to your aim, resulting in a value of 10.\n",
    "forward 2 adds 2 to your horizontal position, a total of 15. Because your aim is 10, your depth increases by 2*10=20 to a total of 60.\n",
    "```\n",
    "After following these new instructions, you would have a horizontal position of 15 and a depth of 60. (Multiplying these produces 900.)\n",
    "\n",
    "Using this new interpretation of the commands, calculate the horizontal position and depth you would have after following the planned course. What do you get if you multiply your final horizontal position by your final depth?"
   ]
  },
  {
   "cell_type": "code",
   "execution_count": 8,
   "id": "cc211ec3",
   "metadata": {},
   "outputs": [],
   "source": [
    "def get_position_aim(initial_position: [0,0], input_commands):\n",
    "    \n",
    "    pos = initial_position # [forward,(up,down)]\n",
    "    aim = 0\n",
    "    for c in input_commands:\n",
    "        c = c.split(' ')\n",
    "        #print(c[0])\n",
    "        \n",
    "        if c[0] == \"forward\":\n",
    "            #print(\"Aye, full ahead\")\n",
    "            pos[0] = pos[0] + int(c[1])\n",
    "            pos[1] = pos[1] + (aim*int(c[1]))\n",
    "            \n",
    "        elif c[0] == \"up\":\n",
    "            #print(\"Surfacing\")\n",
    "            aim = aim - int(c[1])\n",
    "            \n",
    "        elif c[0] == \"down\":\n",
    "            #print(\"Dive! Dive! Dice!\")\n",
    "            aim = aim + int(c[1])\n",
    "            \n",
    "        else:\n",
    "            print(\"Incorrect Command Provided\")\n",
    "            \n",
    "    return pos"
   ]
  },
  {
   "cell_type": "code",
   "execution_count": 9,
   "id": "b689aeef",
   "metadata": {},
   "outputs": [
    {
     "data": {
      "text/plain": [
       "900"
      ]
     },
     "execution_count": 9,
     "metadata": {},
     "output_type": "execute_result"
    }
   ],
   "source": [
    "new_pos = get_position_aim([0,0],commands)\n",
    "np.prod(new_pos)"
   ]
  },
  {
   "cell_type": "code",
   "execution_count": null,
   "id": "0e519c66",
   "metadata": {},
   "outputs": [],
   "source": [
    "new_pos = get_position_aim([0,0],commands_full)\n",
    "np.prod(new_pos)"
   ]
  }
 ],
 "metadata": {
  "kernelspec": {
   "display_name": "Python 3 (ipykernel)",
   "language": "python",
   "name": "python3"
  },
  "language_info": {
   "codemirror_mode": {
    "name": "ipython",
    "version": 3
   },
   "file_extension": ".py",
   "mimetype": "text/x-python",
   "name": "python",
   "nbconvert_exporter": "python",
   "pygments_lexer": "ipython3",
   "version": "3.8.8"
  },
  "varInspector": {
   "cols": {
    "lenName": 16,
    "lenType": 16,
    "lenVar": 40
   },
   "kernels_config": {
    "python": {
     "delete_cmd_postfix": "",
     "delete_cmd_prefix": "del ",
     "library": "var_list.py",
     "varRefreshCmd": "print(var_dic_list())"
    },
    "r": {
     "delete_cmd_postfix": ") ",
     "delete_cmd_prefix": "rm(",
     "library": "var_list.r",
     "varRefreshCmd": "cat(var_dic_list()) "
    }
   },
   "position": {
    "height": "402.844px",
    "left": "1550px",
    "right": "20px",
    "top": "120px",
    "width": "350px"
   },
   "types_to_exclude": [
    "module",
    "function",
    "builtin_function_or_method",
    "instance",
    "_Feature"
   ],
   "window_display": true
  }
 },
 "nbformat": 4,
 "nbformat_minor": 5
}
