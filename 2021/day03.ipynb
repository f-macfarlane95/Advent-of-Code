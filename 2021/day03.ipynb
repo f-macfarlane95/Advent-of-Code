{
 "cells": [
  {
   "cell_type": "markdown",
   "id": "2ed6937a",
   "metadata": {},
   "source": [
    "# Day 3: Binary Diagnostic"
   ]
  },
  {
   "cell_type": "markdown",
   "id": "6c5d625e",
   "metadata": {},
   "source": [
    "## Part 1"
   ]
  },
  {
   "cell_type": "markdown",
   "id": "0477979f",
   "metadata": {},
   "source": [
    "The submarine has been making some odd creaking noises, so you ask it to produce a diagnostic report just in case.\n",
    "\n",
    "The diagnostic report (your puzzle input) consists of a list of binary numbers which, when decoded properly, can tell you many useful things about the conditions of the submarine. The first parameter to check is the power consumption.\n",
    "\n",
    "You need to use the binary numbers in the diagnostic report to generate two new binary numbers (called the gamma rate and the epsilon rate). The power consumption can then be found by multiplying the gamma rate by the epsilon rate.\n",
    "\n",
    "Each bit in the gamma rate can be determined by finding the most common bit in the corresponding position of all numbers in the diagnostic report. For example, given the following diagnostic report:\n",
    "```\n",
    "00100\n",
    "11110\n",
    "10110\n",
    "10111\n",
    "10101\n",
    "01111\n",
    "00111\n",
    "11100\n",
    "10000\n",
    "11001\n",
    "00010\n",
    "01010\n",
    "```\n",
    "Considering only the first bit of each number, there are five 0 bits and seven 1 bits. Since the most common bit is 1, the first bit of the gamma rate is 1.\n",
    "\n",
    "The most common second bit of the numbers in the diagnostic report is 0, so the second bit of the gamma rate is 0.\n",
    "\n",
    "The most common value of the third, fourth, and fifth bits are 1, 1, and 0, respectively, and so the final three bits of the gamma rate are 110.\n",
    "\n",
    "So, the gamma rate is the binary number 10110, or 22 in decimal.\n",
    "\n",
    "The epsilon rate is calculated in a similar way; rather than use the most common bit, the least common bit from each position is used. So, the epsilon rate is 01001, or 9 in decimal. Multiplying the gamma rate (22) by the epsilon rate (9) produces the power consumption, 198.\n",
    "\n",
    "Use the binary numbers in your diagnostic report to calculate the gamma rate and epsilon rate, then multiply them together. What is the power consumption of the submarine? (Be sure to represent your answer in decimal, not binary.)"
   ]
  },
  {
   "cell_type": "code",
   "execution_count": 1,
   "id": "02726964",
   "metadata": {},
   "outputs": [],
   "source": [
    "import numpy as np\n",
    "from collections import Counter"
   ]
  },
  {
   "cell_type": "code",
   "execution_count": 2,
   "id": "bf3f7689",
   "metadata": {},
   "outputs": [],
   "source": [
    "def load_diagnostics(path):\n",
    "    file = open(path, \"r\")\n",
    "    lines = file.readlines()\n",
    "    str_list = [list(sub) for sub in lines]\n",
    "    \n",
    "    print(len(str_list))\n",
    "    data=np.empty\n",
    "    for idx, s in enumerate(str_list):\n",
    "        #print(s)\n",
    "        #print(idx)\n",
    "        if idx == 0:\n",
    "            if '\\n' in s:\n",
    "                s.remove('\\n')\n",
    "            #print(s)\n",
    "            data = list(map(int,s))\n",
    "            #print(data)\n",
    "        else:\n",
    "            if '\\n' in s:\n",
    "                s.remove('\\n')\n",
    "            #print(s)\n",
    "            data = np.vstack([data, list(map(int,s))])\n",
    "            #print(data)\n",
    "    print(data)\n",
    "    return data"
   ]
  },
  {
   "cell_type": "code",
   "execution_count": 3,
   "id": "2a8d3a33",
   "metadata": {},
   "outputs": [],
   "source": [
    "def get_diagnostic(data, direction: str = \"mcb\"):\n",
    "    #[rows,cols] = data.shape\n",
    "    #print(rows)\n",
    "    #print(cols)\n",
    "    \n",
    "    if direction == \"mcb\":\n",
    "        num = mostCommon(data)\n",
    "    elif direction == \"lcb\":\n",
    "        num = leastCommon(data)\n",
    "    else:\n",
    "        print(\"Must provide either mcb (Most Common Bit) or lcb (Least Common Bit)\")\n",
    "        return\n",
    "    print(num)\n",
    "    num = ''.join(str(n) for n in num)\n",
    "    return num"
   ]
  },
  {
   "cell_type": "code",
   "execution_count": 4,
   "id": "94bd7d82",
   "metadata": {},
   "outputs": [],
   "source": [
    "def bin2dec(binary):\n",
    "    decimal = int(binary, 2)\n",
    "    return decimal\n",
    "\n",
    "def dec2bin(decimal):\n",
    "    binary = format(decimal ,\"b\")\n",
    "    return binary"
   ]
  },
  {
   "cell_type": "code",
   "execution_count": 5,
   "id": "f7c46ce1",
   "metadata": {},
   "outputs": [],
   "source": [
    "def mostCommon(lst):\n",
    "          \n",
    "    return [Counter(col).most_common(1)[0][0] for col in zip(*lst)]\n",
    "\n",
    "def leastCommon(lst):\n",
    "          \n",
    "    return [Counter(col).most_common()[-1][0] for col in zip(*lst)]"
   ]
  },
  {
   "cell_type": "code",
   "execution_count": 6,
   "id": "854f754a",
   "metadata": {},
   "outputs": [
    {
     "name": "stdout",
     "output_type": "stream",
     "text": [
      "12\n",
      "[[0 0 1 0 0]\n",
      " [1 1 1 1 0]\n",
      " [1 0 1 1 0]\n",
      " [1 0 1 1 1]\n",
      " [1 0 1 0 1]\n",
      " [0 1 1 1 1]\n",
      " [0 0 1 1 1]\n",
      " [1 1 1 0 0]\n",
      " [1 0 0 0 0]\n",
      " [1 1 0 0 1]\n",
      " [0 0 0 1 0]\n",
      " [0 1 0 1 0]]\n",
      "[1, 0, 1, 1, 0]\n",
      "[0, 1, 0, 0, 1]\n"
     ]
    },
    {
     "data": {
      "text/plain": [
       "198"
      ]
     },
     "execution_count": 6,
     "metadata": {},
     "output_type": "execute_result"
    }
   ],
   "source": [
    "diagnostics = load_diagnostics(\"day03_data_test.txt\")\n",
    "gamma_b = get_diagnostic(diagnostics,\"mcb\")\n",
    "gamma_d = bin2dec(gamma_b)\n",
    "#print(gamma_d)\n",
    "\n",
    "epsilon_b = get_diagnostic(diagnostics,\"lcb\")\n",
    "epsilon_d = bin2dec(epsilon_b)\n",
    "#print(epsilon_d)\n",
    "\n",
    "gamma_d*epsilon_d"
   ]
  },
  {
   "cell_type": "code",
   "execution_count": 7,
   "id": "2c54fbf5",
   "metadata": {},
   "outputs": [
    {
     "name": "stdout",
     "output_type": "stream",
     "text": [
      "1000\n",
      "[[0 0 1 ... 0 0 1]\n",
      " [0 1 0 ... 0 0 0]\n",
      " [1 0 1 ... 0 1 0]\n",
      " ...\n",
      " [0 0 1 ... 1 1 0]\n",
      " [0 1 0 ... 1 1 0]\n",
      " [0 0 1 ... 0 1 0]]\n",
      "[0, 0, 1, 1, 1, 0, 1, 0, 1, 1, 1, 1]\n",
      "[1, 1, 0, 0, 0, 1, 0, 1, 0, 0, 0, 0]\n"
     ]
    },
    {
     "data": {
      "text/plain": [
       "2972336"
      ]
     },
     "execution_count": 7,
     "metadata": {},
     "output_type": "execute_result"
    }
   ],
   "source": [
    "diagnostics_full = load_diagnostics(\"day03_data.txt\")\n",
    "gamma_b = get_diagnostic(diagnostics_full,\"mcb\")\n",
    "gamma_d = bin2dec(gamma_b)\n",
    "#print(gamma_d)\n",
    "\n",
    "epsilon_b = get_diagnostic(diagnostics_full,\"lcb\")\n",
    "epsilon_d = bin2dec(epsilon_b)\n",
    "#print(epsilon_d)\n",
    "\n",
    "gamma_d*epsilon_d"
   ]
  },
  {
   "cell_type": "markdown",
   "id": "5d15a0b6",
   "metadata": {},
   "source": [
    "## Part 2"
   ]
  },
  {
   "cell_type": "markdown",
   "id": "00f90c1f",
   "metadata": {},
   "source": [
    "Next, you should verify the life support rating, which can be determined by multiplying the oxygen generator rating by the CO2 scrubber rating.\n",
    "\n",
    "Both the oxygen generator rating and the CO2 scrubber rating are values that can be found in your diagnostic report - finding them is the tricky part. Both values are located using a similar process that involves filtering out values until only one remains. Before searching for either rating value, start with the full list of binary numbers from your diagnostic report and consider just the first bit of those numbers. Then:\n",
    "\n",
    "- Keep only numbers selected by the bit criteria for the type of rating value for which you are searching. Discard numbers which do not match the bit criteria.\n",
    "- If you only have one number left, stop; this is the rating value for which you are searching.\n",
    "- Otherwise, repeat the process, considering the next bit to the right.\n",
    "\n",
    "The bit criteria depends on which type of rating value you want to find:\n",
    "\n",
    "- To find oxygen generator rating, determine the most common value (0 or 1) in the current bit position, and keep only numbers with that bit in that position. If 0 and 1 are equally common, keep values with a 1 in the position being considered.\n",
    "- To find CO2 scrubber rating, determine the least common value (0 or 1) in the current bit position, and keep only numbers with that bit in that position. If 0 and 1 are equally common, keep values with a 0 in the position being considered.\n",
    "\n",
    "For example, to determine the oxygen generator rating value using the same example diagnostic report from above:\n",
    "\n",
    "- Start with all 12 numbers and consider only the first bit of each number. There are more 1 bits (7) than 0 bits (5), so keep only the 7 numbers with a 1 in the first position: 11110, 10110, 10111, 10101, 11100, 10000, and 11001.\n",
    "- Then, consider the second bit of the 7 remaining numbers: there are more 0 bits (4) than 1 bits (3), so keep only the 4 numbers with a 0 in the second position: 10110, 10111, 10101, and 10000.\n",
    "- In the third position, three of the four numbers have a 1, so keep those three: 10110, 10111, and 10101.\n",
    "- In the fourth position, two of the three numbers have a 1, so keep those two: 10110 and 10111.\n",
    "- In the fifth position, there are an equal number of 0 bits and 1 bits (one each). So, to find the oxygen generator rating, keep the number with a 1 in that position: 10111.\n",
    "- As there is only one number left, stop; the oxygen generator rating is 10111, or 23 in decimal.\n",
    "\n",
    "Then, to determine the CO2 scrubber rating value from the same example above:\n",
    "\n",
    "- Start again with all 12 numbers and consider only the first bit of each number. There are fewer 0 bits (5) than 1 bits (7), so keep only the 5 numbers with a 0 in the first position: 00100, 01111, 00111, 00010, and 01010.\n",
    "- Then, consider the second bit of the 5 remaining numbers: there are fewer 1 bits (2) than 0 bits (3), so keep only the 2 numbers with a 1 in the second position: 01111 and 01010.\n",
    "- In the third position, there are an equal number of 0 bits and 1 bits (one each). So, to find the CO2 scrubber rating, keep the number with a 0 in that position: 01010.\n",
    "- As there is only one number left, stop; the CO2 scrubber rating is 01010, or 10 in decimal.\n",
    "\n",
    "Finally, to find the life support rating, multiply the oxygen generator rating (23) by the CO2 scrubber rating (10) to get 230.\n",
    "\n",
    "Use the binary numbers in your diagnostic report to calculate the oxygen generator rating and CO2 scrubber rating, then multiply them together. What is the life support rating of the submarine? (Be sure to represent your answer in decimal, not binary.)"
   ]
  },
  {
   "cell_type": "code",
   "execution_count": 8,
   "id": "5dc90ea5",
   "metadata": {},
   "outputs": [],
   "source": [
    "def oxygen_rating(data):\n",
    "    [rows,cols] = data.shape   \n",
    "    for i in range(cols):\n",
    "        s = sum(data[:,i])\n",
    "        \n",
    "        if s >= len(data[:,i])/2:\n",
    "            mcb = 1\n",
    "            #print(\"mcb=1\")\n",
    "        else:\n",
    "            mcb = 0\n",
    "            #print(\"mcb=0\")\n",
    "        #delete rows where the current mcb is not present at the current indexed column \"i\"\n",
    "        valid = np.delete(data, np.where(data[:, i] != mcb)[0], axis=0)\n",
    "        #print(valid)\n",
    "        if len(valid):\n",
    "            data = valid\n",
    "        else:\n",
    "            break\n",
    "    num = ''.join([str(n) for n in data[0].tolist()])\n",
    "    num_d = bin2dec(num)\n",
    "    print(num_d,num)\n",
    "    return num_d"
   ]
  },
  {
   "cell_type": "code",
   "execution_count": 9,
   "id": "6a583ffc",
   "metadata": {},
   "outputs": [],
   "source": [
    "def c02_rating(data):\n",
    "    [rows,cols] = data.shape   \n",
    "    for i in range(cols):\n",
    "        \n",
    "        s = sum(data[:,i])\n",
    "        \n",
    "        if s < len(data[:,i])/2:\n",
    "            mcb = 1\n",
    "            #print(\"mcb=1\")\n",
    "        else:\n",
    "            mcb = 0\n",
    "            #print(\"mcb=0\")\n",
    "        #delete rows where the current mcb is not present at the current indexed column \"i\"\n",
    "        valid = np.delete(data, np.where(data[:, i] != mcb)[0], axis=0)\n",
    "        #print(valid)\n",
    "        if len(valid):\n",
    "            data = valid\n",
    "        else:\n",
    "            break       \n",
    "    num = ''.join([str(n) for n in data[0].tolist()])\n",
    "    num_d = bin2dec(num)\n",
    "    print(num_d,num)\n",
    "    return num_d"
   ]
  },
  {
   "cell_type": "code",
   "execution_count": 10,
   "id": "05c22adf",
   "metadata": {},
   "outputs": [],
   "source": [
    "def life_support(data):\n",
    "    return oxygen_rating(data)*c02_rating(data)"
   ]
  },
  {
   "cell_type": "code",
   "execution_count": 11,
   "id": "51fe466f",
   "metadata": {},
   "outputs": [
    {
     "name": "stdout",
     "output_type": "stream",
     "text": [
      "23 10111\n"
     ]
    },
    {
     "data": {
      "text/plain": [
       "23"
      ]
     },
     "execution_count": 11,
     "metadata": {},
     "output_type": "execute_result"
    }
   ],
   "source": [
    "oxygen_rating(diagnostics)"
   ]
  },
  {
   "cell_type": "code",
   "execution_count": 12,
   "id": "0fa13c66",
   "metadata": {},
   "outputs": [
    {
     "name": "stdout",
     "output_type": "stream",
     "text": [
      "10 01010\n"
     ]
    },
    {
     "data": {
      "text/plain": [
       "10"
      ]
     },
     "execution_count": 12,
     "metadata": {},
     "output_type": "execute_result"
    }
   ],
   "source": [
    "c02_rating(diagnostics)"
   ]
  },
  {
   "cell_type": "code",
   "execution_count": 13,
   "id": "198d7328",
   "metadata": {},
   "outputs": [
    {
     "name": "stdout",
     "output_type": "stream",
     "text": [
      "23 10111\n",
      "10 01010\n"
     ]
    },
    {
     "data": {
      "text/plain": [
       "230"
      ]
     },
     "execution_count": 13,
     "metadata": {},
     "output_type": "execute_result"
    }
   ],
   "source": [
    "life_support(diagnostics)"
   ]
  },
  {
   "cell_type": "code",
   "execution_count": 14,
   "id": "abe47cbc",
   "metadata": {},
   "outputs": [
    {
     "name": "stdout",
     "output_type": "stream",
     "text": [
      "931 001110100011\n",
      "3618 111000100010\n"
     ]
    },
    {
     "data": {
      "text/plain": [
       "3368358"
      ]
     },
     "execution_count": 14,
     "metadata": {},
     "output_type": "execute_result"
    }
   ],
   "source": [
    "life_support(diagnostics_full)"
   ]
  },
  {
   "cell_type": "code",
   "execution_count": null,
   "id": "7924782a",
   "metadata": {},
   "outputs": [],
   "source": []
  }
 ],
 "metadata": {
  "kernelspec": {
   "display_name": "Python 3 (ipykernel)",
   "language": "python",
   "name": "python3"
  },
  "language_info": {
   "codemirror_mode": {
    "name": "ipython",
    "version": 3
   },
   "file_extension": ".py",
   "mimetype": "text/x-python",
   "name": "python",
   "nbconvert_exporter": "python",
   "pygments_lexer": "ipython3",
   "version": "3.8.8"
  },
  "varInspector": {
   "cols": {
    "lenName": 16,
    "lenType": 16,
    "lenVar": 40
   },
   "kernels_config": {
    "python": {
     "delete_cmd_postfix": "",
     "delete_cmd_prefix": "del ",
     "library": "var_list.py",
     "varRefreshCmd": "print(var_dic_list())"
    },
    "r": {
     "delete_cmd_postfix": ") ",
     "delete_cmd_prefix": "rm(",
     "library": "var_list.r",
     "varRefreshCmd": "cat(var_dic_list()) "
    }
   },
   "position": {
    "height": "377.844px",
    "left": "1550px",
    "right": "20px",
    "top": "120px",
    "width": "350px"
   },
   "types_to_exclude": [
    "module",
    "function",
    "builtin_function_or_method",
    "instance",
    "_Feature"
   ],
   "window_display": true
  }
 },
 "nbformat": 4,
 "nbformat_minor": 5
}
