{
 "cells": [
  {
   "cell_type": "markdown",
   "id": "4ff16edd",
   "metadata": {},
   "source": [
    "# Day 5: Hydrothermal Venture"
   ]
  },
  {
   "cell_type": "markdown",
   "id": "232a1214",
   "metadata": {},
   "source": [
    "## Part 1"
   ]
  },
  {
   "cell_type": "markdown",
   "id": "1efcabd5",
   "metadata": {},
   "source": [
    "You come across a field of hydrothermal vents on the ocean floor! These vents constantly produce large, opaque clouds, so it would be best to avoid them if possible.\n",
    "\n",
    "They tend to form in lines; the submarine helpfully produces a list of nearby lines of vents (your puzzle input) for you to review. For example:\n",
    "```\n",
    "0,9 -> 5,9\n",
    "8,0 -> 0,8\n",
    "9,4 -> 3,4\n",
    "2,2 -> 2,1\n",
    "7,0 -> 7,4\n",
    "6,4 -> 2,0\n",
    "0,9 -> 2,9\n",
    "3,4 -> 1,4\n",
    "0,0 -> 8,8\n",
    "5,5 -> 8,2\n",
    "```\n",
    "Each line of vents is given as a line segment in the format x1,y1 -> x2,y2 where x1,y1 are the coordinates of one end the line segment and x2,y2 are the coordinates of the other end. These line segments include the points at both ends. In other words:\n",
    "\n",
    "- An entry like 1,1 -> 1,3 covers points 1,1, 1,2, and 1,3.\n",
    "- An entry like 9,7 -> 7,7 covers points 9,7, 8,7, and 7,7.\n",
    "\n",
    "For now, only consider horizontal and vertical lines: lines where either x1 = x2 or y1 = y2.\n",
    "\n",
    "So, the horizontal and vertical lines from the above list would produce the following diagram:\n",
    "```\n",
    ".......1..\n",
    "..1....1..\n",
    "..1....1..\n",
    ".......1..\n",
    ".112111211\n",
    "..........\n",
    "..........\n",
    "..........\n",
    "..........\n",
    "222111....\n",
    "```\n",
    "In this diagram, the top left corner is 0,0 and the bottom right corner is 9,9. Each position is shown as the number of lines which cover that point or . if no line covers that point. The top-left pair of 1s, for example, comes from 2,2 -> 2,1; the very bottom row is formed by the overlapping lines 0,9 -> 5,9 and 0,9 -> 2,9.\n",
    "\n",
    "To avoid the most dangerous areas, you need to determine the number of points where at least two lines overlap. In the above example, this is anywhere in the diagram with a 2 or larger - a total of 5 points.\n",
    "\n",
    "Consider only horizontal and vertical lines. At how many points do at least two lines overlap?"
   ]
  },
  {
   "cell_type": "code",
   "execution_count": 1,
   "id": "e79235b1",
   "metadata": {},
   "outputs": [],
   "source": [
    "import numpy as np"
   ]
  },
  {
   "cell_type": "code",
   "execution_count": 2,
   "id": "ca4d75fb",
   "metadata": {},
   "outputs": [],
   "source": [
    "def load_vents(path):\n",
    "    file = open(path, \"r\")\n",
    "    lines = file.readlines()\n",
    "    lines = np.array([l.strip(\"\\n\") for l in lines])\n",
    "    lines = ([l.split(\" -> \") for l in lines])\n",
    "    \n",
    "    nrows = int(len(lines))\n",
    "    ncols = int(len(lines[0]))\n",
    "    \n",
    "    coords = np.zeros([nrows,ncols])\n",
    "    \n",
    "    for i in range(0, nrows):\n",
    "        for j in range(0, ncols):\n",
    "            lines[i][j] = lines[i][j].split(',')\n",
    "    for i in range(0, nrows):\n",
    "        for j in range(0, ncols):\n",
    "            for k in range(0,len(lines[1][0])):\n",
    "                lines[i][j][k] = int(lines[i][j][k])\n",
    "    \n",
    "    lines = np.array(lines)\n",
    "    size = np.shape(lines)\n",
    "    lines = np.reshape(lines,[size[0],size[1]*size[2]])\n",
    "    return lines"
   ]
  },
  {
   "cell_type": "code",
   "execution_count": 3,
   "id": "a00fd8c8",
   "metadata": {},
   "outputs": [],
   "source": [
    "def write_map(vents):\n",
    "    \n",
    "    max_dims = np.max(vents,0)\n",
    "    \n",
    "    max_x = max([max_dims[0],max_dims[2]])\n",
    "    max_y = max([max_dims[1],max_dims[3]])\n",
    "\n",
    "    vent_map = np.zeros([max_x+1,max_y+1])\n",
    "    \n",
    "    for vi,v in enumerate(vents):\n",
    "        if v[0] == v[2]:   # horizontal line\n",
    "            \n",
    "            x = np.sort([v[0],v[2]])\n",
    "            y = np.sort([v[1],v[3]])\n",
    "            \n",
    "            y = np.array(range(y[0],y[1]+1))\n",
    "            x = np.array([x[0]]*len(y))\n",
    "            \n",
    "            vent_map[y,x]+=1\n",
    "            \n",
    "        elif v[1] == v[3]:  # vertical line\n",
    "                    \n",
    "            x = np.sort([v[0],v[2]])\n",
    "            y = np.sort([v[1],v[3]])\n",
    "            \n",
    "            x = np.array(range(x[0],x[1]+1))\n",
    "            y = np.array([y[0]]*len(x))\n",
    " \n",
    "            vent_map[y,x]+=1\n",
    "        \n",
    "        else: \n",
    "            continue\n",
    "            \n",
    "    danger_zones = (vent_map > 1).sum()\n",
    "    \n",
    "    return vent_map, danger_zones"
   ]
  },
  {
   "cell_type": "code",
   "execution_count": 4,
   "id": "4e740faf",
   "metadata": {},
   "outputs": [],
   "source": [
    "vents = load_vents(\"day05_data_test.txt\")"
   ]
  },
  {
   "cell_type": "code",
   "execution_count": 5,
   "id": "caf43fdc",
   "metadata": {},
   "outputs": [
    {
     "name": "stdout",
     "output_type": "stream",
     "text": [
      "[[0 9 5 9]\n",
      " [8 0 0 8]\n",
      " [9 4 3 4]\n",
      " [2 2 2 1]\n",
      " [7 0 7 4]\n",
      " [6 4 2 0]\n",
      " [0 9 2 9]\n",
      " [3 4 1 4]\n",
      " [0 0 8 8]\n",
      " [5 5 8 2]]\n"
     ]
    }
   ],
   "source": [
    "print(vents)"
   ]
  },
  {
   "cell_type": "code",
   "execution_count": 6,
   "id": "29bbe3ee",
   "metadata": {},
   "outputs": [
    {
     "data": {
      "text/plain": [
       "(array([[0., 0., 0., 0., 0., 0., 0., 1., 0., 0.],\n",
       "        [0., 0., 1., 0., 0., 0., 0., 1., 0., 0.],\n",
       "        [0., 0., 1., 0., 0., 0., 0., 1., 0., 0.],\n",
       "        [0., 0., 0., 0., 0., 0., 0., 1., 0., 0.],\n",
       "        [0., 1., 1., 2., 1., 1., 1., 2., 1., 1.],\n",
       "        [0., 0., 0., 0., 0., 0., 0., 0., 0., 0.],\n",
       "        [0., 0., 0., 0., 0., 0., 0., 0., 0., 0.],\n",
       "        [0., 0., 0., 0., 0., 0., 0., 0., 0., 0.],\n",
       "        [0., 0., 0., 0., 0., 0., 0., 0., 0., 0.],\n",
       "        [2., 2., 2., 1., 1., 1., 0., 0., 0., 0.]]),\n",
       " 5)"
      ]
     },
     "execution_count": 6,
     "metadata": {},
     "output_type": "execute_result"
    }
   ],
   "source": [
    "write_map(vents)"
   ]
  },
  {
   "cell_type": "markdown",
   "id": "7989ab72",
   "metadata": {},
   "source": [
    "## Part 2"
   ]
  },
  {
   "cell_type": "markdown",
   "id": "4e17d609",
   "metadata": {},
   "source": [
    "Unfortunately, considering only horizontal and vertical lines doesn't give you the full picture; you need to also consider diagonal lines.\n",
    "\n",
    "Because of the limits of the hydrothermal vent mapping system, the lines in your list will only ever be horizontal, vertical, or a diagonal line at exactly 45 degrees. In other words:\n",
    "\n",
    "- An entry like 1,1 -> 3,3 covers points 1,1, 2,2, and 3,3.\n",
    "- An entry like 9,7 -> 7,9 covers points 9,7, 8,8, and 7,9.\n",
    "Considering all lines from the above example would now produce the following diagram:\n",
    "```\n",
    "1.1....11.\n",
    ".111...2..\n",
    "..2.1.111.\n",
    "...1.2.2..\n",
    ".112313211\n",
    "...1.2....\n",
    "..1...1...\n",
    ".1.....1..\n",
    "1.......1.\n",
    "222111....\n",
    "```\n",
    "You still need to determine the number of points where at least two lines overlap. In the above example, this is still anywhere in the diagram with a 2 or larger - now a total of 12 points.\n",
    "\n",
    "Consider all of the lines. At how many points do at least two lines overlap?"
   ]
  },
  {
   "cell_type": "code",
   "execution_count": 7,
   "id": "f5b4f766",
   "metadata": {},
   "outputs": [],
   "source": [
    "def write_map(vents):\n",
    "    \n",
    "    max_dims = np.max(vents,0)\n",
    "    \n",
    "    max_x = max([max_dims[0],max_dims[2]])\n",
    "    max_y = max([max_dims[1],max_dims[3]])\n",
    "\n",
    "    vent_map = np.zeros([max_x+1,max_y+1])\n",
    "    \n",
    "    for vi,v in enumerate(vents):\n",
    "        if v[0] == v[2]:   # horizontal line\n",
    "            \n",
    "            x = np.sort([v[0],v[2]])\n",
    "            y = np.sort([v[1],v[3]])\n",
    "            \n",
    "            y = np.array(range(y[0],y[1]+1))\n",
    "            x = np.array([x[0]]*len(y))\n",
    "            \n",
    "            vent_map[y,x]+=1\n",
    "            \n",
    "        elif v[1] == v[3]:  # vertical line\n",
    "                    \n",
    "            x = np.sort([v[0],v[2]])\n",
    "            y = np.sort([v[1],v[3]])\n",
    "            \n",
    "            x = np.array(range(x[0],x[1]+1))\n",
    "            y = np.array([y[0]]*len(x))\n",
    " \n",
    "            vent_map[y,x]+=1\n",
    "        \n",
    "        else: # diagonal line\n",
    "            \n",
    "            if v[2] > v[0]:\n",
    "                x = np.array(range(v[0], v[2] + 1))\n",
    "            else:\n",
    "                x = np.array(range(v[0], v[2] - 1, -1))\n",
    "            if v[3] > v[1]:\n",
    "                y = np.array(range(v[1], v[3] + 1))\n",
    "            else:\n",
    "                y = np.array(range(v[1], v[3] - 1, -1))\n",
    "                \n",
    "            vent_map[y,x]+=1\n",
    "            \n",
    "    danger_zones = (vent_map > 1).sum()\n",
    "    \n",
    "    return vent_map, danger_zones\n",
    "\n"
   ]
  },
  {
   "cell_type": "code",
   "execution_count": 8,
   "id": "1f1ee7d2",
   "metadata": {},
   "outputs": [],
   "source": [
    "vents = load_vents(\"day05_data.txt\")"
   ]
  },
  {
   "cell_type": "code",
   "execution_count": 9,
   "id": "763b7f34",
   "metadata": {},
   "outputs": [
    {
     "data": {
      "text/plain": [
       "(array([[0., 0., 0., ..., 0., 0., 0.],\n",
       "        [0., 0., 0., ..., 0., 0., 0.],\n",
       "        [0., 0., 0., ..., 0., 0., 0.],\n",
       "        ...,\n",
       "        [0., 0., 0., ..., 0., 0., 0.],\n",
       "        [0., 0., 0., ..., 0., 0., 0.],\n",
       "        [0., 0., 0., ..., 0., 0., 0.]]),\n",
       " 17787)"
      ]
     },
     "execution_count": 9,
     "metadata": {},
     "output_type": "execute_result"
    }
   ],
   "source": [
    "write_map(vents)"
   ]
  }
 ],
 "metadata": {
  "kernelspec": {
   "display_name": "Python 3 (ipykernel)",
   "language": "python",
   "name": "python3"
  },
  "language_info": {
   "codemirror_mode": {
    "name": "ipython",
    "version": 3
   },
   "file_extension": ".py",
   "mimetype": "text/x-python",
   "name": "python",
   "nbconvert_exporter": "python",
   "pygments_lexer": "ipython3",
   "version": "3.8.8"
  },
  "varInspector": {
   "cols": {
    "lenName": 16,
    "lenType": 16,
    "lenVar": 40
   },
   "kernels_config": {
    "python": {
     "delete_cmd_postfix": "",
     "delete_cmd_prefix": "del ",
     "library": "var_list.py",
     "varRefreshCmd": "print(var_dic_list())"
    },
    "r": {
     "delete_cmd_postfix": ") ",
     "delete_cmd_prefix": "rm(",
     "library": "var_list.r",
     "varRefreshCmd": "cat(var_dic_list()) "
    }
   },
   "position": {
    "height": "529.844px",
    "left": "1550px",
    "right": "20px",
    "top": "120px",
    "width": "350px"
   },
   "types_to_exclude": [
    "module",
    "function",
    "builtin_function_or_method",
    "instance",
    "_Feature"
   ],
   "window_display": true
  }
 },
 "nbformat": 4,
 "nbformat_minor": 5
}
