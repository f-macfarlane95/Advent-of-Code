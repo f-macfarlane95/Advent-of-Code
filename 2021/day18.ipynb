{
 "cells": [
  {
   "cell_type": "markdown",
   "id": "07d9cc63",
   "metadata": {},
   "source": [
    "# Day 18: Snailfish"
   ]
  },
  {
   "cell_type": "markdown",
   "id": "c30d1ffc",
   "metadata": {},
   "source": [
    "## Part 1"
   ]
  },
  {
   "cell_type": "markdown",
   "id": "7bec11dd",
   "metadata": {},
   "source": [
    "You descend into the ocean trench and encounter some snailfish. They say they saw the sleigh keys! They'll even tell you which direction the keys went if you help one of the smaller snailfish with his **math homework**.\n",
    "\n",
    "Snailfish numbers aren't like regular numbers. Instead, every snailfish number is a **pair** - an ordered list of two elements. Each element of the pair can be either a regular number or another pair.\n",
    "\n",
    "Pairs are written as ```[x,y]```, where ```x``` and ```y``` are the elements within the pair. Here are some example snailfish numbers, one snailfish number per line:\n",
    "```\n",
    "[1,2]\n",
    "[[1,2],3]\n",
    "[9,[8,7]]\n",
    "[[1,9],[8,5]]\n",
    "[[[[1,2],[3,4]],[[5,6],[7,8]]],9]\n",
    "[[[9,[3,8]],[[0,9],6]],[[[3,7],[4,9]],3]]\n",
    "[[[[1,3],[5,3]],[[1,3],[8,7]]],[[[4,9],[6,9]],[[8,2],[7,3]]]]\n",
    "```\n",
    "\n",
    "This snailfish homework is about **addition**. To add two snailfish numbers, form a pair from the left and right parameters of the addition operator. For example, ```[1,2]``` + ```[[3,4],5]``` becomes ```[[1,2],[[3,4],5]]```.\n",
    "\n",
    "There's only one problem: **snailfish numbers must always be reduced**, and the process of adding two snailfish numbers can result in snailfish numbers that need to be reduced.\n",
    "\n",
    "To **reduce a snailfish number**, you must repeatedly do the first action in this list that applies to the snailfish number:\n",
    "\n",
    "- If any pair is **nested inside four pairs**, the leftmost such pair **explodes**.\n",
    "- If any regular number is **10 or greater**, the leftmost such regular number **splits**.\n",
    "\n",
    "Once no action in the above list applies, the snailfish number is reduced.\n",
    "\n",
    "During reduction, at most one action applies, after which the process returns to the top of the list of actions. For example, if **split** produces a pair that meets the **explode** criteria, that pair **explodes** before other **splits** occur.\n",
    "\n",
    "To **explode** a pair, the pair's left value is added to the first regular number to the left of the exploding pair (if any), and the pair's right value is added to the first regular number to the right of the exploding pair (if any). Exploding pairs will always consist of two regular numbers. Then, the entire exploding pair is replaced with the regular number ```0```.\n",
    "\n",
    "Here are some examples of a single explode action:\n",
    "\n",
    "- ```[[[[[9,8],1],2],3],4]``` becomes ```[[[[0,9],2],3],4]``` (the ```9``` has no regular number to its left, so it is not added to any regular number).\n",
    "- ```[7,[6,[5,[4,[3,2]]]]]``` becomes ```[7,[6,[5,[7,0]]]]``` (the ```2``` has no regular number to its right, and so it is not added to any regular number).\n",
    "- ```[[6,[5,[4,[3,2]]]],1]``` becomes ```[[6,[5,[7,0]]],3]```.\n",
    "- ```[[3,[2,[1,[7,3]]]],[6,[5,[4,[3,2]]]]]``` becomes ```[[3,[2,[8,0]]],[9,[5,[4,[3,2]]]]]``` (the pair ```[3,2]``` is unaffected because the pair - ```[7,3]``` is further to the left; ```[3,2]``` would explode on the next action).\n",
    "- ```[[3,[2,[8,0]]],[9,[5,[4,[3,2]]]]]``` becomes ```[[3,[2,[8,0]]],[9,[5,[7,0]]]]```.\n",
    "\n",
    "To **split** a regular number, replace it with a pair; the left element of the pair should be the regular number divided by two and rounded **down**, while the right element of the pair should be the regular number divided by two and rounded **up**. For example, ```10``` becomes ```[5,5]```, ```11``` becomes ```[5,6]```, ```12``` becomes ```[6,6]```, and so on.\n",
    "\n",
    "Here is the process of finding the reduced result of ```[[[[4,3],4],4],[7,[[8,4],9]]]``` + ```[1,1]```:\n",
    "```\n",
    "after addition: [[[[[4,3],4],4],[7,[[8,4],9]]],[1,1]]\n",
    "after explode:  [[[[0,7],4],[7,[[8,4],9]]],[1,1]]\n",
    "after explode:  [[[[0,7],4],[15,[0,13]]],[1,1]]\n",
    "after split:    [[[[0,7],4],[[7,8],[0,13]]],[1,1]]\n",
    "after split:    [[[[0,7],4],[[7,8],[0,[6,7]]]],[1,1]]\n",
    "after explode:  [[[[0,7],4],[[7,8],[6,0]]],[8,1]]\n",
    "```\n",
    "\n",
    "Once no reduce actions apply, the snailfish number that remains is the actual result of the addition operation: ```[[[[0,7],4],[[7,8],[6,0]]],[8,1]]```.\n",
    "\n",
    "The homework assignment involves adding up a **list of snailfish numbers** (your puzzle input). The snailfish numbers are each listed on a separate line. Add the first snailfish number and the second, then add that result and the third, then add that result and the fourth, and so on until all numbers in the list have been used once.\n",
    "\n",
    "For example, the final sum of this list is ```[[[[1,1],[2,2]],[3,3]],[4,4]]```:\n",
    "```\n",
    "[1,1]\n",
    "[2,2]\n",
    "[3,3]\n",
    "[4,4]\n",
    "```\n",
    "\n",
    "The final sum of this list is ```[[[[3,0],[5,3]],[4,4]],[5,5]]```:\n",
    "```\n",
    "[1,1]\n",
    "[2,2]\n",
    "[3,3]\n",
    "[4,4]\n",
    "[5,5]\n",
    "```\n",
    "\n",
    "The final sum of this list is ```[[[[5,0],[7,4]],[5,5]],[6,6]]```:\n",
    "```\n",
    "[1,1]\n",
    "[2,2]\n",
    "[3,3]\n",
    "[4,4]\n",
    "[5,5]\n",
    "[6,6]\n",
    "```\n",
    "\n",
    "Here's a slightly larger example:\n",
    "```\n",
    "[[[0,[4,5]],[0,0]],[[[4,5],[2,6]],[9,5]]]\n",
    "[7,[[[3,7],[4,3]],[[6,3],[8,8]]]]\n",
    "[[2,[[0,8],[3,4]]],[[[6,7],1],[7,[1,6]]]]\n",
    "[[[[2,4],7],[6,[0,5]]],[[[6,8],[2,8]],[[2,1],[4,5]]]]\n",
    "[7,[5,[[3,8],[1,4]]]]\n",
    "[[2,[2,2]],[8,[8,1]]]\n",
    "[2,9]\n",
    "[1,[[[9,3],9],[[9,0],[0,7]]]]\n",
    "[[[5,[7,4]],7],1]\n",
    "[[[[4,2],2],6],[8,7]]\n",
    "```\n",
    "\n",
    "The final sum ```[[[[8,7],[7,7]],[[8,6],[7,7]]],[[[0,7],[6,6]],[8,7]]]``` is found after adding up the above snailfish numbers:\n",
    "\n",
    "```\n",
    "  [[[0,[4,5]],[0,0]],[[[4,5],[2,6]],[9,5]]]\n",
    "+ [7,[[[3,7],[4,3]],[[6,3],[8,8]]]]\n",
    "= [[[[4,0],[5,4]],[[7,7],[6,0]]],[[8,[7,7]],[[7,9],[5,0]]]]\n",
    "\n",
    "  [[[[4,0],[5,4]],[[7,7],[6,0]]],[[8,[7,7]],[[7,9],[5,0]]]]\n",
    "+ [[2,[[0,8],[3,4]]],[[[6,7],1],[7,[1,6]]]]\n",
    "= [[[[6,7],[6,7]],[[7,7],[0,7]]],[[[8,7],[7,7]],[[8,8],[8,0]]]]\n",
    "\n",
    "  [[[[6,7],[6,7]],[[7,7],[0,7]]],[[[8,7],[7,7]],[[8,8],[8,0]]]]\n",
    "+ [[[[2,4],7],[6,[0,5]]],[[[6,8],[2,8]],[[2,1],[4,5]]]]\n",
    "= [[[[7,0],[7,7]],[[7,7],[7,8]]],[[[7,7],[8,8]],[[7,7],[8,7]]]]\n",
    "\n",
    "  [[[[7,0],[7,7]],[[7,7],[7,8]]],[[[7,7],[8,8]],[[7,7],[8,7]]]]\n",
    "+ [7,[5,[[3,8],[1,4]]]]\n",
    "= [[[[7,7],[7,8]],[[9,5],[8,7]]],[[[6,8],[0,8]],[[9,9],[9,0]]]]\n",
    "\n",
    "  [[[[7,7],[7,8]],[[9,5],[8,7]]],[[[6,8],[0,8]],[[9,9],[9,0]]]]\n",
    "+ [[2,[2,2]],[8,[8,1]]]\n",
    "= [[[[6,6],[6,6]],[[6,0],[6,7]]],[[[7,7],[8,9]],[8,[8,1]]]]\n",
    "\n",
    "  [[[[6,6],[6,6]],[[6,0],[6,7]]],[[[7,7],[8,9]],[8,[8,1]]]]\n",
    "+ [2,9]\n",
    "= [[[[6,6],[7,7]],[[0,7],[7,7]]],[[[5,5],[5,6]],9]]\n",
    "\n",
    "  [[[[6,6],[7,7]],[[0,7],[7,7]]],[[[5,5],[5,6]],9]]\n",
    "+ [1,[[[9,3],9],[[9,0],[0,7]]]]\n",
    "= [[[[7,8],[6,7]],[[6,8],[0,8]]],[[[7,7],[5,0]],[[5,5],[5,6]]]]\n",
    "\n",
    "  [[[[7,8],[6,7]],[[6,8],[0,8]]],[[[7,7],[5,0]],[[5,5],[5,6]]]]\n",
    "+ [[[5,[7,4]],7],1]\n",
    "= [[[[7,7],[7,7]],[[8,7],[8,7]]],[[[7,0],[7,7]],9]]\n",
    "\n",
    "  [[[[7,7],[7,7]],[[8,7],[8,7]]],[[[7,0],[7,7]],9]]\n",
    "+ [[[[4,2],2],6],[8,7]]\n",
    "= [[[[8,7],[7,7]],[[8,6],[7,7]]],[[[0,7],[6,6]],[8,7]]]\n",
    "```\n",
    "\n",
    "To check whether it's the right answer, the snailfish teacher only checks the **magnitude** of the final sum. The magnitude of a pair is 3 times the magnitude of its left element plus 2 times the magnitude of its right element. The magnitude of a regular number is just that number.\n",
    "\n",
    "For example, the magnitude of ```[9,1]``` is ```3*9 + 2*1 = 29```; the magnitude of ```[1,9]``` is ```3*1 + 2*9 = 21```. Magnitude calculations are recursive: the magnitude of ```[[9,1],[1,9]]``` is ```3*29 + 2*21 = 129```.\n",
    "\n",
    "Here are a few more magnitude examples:\n",
    "\n",
    "- ```[[1,2],[[3,4],5]]``` becomes **```143```**.\n",
    "- ```[[[[0,7],4],[[7,8],[6,0]]],[8,1]]``` becomes **```1384```**.\n",
    "- ```[[[[1,1],[2,2]],[3,3]],[4,4]]``` becomes **```445```**.\n",
    "- ```[[[[3,0],[5,3]],[4,4]],[5,5]]``` becomes **```791```**.\n",
    "- ```[[[[5,0],[7,4]],[5,5]],[6,6]]``` becomes **```1137```**.\n",
    "- ```[[[[8,7],[7,7]],[[8,6],[7,7]]],[[[0,7],[6,6]],[8,7]]]``` becomes **```3488```**.\n",
    "\n",
    "\n",
    "So, given this example homework assignment:\n",
    "```\n",
    "[[[0,[5,8]],[[1,7],[9,6]]],[[4,[1,2]],[[1,4],2]]]\n",
    "[[[5,[2,8]],4],[5,[[9,9],0]]]\n",
    "[6,[[[6,2],[5,6]],[[7,6],[4,7]]]]\n",
    "[[[6,[0,7]],[0,9]],[4,[9,[9,0]]]]\n",
    "[[[7,[6,4]],[3,[1,3]]],[[[5,5],1],9]]\n",
    "[[6,[[7,3],[3,2]]],[[[3,8],[5,7]],4]]\n",
    "[[[[5,4],[7,7]],8],[[8,3],8]]\n",
    "[[9,3],[[9,9],[6,[4,9]]]]\n",
    "[[2,[[7,7],7]],[[5,8],[[9,3],[0,2]]]]\n",
    "[[[[5,2],5],[8,[3,7]]],[[5,[7,5]],[4,4]]]\n",
    "```\n",
    "\n",
    "The final sum is:\n",
    "\n",
    "```[[[[6,6],[7,6]],[[7,7],[7,0]]],[[[7,7],[7,7]],[[7,8],[9,9]]]]```\n",
    "The magnitude of this final sum is ```4140```.\n",
    "\n",
    "Add up all of the snailfish numbers from the homework assignment in the order they appear. **What is the magnitude of the final sum?**"
   ]
  },
  {
   "cell_type": "code",
   "execution_count": 1,
   "id": "1e6fe859",
   "metadata": {
    "ExecuteTime": {
     "end_time": "2021-12-20T14:11:31.388788Z",
     "start_time": "2021-12-20T14:11:31.115150Z"
    }
   },
   "outputs": [],
   "source": [
    "import numpy as np\n",
    "import math\n",
    "import re\n",
    "import functools"
   ]
  },
  {
   "cell_type": "code",
   "execution_count": 2,
   "id": "519f7fa5",
   "metadata": {
    "ExecuteTime": {
     "end_time": "2021-12-20T14:11:31.420446Z",
     "start_time": "2021-12-20T14:11:31.392459Z"
    }
   },
   "outputs": [],
   "source": [
    "def load_input(path):\n",
    "    file = open(path,\"r\")\n",
    "    lines = file.readlines()\n",
    "    file.close()\n",
    "    lines = [l.replace(\"\\n\",'') for l in lines]\n",
    "    return flatten(lines)\n",
    "\n",
    "def flatten(lines):\n",
    "    flattened_lines = []\n",
    "    for line in lines:\n",
    "        list_depth = []\n",
    "        depth = 0\n",
    "        for i in range(len(line)):\n",
    "            if line[i] == '[':\n",
    "                depth += 1 # increase depth after each nested pair\n",
    "            elif line[i] ==  ']':\n",
    "                depth -= 1 # decrease depth after leaving each nested level\n",
    "            elif line[i] == ',':\n",
    "                pass # \n",
    "            else:\n",
    "                list_depth.append([int(line[i]),depth])\n",
    "        flattened_lines.append(list_depth)\n",
    "        \n",
    "    return flattened_lines\n",
    "\n",
    "def add(sn1, sn2):\n",
    "    s = [[entry[0],entry[1]+1] for entry in sn1 + sn2]\n",
    "    updated = True\n",
    "    while updated:\n",
    "        updated = False\n",
    "        for i in range(len(s)):\n",
    "            depth = s[i][1]\n",
    "            if depth >= 5 and depth==s[i+1][1]:\n",
    "                if i > 0:\n",
    "                    s[i-1][0] += s[i][0]\n",
    "                if i < len(s)-2:\n",
    "                    s[i+2][0] += s[i+1][0]\n",
    "                del s[i:i+2]\n",
    "                s.insert(i,[0,depth-1])\n",
    "                updated = True\n",
    "                break\n",
    "        if not updated:\n",
    "            for i in range(len(s)):\n",
    "                if s[i][0] > 9:\n",
    "                    [val, depth] = s[i]\n",
    "                    del s[i]\n",
    "                    s.insert(i,[int(np.ceil(val/2)), depth+1])\n",
    "                    s.insert(i,[int(np.floor(val/2)), depth+1])\n",
    "                    updated = True\n",
    "                    break\n",
    "    return s\n",
    "\n",
    "def magnitude(sn):\n",
    "    while len(sn) > 1:\n",
    "        for i in range(len(sn)):\n",
    "            if i < len(sn) - 1 and sn[i][1] == sn[i+1][1]:\n",
    "                depth = sn[i][1]\n",
    "                val = sn[i][0] * 3 + sn[i+1][0] * 2\n",
    "                del sn[i:i+2]\n",
    "                sn.insert(i,[val,depth-1])\n",
    "                break\n",
    "    return sn[0][0]"
   ]
  },
  {
   "cell_type": "code",
   "execution_count": 3,
   "id": "3c48fd09",
   "metadata": {
    "ExecuteTime": {
     "end_time": "2021-12-20T14:11:31.435490Z",
     "start_time": "2021-12-20T14:11:31.423488Z"
    }
   },
   "outputs": [],
   "source": [
    "processed = load_input(\"day18_data.txt\")"
   ]
  },
  {
   "cell_type": "code",
   "execution_count": 4,
   "id": "5118997f",
   "metadata": {
    "ExecuteTime": {
     "end_time": "2021-12-20T14:11:31.467630Z",
     "start_time": "2021-12-20T14:11:31.440449Z"
    }
   },
   "outputs": [
    {
     "name": "stdout",
     "output_type": "stream",
     "text": [
      "143\n",
      "1384\n",
      "445\n",
      "791\n",
      "1137\n",
      "3488\n"
     ]
    }
   ],
   "source": [
    "print(magnitude(flatten([\"[[1,2],[[3,4],5]]\"])[0]))\n",
    "print(magnitude(flatten([\"[[[[0,7],4],[[7,8],[6,0]]],[8,1]]\"])[0]))\n",
    "print(magnitude(flatten([\"[[[[1,1],[2,2]],[3,3]],[4,4]]\"])[0]))\n",
    "print(magnitude(flatten([\"[[[[3,0],[5,3]],[4,4]],[5,5]]\"])[0]))\n",
    "print(magnitude(flatten([\"[[[[5,0],[7,4]],[5,5]],[6,6]]\"])[0]))\n",
    "print(magnitude(flatten([\"[[[[8,7],[7,7]],[[8,6],[7,7]]],[[[0,7],[6,6]],[8,7]]]\"])[0]))"
   ]
  },
  {
   "cell_type": "code",
   "execution_count": 5,
   "id": "e9122468",
   "metadata": {
    "ExecuteTime": {
     "end_time": "2021-12-20T14:11:31.593483Z",
     "start_time": "2021-12-20T14:11:31.471469Z"
    }
   },
   "outputs": [
    {
     "name": "stdout",
     "output_type": "stream",
     "text": [
      "4347\n"
     ]
    }
   ],
   "source": [
    "res_part1 = magnitude(functools.reduce(add, processed))\n",
    "print(res_part1)"
   ]
  },
  {
   "cell_type": "markdown",
   "id": "af883282",
   "metadata": {},
   "source": [
    "# Part 2"
   ]
  },
  {
   "cell_type": "markdown",
   "id": "c409531d",
   "metadata": {},
   "source": [
    "You notice a second question on the back of the homework assignment:\n",
    "\n",
    "What is the largest magnitude you can get from adding only two of the snailfish numbers?\n",
    "\n",
    "Note that snailfish addition is not commutative - that is, ```x + y``` and ```y + x``` can produce different results.\n",
    "\n",
    "Again considering the last example homework assignment above:\n",
    "```\n",
    "[[[0,[5,8]],[[1,7],[9,6]]],[[4,[1,2]],[[1,4],2]]]\n",
    "[[[5,[2,8]],4],[5,[[9,9],0]]]\n",
    "[6,[[[6,2],[5,6]],[[7,6],[4,7]]]]\n",
    "[[[6,[0,7]],[0,9]],[4,[9,[9,0]]]]\n",
    "[[[7,[6,4]],[3,[1,3]]],[[[5,5],1],9]]\n",
    "[[6,[[7,3],[3,2]]],[[[3,8],[5,7]],4]]\n",
    "[[[[5,4],[7,7]],8],[[8,3],8]]\n",
    "[[9,3],[[9,9],[6,[4,9]]]]\n",
    "[[2,[[7,7],7]],[[5,8],[[9,3],[0,2]]]]\n",
    "[[[[5,2],5],[8,[3,7]]],[[5,[7,5]],[4,4]]]\n",
    "```\n",
    "\n",
    "The largest magnitude of the sum of any two snailfish numbers in this list is **```3993```**. This is the magnitude of `[[2,[[7,7],7]],[[5,8],[[9,3],[0,2]]]] + [[[0,[5,8]],[[1,7],[9,6]]],[[4,[1,2]],[[1,4],2]]], which reduces to [[[[7,8],[6,6]],[[6,0],[7,7]]],[[[7,8],[8,8]],[[7,9],[0,6]]]]`.\n",
    "\n",
    "**What is the largest magnitude of any sum of two different snailfish numbers from the homework assignment?**"
   ]
  },
  {
   "cell_type": "code",
   "execution_count": 6,
   "id": "327e763b",
   "metadata": {
    "ExecuteTime": {
     "end_time": "2021-12-20T14:11:33.149471Z",
     "start_time": "2021-12-20T14:11:31.597448Z"
    }
   },
   "outputs": [
    {
     "name": "stdout",
     "output_type": "stream",
     "text": [
      "4721\n"
     ]
    }
   ],
   "source": [
    "res_part2 = 0\n",
    "for i in range(len(processed)-1):\n",
    "    for j in range(i+1, len(processed)):\n",
    "        res_part2 = max(res_part2, magnitude(add(processed[i], processed[j])), magnitude(add(processed[j], processed[i])))\n",
    "print(res_part2)"
   ]
  }
 ],
 "metadata": {
  "kernelspec": {
   "display_name": "Python 3 (ipykernel)",
   "language": "python",
   "name": "python3"
  },
  "language_info": {
   "codemirror_mode": {
    "name": "ipython",
    "version": 3
   },
   "file_extension": ".py",
   "mimetype": "text/x-python",
   "name": "python",
   "nbconvert_exporter": "python",
   "pygments_lexer": "ipython3",
   "version": "3.9.7"
  },
  "toc": {
   "base_numbering": 1,
   "nav_menu": {},
   "number_sections": true,
   "sideBar": true,
   "skip_h1_title": false,
   "title_cell": "Table of Contents",
   "title_sidebar": "Contents",
   "toc_cell": false,
   "toc_position": {},
   "toc_section_display": true,
   "toc_window_display": false
  },
  "varInspector": {
   "cols": {
    "lenName": 16,
    "lenType": 16,
    "lenVar": 40
   },
   "kernels_config": {
    "python": {
     "delete_cmd_postfix": "",
     "delete_cmd_prefix": "del ",
     "library": "var_list.py",
     "varRefreshCmd": "print(var_dic_list())"
    },
    "r": {
     "delete_cmd_postfix": ") ",
     "delete_cmd_prefix": "rm(",
     "library": "var_list.r",
     "varRefreshCmd": "cat(var_dic_list()) "
    }
   },
   "oldHeight": 473.837,
   "position": {
    "height": "496.059px",
    "left": "1550.99px",
    "right": "20px",
    "top": "171px",
    "width": "250px"
   },
   "types_to_exclude": [
    "module",
    "function",
    "builtin_function_or_method",
    "instance",
    "_Feature"
   ],
   "varInspector_section_display": "block",
   "window_display": true
  }
 },
 "nbformat": 4,
 "nbformat_minor": 5
}
