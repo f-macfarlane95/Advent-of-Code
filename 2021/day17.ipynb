{
 "cells": [
  {
   "cell_type": "markdown",
   "id": "1c269af5",
   "metadata": {},
   "source": [
    "# Day 17: Trick Shot"
   ]
  },
  {
   "cell_type": "markdown",
   "id": "358d958d",
   "metadata": {},
   "source": [
    "## Part 1"
   ]
  },
  {
   "cell_type": "markdown",
   "id": "dbb6de9e",
   "metadata": {},
   "source": [
    "You finally decode the Elves' message. ```HI```, the message says. You continue searching for the sleigh keys.\n",
    "\n",
    "Ahead of you is what appears to be a large ocean trench. Could the keys have fallen into it? You'd better send a probe to investigate.\n",
    "\n",
    "The probe launcher on your submarine can fire the probe with any integer velocity in the ```x``` (forward) and ```y``` (upward, or downward if negative) directions. For example, an initial ```x,y``` velocity like ```0,10``` would fire the probe straight up, while an initial velocity like ```10,-1``` would fire the probe forward at a slight downward angle.\n",
    "\n",
    "The probe's ```x,y``` position starts at ```0,0```. Then, it will follow some trajectory by moving in **steps**. On each step, these changes occur in the following order:\n",
    "\n",
    "- The probe's ```x``` position increases by its ```x``` velocity.\n",
    "- The probe's ```y``` position increases by its ```y``` velocity.\n",
    "- Due to drag, the probe's ```x``` velocity changes by ```1``` toward the value ```0```; that is, it decreases by ```1``` if it is greater than ```0```, increases by ```1``` if it is less than ```0```, or does not change if it is already ```0```.\n",
    "- Due to gravity, the probe's ```y``` velocity decreases by ```1```.\n",
    "\n",
    "For the probe to successfully make it into the trench, the probe must be on some trajectory that causes it to be within a **target area** after any step. The submarine computer has already calculated this target area (your puzzle input). For example:\n",
    "\n",
    "```target area: x=20..30, y=-10..-5```\n",
    "\n",
    "This target area means that you need to find initial ```x,y``` velocity values such that after any step, the probe's ```x``` position is at least ```20``` and at most ```30```, **and** the probe's ```y``` position is at least ```-10``` and at most ```-5```.\n",
    "\n",
    "Given this target area, one initial velocity that causes the probe to be within the target area after any step is ```7,2```:\n",
    "```\n",
    ".............#....#............\n",
    ".......#..............#........\n",
    "...............................\n",
    "S........................#.....\n",
    "...............................\n",
    "...............................\n",
    "...........................#...\n",
    "...............................\n",
    "....................TTTTTTTTTTT\n",
    "....................TTTTTTTTTTT\n",
    "....................TTTTTTTT#TT\n",
    "....................TTTTTTTTTTT\n",
    "....................TTTTTTTTTTT\n",
    "....................TTTTTTTTTTT\n",
    "```\n",
    "\n",
    "In this diagram, ```S``` is the probe's initial position, ```0,0```. The ```x``` coordinate increases to the right, and the ```y``` coordinate increases upward. In the bottom right, positions that are within the target area are shown as ```T```. After each step (until the target area is reached), the position of the probe is marked with ```#```. (The bottom-right ```#``` is both a position the probe reaches and a position in the target area.)\n",
    "\n",
    "Another initial velocity that causes the probe to be within the target area after any step is ```6,3```:\n",
    "```\n",
    "...............#..#............\n",
    "...........#........#..........\n",
    "...............................\n",
    "......#..............#.........\n",
    "...............................\n",
    "...............................\n",
    "S....................#.........\n",
    "...............................\n",
    "...............................\n",
    "...............................\n",
    ".....................#.........\n",
    "....................TTTTTTTTTTT\n",
    "....................TTTTTTTTTTT\n",
    "....................TTTTTTTTTTT\n",
    "....................TTTTTTTTTTT\n",
    "....................T#TTTTTTTTT\n",
    "....................TTTTTTTTTTT\n",
    "```\n",
    "\n",
    "Another one is ```9,0```:\n",
    "```\n",
    "S........#.....................\n",
    ".................#.............\n",
    "...............................\n",
    "........................#......\n",
    "...............................\n",
    "....................TTTTTTTTTTT\n",
    "....................TTTTTTTTTT#\n",
    "....................TTTTTTTTTTT\n",
    "....................TTTTTTTTTTT\n",
    "....................TTTTTTTTTTT\n",
    "....................TTTTTTTTTTT\n",
    "```\n",
    "\n",
    "One initial velocity that **doesn't** cause the probe to be within the target area after any step is ```17,-4```:\n",
    "```\n",
    "S..............................................................\n",
    "...............................................................\n",
    "...............................................................\n",
    "...............................................................\n",
    ".................#.............................................\n",
    "....................TTTTTTTTTTT................................\n",
    "....................TTTTTTTTTTT................................\n",
    "....................TTTTTTTTTTT................................\n",
    "....................TTTTTTTTTTT................................\n",
    "....................TTTTTTTTTTT..#.............................\n",
    "....................TTTTTTTTTTT................................\n",
    "...............................................................\n",
    "...............................................................\n",
    "...............................................................\n",
    "...............................................................\n",
    "................................................#..............\n",
    "...............................................................\n",
    "...............................................................\n",
    "...............................................................\n",
    "...............................................................\n",
    "...............................................................\n",
    "...............................................................\n",
    "..............................................................#\n",
    "```\n",
    "\n",
    "The probe appears to pass through the target area, but is never within it after any step. Instead, it continues down and to the right - only the first few steps are shown.\n",
    "\n",
    "If you're going to fire a highly scientific probe out of a super cool probe launcher, you might as well do it with **style**. How high can you make the probe go while still reaching the target area?\n",
    "\n",
    "In the above example, using an initial velocity of ```6,9``` is the best you can do, causing the probe to reach a maximum ```y``` position of **```45```**. (Any higher initial ```y``` velocity causes the probe to overshoot the target area entirely.)\n",
    "\n",
    "Find the initial velocity that causes the probe to reach the highest ```y``` position and still eventually be within the target area after any step. **What is the highest ```y``` position it reaches on this trajectory?**"
   ]
  },
  {
   "cell_type": "code",
   "execution_count": 1,
   "id": "0a35e236",
   "metadata": {
    "ExecuteTime": {
     "end_time": "2021-12-17T07:56:16.859008Z",
     "start_time": "2021-12-17T07:56:16.841008Z"
    }
   },
   "outputs": [],
   "source": [
    "import re"
   ]
  },
  {
   "cell_type": "code",
   "execution_count": 2,
   "id": "6b5ad2b2",
   "metadata": {
    "ExecuteTime": {
     "end_time": "2021-12-17T07:56:16.875009Z",
     "start_time": "2021-12-17T07:56:16.861008Z"
    }
   },
   "outputs": [],
   "source": [
    "def load_target_area(path):\n",
    "    file = open(path,\"r\")\n",
    "    lines = file.readlines()\n",
    "    lines = [re.split(r'([+-]?\\d*\\d+(?:[eE][-+]?\\d+)?)',l) for l in lines]\n",
    "    lines = lines[0]\n",
    "    \n",
    "    x1 = int(lines[1])\n",
    "    x2 = int(lines[3])\n",
    "    y1 = int(lines[5])\n",
    "    y2 = int(lines[7])\n",
    "    \n",
    "    return x1, x2, y1, y2"
   ]
  },
  {
   "cell_type": "code",
   "execution_count": 3,
   "id": "5b092456",
   "metadata": {
    "ExecuteTime": {
     "end_time": "2021-12-17T07:56:16.890033Z",
     "start_time": "2021-12-17T07:56:16.877008Z"
    }
   },
   "outputs": [],
   "source": [
    "def launch_probe(vel_x, vel_y, x1, x2, y1, y2, verbose):\n",
    "    x, y, in_zone, highest_point = 0, 0, 0, 0\n",
    "    \n",
    "    \n",
    "    while y >= y1 and x <= x2:\n",
    "        \n",
    "        highest_point = max(highest_point,y)\n",
    "        if verbose:\n",
    "            print(highest_point)\n",
    "        if x1 <= x <= x2 and y1 <= y <= y2:\n",
    "            in_zone = 1\n",
    "            if verbose:\n",
    "                print(\"in zone\")\n",
    "            \n",
    "        x += vel_x\n",
    "        y += vel_y\n",
    "        vel_x -= (vel_x > 0) - (vel_x < 0)\n",
    "        vel_y -= 1\n",
    "        \n",
    "        \n",
    "    return in_zone, highest_point\n",
    "    "
   ]
  },
  {
   "cell_type": "code",
   "execution_count": 4,
   "id": "cb2f2089",
   "metadata": {
    "ExecuteTime": {
     "end_time": "2021-12-17T07:56:16.922019Z",
     "start_time": "2021-12-17T07:56:16.892010Z"
    }
   },
   "outputs": [],
   "source": [
    "x1,x2,y1,y2 = load_target_area(\"day17_data_test.txt\")"
   ]
  },
  {
   "cell_type": "code",
   "execution_count": 5,
   "id": "c1f9e5ba",
   "metadata": {
    "ExecuteTime": {
     "end_time": "2021-12-17T07:56:16.938007Z",
     "start_time": "2021-12-17T07:56:16.924006Z"
    }
   },
   "outputs": [
    {
     "name": "stdout",
     "output_type": "stream",
     "text": [
      "0\n",
      "3\n",
      "5\n",
      "6\n",
      "6\n",
      "6\n",
      "6\n",
      "6\n",
      "6\n",
      "6\n",
      "in zone\n"
     ]
    }
   ],
   "source": [
    "in_zone, max_y = launch_probe(6, 3, 20, 30, -10, -5, True)"
   ]
  },
  {
   "cell_type": "code",
   "execution_count": 6,
   "id": "a9e5c643",
   "metadata": {
    "ExecuteTime": {
     "end_time": "2021-12-17T07:56:16.953006Z",
     "start_time": "2021-12-17T07:56:16.940009Z"
    }
   },
   "outputs": [
    {
     "name": "stdout",
     "output_type": "stream",
     "text": [
      "0\n",
      "0\n",
      "0\n",
      "0\n",
      "0\n",
      "in zone\n"
     ]
    }
   ],
   "source": [
    "in_zone, max_y = launch_probe(9, 0, 20, 30, -10, -5, True)"
   ]
  },
  {
   "cell_type": "code",
   "execution_count": 7,
   "id": "66289b7d",
   "metadata": {
    "ExecuteTime": {
     "end_time": "2021-12-17T07:56:16.969009Z",
     "start_time": "2021-12-17T07:56:16.955007Z"
    }
   },
   "outputs": [
    {
     "name": "stdout",
     "output_type": "stream",
     "text": [
      "0\n",
      "0\n"
     ]
    }
   ],
   "source": [
    "in_zone, max_y = launch_probe(17, -4, 20, 30, -10, -5, True)"
   ]
  },
  {
   "cell_type": "code",
   "execution_count": 8,
   "id": "d928855e",
   "metadata": {
    "ExecuteTime": {
     "end_time": "2021-12-17T07:56:16.984016Z",
     "start_time": "2021-12-17T07:56:16.973013Z"
    }
   },
   "outputs": [
    {
     "name": "stdout",
     "output_type": "stream",
     "text": [
      "0\n",
      "9\n",
      "17\n",
      "24\n",
      "30\n",
      "35\n",
      "39\n",
      "42\n",
      "44\n",
      "45\n",
      "45\n",
      "45\n",
      "45\n",
      "45\n",
      "45\n",
      "45\n",
      "45\n",
      "45\n",
      "45\n",
      "45\n",
      "45\n",
      "in zone\n"
     ]
    }
   ],
   "source": [
    "in_zone, max_y = launch_probe(6, 9, 20, 30, -10, -5, True)"
   ]
  },
  {
   "cell_type": "code",
   "execution_count": 9,
   "id": "6842e837",
   "metadata": {
    "ExecuteTime": {
     "end_time": "2021-12-17T07:56:17.220013Z",
     "start_time": "2021-12-17T07:56:16.987025Z"
    }
   },
   "outputs": [
    {
     "name": "stdout",
     "output_type": "stream",
     "text": [
      "Highest 'y' value: 45\n"
     ]
    }
   ],
   "source": [
    "highest_point = 0\n",
    "\n",
    "for vel_x in range(200):\n",
    "    for vel_y in range(-200,200):\n",
    "        \n",
    "        in_zone, max_y = launch_probe(vel_x, vel_y, x1, x2, y1, y2, False)\n",
    "        \n",
    "        if in_zone:\n",
    "            highest_point = max(highest_point, max_y)\n",
    "\n",
    "print(\"Highest 'y' value: \"+str(highest_point))"
   ]
  },
  {
   "cell_type": "code",
   "execution_count": 10,
   "id": "ae64c846",
   "metadata": {
    "ExecuteTime": {
     "end_time": "2021-12-17T07:56:17.603009Z",
     "start_time": "2021-12-17T07:56:17.224009Z"
    }
   },
   "outputs": [
    {
     "name": "stdout",
     "output_type": "stream",
     "text": [
      "Highest 'y' value: 11175\n"
     ]
    }
   ],
   "source": [
    "x1,x2,y1,y2 = load_target_area(\"day17_data.txt\")\n",
    "#print(x1,x2,y1,y2)\n",
    "\n",
    "highest_point = 0\n",
    "\n",
    "for vel_x in range(200):\n",
    "    for vel_y in range(-200,200):\n",
    "        \n",
    "        in_zone, max_y = launch_probe(vel_x, vel_y, x1, x2, y1, y2, False)\n",
    "        \n",
    "        if in_zone:\n",
    "            highest_point = max(highest_point, max_y)\n",
    "\n",
    "print(\"Highest 'y' value: \"+str(highest_point))"
   ]
  },
  {
   "cell_type": "markdown",
   "id": "832ad1fe",
   "metadata": {},
   "source": [
    "## Part 2"
   ]
  },
  {
   "cell_type": "markdown",
   "id": "57e15d5f",
   "metadata": {},
   "source": [
    "Maybe a fancy trick shot isn't the best idea; after all, you only have one probe, so you had better not miss.\n",
    "\n",
    "To get the best idea of what your options are for launching the probe, you need to find **every initial velocity** that causes the probe to eventually be within the target area after any step.\n",
    "\n",
    "In the above example, there are **```112```** different initial velocity values that meet these criteria:\n",
    "```\n",
    "23,-10  25,-9   27,-5   29,-6   22,-6   21,-7   9,0     27,-7   24,-5\n",
    "25,-7   26,-6   25,-5   6,8     11,-2   20,-5   29,-10  6,3     28,-7\n",
    "8,0     30,-6   29,-8   20,-10  6,7     6,4     6,1     14,-4   21,-6\n",
    "26,-10  7,-1    7,7     8,-1    21,-9   6,2     20,-7   30,-10  14,-3\n",
    "20,-8   13,-2   7,3     28,-8   29,-9   15,-3   22,-5   26,-8   25,-8\n",
    "25,-6   15,-4   9,-2    15,-2   12,-2   28,-9   12,-3   24,-6   23,-7\n",
    "25,-10  7,8     11,-3   26,-7   7,1     23,-9   6,0     22,-10  27,-6\n",
    "8,1     22,-8   13,-4   7,6     28,-6   11,-4   12,-4   26,-9   7,4\n",
    "24,-10  23,-8   30,-8   7,0     9,-1    10,-1   26,-5   22,-9   6,5\n",
    "7,5     23,-6   28,-10  10,-2   11,-1   20,-9   14,-2   29,-7   13,-3\n",
    "23,-5   24,-8   27,-9   30,-7   28,-5   21,-10  7,9     6,6     21,-5\n",
    "27,-10  7,2     30,-9   21,-8   22,-7   24,-9   20,-6   6,9     29,-5\n",
    "8,-2    27,-8   30,-5   24,-7\n",
    "```\n",
    "\n",
    "How many distinct initial velocity values cause the probe to be within the target area after any step?"
   ]
  },
  {
   "cell_type": "code",
   "execution_count": 11,
   "id": "4f68f710",
   "metadata": {
    "ExecuteTime": {
     "end_time": "2021-12-17T07:56:17.807011Z",
     "start_time": "2021-12-17T07:56:17.605018Z"
    }
   },
   "outputs": [
    {
     "name": "stdout",
     "output_type": "stream",
     "text": [
      "Highest 'y' value: 45\n",
      " Total probes in target area: 112\n"
     ]
    }
   ],
   "source": [
    "x1,x2,y1,y2 = load_target_area(\"day17_data_test.txt\")\n",
    "#print(x1,x2,y1,y2)\n",
    "\n",
    "highest_point = 0\n",
    "total = 0\n",
    "\n",
    "for vel_x in range(200):\n",
    "    for vel_y in range(-200,200):\n",
    "        \n",
    "        in_zone, max_y = launch_probe(vel_x, vel_y, x1, x2, y1, y2, False)\n",
    "        \n",
    "        if in_zone:\n",
    "            highest_point = max(highest_point, max_y)\n",
    "            total += 1\n",
    "            \n",
    "print(\"Highest 'y' value: \"+str(highest_point)+\"\\n Total probes in target area: \"+str(total))"
   ]
  },
  {
   "cell_type": "code",
   "execution_count": 12,
   "id": "e1f31351",
   "metadata": {
    "ExecuteTime": {
     "end_time": "2021-12-17T07:56:18.169394Z",
     "start_time": "2021-12-17T07:56:17.808027Z"
    }
   },
   "outputs": [
    {
     "name": "stdout",
     "output_type": "stream",
     "text": [
      "Highest 'y' value: 11175\n",
      " Total probes in target area: 3540\n"
     ]
    }
   ],
   "source": [
    "x1,x2,y1,y2 = load_target_area(\"day17_data.txt\")\n",
    "#print(x1,x2,y1,y2)\n",
    "\n",
    "highest_point = 0\n",
    "total = 0\n",
    "\n",
    "for vel_x in range(200):\n",
    "    for vel_y in range(-200,200):\n",
    "        \n",
    "        in_zone, max_y = launch_probe(vel_x, vel_y, x1, x2, y1, y2, False)\n",
    "        \n",
    "        if in_zone:\n",
    "            highest_point = max(highest_point, max_y)\n",
    "            total += 1\n",
    "            \n",
    "print(\"Highest 'y' value: \"+str(highest_point)+\"\\n Total probes in target area: \"+str(total))"
   ]
  }
 ],
 "metadata": {
  "kernelspec": {
   "display_name": "Python 3 (ipykernel)",
   "language": "python",
   "name": "python3"
  },
  "language_info": {
   "codemirror_mode": {
    "name": "ipython",
    "version": 3
   },
   "file_extension": ".py",
   "mimetype": "text/x-python",
   "name": "python",
   "nbconvert_exporter": "python",
   "pygments_lexer": "ipython3",
   "version": "3.9.7"
  },
  "toc": {
   "base_numbering": 1,
   "nav_menu": {},
   "number_sections": true,
   "sideBar": true,
   "skip_h1_title": false,
   "title_cell": "Table of Contents",
   "title_sidebar": "Contents",
   "toc_cell": false,
   "toc_position": {},
   "toc_section_display": true,
   "toc_window_display": false
  },
  "varInspector": {
   "cols": {
    "lenName": 16,
    "lenType": 16,
    "lenVar": 40
   },
   "kernels_config": {
    "python": {
     "delete_cmd_postfix": "",
     "delete_cmd_prefix": "del ",
     "library": "var_list.py",
     "varRefreshCmd": "print(var_dic_list())"
    },
    "r": {
     "delete_cmd_postfix": ") ",
     "delete_cmd_prefix": "rm(",
     "library": "var_list.r",
     "varRefreshCmd": "cat(var_dic_list()) "
    }
   },
   "position": {
    "height": "441.844px",
    "left": "1550px",
    "right": "20px",
    "top": "120px",
    "width": "350px"
   },
   "types_to_exclude": [
    "module",
    "function",
    "builtin_function_or_method",
    "instance",
    "_Feature"
   ],
   "window_display": true
  }
 },
 "nbformat": 4,
 "nbformat_minor": 5
}
