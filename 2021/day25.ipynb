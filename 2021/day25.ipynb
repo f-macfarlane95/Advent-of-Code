{
 "cells": [
  {
   "cell_type": "code",
   "execution_count": 1,
   "id": "c560d753",
   "metadata": {
    "ExecuteTime": {
     "end_time": "2021-12-25T17:03:27.016714Z",
     "start_time": "2021-12-25T17:03:25.869924Z"
    }
   },
   "outputs": [],
   "source": [
    "import numpy as np\n",
    "import cv2\n",
    "from PIL import Image\n",
    "\n",
    "from matplotlib import pyplot as plt\n",
    "plt.rcParams['figure.figsize'] = [10, 5]\n"
   ]
  },
  {
   "cell_type": "code",
   "execution_count": 2,
   "id": "041d0f81",
   "metadata": {
    "ExecuteTime": {
     "end_time": "2021-12-25T17:03:27.032468Z",
     "start_time": "2021-12-25T17:03:27.021481Z"
    }
   },
   "outputs": [],
   "source": [
    "def load_input(path):\n",
    "    return np.genfromtxt(path, dtype=str, delimiter=1)"
   ]
  },
  {
   "cell_type": "code",
   "execution_count": 3,
   "id": "1c7cc91b",
   "metadata": {
    "ExecuteTime": {
     "end_time": "2021-12-25T17:03:27.078677Z",
     "start_time": "2021-12-25T17:03:27.037195Z"
    }
   },
   "outputs": [],
   "source": [
    "def move_east(herd_set, grid):\n",
    "    \n",
    "    [rows,cols] = np.shape(grid)\n",
    "    \n",
    "    step = [0, 1]\n",
    "    new_pos = set()\n",
    "    new_grid = grid.copy()\n",
    "    \n",
    "    for s in herd_set:\n",
    "        \n",
    "        x = s[0]\n",
    "        y = s[1]\n",
    "        \n",
    "        x_new = x\n",
    "        y_new = (s[1]+step[1])%cols\n",
    "        \n",
    "        if grid[x_new,y_new] == '.':\n",
    "            new_grid[x,y] = '.'\n",
    "            new_grid[x_new,y_new] = '>'\n",
    "            new_pos.add((x_new,y_new))\n",
    "        else:\n",
    "            new_pos.add((x,y))\n",
    "\n",
    "    #print(new_grid)\n",
    "    return new_pos, new_grid\n",
    "\n",
    "def move_south(herd_set, grid):\n",
    "    [rows,cols] = np.shape(grid)\n",
    "    \n",
    "    step = [1, 0]\n",
    "    new_pos = set()\n",
    "    new_grid = grid.copy()\n",
    "    \n",
    "    for s in herd_set:\n",
    "        \n",
    "        x = s[0]\n",
    "        y = s[1]\n",
    "        \n",
    "        x_new = (s[0]+step[0])%rows\n",
    "        y_new = y\n",
    "        \n",
    "        if grid[x_new,y_new] == '.':\n",
    "            new_grid[x,y] = '.'\n",
    "            new_grid[x_new,y_new] = 'v'\n",
    "            new_pos.add((x_new,y_new))\n",
    "        else:\n",
    "            new_pos.add((x,y))\n",
    "\n",
    "    #print(new_grid)\n",
    "    return new_pos, new_grid\n",
    "\n",
    "\n",
    "def step(grid):\n",
    "    \n",
    "    east = set()\n",
    "    south = set()\n",
    "    \n",
    "    x,y = np.where(grid=='>')\n",
    "    for i in range(len(x)):\n",
    "        east.add((x[i],y[i]))\n",
    "    \n",
    "    x,y = np.where(grid=='v')\n",
    "    for i in range(len(x)):\n",
    "        south.add((x[i],y[i]))\n",
    "    \n",
    "    \n",
    "    new_east, tmp_grid = move_east(east, grid)\n",
    "    new_south, new_grid = move_south(south, tmp_grid)\n",
    "    \n",
    "    return new_grid\n",
    "    \n",
    "\n",
    "def grid2im(grid):\n",
    "    image_g = np.zeros(np.shape(grid),dtype=np.uint8)+50\n",
    "    \n",
    "    image_g[np.where(grid=='>')] = 128\n",
    "    image_g[np.where(grid=='v')] = 192\n",
    "    \n",
    "    image_g = np.array(Image.fromarray(image_g).resize([250,250],Image.BOX))\n",
    "    image_c = cv2.applyColorMap(image_g, cv2.COLORMAP_DEEPGREEN)\n",
    "    \n",
    "    return image_c\n",
    "    #plt.imshow(image_c)\n",
    "    #plt.xticks([]), plt.yticks([])  # Hides the graph ticks and x / y axis\n",
    "    #plt.show()"
   ]
  },
  {
   "cell_type": "code",
   "execution_count": 4,
   "id": "7578a992",
   "metadata": {
    "ExecuteTime": {
     "end_time": "2021-12-25T17:03:27.110624Z",
     "start_time": "2021-12-25T17:03:27.084334Z"
    }
   },
   "outputs": [
    {
     "name": "stdout",
     "output_type": "stream",
     "text": [
      "9 10\n"
     ]
    }
   ],
   "source": [
    "data = load_input(\"day25_data_test.txt\")\n",
    "\n",
    "[rows,cols] = np.shape(data)\n",
    "print(rows,cols)"
   ]
  },
  {
   "cell_type": "code",
   "execution_count": 5,
   "id": "716e982d",
   "metadata": {
    "ExecuteTime": {
     "end_time": "2021-12-25T17:03:27.126629Z",
     "start_time": "2021-12-25T17:03:27.114624Z"
    }
   },
   "outputs": [
    {
     "name": "stdout",
     "output_type": "stream",
     "text": [
      "[['v' '.' '.' '.' '>' '>' '.' 'v' 'v' '>']\n",
      " ['.' 'v' 'v' '>' '>' '.' 'v' 'v' '.' '.']\n",
      " ['>' '>' '.' '>' 'v' '>' '.' '.' '.' 'v']\n",
      " ['>' '>' 'v' '>' '>' '.' '>' '.' 'v' '.']\n",
      " ['v' '>' 'v' '.' 'v' 'v' '.' 'v' '.' '.']\n",
      " ['>' '.' '>' '>' '.' '.' 'v' '.' '.' '.']\n",
      " ['.' 'v' 'v' '.' '.' '>' '.' '>' 'v' '.']\n",
      " ['v' '.' 'v' '.' '.' '>' '>' 'v' '.' 'v']\n",
      " ['.' '.' '.' '.' 'v' '.' '.' 'v' '.' '>']]\n"
     ]
    }
   ],
   "source": [
    "print(data)"
   ]
  },
  {
   "cell_type": "code",
   "execution_count": 6,
   "id": "2a29779f",
   "metadata": {
    "ExecuteTime": {
     "end_time": "2021-12-25T17:03:27.299716Z",
     "start_time": "2021-12-25T17:03:27.131625Z"
    }
   },
   "outputs": [
    {
     "data": {
      "image/png": "[encoded data removed]",
      "text/plain": [
       "<Figure size 720x360 with 1 Axes>"
      ]
     },
     "metadata": {},
     "output_type": "display_data"
    }
   ],
   "source": [
    "plt.imshow(grid2im(data))\n",
    "plt.xticks([]), plt.yticks([])  # Hides the graph ticks and x / y axis\n",
    "plt.show()"
   ]
  },
  {
   "cell_type": "code",
   "execution_count": 7,
   "id": "f49aeb0d",
   "metadata": {
    "ExecuteTime": {
     "end_time": "2021-12-25T17:03:27.314327Z",
     "start_time": "2021-12-25T17:03:27.302631Z"
    }
   },
   "outputs": [],
   "source": [
    "south = set() # move (x+1, y)\n",
    "east = set()  # move (x, y+1)"
   ]
  },
  {
   "cell_type": "code",
   "execution_count": 8,
   "id": "85cf17c4",
   "metadata": {
    "ExecuteTime": {
     "end_time": "2021-12-25T17:03:27.329627Z",
     "start_time": "2021-12-25T17:03:27.317630Z"
    }
   },
   "outputs": [
    {
     "name": "stdout",
     "output_type": "stream",
     "text": [
      "{(4, 0), (1, 6), (0, 8), (6, 2), (7, 7), (6, 8), (4, 2), (4, 5), (5, 6), (0, 7), (2, 4), (1, 2), (6, 1), (7, 0), (7, 9), (3, 2), (4, 7), (4, 4), (3, 8), (8, 4), (0, 0), (8, 7), (1, 1), (2, 9), (1, 7), (7, 2)}\n"
     ]
    }
   ],
   "source": [
    "x,y = np.where(data=='v')\n",
    "\n",
    "for i in range(len(x)):\n",
    "    south.add((x[i],y[i]))\n",
    "    \n",
    "print(south)"
   ]
  },
  {
   "cell_type": "code",
   "execution_count": 9,
   "id": "5b352cb5",
   "metadata": {
    "ExecuteTime": {
     "end_time": "2021-12-25T17:03:27.345638Z",
     "start_time": "2021-12-25T17:03:27.333629Z"
    }
   },
   "outputs": [
    {
     "name": "stdout",
     "output_type": "stream",
     "text": [
      "{(3, 4), (3, 1), (8, 9), (0, 5), (2, 5), (1, 3), (6, 5), (3, 0), (3, 3), (5, 0), (3, 6), (5, 3), (0, 4), (2, 1), (6, 7), (7, 6), (4, 1), (5, 2), (0, 9), (2, 0), (1, 4), (2, 3), (7, 5)}\n"
     ]
    }
   ],
   "source": [
    "x,y = np.where(data=='>')\n",
    "\n",
    "for i in range(len(x)):\n",
    "    east.add((x[i],y[i]))\n",
    "    \n",
    "print(east)"
   ]
  },
  {
   "cell_type": "code",
   "execution_count": 10,
   "id": "000adb17",
   "metadata": {
    "ExecuteTime": {
     "end_time": "2021-12-25T17:03:27.360651Z",
     "start_time": "2021-12-25T17:03:27.352628Z"
    }
   },
   "outputs": [
    {
     "name": "stdout",
     "output_type": "stream",
     "text": [
      "[['v' '.' '.' '.' '>' '>' '.' 'v' 'v' '>']\n",
      " ['.' 'v' 'v' '>' '>' '.' 'v' 'v' '.' '.']\n",
      " ['>' '>' '.' '>' 'v' '>' '.' '.' '.' 'v']\n",
      " ['>' '>' 'v' '>' '>' '.' '>' '.' 'v' '.']\n",
      " ['v' '>' 'v' '.' 'v' 'v' '.' 'v' '.' '.']\n",
      " ['>' '.' '>' '>' '.' '.' 'v' '.' '.' '.']\n",
      " ['.' 'v' 'v' '.' '.' '>' '.' '>' 'v' '.']\n",
      " ['v' '.' 'v' '.' '.' '>' '>' 'v' '.' 'v']\n",
      " ['.' '.' '.' '.' 'v' '.' '.' 'v' '.' '>']]\n",
      "\n",
      "\n"
     ]
    }
   ],
   "source": [
    "print(data)\n",
    "print()\n",
    "east, data = move_east(east,data)\n",
    "print()\n",
    "south, data = move_south(south,data)"
   ]
  },
  {
   "cell_type": "code",
   "execution_count": 11,
   "id": "eba22e2e",
   "metadata": {
    "ExecuteTime": {
     "end_time": "2021-12-25T17:03:27.658637Z",
     "start_time": "2021-12-25T17:03:27.365647Z"
    }
   },
   "outputs": [
    {
     "name": "stdout",
     "output_type": "stream",
     "text": [
      "58\n"
     ]
    }
   ],
   "source": [
    "data = load_input(\"day25_data_test.txt\")\n",
    "\n",
    "fourcc = cv2.VideoWriter_fourcc(*'MJPG')\n",
    "out = cv2.VideoWriter('day_25_sea_cucumbers_short.mp4', fourcc, 20, (250,250), True)\n",
    "\n",
    "count = 1\n",
    "grid = data\n",
    "while True:\n",
    "    \n",
    "    \n",
    "    \n",
    "    out.write(grid2im(grid))\n",
    "    \n",
    "    \n",
    "    new_grid = step(grid)\n",
    "    \n",
    "    if (new_grid == grid).all():\n",
    "        print(count)\n",
    "        for _ in range(20):\n",
    "            out.write(grid2im(grid))\n",
    "        break\n",
    "        \n",
    "    else:\n",
    "        grid = new_grid\n",
    "        count += 1\n",
    "    #print(count)\n",
    "out.release()    \n",
    "    "
   ]
  },
  {
   "cell_type": "code",
   "execution_count": 12,
   "id": "e64ed00c",
   "metadata": {
    "ExecuteTime": {
     "end_time": "2021-12-25T17:03:50.556968Z",
     "start_time": "2021-12-25T17:03:27.662642Z"
    }
   },
   "outputs": [
    {
     "name": "stdout",
     "output_type": "stream",
     "text": [
      "419\n"
     ]
    }
   ],
   "source": [
    "data = load_input(\"day25_data.txt\")\n",
    "\n",
    "fourcc = cv2.VideoWriter_fourcc(*'MJPG')\n",
    "out = cv2.VideoWriter('day_25_sea_cucumbers_long.mp4', fourcc, 20, (250,250), True)\n",
    "\n",
    "count = 1\n",
    "grid = data\n",
    "while True:\n",
    "    \n",
    "    \n",
    "    \n",
    "    out.write(grid2im(grid))\n",
    "    \n",
    "    \n",
    "    new_grid = step(grid)\n",
    "    \n",
    "    if (new_grid == grid).all():\n",
    "        print(count)\n",
    "        for _ in range(20):\n",
    "            out.write(grid2im(grid))\n",
    "        break\n",
    "        \n",
    "    else:\n",
    "        grid = new_grid\n",
    "        count += 1\n",
    "    #print(count)\n",
    "out.release()    "
   ]
  },
  {
   "cell_type": "code",
   "execution_count": null,
   "id": "5bc8b36d",
   "metadata": {},
   "outputs": [],
   "source": []
  }
 ],
 "metadata": {
  "kernelspec": {
   "display_name": "Python 3 (ipykernel)",
   "language": "python",
   "name": "python3"
  },
  "language_info": {
   "codemirror_mode": {
    "name": "ipython",
    "version": 3
   },
   "file_extension": ".py",
   "mimetype": "text/x-python",
   "name": "python",
   "nbconvert_exporter": "python",
   "pygments_lexer": "ipython3",
   "version": "3.9.7"
  },
  "toc": {
   "base_numbering": 1,
   "nav_menu": {},
   "number_sections": true,
   "sideBar": true,
   "skip_h1_title": false,
   "title_cell": "Table of Contents",
   "title_sidebar": "Contents",
   "toc_cell": false,
   "toc_position": {},
   "toc_section_display": true,
   "toc_window_display": false
  },
  "varInspector": {
   "cols": {
    "lenName": 16,
    "lenType": 16,
    "lenVar": 40
   },
   "kernels_config": {
    "python": {
     "delete_cmd_postfix": "",
     "delete_cmd_prefix": "del ",
     "library": "var_list.py",
     "varRefreshCmd": "print(var_dic_list())"
    },
    "r": {
     "delete_cmd_postfix": ") ",
     "delete_cmd_prefix": "rm(",
     "library": "var_list.r",
     "varRefreshCmd": "cat(var_dic_list()) "
    }
   },
   "types_to_exclude": [
    "module",
    "function",
    "builtin_function_or_method",
    "instance",
    "_Feature"
   ],
   "window_display": false
  }
 },
 "nbformat": 4,
 "nbformat_minor": 5
}
