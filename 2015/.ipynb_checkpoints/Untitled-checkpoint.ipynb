{
 "cells": [
  {
   "cell_type": "markdown",
   "id": "39faae18",
   "metadata": {},
   "source": [
    "# Day 7: Some Assembly Required"
   ]
  },
  {
   "cell_type": "markdown",
   "id": "077a60bb",
   "metadata": {},
   "source": [
    "## Part 1"
   ]
  },
  {
   "cell_type": "markdown",
   "id": "46e863cb",
   "metadata": {},
   "source": [
    "This year, Santa brought little Bobby Tables a set of wires and bitwise logic gates! Unfortunately, little Bobby is a little under the recommended age range, and he needs help assembling the circuit.\n",
    "\n",
    "Each wire has an identifier (some lowercase letters) and can carry a 16-bit signal (a number from `0` to `65535`). A signal is provided to each wire by a gate, another wire, or some specific value. Each wire can only get a signal from one source, but can provide its signal to multiple destinations. A gate provides no signal until all of its inputs have a signal.\n",
    "\n",
    "The included instructions booklet describes how to connect the parts together: ```x AND y -> z``` means to connect wires `x` and `y` to an AND gate, and then connect its output to wire `z`.\n",
    "\n",
    "For example:\n",
    "\n",
    "- ```123 -> x``` means that the signal ```123``` is provided to wire ```x```.\n",
    "- ```x AND y -> z``` means that the bitwise AND of wire ```x``` and wire ```y``` is provided to wire ```z```.\n",
    "- ```p LSHIFT 2 -> q``` means that the value from wire ```p``` is left-shifted by ```2``` and then provided to wire ```q```.\n",
    "- ```NOT e -> f``` means that the bitwise complement of the value from wire ```e``` is provided to wire ```f```.\n",
    "\n",
    "Other possible gates include ```OR``` (bitwise OR) and ```RSHIFT``` (right-shift). If, for some reason, you'd like to **emulate** the circuit instead, almost all programming languages (for example, C, JavaScript, or Python) provide operators for these gates.\n",
    "\n",
    "For example, here is a simple circuit:\n",
    "\n",
    "```\n",
    "123 -> x\n",
    "456 -> y\n",
    "x AND y -> d\n",
    "x OR y -> e\n",
    "x LSHIFT 2 -> f\n",
    "y RSHIFT 2 -> g\n",
    "NOT x -> h\n",
    "NOT y -> i\n",
    "```\n",
    "\n",
    "After it is run, these are the signals on the wires:\n",
    "```\n",
    "d: 72\n",
    "e: 507\n",
    "f: 492\n",
    "g: 114\n",
    "h: 65412\n",
    "i: 65079\n",
    "x: 123\n",
    "y: 456\n",
    "```\n",
    "\n",
    "In little Bobby's kit's instructions booklet (provided as your puzzle input), what signal is ultimately provided to **wire a**?"
   ]
  },
  {
   "cell_type": "code",
   "execution_count": 37,
   "id": "2a521922",
   "metadata": {
    "ExecuteTime": {
     "end_time": "2022-02-05T19:18:10.551118Z",
     "start_time": "2022-02-05T19:18:10.543059Z"
    }
   },
   "outputs": [],
   "source": [
    "import sys\n",
    "sys.path.append(\"../Utility/\")\n",
    "import AoC_helpers as util"
   ]
  },
  {
   "cell_type": "code",
   "execution_count": null,
   "id": "fb0192f8",
   "metadata": {},
   "outputs": [],
   "source": [
    "def load_input(path):\n",
    "    file = open(path, \"r\")\n",
    "    lines = file.readlines()"
   ]
  },
  {
   "cell_type": "code",
   "execution_count": 35,
   "id": "4d92b810",
   "metadata": {
    "ExecuteTime": {
     "end_time": "2022-02-05T19:11:19.069748Z",
     "start_time": "2022-02-05T19:11:19.049539Z"
    }
   },
   "outputs": [],
   "source": [
    "class Wire:\n",
    "    def __init__(self):\n",
    "        self.num_dec = 0\n",
    "        self.num_bin = \"0000000000000000\"\n",
    "    \n",
    "    # base properties\n",
    "    \n",
    "    def set_value(self, num):\n",
    "        pass\n",
    "    \n",
    "    def reset(self):\n",
    "        pass\n",
    "    \n",
    "    # class functions\n",
    "        \n",
    "    def bin2dec(self):\n",
    "        pass\n",
    "    \n",
    "    def dec2bin(self):\n",
    "        pass\n",
    "    \n",
    "    # operators\n",
    "    \n",
    "    \n",
    "    \n",
    "    def AND(self, other: Wire):\n",
    "        pass\n",
    "    \n",
    "    def OR(self, other: Wire):\n",
    "        pass\n",
    "    \n",
    "    def NOT(self, other: Wire):\n",
    "        pass\n",
    "    \n",
    "    def LSHIFT(self, other: Wire):\n",
    "        pass\n",
    "    \n",
    "    def RSHIFT(self, other: Wire):\n",
    "        pass"
   ]
  },
  {
   "cell_type": "code",
   "execution_count": 36,
   "id": "dbacf906",
   "metadata": {
    "ExecuteTime": {
     "end_time": "2022-02-05T19:11:19.784960Z",
     "start_time": "2022-02-05T19:11:19.757123Z"
    }
   },
   "outputs": [
    {
     "ename": "NameError",
     "evalue": "name 'dec2bin' is not defined",
     "output_type": "error",
     "traceback": [
      "\u001b[1;31m---------------------------------------------------------------------------\u001b[0m",
      "\u001b[1;31mNameError\u001b[0m                                 Traceback (most recent call last)",
      "\u001b[1;32m~\\AppData\\Local\\Temp/ipykernel_9324/967352345.py\u001b[0m in \u001b[0;36m<module>\u001b[1;34m\u001b[0m\n\u001b[1;32m----> 1\u001b[1;33m \u001b[0mexec\u001b[0m\u001b[1;33m(\u001b[0m\u001b[1;34m\"%s = Wire(%s)\"\u001b[0m \u001b[1;33m%\u001b[0m \u001b[1;33m(\u001b[0m\u001b[1;34m\"w\"\u001b[0m\u001b[1;33m,\u001b[0m\u001b[1;34m\"123\"\u001b[0m\u001b[1;33m)\u001b[0m\u001b[1;33m)\u001b[0m\u001b[1;33m\u001b[0m\u001b[1;33m\u001b[0m\u001b[0m\n\u001b[0m\u001b[0;32m      2\u001b[0m \u001b[0mprint\u001b[0m\u001b[1;33m(\u001b[0m\u001b[0mw\u001b[0m\u001b[1;33m)\u001b[0m\u001b[1;33m\u001b[0m\u001b[1;33m\u001b[0m\u001b[0m\n",
      "\u001b[1;32m<string>\u001b[0m in \u001b[0;36m<module>\u001b[1;34m\u001b[0m\n",
      "\u001b[1;32m~\\AppData\\Local\\Temp/ipykernel_9324/3188339836.py\u001b[0m in \u001b[0;36m__init__\u001b[1;34m(self, num)\u001b[0m\n\u001b[0;32m      2\u001b[0m     \u001b[1;32mdef\u001b[0m \u001b[0m__init__\u001b[0m\u001b[1;33m(\u001b[0m\u001b[0mself\u001b[0m\u001b[1;33m,\u001b[0m\u001b[0mnum\u001b[0m\u001b[1;33m)\u001b[0m\u001b[1;33m:\u001b[0m\u001b[1;33m\u001b[0m\u001b[1;33m\u001b[0m\u001b[0m\n\u001b[0;32m      3\u001b[0m         \u001b[0mself\u001b[0m\u001b[1;33m.\u001b[0m\u001b[0mnum_dec\u001b[0m \u001b[1;33m=\u001b[0m \u001b[0mnum\u001b[0m\u001b[1;33m\u001b[0m\u001b[1;33m\u001b[0m\u001b[0m\n\u001b[1;32m----> 4\u001b[1;33m         \u001b[0mself\u001b[0m\u001b[1;33m.\u001b[0m\u001b[0mnum_bin\u001b[0m \u001b[1;33m=\u001b[0m \u001b[0mdec2bin\u001b[0m\u001b[1;33m(\u001b[0m\u001b[0mnum\u001b[0m\u001b[1;33m)\u001b[0m\u001b[1;33m\u001b[0m\u001b[1;33m\u001b[0m\u001b[0m\n\u001b[0m\u001b[0;32m      5\u001b[0m \u001b[1;33m\u001b[0m\u001b[0m\n\u001b[0;32m      6\u001b[0m     \u001b[1;32mdef\u001b[0m \u001b[0mbin2dec\u001b[0m\u001b[1;33m(\u001b[0m\u001b[0mself\u001b[0m\u001b[1;33m)\u001b[0m\u001b[1;33m:\u001b[0m\u001b[1;33m\u001b[0m\u001b[1;33m\u001b[0m\u001b[0m\n",
      "\u001b[1;31mNameError\u001b[0m: name 'dec2bin' is not defined"
     ]
    }
   ],
   "source": [
    "exec(\"%s = Wire()\" % (\"w\"))\n",
    "print(w)"
   ]
  },
  {
   "cell_type": "code",
   "execution_count": 39,
   "id": "44f65a1e",
   "metadata": {
    "ExecuteTime": {
     "end_time": "2022-02-05T19:18:42.044820Z",
     "start_time": "2022-02-05T19:18:42.037812Z"
    }
   },
   "outputs": [],
   "source": [
    "b = util.dec2bin(int(\"123\"))\n",
    "d = util.bin2dec(b)"
   ]
  },
  {
   "cell_type": "code",
   "execution_count": null,
   "id": "5b8eecaa",
   "metadata": {},
   "outputs": [],
   "source": []
  }
 ],
 "metadata": {
  "kernelspec": {
   "display_name": "Python 3 (ipykernel)",
   "language": "python",
   "name": "python3"
  },
  "language_info": {
   "codemirror_mode": {
    "name": "ipython",
    "version": 3
   },
   "file_extension": ".py",
   "mimetype": "text/x-python",
   "name": "python",
   "nbconvert_exporter": "python",
   "pygments_lexer": "ipython3",
   "version": "3.9.7"
  },
  "toc": {
   "base_numbering": 1,
   "nav_menu": {},
   "number_sections": true,
   "sideBar": true,
   "skip_h1_title": false,
   "title_cell": "Table of Contents",
   "title_sidebar": "Contents",
   "toc_cell": false,
   "toc_position": {},
   "toc_section_display": true,
   "toc_window_display": false
  }
 },
 "nbformat": 4,
 "nbformat_minor": 5
}
