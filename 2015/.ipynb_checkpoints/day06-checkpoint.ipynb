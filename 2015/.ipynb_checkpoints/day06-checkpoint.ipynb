{
 "cells": [
  {
   "cell_type": "markdown",
   "id": "60d746df",
   "metadata": {},
   "source": [
    "# Day 6: Probably a Fire Hazard"
   ]
  },
  {
   "cell_type": "markdown",
   "id": "78d9cd51",
   "metadata": {},
   "source": [
    "## Part 1"
   ]
  },
  {
   "cell_type": "markdown",
   "id": "b3bfe2b2",
   "metadata": {},
   "source": [
    "Because your neighbors keep defeating you in the holiday house decorating contest year after year, you've decided to deploy one million lights in a 1000x1000 grid.\n",
    "\n",
    "Furthermore, because you've been especially nice this year, Santa has mailed you instructions on how to display the ideal lighting configuration.\n",
    "\n",
    "Lights in your grid are numbered from 0 to 999 in each direction; the lights at each corner are at ```0,0```, ```0,999```, ```999,999```, and ```999,0```. The instructions include whether to ```turn on```, ```turn off```, or ```toggle``` various inclusive ranges given as coordinate pairs. Each coordinate pair represents opposite corners of a rectangle, inclusive; a coordinate pair like ```0,0 through 2,2``` therefore refers to 9 lights in a 3x3 square. The lights all start turned off.\n",
    "\n",
    "To defeat your neighbors this year, all you have to do is set up your lights by doing the instructions Santa sent you in order.\n",
    "\n",
    "For example:\n",
    "\n",
    "- ```turn on 0,0 through 999,999``` would turn on (or leave on) every light.\n",
    "- ```toggle 0,0 through 999,0``` would toggle the first line of 1000 lights, turning off the ones that were on, and turning on the ones that were off.\n",
    "- ```turn off 499,499 through 500,500``` would turn off (or leave off) the middle four lights.\n",
    "\n",
    "After following the instructions, how many lights are lit?"
   ]
  },
  {
   "cell_type": "code",
   "execution_count": 1,
   "id": "be9a7807",
   "metadata": {},
   "outputs": [],
   "source": [
    "import numpy as np\n",
    "from IPython.display import Image\n",
    "from matplotlib import pyplot as plt\n",
    "plt.rcParams['figure.figsize'] = [20, 20]"
   ]
  },
  {
   "cell_type": "code",
   "execution_count": 2,
   "id": "d61d3567",
   "metadata": {},
   "outputs": [],
   "source": [
    "class light_array:\n",
    "    def __init__(self):\n",
    "        self.board = np.zeros((1000,1000),dtype = int)\n",
    "    \n",
    "    def update(self, instruction):\n",
    "        operation = instruction[0]\n",
    "        start = (list(map(int,instruction[1].split(','))))\n",
    "        end = (list(map(int,instruction[3].split(','))))\n",
    "        \n",
    "        #print(operation, start, end)\n",
    "        \n",
    "        if operation == \"turnoff\":\n",
    "            self.off(start, end)\n",
    "            \n",
    "        elif operation == \"turnon\":\n",
    "            self.on(start, end)\n",
    "            \n",
    "        elif operation == \"toggle\":\n",
    "            self.toggle (start, end)\n",
    "        \n",
    "        \n",
    "    def off(self, start, end):\n",
    "        self.board[start[0]:end[0]+1, start[1]:end[1]+1] = 0\n",
    "        return self.board\n",
    "    \n",
    "    def on(self, start, end):\n",
    "        self.board[start[0]:end[0]+1, start[1]:end[1]+1] = 1\n",
    "        return self.board\n",
    "        \n",
    "    def toggle(self, start, end):\n",
    "        self.board[start[0]:end[0]+1, start[1]:end[1]+1] = np.mod(self.board[start[0]:end[0]+1, start[1]:end[1]+1]+1,2)\n",
    "        return self.board\n",
    "    "
   ]
  },
  {
   "cell_type": "code",
   "execution_count": 3,
   "id": "4c9eccb5",
   "metadata": {},
   "outputs": [],
   "source": [
    "def load_instructions(path):\n",
    "    file = open(path,\"r\")\n",
    "    lines = file.readlines()\n",
    "    lines = [l.replace('\\n','') for l in lines]\n",
    "    lines = [l.split(' ') for l in lines]\n",
    "    \n",
    "    lines_formatted = []\n",
    "    \n",
    "    for i, l in enumerate(lines):\n",
    "        \n",
    "        if len(l) == 5:\n",
    "            \n",
    "            lines_formatted.append([l[0]+l[1], l[2], l[3] , l[4]])\n",
    "            \n",
    "        else:\n",
    "            lines_formatted.append(l)\n",
    "    \n",
    "    \n",
    "    return lines_formatted"
   ]
  },
  {
   "cell_type": "code",
   "execution_count": 4,
   "id": "ab3ab4c1",
   "metadata": {},
   "outputs": [
    {
     "name": "stderr",
     "output_type": "stream",
     "text": [
      "C:\\Users\\qnb13186\\AppData\\Local\\Temp/ipykernel_30780/518015909.py:1: ResourceWarning: unclosed file <_io.TextIOWrapper name='day06_data.txt' mode='r' encoding='cp1252'>\n",
      "  instructions = load_instructions(\"day06_data.txt\")\n",
      "ResourceWarning: Enable tracemalloc to get the object allocation traceback\n"
     ]
    }
   ],
   "source": [
    "instructions = load_instructions(\"day06_data.txt\")"
   ]
  },
  {
   "cell_type": "code",
   "execution_count": 5,
   "id": "f586c048",
   "metadata": {},
   "outputs": [
    {
     "data": {
      "text/plain": [
       "array([[0, 0, 0, 0, 0, 0, 0, 0, 0, 0],\n",
       "       [0, 0, 0, 0, 0, 0, 0, 0, 0, 0],\n",
       "       [0, 0, 0, 0, 0, 0, 0, 0, 0, 0],\n",
       "       [0, 0, 0, 0, 0, 0, 0, 0, 0, 0],\n",
       "       [0, 0, 0, 0, 0, 0, 0, 0, 0, 0],\n",
       "       [0, 0, 0, 0, 0, 0, 0, 0, 0, 0],\n",
       "       [0, 0, 0, 0, 0, 0, 0, 0, 0, 0],\n",
       "       [0, 0, 0, 0, 0, 0, 0, 0, 0, 0],\n",
       "       [0, 0, 0, 0, 0, 0, 0, 0, 0, 0],\n",
       "       [0, 0, 0, 0, 0, 0, 0, 0, 0, 0]])"
      ]
     },
     "execution_count": 5,
     "metadata": {},
     "output_type": "execute_result"
    }
   ],
   "source": [
    "lights = light_array()\n",
    "lights.board\n",
    "lights.board[0:10,0:10]"
   ]
  },
  {
   "cell_type": "code",
   "execution_count": 6,
   "id": "a5e18259",
   "metadata": {},
   "outputs": [
    {
     "data": {
      "text/plain": [
       "array([[1, 1, 1, 1, 1, 1, 1, 0, 0, 0],\n",
       "       [1, 1, 1, 1, 1, 1, 1, 0, 0, 0],\n",
       "       [1, 1, 1, 1, 1, 1, 1, 0, 0, 0],\n",
       "       [1, 1, 1, 1, 1, 1, 1, 0, 0, 0],\n",
       "       [1, 1, 1, 1, 1, 1, 1, 0, 0, 0],\n",
       "       [1, 1, 1, 1, 1, 1, 1, 0, 0, 0],\n",
       "       [1, 1, 1, 1, 1, 1, 1, 0, 0, 0],\n",
       "       [0, 0, 0, 0, 0, 0, 0, 0, 0, 0],\n",
       "       [0, 0, 0, 0, 0, 0, 0, 0, 0, 0],\n",
       "       [0, 0, 0, 0, 0, 0, 0, 0, 0, 0]])"
      ]
     },
     "execution_count": 6,
     "metadata": {},
     "output_type": "execute_result"
    }
   ],
   "source": [
    "lights.on([0, 0], [6, 6])\n",
    "lights.board[0:10,0:10]"
   ]
  },
  {
   "cell_type": "code",
   "execution_count": 7,
   "id": "a3e0cdc5",
   "metadata": {},
   "outputs": [
    {
     "data": {
      "text/plain": [
       "array([[1, 1, 1, 1, 1, 1, 1, 0, 0, 0],\n",
       "       [1, 0, 0, 0, 0, 0, 1, 0, 0, 0],\n",
       "       [1, 0, 0, 0, 0, 0, 1, 0, 0, 0],\n",
       "       [1, 0, 0, 0, 0, 0, 1, 0, 0, 0],\n",
       "       [1, 0, 0, 0, 0, 0, 1, 0, 0, 0],\n",
       "       [1, 0, 0, 0, 0, 0, 1, 0, 0, 0],\n",
       "       [1, 1, 1, 1, 1, 1, 1, 0, 0, 0],\n",
       "       [0, 0, 0, 0, 0, 0, 0, 0, 0, 0],\n",
       "       [0, 0, 0, 0, 0, 0, 0, 0, 0, 0],\n",
       "       [0, 0, 0, 0, 0, 0, 0, 0, 0, 0]])"
      ]
     },
     "execution_count": 7,
     "metadata": {},
     "output_type": "execute_result"
    }
   ],
   "source": [
    "lights.off([1, 1], [5, 5])\n",
    "lights.board[0:10,0:10]"
   ]
  },
  {
   "cell_type": "code",
   "execution_count": 8,
   "id": "8d9a2f91",
   "metadata": {},
   "outputs": [
    {
     "data": {
      "text/plain": [
       "array([[0, 0, 0, 0, 0, 0, 0, 0, 0, 0],\n",
       "       [0, 1, 1, 1, 1, 1, 0, 0, 0, 0],\n",
       "       [0, 1, 1, 1, 1, 1, 0, 0, 0, 0],\n",
       "       [0, 1, 1, 1, 1, 1, 0, 0, 0, 0],\n",
       "       [0, 1, 1, 1, 1, 1, 0, 0, 0, 0],\n",
       "       [0, 1, 1, 1, 1, 1, 0, 0, 0, 0],\n",
       "       [0, 0, 0, 0, 0, 0, 0, 0, 0, 0],\n",
       "       [0, 0, 0, 0, 0, 0, 0, 0, 0, 0],\n",
       "       [0, 0, 0, 0, 0, 0, 0, 0, 0, 0],\n",
       "       [0, 0, 0, 0, 0, 0, 0, 0, 0, 0]])"
      ]
     },
     "execution_count": 8,
     "metadata": {},
     "output_type": "execute_result"
    }
   ],
   "source": [
    "lights.toggle([0, 0], [6, 6])\n",
    "lights.board[0:10,0:10]"
   ]
  },
  {
   "cell_type": "code",
   "execution_count": 10,
   "id": "03d89766",
   "metadata": {},
   "outputs": [
    {
     "data": {
      "image/png": "[encoded data removed]",
      "text/plain": [
       "<Figure size 1440x1440 with 1 Axes>"
      ]
     },
     "metadata": {},
     "output_type": "display_data"
    },
    {
     "name": "stdout",
     "output_type": "stream",
     "text": [
      "400410\n"
     ]
    }
   ],
   "source": [
    "lights = light_array()\n",
    "for i in instructions:\n",
    "    lights.update(i)\n",
    "\n",
    "plt.imshow(lights.board)\n",
    "plt.xticks([]), plt.yticks([])  # Hides the graph ticks and x / y axis\n",
    "plt.show()    \n",
    "\n",
    "print(np.sum(lights.board))"
   ]
  },
  {
   "cell_type": "code",
   "execution_count": 11,
   "id": "c5d6ce62",
   "metadata": {},
   "outputs": [],
   "source": [
    "class light_array:\n",
    "    def __init__(self):\n",
    "        self.board = np.zeros((1000,1000),dtype = int)\n",
    "    \n",
    "    def update(self, instruction):\n",
    "        operation = instruction[0]\n",
    "        start = (list(map(int,instruction[1].split(','))))\n",
    "        end = (list(map(int,instruction[3].split(','))))\n",
    "        \n",
    "        #print(operation, start, end)\n",
    "        \n",
    "        if operation == \"turnoff\":\n",
    "            self.off(start, end)\n",
    "            \n",
    "        elif operation == \"turnon\":\n",
    "            self.on(start, end)\n",
    "            \n",
    "        elif operation == \"toggle\":\n",
    "            self.toggle (start, end)\n",
    "        \n",
    "        \n",
    "    def off(self, start, end):\n",
    "        self.board[start[0]:end[0]+1, start[1]:end[1]+1] -= 1\n",
    "        self.board[self.board<0] = 0\n",
    "        return self.board\n",
    "    \n",
    "    def on(self, start, end):\n",
    "        self.board[start[0]:end[0]+1, start[1]:end[1]+1] += 1\n",
    "        return self.board\n",
    "        \n",
    "    def toggle(self, start, end):\n",
    "        self.board[start[0]:end[0]+1, start[1]:end[1]+1] += 2\n",
    "        return self.board"
   ]
  },
  {
   "cell_type": "code",
   "execution_count": 12,
   "id": "3103d78a",
   "metadata": {},
   "outputs": [
    {
     "data": {
      "image/png": "[encoded data removed]",
      "text/plain": [
       "<Figure size 1440x1440 with 1 Axes>"
      ]
     },
     "metadata": {},
     "output_type": "display_data"
    },
    {
     "name": "stdout",
     "output_type": "stream",
     "text": [
      "35201348\n"
     ]
    }
   ],
   "source": [
    "lights = light_array()\n",
    "for i in instructions:\n",
    "    lights.update(i)\n",
    "\n",
    "plt.imshow(lights.board)\n",
    "plt.xticks([]), plt.yticks([])  # Hides the graph ticks and x / y axis\n",
    "plt.show()    \n",
    "\n",
    "print(np.sum(lights.board))"
   ]
  },
  {
   "cell_type": "code",
   "execution_count": null,
   "id": "040b2c07",
   "metadata": {},
   "outputs": [],
   "source": []
  }
 ],
 "metadata": {
  "kernelspec": {
   "display_name": "Python 3 (ipykernel)",
   "language": "python",
   "name": "python3"
  },
  "language_info": {
   "codemirror_mode": {
    "name": "ipython",
    "version": 3
   },
   "file_extension": ".py",
   "mimetype": "text/x-python",
   "name": "python",
   "nbconvert_exporter": "python",
   "pygments_lexer": "ipython3",
   "version": "3.9.7"
  },
  "varInspector": {
   "cols": {
    "lenName": 16,
    "lenType": 16,
    "lenVar": 40
   },
   "kernels_config": {
    "python": {
     "delete_cmd_postfix": "",
     "delete_cmd_prefix": "del ",
     "library": "var_list.py",
     "varRefreshCmd": "print(var_dic_list())"
    },
    "r": {
     "delete_cmd_postfix": ") ",
     "delete_cmd_prefix": "rm(",
     "library": "var_list.r",
     "varRefreshCmd": "cat(var_dic_list()) "
    }
   },
   "position": {
    "height": "271.858px",
    "left": "1763.33px",
    "right": "20px",
    "top": "120px",
    "width": "350px"
   },
   "types_to_exclude": [
    "module",
    "function",
    "builtin_function_or_method",
    "instance",
    "_Feature"
   ],
   "window_display": true
  }
 },
 "nbformat": 4,
 "nbformat_minor": 5
}
