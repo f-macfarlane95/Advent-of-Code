{
 "cells": [
  {
   "cell_type": "markdown",
   "id": "877c7506",
   "metadata": {},
   "source": [
    "# Day 3: Perfectly Spherical Houses in a Vacuum"
   ]
  },
  {
   "cell_type": "markdown",
   "id": "a1d22c3a",
   "metadata": {},
   "source": [
    "## Part 1"
   ]
  },
  {
   "cell_type": "markdown",
   "id": "08c0b0b2",
   "metadata": {},
   "source": [
    "Santa is delivering presents to an infinite two-dimensional grid of houses.\n",
    "\n",
    "He begins by delivering a present to the house at his starting location, and then an elf at the North Pole calls him via radio and tells him where to move next. Moves are always exactly one house to the north (^), south (v), east (>), or west (<). After each move, he delivers another present to the house at his new location.\n",
    "\n",
    "However, the elf back at the north pole has had a little too much eggnog, and so his directions are a little off, and Santa ends up visiting some houses more than once. How many houses receive at least one present?\n",
    "\n",
    "For example:\n",
    "\n",
    "- ```>``` delivers presents to ```2``` houses: one at the starting location, and one to the east.\n",
    "- ```^>v<``` delivers presents to ```4``` houses in a square, including twice to the house at his starting/ending location.\n",
    "- ```^v^v^v^v^v``` delivers a bunch of presents to some very lucky children at only ```2``` houses."
   ]
  },
  {
   "cell_type": "code",
   "execution_count": 1,
   "id": "28caf755",
   "metadata": {},
   "outputs": [],
   "source": [
    "import numpy as np"
   ]
  },
  {
   "cell_type": "code",
   "execution_count": 2,
   "id": "8d134fa8",
   "metadata": {},
   "outputs": [],
   "source": [
    "def load_directions(path):\n",
    "    file = open(path, \"r\")\n",
    "    lines = file.readlines()\n",
    "    return lines[0]"
   ]
  },
  {
   "cell_type": "code",
   "execution_count": 3,
   "id": "1e1dd6da",
   "metadata": {},
   "outputs": [],
   "source": [
    "def visited_houses(instructions, start: tuple = (0,0)):\n",
    "    visited = set()\n",
    "    position = start\n",
    "    visited.add(position)\n",
    "    \n",
    "    for i in range(0,len(instructions)):\n",
    "        #print(instructions[i],position)\n",
    "        if instructions[i] == \"^\":\n",
    "            position = tuple(np.array(position)+np.array([1,0]))\n",
    "            visited.add(position)\n",
    "        if instructions[i] == \">\":\n",
    "            position = tuple(np.array(position)+np.array([0,1]))\n",
    "            visited.add(position)\n",
    "        if instructions[i] == \"v\":\n",
    "            position = tuple(np.array(position)+np.array([-1,0]))\n",
    "            visited.add(position)\n",
    "        if instructions[i] == \"<\":\n",
    "            position = tuple(np.array(position)+np.array([0,-1]))\n",
    "            visited.add(position)\n",
    "      \n",
    "    return visited"
   ]
  },
  {
   "cell_type": "code",
   "execution_count": 4,
   "id": "17a28269",
   "metadata": {},
   "outputs": [],
   "source": [
    "instructions = load_directions(\"day03_data.txt\")"
   ]
  },
  {
   "cell_type": "code",
   "execution_count": 5,
   "id": "0c2cb5a5",
   "metadata": {},
   "outputs": [
    {
     "name": "stdout",
     "output_type": "stream",
     "text": [
      "2565\n"
     ]
    }
   ],
   "source": [
    "visited = visited_houses(instructions)\n",
    "print(len(visited))"
   ]
  },
  {
   "cell_type": "markdown",
   "id": "6ab5ff55",
   "metadata": {},
   "source": [
    "## Part 2"
   ]
  },
  {
   "cell_type": "markdown",
   "id": "7ec40717",
   "metadata": {},
   "source": [
    "The next year, to speed up the process, Santa creates a robot version of himself, Robo-Santa to deliver presents with him.\n",
    "\n",
    "Santa and Robo-Santa start at the same location (delivering two presents to the same starting house), then take turns moving based on instructions from the elf, who is eggnoggedly reading from the same script as the previous year.\n",
    "\n",
    "This year, how many houses receive at least one present?\n",
    "\n",
    "For example:\n",
    "\n",
    "- ```^v``` delivers presents to ```3``` houses, because Santa goes north, and then Robo-Santa goes south.\n",
    "- ```^>v<``` now delivers presents to 3 houses, and Santa and Robo-Santa end up back where they started.\n",
    "- ```^v^v^v^v^v``` now delivers presents to 11 houses, with Santa going one direction and Robo-Santa going the other."
   ]
  },
  {
   "cell_type": "code",
   "execution_count": 6,
   "id": "ede84f88",
   "metadata": {},
   "outputs": [],
   "source": [
    "def visited_houses_robo(instructions, start: tuple = (0,0)):\n",
    "    visited = set()\n",
    "    position_santa = start\n",
    "    position_robo = start\n",
    "    visited.add(position_santa)\n",
    "    visited.add(position_robo)\n",
    "    \n",
    "    for i in range(0,len(instructions)):\n",
    "        if i%2 == 0:\n",
    "            if instructions[i] == \"^\":\n",
    "                position_santa = tuple(np.array(position_santa)+np.array([1,0]))\n",
    "                visited.add(position_santa)\n",
    "            if instructions[i] == \">\":\n",
    "                position_santa = tuple(np.array(position_santa)+np.array([0,1]))\n",
    "                visited.add(position_santa)\n",
    "            if instructions[i] == \"v\":\n",
    "                position_santa = tuple(np.array(position_santa)+np.array([-1,0]))\n",
    "                visited.add(position_santa)\n",
    "            if instructions[i] == \"<\":\n",
    "                position_santa = tuple(np.array(position_santa)+np.array([0,-1]))\n",
    "                visited.add(position_santa)\n",
    "        elif i%2 == 1:\n",
    "            if instructions[i] == \"^\":\n",
    "                position_robo = tuple(np.array(position_robo)+np.array([1,0]))\n",
    "                visited.add(position_robo)\n",
    "            if instructions[i] == \">\":\n",
    "                position_robo = tuple(np.array(position_robo)+np.array([0,1]))\n",
    "                visited.add(position_robo)\n",
    "            if instructions[i] == \"v\":\n",
    "                position_robo = tuple(np.array(position_robo)+np.array([-1,0]))\n",
    "                visited.add(position_robo)\n",
    "            if instructions[i] == \"<\":\n",
    "                position_robo = tuple(np.array(position_robo)+np.array([0,-1]))\n",
    "                visited.add(position_robo)\n",
    "        \n",
    "    \n",
    "    return visited"
   ]
  },
  {
   "cell_type": "code",
   "execution_count": 7,
   "id": "7a5d7fd3",
   "metadata": {},
   "outputs": [
    {
     "name": "stdout",
     "output_type": "stream",
     "text": [
      "2639\n"
     ]
    }
   ],
   "source": [
    "visited = visited_houses_robo(instructions)\n",
    "print(len(visited))"
   ]
  }
 ],
 "metadata": {
  "kernelspec": {
   "display_name": "Python 3 (ipykernel)",
   "language": "python",
   "name": "python3"
  },
  "language_info": {
   "codemirror_mode": {
    "name": "ipython",
    "version": 3
   },
   "file_extension": ".py",
   "mimetype": "text/x-python",
   "name": "python",
   "nbconvert_exporter": "python",
   "pygments_lexer": "ipython3",
   "version": "3.8.8"
  },
  "varInspector": {
   "cols": {
    "lenName": 16,
    "lenType": 16,
    "lenVar": 40
   },
   "kernels_config": {
    "python": {
     "delete_cmd_postfix": "",
     "delete_cmd_prefix": "del ",
     "library": "var_list.py",
     "varRefreshCmd": "print(var_dic_list())"
    },
    "r": {
     "delete_cmd_postfix": ") ",
     "delete_cmd_prefix": "rm(",
     "library": "var_list.r",
     "varRefreshCmd": "cat(var_dic_list()) "
    }
   },
   "position": {
    "height": "288.844px",
    "left": "1550px",
    "right": "20px",
    "top": "120px",
    "width": "350px"
   },
   "types_to_exclude": [
    "module",
    "function",
    "builtin_function_or_method",
    "instance",
    "_Feature"
   ],
   "window_display": true
  }
 },
 "nbformat": 4,
 "nbformat_minor": 5
}
