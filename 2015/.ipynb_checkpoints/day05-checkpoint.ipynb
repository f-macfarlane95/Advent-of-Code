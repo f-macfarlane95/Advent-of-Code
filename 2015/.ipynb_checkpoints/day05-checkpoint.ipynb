{
 "cells": [
  {
   "cell_type": "markdown",
   "id": "6b9c2861",
   "metadata": {},
   "source": [
    "# Day 5: Doesn't He Have Intern-Elves For This?"
   ]
  },
  {
   "cell_type": "markdown",
   "id": "07c4ea8c",
   "metadata": {},
   "source": [
    "## Part 1"
   ]
  },
  {
   "cell_type": "markdown",
   "id": "61df7bbd",
   "metadata": {},
   "source": [
    "Santa needs help figuring out which strings in his text file are naughty or nice.\n",
    "\n",
    "A nice string is one with all of the following properties:\n",
    "\n",
    "- It contains at least three vowels (```aeiou``` only), like ```aei```, ```xazegov```, or ```aeiouaeiouaeiou```.\n",
    "- It contains at least one letter that appears twice in a row, like ```xx```, ```abcdde``` (```dd```), or ```aabbccdd``` (```aa```, ```bb```, ```cc```, or ```dd```).\n",
    "- It does not contain the strings ```ab```, ```cd```, ```pq```, or ```xy```, even if they are part of one of the other requirements.\n",
    "\n",
    "For example:\n",
    "\n",
    "- ```ugknbfddgicrmopn``` is nice because it has at least three vowels (```u...i...o...```), a double letter (```...dd...```), and none of the disallowed substrings.\n",
    "- ```aaa``` is nice because it has at least three vowels and a double letter, even though the letters used by different rules overlap.\n",
    "- ```jchzalrnumimnmhp``` is naughty because it has no double letter.\n",
    "- ```haegwjzuvuyypxyu``` is naughty because it contains the string ```xy```.\n",
    "- ```dvszwmarrgswjxmb```is naughty because it contains only one vowel.\n",
    "\n",
    "How many strings are nice?"
   ]
  },
  {
   "cell_type": "code",
   "execution_count": 1,
   "id": "df70f4c9",
   "metadata": {},
   "outputs": [],
   "source": [
    "import re"
   ]
  },
  {
   "cell_type": "code",
   "execution_count": 2,
   "id": "f86518d8",
   "metadata": {},
   "outputs": [],
   "source": [
    "def load_strings(path):\n",
    "    file = open(path, \"r\")\n",
    "    lines = file.readlines()\n",
    "    lines = [l.replace(\"\\n\",'') for l in lines]\n",
    "    \n",
    "    return lines"
   ]
  },
  {
   "cell_type": "code",
   "execution_count": 3,
   "id": "b16b552d",
   "metadata": {},
   "outputs": [],
   "source": [
    "def count_vowels(string):\n",
    "    num_vowels = 0\n",
    "    \n",
    "    num_vowels += string.count('a')\n",
    "    num_vowels += string.count('e')\n",
    "    num_vowels += string.count('i')\n",
    "    num_vowels += string.count('o')\n",
    "    num_vowels += string.count('u')\n",
    "    \n",
    "    if num_vowels >= 3:\n",
    "         return True\n",
    "    else:\n",
    "        return False\n",
    "    \n",
    "\n",
    "def contains_pair(string):\n",
    "    \n",
    "    for i in range(len(string)-1):\n",
    "        if string[i] == string[i+1]:\n",
    "            return True\n",
    "        else:\n",
    "            continue\n",
    "    return False\n",
    "\n",
    "def check_forbidden(string):\n",
    "    num_forbidden = 0\n",
    "    \n",
    "    num_forbidden += string.count('ab')\n",
    "    num_forbidden += string.count('cd')\n",
    "    num_forbidden += string.count('pq')\n",
    "    num_forbidden += string.count('xy')\n",
    "    \n",
    "    if num_forbidden > 0:\n",
    "         return False\n",
    "    else:\n",
    "        return True\n",
    "\n",
    "    \n",
    "##############################################################################################    \n",
    "    \n",
    "    \n",
    "    \n",
    "def count_valid_strings(string_list):\n",
    "    \n",
    "    num_valid = 0\n",
    "    \n",
    "    for string in string_list:\n",
    "        #print(string, count_vowels(string))\n",
    "        if count_vowels(string) and contains_pair(string) and check_forbidden(string):\n",
    "            num_valid += 1\n",
    "    \n",
    "    \n",
    "    return num_valid\n",
    "    \n",
    "    "
   ]
  },
  {
   "cell_type": "code",
   "execution_count": 4,
   "id": "2dc31542",
   "metadata": {},
   "outputs": [
    {
     "name": "stdout",
     "output_type": "stream",
     "text": [
      "236\n"
     ]
    }
   ],
   "source": [
    "strings = load_strings(\"day05_data.txt\")\n",
    "num_valid = count_valid_strings(strings)\n",
    "\n",
    "print(num_valid)"
   ]
  },
  {
   "cell_type": "markdown",
   "id": "5000dbe8",
   "metadata": {},
   "source": [
    "## Part 2"
   ]
  },
  {
   "cell_type": "markdown",
   "id": "488268ee",
   "metadata": {},
   "source": [
    "Realizing the error of his ways, Santa has switched to a better model of determining whether a string is naughty or nice. None of the old rules apply, as they are all clearly ridiculous.\n",
    "\n",
    "Now, a nice string is one with all of the following properties:\n",
    "\n",
    "- It contains a pair of any two letters that appears at least twice in the string without overlapping, like ```xyxy``` (```xy```) or ```aabcdefgaa``` (```aa```), but not like ```aaa``` (```aa```, but it overlaps).\n",
    "- It contains at least one letter which repeats with exactly one letter between them, like ```xyx```, ```abcdefeghi``` (```efe```), or even ```aaa```.\n",
    "\n",
    "For example:\n",
    "\n",
    "- ```qjhvhtzxzqqjkmpb``` is nice because is has a pair that appears twice (```qj```) and a letter that repeats with exactly one letter between them (```zxz```).\n",
    "- ```xxyxx``` is nice because it has a pair that appears twice and a letter that repeats with one between, even though the letters used by each rule overlap.\n",
    "- ```uurcxstgmygtbstg``` is naughty because it has a pair (```tg```) but no repeat with a single letter between them.\n",
    "- ```ieodomkazucvgmuy``` is naughty because it has a repeating letter with one between (```odo```), but no pair that appears twice.\n",
    "\n",
    "How many strings are nice under these new rules?"
   ]
  },
  {
   "cell_type": "code",
   "execution_count": 5,
   "id": "0fdb9302",
   "metadata": {},
   "outputs": [],
   "source": [
    "def contains_separated_pair(string):\n",
    "    \n",
    "    for i in range(len(string)-2):\n",
    "        if string[i] == string[i+2]:\n",
    "            return True\n",
    "        else:\n",
    "            continue\n",
    "    return False\n",
    "\n",
    "\n",
    "def non_overlapping_pair(text):\n",
    "    for i, char0 in enumerate(text[:-2]):\n",
    "        if '{}{}'.format(char0, text[i+1]) in text[i+2:]:\n",
    "            found = True\n",
    "            break\n",
    "    else:\n",
    "        found = False\n",
    "\n",
    "    return found\n",
    "\n",
    "##############################################################################################    \n",
    "    \n",
    "    \n",
    "    \n",
    "def count_valid_strings(string_list):\n",
    "    \n",
    "    num_valid = 0\n",
    "    \n",
    "    for string in string_list:\n",
    "        #print(string, count_vowels(string))\n",
    "        if contains_separated_pair(string) and non_overlapping_pair(string):\n",
    "            num_valid += 1\n",
    "    \n",
    "    \n",
    "    return num_valid\n",
    "    \n",
    "    "
   ]
  },
  {
   "cell_type": "code",
   "execution_count": 6,
   "id": "de1c3180",
   "metadata": {},
   "outputs": [
    {
     "ename": "TypeError",
     "evalue": "expected string or bytes-like object",
     "output_type": "error",
     "traceback": [
      "\u001b[1;31m---------------------------------------------------------------------------\u001b[0m",
      "\u001b[1;31mTypeError\u001b[0m                                 Traceback (most recent call last)",
      "\u001b[1;32m~\\AppData\\Local\\Temp/ipykernel_18404/2330807084.py\u001b[0m in \u001b[0;36m<module>\u001b[1;34m\u001b[0m\n\u001b[1;32m----> 1\u001b[1;33m \u001b[0mnum_valid\u001b[0m \u001b[1;33m=\u001b[0m \u001b[0mcount_valid_strings\u001b[0m\u001b[1;33m(\u001b[0m\u001b[0mstrings\u001b[0m\u001b[1;33m)\u001b[0m\u001b[1;33m\u001b[0m\u001b[1;33m\u001b[0m\u001b[0m\n\u001b[0m\u001b[0;32m      2\u001b[0m \u001b[0mprint\u001b[0m\u001b[1;33m(\u001b[0m\u001b[0mnum_valid\u001b[0m\u001b[1;33m)\u001b[0m\u001b[1;33m\u001b[0m\u001b[1;33m\u001b[0m\u001b[0m\n",
      "\u001b[1;32m~\\AppData\\Local\\Temp/ipykernel_18404/292697466.py\u001b[0m in \u001b[0;36mcount_valid_strings\u001b[1;34m(string_list)\u001b[0m\n\u001b[0;32m     30\u001b[0m     \u001b[1;32mfor\u001b[0m \u001b[0mstring\u001b[0m \u001b[1;32min\u001b[0m \u001b[0mstring_list\u001b[0m\u001b[1;33m:\u001b[0m\u001b[1;33m\u001b[0m\u001b[1;33m\u001b[0m\u001b[0m\n\u001b[0;32m     31\u001b[0m         \u001b[1;31m#print(string, count_vowels(string))\u001b[0m\u001b[1;33m\u001b[0m\u001b[1;33m\u001b[0m\u001b[1;33m\u001b[0m\u001b[0m\n\u001b[1;32m---> 32\u001b[1;33m         \u001b[1;32mif\u001b[0m \u001b[0mcontains_separated_pair\u001b[0m\u001b[1;33m(\u001b[0m\u001b[0mstring\u001b[0m\u001b[1;33m)\u001b[0m \u001b[1;32mand\u001b[0m \u001b[0mcontains_pairs\u001b[0m\u001b[1;33m(\u001b[0m\u001b[0mstring\u001b[0m\u001b[1;33m)\u001b[0m\u001b[1;33m:\u001b[0m\u001b[1;33m\u001b[0m\u001b[1;33m\u001b[0m\u001b[0m\n\u001b[0m\u001b[0;32m     33\u001b[0m             \u001b[0mnum_valid\u001b[0m \u001b[1;33m+=\u001b[0m \u001b[1;36m1\u001b[0m\u001b[1;33m\u001b[0m\u001b[1;33m\u001b[0m\u001b[0m\n\u001b[0;32m     34\u001b[0m \u001b[1;33m\u001b[0m\u001b[0m\n",
      "\u001b[1;32m~\\AppData\\Local\\Temp/ipykernel_18404/292697466.py\u001b[0m in \u001b[0;36mcontains_pairs\u001b[1;34m(string)\u001b[0m\n\u001b[0;32m     15\u001b[0m \u001b[1;33m\u001b[0m\u001b[0m\n\u001b[0;32m     16\u001b[0m      \u001b[1;31m# letter repeat\u001b[0m\u001b[1;33m\u001b[0m\u001b[1;33m\u001b[0m\u001b[1;33m\u001b[0m\u001b[0m\n\u001b[1;32m---> 17\u001b[1;33m     \u001b[1;32mif\u001b[0m \u001b[1;32mnot\u001b[0m \u001b[0mre\u001b[0m\u001b[1;33m.\u001b[0m\u001b[0msearch\u001b[0m\u001b[1;33m(\u001b[0m\u001b[1;34mr'(.).\\1'\u001b[0m\u001b[1;33m,\u001b[0m \u001b[0mstr\u001b[0m\u001b[1;33m)\u001b[0m\u001b[1;33m:\u001b[0m\u001b[1;33m\u001b[0m\u001b[1;33m\u001b[0m\u001b[0m\n\u001b[0m\u001b[0;32m     18\u001b[0m         \u001b[1;32mreturn\u001b[0m \u001b[1;32mFalse\u001b[0m\u001b[1;33m\u001b[0m\u001b[1;33m\u001b[0m\u001b[0m\n\u001b[0;32m     19\u001b[0m \u001b[1;33m\u001b[0m\u001b[0m\n",
      "\u001b[1;32mC:\\ProgramData\\Anaconda3\\lib\\re.py\u001b[0m in \u001b[0;36msearch\u001b[1;34m(pattern, string, flags)\u001b[0m\n\u001b[0;32m    199\u001b[0m     \"\"\"Scan through string looking for a match to the pattern, returning\n\u001b[0;32m    200\u001b[0m     a Match object, or None if no match was found.\"\"\"\n\u001b[1;32m--> 201\u001b[1;33m     \u001b[1;32mreturn\u001b[0m \u001b[0m_compile\u001b[0m\u001b[1;33m(\u001b[0m\u001b[0mpattern\u001b[0m\u001b[1;33m,\u001b[0m \u001b[0mflags\u001b[0m\u001b[1;33m)\u001b[0m\u001b[1;33m.\u001b[0m\u001b[0msearch\u001b[0m\u001b[1;33m(\u001b[0m\u001b[0mstring\u001b[0m\u001b[1;33m)\u001b[0m\u001b[1;33m\u001b[0m\u001b[1;33m\u001b[0m\u001b[0m\n\u001b[0m\u001b[0;32m    202\u001b[0m \u001b[1;33m\u001b[0m\u001b[0m\n\u001b[0;32m    203\u001b[0m \u001b[1;32mdef\u001b[0m \u001b[0msub\u001b[0m\u001b[1;33m(\u001b[0m\u001b[0mpattern\u001b[0m\u001b[1;33m,\u001b[0m \u001b[0mrepl\u001b[0m\u001b[1;33m,\u001b[0m \u001b[0mstring\u001b[0m\u001b[1;33m,\u001b[0m \u001b[0mcount\u001b[0m\u001b[1;33m=\u001b[0m\u001b[1;36m0\u001b[0m\u001b[1;33m,\u001b[0m \u001b[0mflags\u001b[0m\u001b[1;33m=\u001b[0m\u001b[1;36m0\u001b[0m\u001b[1;33m)\u001b[0m\u001b[1;33m:\u001b[0m\u001b[1;33m\u001b[0m\u001b[1;33m\u001b[0m\u001b[0m\n",
      "\u001b[1;31mTypeError\u001b[0m: expected string or bytes-like object"
     ]
    }
   ],
   "source": [
    "num_valid = count_valid_strings(strings)\n",
    "print(num_valid)"
   ]
  },
  {
   "cell_type": "code",
   "execution_count": null,
   "id": "e24fb153",
   "metadata": {},
   "outputs": [],
   "source": []
  }
 ],
 "metadata": {
  "kernelspec": {
   "display_name": "Python 3 (ipykernel)",
   "language": "python",
   "name": "python3"
  },
  "language_info": {
   "codemirror_mode": {
    "name": "ipython",
    "version": 3
   },
   "file_extension": ".py",
   "mimetype": "text/x-python",
   "name": "python",
   "nbconvert_exporter": "python",
   "pygments_lexer": "ipython3",
   "version": "3.8.8"
  },
  "varInspector": {
   "cols": {
    "lenName": 16,
    "lenType": 16,
    "lenVar": 40
   },
   "kernels_config": {
    "python": {
     "delete_cmd_postfix": "",
     "delete_cmd_prefix": "del ",
     "library": "var_list.py",
     "varRefreshCmd": "print(var_dic_list())"
    },
    "r": {
     "delete_cmd_postfix": ") ",
     "delete_cmd_prefix": "rm(",
     "library": "var_list.r",
     "varRefreshCmd": "cat(var_dic_list()) "
    }
   },
   "types_to_exclude": [
    "module",
    "function",
    "builtin_function_or_method",
    "instance",
    "_Feature"
   ],
   "window_display": false
  }
 },
 "nbformat": 4,
 "nbformat_minor": 5
}
