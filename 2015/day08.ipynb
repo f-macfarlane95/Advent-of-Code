{
 "cells": [
  {
   "cell_type": "markdown",
   "metadata": {},
   "source": [
    "# Day 8: Matchsticks"
   ]
  },
  {
   "cell_type": "markdown",
   "metadata": {},
   "source": [
    "## Part 1"
   ]
  },
  {
   "cell_type": "markdown",
   "metadata": {},
   "source": [
    "Space on the sleigh is limited this year, and so Santa will be bringing his list as a digital copy. He needs to know how much space it will take up when stored.\n",
    "\n",
    "It is common in many programming languages to provide a way to escape special characters in strings. For example, C, JavaScript, Perl, Python, and even PHP handle special characters in very similar ways.\n",
    "\n",
    "However, it is important to realize the difference between the number of characters ***in the code representation of the string literal*** and the number of characters ***in the in-memory string itself***.\n",
    "\n",
    "For example:\n",
    "\n",
    "- ```\"\"```is ```2``` characters of code (the two double quotes), but the string contains zero characters.\n",
    "- ```\"abc\"``` is ```5``` characters of code, but ```3``` characters in the string data.\n",
    "- ```\"aaa\\\"aaa\"``` is ```10``` characters of code, but the string itself contains six \"a\" characters and a single, escaped quote character, for a total of ```7``` characters in the string data.\n",
    "- ```\"\\x27\"``` is ```6``` characters of code, but the string itself contains just one - an apostrophe (```'```), escaped using hexadecimal notation.\n",
    "\n",
    "\n",
    "Santa's list is a file that contains many double-quoted string literals, one on each line. The only escape sequences used are ```\\\\``` (which represents a single backslash), ```\\\"``` (which represents a lone double-quote character), and ```\\x``` plus two hexadecimal characters (which represents a single character with that ASCII code).\n",
    "\n",
    "Disregarding the whitespace in the file, what is **the number of characters of code for string literals** minus **the number of characters in memory for the values of the strings** in total for the entire file?\n",
    "\n",
    "For example, given the four strings above, the total number of characters of string code (```2 + 5 + 10 + 6 = 23```) minus the total number of characters in memory for string values (```0 + 3 + 7 + 1 = 11```) is ```23 - 11 = 12```."
   ]
  },
  {
   "cell_type": "markdown",
   "metadata": {},
   "source": [
    "There are far more robust/less hacky ways to do this with REGEX/string parsing that don't involve the dreaded ```eval()``` - but I spent far too long tying to escape the characters. As such life's too short and I have a train to catch!"
   ]
  },
  {
   "cell_type": "code",
   "execution_count": 1,
   "metadata": {},
   "outputs": [],
   "source": [
    "def get_diff(string):\n",
    "    return len(string) - len(eval(string))"
   ]
  },
  {
   "cell_type": "markdown",
   "metadata": {},
   "source": [
    "This will return the difference between the string, as it is read from the file, and the expression inside, as evaluated by python's ```eval()``` function. Set up a simple solver to do this for each line in our input and add that to a cumulative counter to get the result for part one."
   ]
  },
  {
   "cell_type": "code",
   "execution_count": 2,
   "metadata": {},
   "outputs": [],
   "source": [
    "def solve_part1(lines):\n",
    "    count = 0\n",
    "    for line in lines:\n",
    "        count += get_diff(line.strip())\n",
    "    print(count)"
   ]
  },
  {
   "cell_type": "code",
   "execution_count": 3,
   "metadata": {},
   "outputs": [],
   "source": [
    "lines = open(\"day08_data.txt\").readlines()"
   ]
  },
  {
   "cell_type": "code",
   "execution_count": 4,
   "metadata": {},
   "outputs": [
    {
     "name": "stdout",
     "output_type": "stream",
     "text": [
      "1350\n"
     ]
    }
   ],
   "source": [
    "solve_part1(lines)"
   ]
  },
  {
   "cell_type": "markdown",
   "metadata": {},
   "source": [
    "Now, let's go the other way. In addition to finding the number of characters of code, you should now **encode each code representation as a new string** and find the number of characters of the new encoded representation, including the surrounding double quotes.\n",
    "\n",
    "For example:\n",
    "\n",
    "- ```\"\"``` encodes to ```\"\\\"\\\"\"```, an increase from ```2``` characters to ```6```.\n",
    "- ```\"abc\"``` encodes to ```\"\\\"abc\\\"\"```, an increase from ```5``` characters to ```9```.\n",
    "- ```\"aaa\\\"aaa\"``` encodes to ```\"\\\"aaa\\\\\\\"aaa\\\"\"```, an increase from ```10``` characters to ```16```.\n",
    "- ```\"\\x27\"``` encodes to ```\"\\\"\\\\x27\\\"\"```, an increase from ```6``` characters to ```11```.\n",
    "\n",
    "Your task is to find **the total number of characters to represent the newly encoded strings** minus **the number of characters of code in each original string literal**. For example, for the strings above, the total encoded length (```6 + 9 + 16 + 11 = 42```) minus the characters in the original code representation (```23```, just like in the first part of this puzzle) is ```42 - 23 = 19```."
   ]
  },
  {
   "cell_type": "code",
   "execution_count": 5,
   "metadata": {},
   "outputs": [],
   "source": [
    "def escape_strs(string):\n",
    "    return (string\n",
    "            .replace('\\\\', '\\\\\\\\')\n",
    "            .replace('\"', '\\\\\"'))\n",
    "\n",
    "def get_diff_part_2(string):\n",
    "    return len(escape_strs(string)) - len(string) + 2\n",
    "\n",
    "\n",
    "def solve_part2(lines):\n",
    "    count = 0\n",
    "    for line in lines:\n",
    "        count += get_diff_part_2(line.strip())\n",
    "    print(count)"
   ]
  },
  {
   "cell_type": "code",
   "execution_count": 6,
   "metadata": {},
   "outputs": [
    {
     "name": "stdout",
     "output_type": "stream",
     "text": [
      "2085\n"
     ]
    }
   ],
   "source": [
    "solve_part2(lines)"
   ]
  },
  {
   "cell_type": "markdown",
   "metadata": {},
   "source": [
    "Returning to this (and making life simpler by indexing each character of each string rather than using ```re```) a non-exploitable method can be found as follows:\n",
    "\n"
   ]
  },
  {
   "cell_type": "code",
   "execution_count": 14,
   "metadata": {},
   "outputs": [
    {
     "name": "stdout",
     "output_type": "stream",
     "text": [
      "1350\n"
     ]
    }
   ],
   "source": [
    "lines = open(\"day08_data.txt\").readlines()\n",
    "\n",
    "def count_chars(string):\n",
    "    return(len(string))\n",
    "\n",
    "def count_escapes(string):\n",
    "    count = 0\n",
    "    c = 1\n",
    "    while c < len(string) - 1:\n",
    "        if string[c] == \"\\\\\":\n",
    "            if string[c+1] == \"x\": \n",
    "                c += 4 # 4 is HEX i.e., \"\\x86\" - four individual characters otherwise is escaping \" etc.\n",
    "            else:\n",
    "                c += 2 \n",
    "        else:\n",
    "            c += 1\n",
    "        count += 1\n",
    "    return count\n",
    "\n",
    "chars_code, chars_memory = 0, 0\n",
    "for line in lines:\n",
    "    chars_code   += count_chars(line)\n",
    "    chars_memory += count_escapes(line)\n",
    "\n",
    "print(chars_code-chars_memory)"
   ]
  },
  {
   "cell_type": "code",
   "execution_count": 15,
   "metadata": {},
   "outputs": [
    {
     "name": "stdout",
     "output_type": "stream",
     "text": [
      "2085\n"
     ]
    }
   ],
   "source": [
    "def encode_string(string):\n",
    "    new_string = \"\"\n",
    "    for c in string:\n",
    "        if c == '\"':\n",
    "            new_string += '\\\\\\\"'\n",
    "        elif c == '\\\\':\n",
    "            new_string += '\\\\\\\\'\n",
    "        else:\n",
    "            new_string += c\n",
    "    return '\"' + new_string + '\"'\n",
    "\n",
    "chars_encoded = 0\n",
    "for line in lines:\n",
    "    chars_encoded += len(encode_string(line))\n",
    "\n",
    "print(chars_encoded-chars_code)"
   ]
  }
 ],
 "metadata": {
  "interpreter": {
   "hash": "44cc6c652faf1c85abdf30543b3c8b025271d93892797ff76cea0a0f8d606b5b"
  },
  "kernelspec": {
   "display_name": "Python 3.9.7 ('base')",
   "language": "python",
   "name": "python3"
  },
  "language_info": {
   "codemirror_mode": {
    "name": "ipython",
    "version": 3
   },
   "file_extension": ".py",
   "mimetype": "text/x-python",
   "name": "python",
   "nbconvert_exporter": "python",
   "pygments_lexer": "ipython3",
   "version": "3.9.7"
  },
  "orig_nbformat": 4
 },
 "nbformat": 4,
 "nbformat_minor": 2
}
