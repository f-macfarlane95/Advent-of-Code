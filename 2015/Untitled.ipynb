{
 "cells": [
  {
   "cell_type": "markdown",
   "id": "d01f621d",
   "metadata": {},
   "source": [
    "# Day 7: Some Assembly Required"
   ]
  },
  {
   "cell_type": "markdown",
   "id": "1d632f55",
   "metadata": {},
   "source": [
    "## Part 1"
   ]
  },
  {
   "cell_type": "markdown",
   "id": "9e772a21",
   "metadata": {},
   "source": [
    "This year, Santa brought little Bobby Tables a set of wires and bitwise logic gates! Unfortunately, little Bobby is a little under the recommended age range, and he needs help assembling the circuit.\n",
    "\n",
    "Each wire has an identifier (some lowercase letters) and can carry a 16-bit signal (a number from `0` to `65535`). A signal is provided to each wire by a gate, another wire, or some specific value. Each wire can only get a signal from one source, but can provide its signal to multiple destinations. A gate provides no signal until all of its inputs have a signal.\n",
    "\n",
    "The included instructions booklet describes how to connect the parts together: ```x AND y -> z``` means to connect wires `x` and `y` to an AND gate, and then connect its output to wire `z`.\n",
    "\n",
    "For example:\n",
    "\n",
    "- ```123 -> x``` means that the signal ```123``` is provided to wire ```x```.\n",
    "- ```x AND y -> z``` means that the bitwise AND of wire ```x``` and wire ```y``` is provided to wire ```z```.\n",
    "- ```p LSHIFT 2 -> q``` means that the value from wire ```p``` is left-shifted by ```2``` and then provided to wire ```q```.\n",
    "- ```NOT e -> f``` means that the bitwise complement of the value from wire ```e``` is provided to wire ```f```.\n",
    "\n",
    "Other possible gates include ```OR``` (bitwise OR) and ```RSHIFT``` (right-shift). If, for some reason, you'd like to **emulate** the circuit instead, almost all programming languages (for example, C, JavaScript, or Python) provide operators for these gates.\n",
    "\n",
    "For example, here is a simple circuit:\n",
    "\n",
    "```\n",
    "123 -> x\n",
    "456 -> y\n",
    "x AND y -> d\n",
    "x OR y -> e\n",
    "x LSHIFT 2 -> f\n",
    "y RSHIFT 2 -> g\n",
    "NOT x -> h\n",
    "NOT y -> i\n",
    "```\n",
    "\n",
    "After it is run, these are the signals on the wires:\n",
    "```\n",
    "d: 72\n",
    "e: 507\n",
    "f: 492\n",
    "g: 114\n",
    "h: 65412\n",
    "i: 65079\n",
    "x: 123\n",
    "y: 456\n",
    "```\n",
    "\n",
    "In little Bobby's kit's instructions booklet (provided as your puzzle input), what signal is ultimately provided to **wire a**?"
   ]
  },
  {
   "cell_type": "code",
   "execution_count": 37,
   "id": "e72a1c26",
   "metadata": {
    "ExecuteTime": {
     "end_time": "2022-02-05T19:18:10.551118Z",
     "start_time": "2022-02-05T19:18:10.543059Z"
    }
   },
   "outputs": [],
   "source": [
    "import sys\n",
    "sys.path.append(\"../Utility/\")\n",
    "import AoC_helpers as util"
   ]
  },
  {
   "cell_type": "code",
   "execution_count": 84,
   "id": "15685078",
   "metadata": {
    "ExecuteTime": {
     "end_time": "2022-02-06T01:54:13.423278Z",
     "start_time": "2022-02-06T01:54:13.412739Z"
    }
   },
   "outputs": [],
   "source": [
    "def load_input(path):\n",
    "    file = open(path, \"r\")\n",
    "    lines = file.readlines()\n",
    "    print([(sub.split(\"->\")) for sub in lines])"
   ]
  },
  {
   "cell_type": "code",
   "execution_count": 85,
   "id": "9cbed4a9",
   "metadata": {
    "ExecuteTime": {
     "end_time": "2022-02-06T01:54:13.839788Z",
     "start_time": "2022-02-06T01:54:13.819657Z"
    }
   },
   "outputs": [],
   "source": [
    "class Wire:\n",
    "    def __init__(self):\n",
    "        self.num_dec = 0\n",
    "        self.num_bin = \"0000000000000000\"\n",
    "    \n",
    "    # base properties\n",
    "    \n",
    "    def set_value(self, num):\n",
    "        pass\n",
    "    \n",
    "    def reset(self):\n",
    "        pass\n",
    "    \n",
    "    # class functions\n",
    "        \n",
    "    def bin2dec(self):\n",
    "        pass\n",
    "    \n",
    "    def dec2bin(self):\n",
    "        pass\n",
    "    \n",
    "    # operators\n",
    "    \n",
    "    \n",
    "    \n",
    "    def AND(self, other: Wire):\n",
    "        pass\n",
    "    \n",
    "    def OR(self, other: Wire):\n",
    "        pass\n",
    "    \n",
    "    def NOT(self, other: Wire):\n",
    "        pass\n",
    "    \n",
    "    def LSHIFT(self, other: Wire):\n",
    "        pass\n",
    "    \n",
    "    def RSHIFT(self, other: Wire):\n",
    "        pass"
   ]
  },
  {
   "cell_type": "code",
   "execution_count": 86,
   "id": "303b79c8",
   "metadata": {
    "ExecuteTime": {
     "end_time": "2022-02-06T01:54:14.195216Z",
     "start_time": "2022-02-06T01:54:14.182794Z"
    }
   },
   "outputs": [
    {
     "name": "stdout",
     "output_type": "stream",
     "text": [
      "<__main__.Wire object at 0x000001E43FDDB850>\n"
     ]
    }
   ],
   "source": [
    "exec(\"%s = Wire()\" % (\"w\"))\n",
    "print(w)"
   ]
  },
  {
   "cell_type": "code",
   "execution_count": 87,
   "id": "122efc3a",
   "metadata": {
    "ExecuteTime": {
     "end_time": "2022-02-06T01:54:14.645395Z",
     "start_time": "2022-02-06T01:54:14.633962Z"
    }
   },
   "outputs": [],
   "source": [
    "b = util.dec2bin(int(\"123\"))\n",
    "d = util.bin2dec(b)"
   ]
  },
  {
   "cell_type": "code",
   "execution_count": 89,
   "id": "80d13005",
   "metadata": {
    "ExecuteTime": {
     "end_time": "2022-02-06T01:55:02.762255Z",
     "start_time": "2022-02-06T01:55:02.751284Z"
    }
   },
   "outputs": [
    {
     "name": "stdout",
     "output_type": "stream",
     "text": [
      "[['123 ', ' x\\n'], ['456 ', ' y\\n'], ['x AND y ', ' d\\n'], ['x OR y ', ' e\\n'], ['x LSHIFT 2 ', ' f\\n'], ['y RSHIFT 2 ', ' g\\n'], ['NOT x ', ' h\\n'], ['NOT y ', ' i']]\n"
     ]
    }
   ],
   "source": [
    "s = load_input(\"day07_data_test.txt\")"
   ]
  },
  {
   "cell_type": "code",
   "execution_count": null,
   "id": "cbd2f522",
   "metadata": {},
   "outputs": [],
   "source": []
  }
 ],
 "metadata": {
  "kernelspec": {
   "display_name": "Python 3 (ipykernel)",
   "language": "python",
   "name": "python3"
  },
  "language_info": {
   "codemirror_mode": {
    "name": "ipython",
    "version": 3
   },
   "file_extension": ".py",
   "mimetype": "text/x-python",
   "name": "python",
   "nbconvert_exporter": "python",
   "pygments_lexer": "ipython3",
   "version": "3.9.7"
  },
  "toc": {
   "base_numbering": 1,
   "nav_menu": {},
   "number_sections": true,
   "sideBar": true,
   "skip_h1_title": false,
   "title_cell": "Table of Contents",
   "title_sidebar": "Contents",
   "toc_cell": false,
   "toc_position": {},
   "toc_section_display": true,
   "toc_window_display": false
  },
  "varInspector": {
   "cols": {
    "lenName": 16,
    "lenType": 16,
    "lenVar": 40
   },
   "kernels_config": {
    "python": {
     "delete_cmd_postfix": "",
     "delete_cmd_prefix": "del ",
     "library": "var_list.py",
     "varRefreshCmd": "print(var_dic_list())"
    },
    "r": {
     "delete_cmd_postfix": ") ",
     "delete_cmd_prefix": "rm(",
     "library": "var_list.r",
     "varRefreshCmd": "cat(var_dic_list()) "
    }
   },
   "position": {
    "height": "560.844px",
    "left": "1550px",
    "right": "20px",
    "top": "120px",
    "width": "350px"
   },
   "types_to_exclude": [
    "module",
    "function",
    "builtin_function_or_method",
    "instance",
    "_Feature"
   ],
   "window_display": true
  }
 },
 "nbformat": 4,
 "nbformat_minor": 5
}
