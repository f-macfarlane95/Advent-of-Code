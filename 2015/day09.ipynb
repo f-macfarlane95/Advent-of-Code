{
 "cells": [
  {
   "cell_type": "markdown",
   "metadata": {},
   "source": [
    "# Day 9: All in a Single Night"
   ]
  },
  {
   "cell_type": "markdown",
   "metadata": {},
   "source": [
    "## Part 1\n",
    "\n",
    "Every year, Santa manages to deliver all of his presents in a single night.\n",
    "\n",
    "This year, however, he has some new locations to visit; his elves have provided him the distances between every pair of locations. He can start and end at any two (different) locations he wants, but he must visit each location exactly once. What is the **shortest distance** he can travel to achieve this?\n",
    "\n",
    "For example, given the following distances:\n",
    "\n",
    "```\n",
    "London to Dublin = 464\n",
    "London to Belfast = 518\n",
    "Dublin to Belfast = 141\n",
    "```\n",
    "\n",
    "The possible routes are therefore:\n",
    "\n",
    "```\n",
    "Dublin -> London -> Belfast = 982\n",
    "London -> Dublin -> Belfast = 605\n",
    "London -> Belfast -> Dublin = 659\n",
    "Dublin -> Belfast -> London = 659\n",
    "Belfast -> Dublin -> London = 605\n",
    "Belfast -> London -> Dublin = 982\n",
    "```\n",
    "\n",
    "\n",
    "The shortest of these is ```London -> Dublin -> Belfast = 605```, and so the answer is ```605``` in this example.\n",
    "\n",
    "What is the distance of the shortest route?\n"
   ]
  },
  {
   "cell_type": "code",
   "execution_count": 4,
   "metadata": {},
   "outputs": [
    {
     "name": "stdout",
     "output_type": "stream",
     "text": [
      "141\n",
      "736\n"
     ]
    }
   ],
   "source": [
    "from collections import defaultdict\n",
    "from itertools import permutations\n",
    "\n",
    "places = set()\n",
    "graph = defaultdict(dict)\n",
    "for line in open(\"day09_data.txt\"):\n",
    "    src, _, dst, _, dist = line.split()\n",
    "    places.add(src)\n",
    "    places.add(dst)\n",
    "    graph[src][dst] = int(dist)\n",
    "    graph[dst][src] = int(dist)\n",
    "\n",
    "distances = []\n",
    "for perm in permutations(places):\n",
    "    distances.append(sum(map(lambda x, y: graph[x][y], perm[:-1], perm[1:])))\n",
    "\n",
    "print(min(distances))\n",
    "print(max(distances))"
   ]
  }
 ],
 "metadata": {
  "interpreter": {
   "hash": "44cc6c652faf1c85abdf30543b3c8b025271d93892797ff76cea0a0f8d606b5b"
  },
  "kernelspec": {
   "display_name": "Python 3.9.7 ('base')",
   "language": "python",
   "name": "python3"
  },
  "language_info": {
   "codemirror_mode": {
    "name": "ipython",
    "version": 3
   },
   "file_extension": ".py",
   "mimetype": "text/x-python",
   "name": "python",
   "nbconvert_exporter": "python",
   "pygments_lexer": "ipython3",
   "version": "3.9.7"
  },
  "orig_nbformat": 4
 },
 "nbformat": 4,
 "nbformat_minor": 2
}
