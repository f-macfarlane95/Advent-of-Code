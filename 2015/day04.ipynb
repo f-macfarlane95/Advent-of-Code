{
 "cells": [
  {
   "cell_type": "markdown",
   "id": "6e0ccc57",
   "metadata": {},
   "source": [
    "# Day 4: The Ideal Stocking Stuffer"
   ]
  },
  {
   "cell_type": "markdown",
   "id": "cf80c585",
   "metadata": {},
   "source": [
    "## Part 1"
   ]
  },
  {
   "cell_type": "markdown",
   "id": "67034f7c",
   "metadata": {},
   "source": [
    "Santa needs help mining some AdventCoins (very similar to bitcoins) to use as gifts for all the economically forward-thinking little girls and boys.\n",
    "\n",
    "To do this, he needs to find MD5 hashes which, in hexadecimal, start with at least five zeroes. The input to the MD5 hash is some secret key (your puzzle input, given below) followed by a number in decimal. To mine AdventCoins, you must find Santa the lowest positive number (no leading zeroes: ```1```, ```2```, ```3```, ...) that produces such a hash.\n",
    "\n",
    "For example:\n",
    "\n",
    "- If your secret key is ```abcdef```, the answer is ```609043```, because the MD5 hash of ```abcdef609043``` starts with five zeroes (```000001dbbfa...```), and it is the lowest such number to do so.\n",
    "- If your secret key is ```pqrstuv```, the lowest number it combines with to make an MD5 hash starting with five zeroes is ```1048970```; that is, the MD5 hash of ```pqrstuv1048970``` looks like ```000006136ef...```."
   ]
  },
  {
   "cell_type": "code",
   "execution_count": 1,
   "id": "b4416357",
   "metadata": {
    "ExecuteTime": {
     "end_time": "2022-01-26T20:41:03.261938Z",
     "start_time": "2022-01-26T20:41:02.858638Z"
    }
   },
   "outputs": [
    {
     "name": "stdout",
     "output_type": "stream",
     "text": [
      "346386\n"
     ]
    }
   ],
   "source": [
    "import hashlib\n",
    "import time\n",
    "from IPython.display import display, clear_output\n",
    "\n",
    "i = 0\n",
    "while True:\n",
    "    MD5_hash = hashlib.md5(str(\"iwrupvqb\"+str(i)).encode()).hexdigest()\n",
    "    if MD5_hash[0:5] == \"00000\":\n",
    "        print(i)\n",
    "        break\n",
    "    i+=1"
   ]
  },
  {
   "cell_type": "markdown",
   "id": "a787ef70",
   "metadata": {},
   "source": [
    "## Part 2"
   ]
  },
  {
   "cell_type": "markdown",
   "id": "07bf7792",
   "metadata": {},
   "source": [
    "Now find one that starts with six zeroes."
   ]
  },
  {
   "cell_type": "code",
   "execution_count": 2,
   "id": "132b31bf",
   "metadata": {
    "ExecuteTime": {
     "end_time": "2022-01-26T20:41:16.275284Z",
     "start_time": "2022-01-26T20:41:03.264043Z"
    }
   },
   "outputs": [
    {
     "name": "stdout",
     "output_type": "stream",
     "text": [
      "9958218\n"
     ]
    }
   ],
   "source": [
    "while True:\n",
    "    MD5_hash = hashlib.md5(str(\"iwrupvqb\"+str(i)).encode()).hexdigest()\n",
    "    if MD5_hash[0:6] == \"000000\":\n",
    "        print(i)\n",
    "        break\n",
    "    i+=1"
   ]
  },
  {
   "cell_type": "code",
   "execution_count": null,
   "id": "ec72a43f",
   "metadata": {},
   "outputs": [],
   "source": []
  }
 ],
 "metadata": {
  "kernelspec": {
   "display_name": "Python 3 (ipykernel)",
   "language": "python",
   "name": "python3"
  },
  "language_info": {
   "codemirror_mode": {
    "name": "ipython",
    "version": 3
   },
   "file_extension": ".py",
   "mimetype": "text/x-python",
   "name": "python",
   "nbconvert_exporter": "python",
   "pygments_lexer": "ipython3",
   "version": "3.9.7"
  },
  "toc": {
   "base_numbering": 1,
   "nav_menu": {},
   "number_sections": true,
   "sideBar": true,
   "skip_h1_title": false,
   "title_cell": "Table of Contents",
   "title_sidebar": "Contents",
   "toc_cell": false,
   "toc_position": {},
   "toc_section_display": true,
   "toc_window_display": false
  },
  "varInspector": {
   "cols": {
    "lenName": 16,
    "lenType": 16,
    "lenVar": 40
   },
   "kernels_config": {
    "python": {
     "delete_cmd_postfix": "",
     "delete_cmd_prefix": "del ",
     "library": "var_list.py",
     "varRefreshCmd": "print(var_dic_list())"
    },
    "r": {
     "delete_cmd_postfix": ") ",
     "delete_cmd_prefix": "rm(",
     "library": "var_list.r",
     "varRefreshCmd": "cat(var_dic_list()) "
    }
   },
   "position": {
    "height": "192.844px",
    "left": "604px",
    "right": "20px",
    "top": "121px",
    "width": "350px"
   },
   "types_to_exclude": [
    "module",
    "function",
    "builtin_function_or_method",
    "instance",
    "_Feature"
   ],
   "window_display": false
  }
 },
 "nbformat": 4,
 "nbformat_minor": 5
}
