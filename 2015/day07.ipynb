{
 "cells": [
  {
   "cell_type": "markdown",
   "id": "d01f621d",
   "metadata": {},
   "source": [
    "# Day 7: Some Assembly Required"
   ]
  },
  {
   "cell_type": "markdown",
   "id": "1d632f55",
   "metadata": {},
   "source": [
    "## Part 1"
   ]
  },
  {
   "cell_type": "markdown",
   "id": "9e772a21",
   "metadata": {},
   "source": [
    "This year, Santa brought little Bobby Tables a set of wires and bitwise logic gates! Unfortunately, little Bobby is a little under the recommended age range, and he needs help assembling the circuit.\n",
    "\n",
    "Each wire has an identifier (some lowercase letters) and can carry a 16-bit signal (a number from `0` to `65535`). A signal is provided to each wire by a gate, another wire, or some specific value. Each wire can only get a signal from one source, but can provide its signal to multiple destinations. A gate provides no signal until all of its inputs have a signal.\n",
    "\n",
    "The included instructions booklet describes how to connect the parts together: ```x AND y -> z``` means to connect wires `x` and `y` to an AND gate, and then connect its output to wire `z`.\n",
    "\n",
    "For example:\n",
    "\n",
    "- ```123 -> x``` means that the signal ```123``` is provided to wire ```x```.\n",
    "- ```x AND y -> z``` means that the bitwise AND of wire ```x``` and wire ```y``` is provided to wire ```z```.\n",
    "- ```p LSHIFT 2 -> q``` means that the value from wire ```p``` is left-shifted by ```2``` and then provided to wire ```q```.\n",
    "- ```NOT e -> f``` means that the bitwise complement of the value from wire ```e``` is provided to wire ```f```.\n",
    "\n",
    "Other possible gates include ```OR``` (bitwise OR) and ```RSHIFT``` (right-shift). If, for some reason, you'd like to **emulate** the circuit instead, almost all programming languages (for example, C, JavaScript, or Python) provide operators for these gates.\n",
    "\n",
    "For example, here is a simple circuit:\n",
    "\n",
    "```\n",
    "123 -> x\n",
    "456 -> y\n",
    "x AND y -> d\n",
    "x OR y -> e\n",
    "x LSHIFT 2 -> f\n",
    "y RSHIFT 2 -> g\n",
    "NOT x -> h\n",
    "NOT y -> i\n",
    "```\n",
    "\n",
    "After it is run, these are the signals on the wires:\n",
    "```\n",
    "d: 72\n",
    "e: 507\n",
    "f: 492\n",
    "g: 114\n",
    "h: 65412\n",
    "i: 65079\n",
    "x: 123\n",
    "y: 456\n",
    "```\n",
    "\n",
    "In little Bobby's kit's instructions booklet (provided as your puzzle input), what signal is ultimately provided to **wire a**?"
   ]
  },
  {
   "cell_type": "code",
   "execution_count": 21,
   "id": "15685078",
   "metadata": {
    "ExecuteTime": {
     "end_time": "2022-02-06T01:54:13.423278Z",
     "start_time": "2022-02-06T01:54:13.412739Z"
    }
   },
   "outputs": [],
   "source": [
    "def load_input(path):\n",
    "    file = open(path, \"r\")\n",
    "    lines = file.readlines()\n",
    "    return([(sub.split(\"->\")) for sub in lines])"
   ]
  },
  {
   "cell_type": "code",
   "execution_count": 24,
   "id": "cbd2f522",
   "metadata": {},
   "outputs": [
    {
     "name": "stdout",
     "output_type": "stream",
     "text": [
      "part 1: 46065\n"
     ]
    }
   ],
   "source": [
    "calc = dict()\n",
    "results = dict()\n",
    "\n",
    "s = load_input(\"day07_data.txt\")\n",
    "\n",
    "for command in s:\n",
    "    (operation, set_value) = command\n",
    "    calc[set_value.strip()] = operation.strip().split(' ')\n",
    "\n",
    "def generate_circuit_connections(node):\n",
    "    try:\n",
    "        return int(node)\n",
    "    except ValueError:\n",
    "        pass\n",
    "\n",
    "    if node not in results:\n",
    "        operation = calc[node]\n",
    "        if len(operation) == 1:\n",
    "            set_value = generate_circuit_connections(operation[0])\n",
    "        else:\n",
    "            op = operation[-2]\n",
    "\n",
    "            if op == 'AND':\n",
    "              set_value = generate_circuit_connections(operation[0]) & generate_circuit_connections(operation[2])\n",
    "\n",
    "            elif op == 'OR':\n",
    "              set_value = generate_circuit_connections(operation[0]) | generate_circuit_connections(operation[2])\n",
    "\n",
    "            elif op == 'NOT':\n",
    "              set_value = ~generate_circuit_connections(operation[1]) & 0xffff # bitwise inversion AND with 11111111111111 to make int16\n",
    "\n",
    "            elif op == 'RSHIFT':\n",
    "              set_value = generate_circuit_connections(operation[0]) >> generate_circuit_connections(operation[2])\n",
    "\n",
    "            elif op == 'LSHIFT':\n",
    "              set_value = generate_circuit_connections(operation[0]) << generate_circuit_connections(operation[2])\n",
    "\n",
    "        results[node] = set_value\n",
    "    return results[node]\n",
    "\n",
    "print(\"part 1: %d\" % generate_circuit_connections('a'))\n"
   ]
  },
  {
   "cell_type": "markdown",
   "id": "abe2b4fc",
   "metadata": {},
   "source": [
    "## Part 2"
   ]
  },
  {
   "cell_type": "markdown",
   "id": "2541e602",
   "metadata": {},
   "source": [
    "Now, take the signal you got on wire ```a```, override wire ```b``` to that signal, and reset the other wires (including wire ```a```). What new signal is ultimately provided to wire ```a```?"
   ]
  },
  {
   "cell_type": "code",
   "execution_count": 23,
   "id": "bf4de02f",
   "metadata": {},
   "outputs": [
    {
     "name": "stdout",
     "output_type": "stream",
     "text": [
      "part 2: 14134\n"
     ]
    }
   ],
   "source": [
    "part_1 = calculate('a')\n",
    "calc['b'] = [str(part_1)]\n",
    "results = dict()\n",
    "\n",
    "print(\"part 2: %d\" % calculate('a'))\n"
   ]
  }
 ],
 "metadata": {
  "interpreter": {
   "hash": "44cc6c652faf1c85abdf30543b3c8b025271d93892797ff76cea0a0f8d606b5b"
  },
  "kernelspec": {
   "display_name": "Python 3.9.7 ('base')",
   "language": "python",
   "name": "python3"
  },
  "language_info": {
   "codemirror_mode": {
    "name": "ipython",
    "version": 3
   },
   "file_extension": ".py",
   "mimetype": "text/x-python",
   "name": "python",
   "nbconvert_exporter": "python",
   "pygments_lexer": "ipython3",
   "version": "3.9.7"
  },
  "toc": {
   "base_numbering": 1,
   "nav_menu": {},
   "number_sections": true,
   "sideBar": true,
   "skip_h1_title": false,
   "title_cell": "Table of Contents",
   "title_sidebar": "Contents",
   "toc_cell": false,
   "toc_position": {},
   "toc_section_display": true,
   "toc_window_display": false
  },
  "varInspector": {
   "cols": {
    "lenName": 16,
    "lenType": 16,
    "lenVar": 40
   },
   "kernels_config": {
    "python": {
     "delete_cmd_postfix": "",
     "delete_cmd_prefix": "del ",
     "library": "var_list.py",
     "varRefreshCmd": "print(var_dic_list())"
    },
    "r": {
     "delete_cmd_postfix": ") ",
     "delete_cmd_prefix": "rm(",
     "library": "var_list.r",
     "varRefreshCmd": "cat(var_dic_list()) "
    }
   },
   "position": {
    "height": "560.844px",
    "left": "1550px",
    "right": "20px",
    "top": "120px",
    "width": "350px"
   },
   "types_to_exclude": [
    "module",
    "function",
    "builtin_function_or_method",
    "instance",
    "_Feature"
   ],
   "window_display": true
  }
 },
 "nbformat": 4,
 "nbformat_minor": 5
}
