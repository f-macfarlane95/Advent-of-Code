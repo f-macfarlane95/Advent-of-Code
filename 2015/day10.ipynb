{
 "cells": [
  {
   "cell_type": "markdown",
   "metadata": {},
   "source": [
    "# Day 10: Elves Look, Elves Say\n",
    "\n",
    "## Part 1\n",
    "\n",
    "Today, the Elves are playing a game called *look-and-say*. They take turns making sequences by reading aloud the previous sequence and using that reading as the next sequence. For example, ```211``` is read as \"one two, two ones\", which becomes ```1221``` (```1``` ```2```, ```2``` ```1```s).\n",
    "\n",
    "Look-and-say sequences are generated iteratively, using the previous value as input for the next step. For each step, take the previous value, and replace each run of digits (like ```111```) with the number of digits (```3```) followed by the digit itself (```1```).\n",
    "\n",
    "For example:\n",
    "\n",
    "- ```1``` becomes ``11`` (1 copy of digit ```1```).\n",
    "- ```11``` becomes ```21``` (```2``` copies of digit ```1```).\n",
    "- ```21``` becomes ```1211``` (one ```2``` followed by one ```1```).\n",
    "- ```1211``` becomes ```111221``` (one ```1```, one ```2```, and two ```1```s).\n",
    "- ```111221``` becomes ```312211``` (three ```1```s, two ```2```s, and one ```1```).\n",
    "\n",
    "Starting with the digits in your puzzle input, apply this process 40 times. What is the **length of the result**?"
   ]
  },
  {
   "cell_type": "code",
   "execution_count": 9,
   "metadata": {},
   "outputs": [],
   "source": [
    "def look_and_say(num, iters, verbose=True):\n",
    "    \n",
    "    if verbose:\n",
    "        print(num)\n",
    "\n",
    "    for i in range(iters):\n",
    "        new_num = list()\n",
    "        ctr = 1\n",
    "        val = 0\n",
    "        reps = 0\n",
    "        for j in range(len(num)):\n",
    "            if j != len(num)-1:\n",
    "                if num[j] == num[j+1]:\n",
    "                    ctr = ctr + 1\n",
    "                    val = num[j]\n",
    "                    reps = ctr\n",
    "\n",
    "                elif num[j] != num[j+1]:\n",
    "                    val = num[j]\n",
    "                    reps = ctr\n",
    "                    new_num.append(str(reps))\n",
    "                    new_num.append(str(val))\n",
    "                    ctr = 1\n",
    "        \n",
    "            else:\n",
    "                val = num[j]\n",
    "                reps = ctr\n",
    "                new_num.append(str(reps))\n",
    "                new_num.append(str(val))\n",
    "\n",
    "        if verbose:\n",
    "            print(new_num)\n",
    "\n",
    "        num = new_num\n",
    "    return len(num)"
   ]
  },
  {
   "cell_type": "code",
   "execution_count": 10,
   "metadata": {},
   "outputs": [
    {
     "name": "stdout",
     "output_type": "stream",
     "text": [
      "['1']\n",
      "['1', '1']\n",
      "['2', '1']\n",
      "['1', '2', '1', '1']\n",
      "['1', '1', '1', '2', '2', '1']\n",
      "['3', '1', '2', '2', '1', '1']\n",
      "Example Length: 6\n"
     ]
    }
   ],
   "source": [
    "num = ['1']\n",
    "iters = 5\n",
    "\n",
    "print(\"Example Length:\", look_and_say(num, iters))"
   ]
  },
  {
   "cell_type": "code",
   "execution_count": 11,
   "metadata": {},
   "outputs": [
    {
     "name": "stdout",
     "output_type": "stream",
     "text": [
      "Part 1 Length: 329356\n"
     ]
    }
   ],
   "source": [
    "num = open(\"day10_data.txt\").readlines()\n",
    "num = list(num[0])\n",
    "\n",
    "iters = 40\n",
    "\n",
    "print(\"Part 1 Length:\", look_and_say(num, iters, False))"
   ]
  },
  {
   "cell_type": "code",
   "execution_count": 12,
   "metadata": {},
   "outputs": [
    {
     "name": "stdout",
     "output_type": "stream",
     "text": [
      "Part 2 Length: 4666278\n"
     ]
    }
   ],
   "source": [
    "num = open(\"day10_data.txt\").readlines()\n",
    "num = list(num[0])\n",
    "\n",
    "iters = 50\n",
    "\n",
    "print(\"Part 2 Length:\", look_and_say(num, iters, False))"
   ]
  },
  {
   "cell_type": "code",
   "execution_count": 15,
   "metadata": {},
   "outputs": [
    {
     "name": "stderr",
     "output_type": "stream",
     "text": [
      "[NbConvertApp] Converting notebook day10.ipynb to script\n",
      "[NbConvertApp] Writing 2508 bytes to day10.py\n"
     ]
    }
   ],
   "source": [
    "!jupyter nbconvert --to script day10.ipynb"
   ]
  }
 ],
 "metadata": {
  "interpreter": {
   "hash": "44cc6c652faf1c85abdf30543b3c8b025271d93892797ff76cea0a0f8d606b5b"
  },
  "kernelspec": {
   "display_name": "Python 3.9.7 ('base')",
   "language": "python",
   "name": "python3"
  },
  "language_info": {
   "codemirror_mode": {
    "name": "ipython",
    "version": 3
   },
   "file_extension": ".py",
   "mimetype": "text/x-python",
   "name": "python",
   "nbconvert_exporter": "python",
   "pygments_lexer": "ipython3",
   "version": "3.9.7"
  },
  "orig_nbformat": 4
 },
 "nbformat": 4,
 "nbformat_minor": 2
}
