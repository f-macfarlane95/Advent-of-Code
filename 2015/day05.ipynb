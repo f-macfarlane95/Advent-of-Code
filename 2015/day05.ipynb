{
 "cells": [
  {
   "cell_type": "markdown",
   "id": "ea54114a",
   "metadata": {},
   "source": [
    "# Day 5: Doesn't He Have Intern-Elves For This?"
   ]
  },
  {
   "cell_type": "markdown",
   "id": "18c91457",
   "metadata": {},
   "source": [
    "## Part 1"
   ]
  },
  {
   "cell_type": "markdown",
   "id": "5dc78c14",
   "metadata": {},
   "source": [
    "Santa needs help figuring out which strings in his text file are naughty or nice.\n",
    "\n",
    "A nice string is one with all of the following properties:\n",
    "\n",
    "- It contains at least three vowels (```aeiou``` only), like ```aei```, ```xazegov```, or ```aeiouaeiouaeiou```.\n",
    "- It contains at least one letter that appears twice in a row, like ```xx```, ```abcdde``` (```dd```), or ```aabbccdd``` (```aa```, ```bb```, ```cc```, or ```dd```).\n",
    "- It does not contain the strings ```ab```, ```cd```, ```pq```, or ```xy```, even if they are part of one of the other requirements.\n",
    "\n",
    "For example:\n",
    "\n",
    "- ```ugknbfddgicrmopn``` is nice because it has at least three vowels (```u...i...o...```), a double letter (```...dd...```), and none of the disallowed substrings.\n",
    "- ```aaa``` is nice because it has at least three vowels and a double letter, even though the letters used by different rules overlap.\n",
    "- ```jchzalrnumimnmhp``` is naughty because it has no double letter.\n",
    "- ```haegwjzuvuyypxyu``` is naughty because it contains the string ```xy```.\n",
    "- ```dvszwmarrgswjxmb```is naughty because it contains only one vowel.\n",
    "\n",
    "How many strings are nice?"
   ]
  },
  {
   "cell_type": "code",
   "execution_count": 1,
   "id": "3068a921",
   "metadata": {},
   "outputs": [],
   "source": [
    "import re"
   ]
  },
  {
   "cell_type": "code",
   "execution_count": 2,
   "id": "0551d99a",
   "metadata": {},
   "outputs": [],
   "source": [
    "def load_strings(path):\n",
    "    file = open(path, \"r\")\n",
    "    lines = file.readlines()\n",
    "    lines = [l.replace(\"\\n\",'') for l in lines]\n",
    "    \n",
    "    return lines"
   ]
  },
  {
   "cell_type": "code",
   "execution_count": 3,
   "id": "3311d55c",
   "metadata": {},
   "outputs": [],
   "source": [
    "def count_vowels(string):\n",
    "    num_vowels = 0\n",
    "    \n",
    "    num_vowels += string.count('a')\n",
    "    num_vowels += string.count('e')\n",
    "    num_vowels += string.count('i')\n",
    "    num_vowels += string.count('o')\n",
    "    num_vowels += string.count('u')\n",
    "    \n",
    "    if num_vowels >= 3:\n",
    "         return True\n",
    "    else:\n",
    "        return False\n",
    "    \n",
    "\n",
    "def contains_pair(string):\n",
    "    \n",
    "    for i in range(len(string)-1):\n",
    "        if string[i] == string[i+1]:\n",
    "            return True\n",
    "        else:\n",
    "            continue\n",
    "    return False\n",
    "\n",
    "def check_forbidden(string):\n",
    "    num_forbidden = 0\n",
    "    \n",
    "    num_forbidden += string.count('ab')\n",
    "    num_forbidden += string.count('cd')\n",
    "    num_forbidden += string.count('pq')\n",
    "    num_forbidden += string.count('xy')\n",
    "    \n",
    "    if num_forbidden > 0:\n",
    "         return False\n",
    "    else:\n",
    "        return True\n",
    "\n",
    "    \n",
    "##############################################################################################    \n",
    "    \n",
    "    \n",
    "    \n",
    "def count_valid_strings(string_list):\n",
    "    \n",
    "    num_valid = 0\n",
    "    \n",
    "    for string in string_list:\n",
    "        #print(string, count_vowels(string))\n",
    "        if count_vowels(string) and contains_pair(string) and check_forbidden(string):\n",
    "            num_valid += 1\n",
    "    \n",
    "    \n",
    "    return num_valid\n",
    "    \n",
    "    "
   ]
  },
  {
   "cell_type": "code",
   "execution_count": 4,
   "id": "d02d43e2",
   "metadata": {},
   "outputs": [
    {
     "name": "stdout",
     "output_type": "stream",
     "text": [
      "236\n"
     ]
    }
   ],
   "source": [
    "strings = load_strings(\"day05_data.txt\")\n",
    "num_valid = count_valid_strings(strings)\n",
    "\n",
    "print(num_valid)"
   ]
  },
  {
   "cell_type": "markdown",
   "id": "d663657c",
   "metadata": {},
   "source": [
    "## Part 2"
   ]
  },
  {
   "cell_type": "markdown",
   "id": "319f0b92",
   "metadata": {},
   "source": [
    "Realizing the error of his ways, Santa has switched to a better model of determining whether a string is naughty or nice. None of the old rules apply, as they are all clearly ridiculous.\n",
    "\n",
    "Now, a nice string is one with all of the following properties:\n",
    "\n",
    "- It contains a pair of any two letters that appears at least twice in the string without overlapping, like ```xyxy``` (```xy```) or ```aabcdefgaa``` (```aa```), but not like ```aaa``` (```aa```, but it overlaps).\n",
    "- It contains at least one letter which repeats with exactly one letter between them, like ```xyx```, ```abcdefeghi``` (```efe```), or even ```aaa```.\n",
    "\n",
    "For example:\n",
    "\n",
    "- ```qjhvhtzxzqqjkmpb``` is nice because is has a pair that appears twice (```qj```) and a letter that repeats with exactly one letter between them (```zxz```).\n",
    "- ```xxyxx``` is nice because it has a pair that appears twice and a letter that repeats with one between, even though the letters used by each rule overlap.\n",
    "- ```uurcxstgmygtbstg``` is naughty because it has a pair (```tg```) but no repeat with a single letter between them.\n",
    "- ```ieodomkazucvgmuy``` is naughty because it has a repeating letter with one between (```odo```), but no pair that appears twice.\n",
    "\n",
    "How many strings are nice under these new rules?"
   ]
  },
  {
   "cell_type": "code",
   "execution_count": 7,
   "id": "779b1efa",
   "metadata": {},
   "outputs": [],
   "source": [
    "def contains_separated_pair(string):\n",
    "    \n",
    "    for i in range(len(string)-2):\n",
    "        if string[i] == string[i+2]:\n",
    "            return True\n",
    "        else:\n",
    "            continue\n",
    "    return False\n",
    "\n",
    "\n",
    "def non_overlapping_pair(text):\n",
    "    for i, char0 in enumerate(text[:-2]):\n",
    "        if '{}{}'.format(char0, text[i+1]) in text[i+2:]:\n",
    "            found = True\n",
    "            break\n",
    "    else:\n",
    "        found = False\n",
    "\n",
    "    return found\n",
    "\n",
    "##############################################################################################    \n",
    "    \n",
    "    \n",
    "    \n",
    "def count_valid_strings(string_list):\n",
    "    \n",
    "    num_valid = 0\n",
    "    \n",
    "    for string in string_list:\n",
    "        #print(string, count_vowels(string))\n",
    "        if contains_separated_pair(string) and non_overlapping_pair(string):\n",
    "            num_valid += 1\n",
    "    \n",
    "    \n",
    "    return num_valid\n",
    "    \n",
    "    "
   ]
  },
  {
   "cell_type": "code",
   "execution_count": 8,
   "id": "6d5a69cf",
   "metadata": {},
   "outputs": [
    {
     "name": "stdout",
     "output_type": "stream",
     "text": [
      "51\n"
     ]
    }
   ],
   "source": [
    "num_valid = count_valid_strings(strings)\n",
    "print(num_valid)"
   ]
  },
  {
   "cell_type": "code",
   "execution_count": null,
   "id": "6b3c6a0c",
   "metadata": {},
   "outputs": [],
   "source": []
  }
 ],
 "metadata": {
  "kernelspec": {
   "display_name": "Python 3 (ipykernel)",
   "language": "python",
   "name": "python3"
  },
  "language_info": {
   "codemirror_mode": {
    "name": "ipython",
    "version": 3
   },
   "file_extension": ".py",
   "mimetype": "text/x-python",
   "name": "python",
   "nbconvert_exporter": "python",
   "pygments_lexer": "ipython3",
   "version": "3.8.8"
  },
  "varInspector": {
   "cols": {
    "lenName": 16,
    "lenType": 16,
    "lenVar": 40
   },
   "kernels_config": {
    "python": {
     "delete_cmd_postfix": "",
     "delete_cmd_prefix": "del ",
     "library": "var_list.py",
     "varRefreshCmd": "print(var_dic_list())"
    },
    "r": {
     "delete_cmd_postfix": ") ",
     "delete_cmd_prefix": "rm(",
     "library": "var_list.r",
     "varRefreshCmd": "cat(var_dic_list()) "
    }
   },
   "types_to_exclude": [
    "module",
    "function",
    "builtin_function_or_method",
    "instance",
    "_Feature"
   ],
   "window_display": false
  }
 },
 "nbformat": 4,
 "nbformat_minor": 5
}
