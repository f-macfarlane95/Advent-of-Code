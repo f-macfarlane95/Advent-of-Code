{
 "cells": [
  {
   "cell_type": "markdown",
   "id": "2aa8c724",
   "metadata": {},
   "source": [
    "# Day 2: I Was Told There Would Be No Math"
   ]
  },
  {
   "cell_type": "markdown",
   "id": "bae14d41",
   "metadata": {},
   "source": [
    "## Part 1"
   ]
  },
  {
   "cell_type": "markdown",
   "id": "3c123fe8",
   "metadata": {},
   "source": [
    "The elves are running low on wrapping paper, and so they need to submit an order for more. They have a list of the dimensions (length l, width w, and height h) of each present, and only want to order exactly as much as they need.\n",
    "\n",
    "Fortunately, every present is a box (a perfect right rectangular prism), which makes calculating the required wrapping paper for each gift a little easier: find the surface area of the box, which is 2*l*w + 2*w*h + 2*h*l. The elves also need a little extra paper for each present: the area of the smallest side.\n",
    "\n",
    "For example:\n",
    "\n",
    "- A present with dimensions 2x3x4 requires 2*6 + 2*12 + 2*8 = 52 square feet of wrapping paper plus 6 square feet of slack, for a total of 58 square feet.\n",
    "- A present with dimensions 1x1x10 requires 2*1 + 2*10 + 2*10 = 42 square feet of wrapping paper plus 1 square foot of slack, for a total of 43 square feet.\n",
    "\n",
    "All numbers in the elves' list are in feet. How many total square feet of wrapping paper should they order?"
   ]
  },
  {
   "cell_type": "code",
   "execution_count": 1,
   "id": "e8d331eb",
   "metadata": {},
   "outputs": [],
   "source": [
    "import re\n",
    "import numpy as np"
   ]
  },
  {
   "cell_type": "code",
   "execution_count": 2,
   "id": "f28a9982",
   "metadata": {},
   "outputs": [],
   "source": [
    "def load_dims(path):\n",
    "    file = open(path, \"r\")\n",
    "    lines = file.readlines()\n",
    "    lines = [l.replace(\"\\n\", '') for l in lines]\n",
    "    \n",
    "    lines = [list(map(int,re.split(r'\\D+',l))) for l in lines]\n",
    "    \n",
    "    \n",
    "    lines = np.array(lines)\n",
    "    \n",
    "    return(lines)"
   ]
  },
  {
   "cell_type": "code",
   "execution_count": 3,
   "id": "7404adb4",
   "metadata": {},
   "outputs": [],
   "source": [
    "class Present:\n",
    "    \n",
    "    def __init__(self, dimensions):\n",
    "        self.w = dimensions[0]\n",
    "        self.h = dimensions[1]\n",
    "        self.l = dimensions[2]\n",
    "        \n",
    "        self.area = 0\n",
    "        self.extra = 0\n",
    "        self.total = 0\n",
    "        self.ribbon = 0\n",
    "        \n",
    "        self.dims_sorted = []\n",
    "        \n",
    "    def calc_area(self):\n",
    "        self.area = 2*self.l*self.w + 2*self.w*self.h + 2*self.h*self.l\n",
    "        #print(self.area)\n",
    "        return self.area\n",
    "    \n",
    "    def calc_extra(self):\n",
    "        self.sort_dims()\n",
    "        self.extra = self.dims_sorted[0]*self.dims_sorted[1]\n",
    "        #print(self.extra)\n",
    "        return self.extra\n",
    "    \n",
    "    def calc_total(self):\n",
    "        self.total = self.calc_area() + self.calc_extra()\n",
    "        #print(self.total)\n",
    "        return self.total\n",
    "    \n",
    "    def sort_dims(self):\n",
    "        self.dims_sorted = np.sort([self.w, self.h, self.l])\n",
    "        return self.dims_sorted\n",
    "        \n",
    "    def calc_ribbon(self):\n",
    "        self.ribbon = 2*self.dims_sorted[0] + 2*self.dims_sorted[1] + (self.w * self.l * self.h)\n",
    "        return self.ribbon\n",
    "    "
   ]
  },
  {
   "cell_type": "code",
   "execution_count": 4,
   "id": "280ce88e",
   "metadata": {},
   "outputs": [
    {
     "data": {
      "text/plain": [
       "58"
      ]
     },
     "execution_count": 4,
     "metadata": {},
     "output_type": "execute_result"
    }
   ],
   "source": [
    "Presents = Present([2, 3, 4])\n",
    "Presents.calc_total()\n",
    "Presents.total"
   ]
  },
  {
   "cell_type": "code",
   "execution_count": 5,
   "id": "0f353565",
   "metadata": {},
   "outputs": [],
   "source": [
    "sizes = load_dims(\"day02_data.txt\")"
   ]
  },
  {
   "cell_type": "code",
   "execution_count": 6,
   "id": "23ae48bb",
   "metadata": {},
   "outputs": [],
   "source": [
    "Presents = []\n",
    "for i in range(len(sizes)):\n",
    "    Presents.append(Present(sizes[i]))"
   ]
  },
  {
   "cell_type": "code",
   "execution_count": 7,
   "id": "1687eebc",
   "metadata": {},
   "outputs": [
    {
     "name": "stdout",
     "output_type": "stream",
     "text": [
      "1606483\n"
     ]
    }
   ],
   "source": [
    "total_paper = 0\n",
    "\n",
    "for p in Presents:\n",
    "    p.calc_total()\n",
    "    total_paper += p.total\n",
    "    \n",
    "print(total_paper)"
   ]
  },
  {
   "cell_type": "markdown",
   "id": "79ddb7d9",
   "metadata": {},
   "source": [
    "## Part 2"
   ]
  },
  {
   "cell_type": "markdown",
   "id": "e8db4b43",
   "metadata": {},
   "source": [
    "The elves are also running low on ribbon. Ribbon is all the same width, so they only have to worry about the length they need to order, which they would again like to be exact.\n",
    "\n",
    "The ribbon required to wrap a present is the shortest distance around its sides, or the smallest perimeter of any one face. Each present also requires a bow made out of ribbon as well; the feet of ribbon required for the perfect bow is equal to the cubic feet of volume of the present. Don't ask how they tie the bow, though; they'll never tell.\n",
    "\n",
    "For example:\n",
    "\n",
    "- A present with dimensions 2x3x4 requires 2+2+3+3 = 10 feet of ribbon to wrap the present plus 2*3*4 = 24 feet of ribbon for the bow, for a total of 34 feet.\n",
    "- A present with dimensions 1x1x10 requires 1+1+1+1 = 4 feet of ribbon to wrap the present plus 1*1*10 = 10 feet of ribbon for the bow, for a total of 14 feet.\n",
    "\n",
    "How many total feet of ribbon should they order?"
   ]
  },
  {
   "cell_type": "code",
   "execution_count": 8,
   "id": "ae4984b5",
   "metadata": {},
   "outputs": [
    {
     "name": "stdout",
     "output_type": "stream",
     "text": [
      "3842356\n"
     ]
    }
   ],
   "source": [
    "total_ribbon = 0\n",
    "\n",
    "for p in Presents:\n",
    "    p.calc_ribbon()\n",
    "    total_ribbon += p.ribbon\n",
    "    \n",
    "print(total_ribbon)"
   ]
  }
 ],
 "metadata": {
  "kernelspec": {
   "display_name": "Python 3 (ipykernel)",
   "language": "python",
   "name": "python3"
  },
  "language_info": {
   "codemirror_mode": {
    "name": "ipython",
    "version": 3
   },
   "file_extension": ".py",
   "mimetype": "text/x-python",
   "name": "python",
   "nbconvert_exporter": "python",
   "pygments_lexer": "ipython3",
   "version": "3.8.8"
  },
  "varInspector": {
   "cols": {
    "lenName": 16,
    "lenType": 16,
    "lenVar": 40
   },
   "kernels_config": {
    "python": {
     "delete_cmd_postfix": "",
     "delete_cmd_prefix": "del ",
     "library": "var_list.py",
     "varRefreshCmd": "print(var_dic_list())"
    },
    "r": {
     "delete_cmd_postfix": ") ",
     "delete_cmd_prefix": "rm(",
     "library": "var_list.r",
     "varRefreshCmd": "cat(var_dic_list()) "
    }
   },
   "position": {
    "height": "457.844px",
    "left": "1550px",
    "right": "20px",
    "top": "124px",
    "width": "350px"
   },
   "types_to_exclude": [
    "module",
    "function",
    "builtin_function_or_method",
    "instance",
    "_Feature"
   ],
   "window_display": true
  }
 },
 "nbformat": 4,
 "nbformat_minor": 5
}
