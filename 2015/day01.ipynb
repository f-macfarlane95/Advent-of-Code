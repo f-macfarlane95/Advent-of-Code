{
 "cells": [
  {
   "cell_type": "markdown",
   "id": "1cc7ccc8",
   "metadata": {},
   "source": [
    "# Day 1: Not Quite Lisp"
   ]
  },
  {
   "cell_type": "markdown",
   "id": "2128faa4",
   "metadata": {},
   "source": [
    "## Part 1"
   ]
  },
  {
   "cell_type": "markdown",
   "id": "0480129b",
   "metadata": {},
   "source": [
    "Santa was hoping for a white Christmas, but his weather machine's \"snow\" function is powered by stars, and he's fresh out! To save Christmas, he needs you to collect fifty stars by December 25th.\n",
    "\n",
    "Collect stars by helping Santa solve puzzles. Two puzzles will be made available on each day in the Advent calendar; the second puzzle is unlocked when you complete the first. Each puzzle grants one star. Good luck!\n",
    "\n",
    "Here's an easy puzzle to warm you up.\n",
    "\n",
    "Santa is trying to deliver presents in a large apartment building, but he can't find the right floor - the directions he got are a little confusing. He starts on the ground floor (floor 0) and then follows the instructions one character at a time.\n",
    "\n",
    "An opening parenthesis, (, means he should go up one floor, and a closing parenthesis, ), means he should go down one floor.\n",
    "\n",
    "The apartment building is very tall, and the basement is very deep; he will never find the top or bottom floors.\n",
    "\n",
    "For example:\n",
    "```\n",
    "(()) and ()() both result in floor 0.\n",
    "((( and (()(()( both result in floor 3.\n",
    "))((((( also results in floor 3.\n",
    "()) and ))( both result in floor -1 (the first basement level).\n",
    "))) and )())()) both result in floor -3.\n",
    "```\n",
    "To what floor do the instructions take Santa?"
   ]
  },
  {
   "cell_type": "code",
   "execution_count": 7,
   "id": "97a2ac73",
   "metadata": {
    "ExecuteTime": {
     "end_time": "2022-01-26T20:38:58.636382Z",
     "start_time": "2022-01-26T20:38:58.618149Z"
    }
   },
   "outputs": [],
   "source": [
    "from matplotlib import pyplot as plt\n",
    "plt.rcParams['figure.figsize'] = [10, 5]"
   ]
  },
  {
   "cell_type": "code",
   "execution_count": 8,
   "id": "ef4e84b4",
   "metadata": {
    "ExecuteTime": {
     "end_time": "2022-01-26T20:38:59.166370Z",
     "start_time": "2022-01-26T20:38:59.157523Z"
    }
   },
   "outputs": [],
   "source": [
    "def load_data(path):\n",
    "    file = open(path, \"r\")\n",
    "    lines = file.readlines()\n",
    "    lines = lines[0]\n",
    "    return lines"
   ]
  },
  {
   "cell_type": "code",
   "execution_count": 9,
   "id": "7ef068a1",
   "metadata": {
    "ExecuteTime": {
     "end_time": "2022-01-26T20:38:59.663578Z",
     "start_time": "2022-01-26T20:38:59.647607Z"
    }
   },
   "outputs": [],
   "source": [
    "floor_str = load_data(\"day01_data.txt\")"
   ]
  },
  {
   "cell_type": "code",
   "execution_count": 10,
   "id": "07dd52f3",
   "metadata": {
    "ExecuteTime": {
     "end_time": "2022-01-26T20:39:00.086229Z",
     "start_time": "2022-01-26T20:39:00.066897Z"
    }
   },
   "outputs": [
    {
     "data": {
      "text/plain": [
       "280"
      ]
     },
     "execution_count": 10,
     "metadata": {},
     "output_type": "execute_result"
    }
   ],
   "source": [
    "floor_str.count(\"(\") - floor_str.count(\")\")"
   ]
  },
  {
   "cell_type": "markdown",
   "id": "5ab555d7",
   "metadata": {},
   "source": [
    "## Part 2"
   ]
  },
  {
   "cell_type": "markdown",
   "id": "399318f1",
   "metadata": {},
   "source": [
    "Now, given the same instructions, find the position of the first character that causes him to enter the basement (floor -1). The first character in the instructions has position 1, the second character has position 2, and so on.\n",
    "\n",
    "For example:\n",
    "```\n",
    ") causes him to enter the basement at character position 1.\n",
    "()()) causes him to enter the basement at character position 5.\n",
    "```\n",
    "What is the position of the character that causes Santa to first enter the basement?"
   ]
  },
  {
   "cell_type": "code",
   "execution_count": 11,
   "id": "bea3c3f8",
   "metadata": {
    "ExecuteTime": {
     "end_time": "2022-01-26T20:39:01.376512Z",
     "start_time": "2022-01-26T20:39:01.354907Z"
    }
   },
   "outputs": [
    {
     "name": "stdout",
     "output_type": "stream",
     "text": [
      "1797\n"
     ]
    }
   ],
   "source": [
    "floor = []\n",
    "current_floor = 0\n",
    "flag = 1\n",
    "\n",
    "for i, c in enumerate(floor_str):\n",
    "   \n",
    "    \n",
    "    if c == \"(\":\n",
    "        current_floor = current_floor + 1\n",
    "    if c == \")\":\n",
    "        current_floor = current_floor - 1\n",
    "    #print(c,current_floor)\n",
    "    \n",
    "    if current_floor == -1 and flag == 1: \n",
    "        print(i+1)\n",
    "        flag = 0\n",
    "        \n",
    "    floor.append(current_floor)"
   ]
  },
  {
   "cell_type": "code",
   "execution_count": 12,
   "id": "78b6b2e4",
   "metadata": {
    "ExecuteTime": {
     "end_time": "2022-01-26T20:39:01.906147Z",
     "start_time": "2022-01-26T20:39:01.807282Z"
    }
   },
   "outputs": [
    {
     "data": {
      "image/png": "[encoded data removed]",
      "text/plain": [
       "<Figure size 720x360 with 1 Axes>"
      ]
     },
     "metadata": {
      "needs_background": "light"
     },
     "output_type": "display_data"
    }
   ],
   "source": [
    "plt.plot(range(0,len(floor)),floor)\n",
    "plt.xlabel(\"Steps\")\n",
    "plt.ylabel(\"Floor\")\n",
    "plt.show()"
   ]
  },
  {
   "cell_type": "code",
   "execution_count": null,
   "id": "67a83c6c",
   "metadata": {},
   "outputs": [],
   "source": []
  }
 ],
 "metadata": {
  "kernelspec": {
   "display_name": "Python 3 (ipykernel)",
   "language": "python",
   "name": "python3"
  },
  "language_info": {
   "codemirror_mode": {
    "name": "ipython",
    "version": 3
   },
   "file_extension": ".py",
   "mimetype": "text/x-python",
   "name": "python",
   "nbconvert_exporter": "python",
   "pygments_lexer": "ipython3",
   "version": "3.9.7"
  },
  "toc": {
   "base_numbering": 1,
   "nav_menu": {},
   "number_sections": true,
   "sideBar": true,
   "skip_h1_title": false,
   "title_cell": "Table of Contents",
   "title_sidebar": "Contents",
   "toc_cell": false,
   "toc_position": {},
   "toc_section_display": true,
   "toc_window_display": false
  },
  "varInspector": {
   "cols": {
    "lenName": 16,
    "lenType": 16,
    "lenVar": 40
   },
   "kernels_config": {
    "python": {
     "delete_cmd_postfix": "",
     "delete_cmd_prefix": "del ",
     "library": "var_list.py",
     "varRefreshCmd": "print(var_dic_list())"
    },
    "r": {
     "delete_cmd_postfix": ") ",
     "delete_cmd_prefix": "rm(",
     "library": "var_list.r",
     "varRefreshCmd": "cat(var_dic_list()) "
    }
   },
   "position": {
    "height": "303.854px",
    "left": "1763.33px",
    "right": "20px",
    "top": "144px",
    "width": "350px"
   },
   "types_to_exclude": [
    "module",
    "function",
    "builtin_function_or_method",
    "instance",
    "_Feature"
   ],
   "window_display": true
  }
 },
 "nbformat": 4,
 "nbformat_minor": 5
}
