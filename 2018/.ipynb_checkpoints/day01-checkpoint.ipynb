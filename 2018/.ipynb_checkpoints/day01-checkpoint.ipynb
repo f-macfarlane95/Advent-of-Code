{
 "cells": [
  {
   "cell_type": "markdown",
   "id": "1a7c7343",
   "metadata": {},
   "source": [
    "# Day 1: Chronal Calibration"
   ]
  },
  {
   "cell_type": "markdown",
   "id": "fd0fcb1e",
   "metadata": {},
   "source": [
    "## Part 1"
   ]
  },
  {
   "cell_type": "markdown",
   "id": "85e97cab",
   "metadata": {},
   "source": [
    "\"We've detected some temporal anomalies,\" one of Santa's Elves at the Temporal Anomaly Research and Detection Instrument Station tells you. She sounded pretty worried when she called you down here. \"At 500-year intervals into the past, someone has been changing Santa's history!\"\n",
    "\n",
    "\"The good news is that the changes won't propagate to our time stream for another 25 days, and we have a device\" - she attaches something to your wrist - \"that will let you fix the changes with no such propagation delay. It's configured to send you 500 years further into the past every few days; that was the best we could do on such short notice.\"\n",
    "\n",
    "\"The bad news is that we are detecting roughly fifty anomalies throughout time; the device will indicate fixed anomalies with stars. The other bad news is that we only have one device and you're the best person for the job! Good lu--\" She taps a button on the device and you suddenly feel like you're falling. To save Christmas, you need to get all fifty stars by December 25th.\n",
    "\n",
    "Collect stars by solving puzzles. Two puzzles will be made available on each day in the Advent calendar; the second puzzle is unlocked when you complete the first. Each puzzle grants one star. Good luck!\n",
    "\n",
    "After feeling like you've been falling for a few minutes, you look at the device's tiny screen. \"Error: Device must be calibrated before first use. Frequency drift detected. Cannot maintain destination lock.\" Below the message, the device shows a sequence of changes in frequency (your puzzle input). A value like +6 means the current frequency increases by 6; a value like -3 means the current frequency decreases by 3.\n",
    "\n",
    "For example, if the device displays frequency changes of +1, -2, +3, +1, then starting from a frequency of zero, the following changes would occur:\n",
    "\n",
    "- Current frequency  0, change of +1; resulting frequency  1.\n",
    "- Current frequency  1, change of -2; resulting frequency -1.\n",
    "- Current frequency -1, change of +3; resulting frequency  2.\n",
    "- Current frequency  2, change of +1; resulting frequency  3.\n",
    "\n",
    "In this example, the resulting frequency is 3.\n",
    "\n",
    "Here are other example situations:\n",
    "\n",
    "- +1, +1, +1 results in  3\n",
    "- +1, +1, -2 results in  0\n",
    "- -1, -2, -3 results in -6\n",
    "\n",
    "Starting with a frequency of zero, what is the resulting frequency after all of the changes in frequency have been applied?"
   ]
  },
  {
   "cell_type": "code",
   "execution_count": 1,
   "id": "364d8361",
   "metadata": {},
   "outputs": [],
   "source": [
    "import re"
   ]
  },
  {
   "cell_type": "code",
   "execution_count": 2,
   "id": "7fbc9144",
   "metadata": {},
   "outputs": [],
   "source": [
    "def load_data(path):\n",
    "    file = open(path, \"r\")\n",
    "    lines = file.readlines()\n",
    "    lines = [l.replace(\"\\n\", '') for l in lines]\n",
    "    return lines"
   ]
  },
  {
   "cell_type": "code",
   "execution_count": 3,
   "id": "eb7102f8",
   "metadata": {},
   "outputs": [],
   "source": [
    "def get_frequency(delta_f):\n",
    "    \n",
    "    freq = 0\n",
    "    \n",
    "    for f in delta_f:\n",
    "        #print(freq, f)\n",
    "        if f[0] == \"+\":\n",
    "            freq += int(f[1:])\n",
    "        \n",
    "        if f[0] == \"-\":\n",
    "            freq -= int(f[1:])\n",
    "            \n",
    "    return freq        "
   ]
  },
  {
   "cell_type": "code",
   "execution_count": 4,
   "id": "8efc391a",
   "metadata": {},
   "outputs": [
    {
     "name": "stdout",
     "output_type": "stream",
     "text": [
      "582\n"
     ]
    }
   ],
   "source": [
    "delta_f = load_data(\"day01_data.txt\")\n",
    "frequency_change = get_frequency(delta_f)\n",
    "print(frequency_change)"
   ]
  },
  {
   "cell_type": "markdown",
   "id": "c9f2668e",
   "metadata": {},
   "source": [
    "## Part Two"
   ]
  },
  {
   "cell_type": "markdown",
   "id": "4034a123",
   "metadata": {},
   "source": [
    "You notice that the device repeats the same frequency change list over and over. To calibrate the device, you need to find the first frequency it reaches twice.\n",
    "\n",
    "For example, using the same list of changes above, the device would loop as follows:\n",
    "\n",
    "- Current frequency  0, change of +1; resulting frequency  1.\n",
    "- Current frequency  1, change of -2; resulting frequency -1.\n",
    "- Current frequency -1, change of +3; resulting frequency  2.\n",
    "- Current frequency  2, change of +1; resulting frequency  3.\n",
    "- (At this point, the device continues from the start of the list.)\n",
    "- Current frequency  3, change of +1; resulting frequency  4.\n",
    "- Current frequency  4, change of -2; resulting frequency  2, which has already been seen.\n",
    "\n",
    "In this example, the first frequency reached twice is 2. Note that your device might need to repeat its list of frequency changes many times before a duplicate frequency is found, and that duplicates might be found while in the middle of processing the list.\n",
    "\n",
    "Here are other examples:\n",
    "\n",
    "- +1, -1 first reaches 0 twice.\n",
    "- +3, +3, +4, -2, -4 first reaches 10 twice.\n",
    "- -6, +3, +8, +5, -6 first reaches 5 twice.\n",
    "- +7, +7, -2, -7, -4 first reaches 14 twice.\n",
    "\n",
    "What is the first frequency your device reaches twice?"
   ]
  },
  {
   "cell_type": "code",
   "execution_count": 5,
   "id": "5de2bdef",
   "metadata": {},
   "outputs": [],
   "source": [
    "def get_frequency(delta_f):\n",
    "    \n",
    "    freq = 0\n",
    "    history = set()\n",
    "    count = 0\n",
    "    num_f = len(delta_f)\n",
    "    \n",
    "    while True:\n",
    "        \n",
    "        f = delta_f[count%(num_f)]\n",
    "        \n",
    "        if f[0] == \"+\":\n",
    "                freq += int(f[1:])\n",
    "            \n",
    "        if f[0] == \"-\":\n",
    "            freq -= int(f[1:])\n",
    "        \n",
    "        if freq in history:\n",
    "            break\n",
    "        else:\n",
    "            history.add(freq)          \n",
    "        \n",
    "        count += 1\n",
    "    return freq        "
   ]
  },
  {
   "cell_type": "code",
   "execution_count": 6,
   "id": "fb31ce7c",
   "metadata": {},
   "outputs": [
    {
     "name": "stdout",
     "output_type": "stream",
     "text": [
      "488\n"
     ]
    }
   ],
   "source": [
    "freq = get_frequency(delta_f)\n",
    "print(freq)"
   ]
  }
 ],
 "metadata": {
  "kernelspec": {
   "display_name": "Python 3 (ipykernel)",
   "language": "python",
   "name": "python3"
  },
  "language_info": {
   "codemirror_mode": {
    "name": "ipython",
    "version": 3
   },
   "file_extension": ".py",
   "mimetype": "text/x-python",
   "name": "python",
   "nbconvert_exporter": "python",
   "pygments_lexer": "ipython3",
   "version": "3.8.8"
  },
  "varInspector": {
   "cols": {
    "lenName": 16,
    "lenType": 16,
    "lenVar": 40
   },
   "kernels_config": {
    "python": {
     "delete_cmd_postfix": "",
     "delete_cmd_prefix": "del ",
     "library": "var_list.py",
     "varRefreshCmd": "print(var_dic_list())"
    },
    "r": {
     "delete_cmd_postfix": ") ",
     "delete_cmd_prefix": "rm(",
     "library": "var_list.r",
     "varRefreshCmd": "cat(var_dic_list()) "
    }
   },
   "position": {
    "height": "144.844px",
    "left": "1534px",
    "right": "20px",
    "top": "118px",
    "width": "350px"
   },
   "types_to_exclude": [
    "module",
    "function",
    "builtin_function_or_method",
    "instance",
    "_Feature"
   ],
   "window_display": true
  }
 },
 "nbformat": 4,
 "nbformat_minor": 5
}
