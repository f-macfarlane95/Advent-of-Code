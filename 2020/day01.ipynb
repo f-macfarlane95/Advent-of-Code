{
 "cells": [
  {
   "cell_type": "markdown",
   "id": "f3896fdf",
   "metadata": {},
   "source": [
    "# Day 1: Report Repair"
   ]
  },
  {
   "cell_type": "markdown",
   "id": "d5ed13ec",
   "metadata": {},
   "source": [
    "## Part 1"
   ]
  },
  {
   "cell_type": "markdown",
   "id": "c56e6d1b",
   "metadata": {},
   "source": [
    "After saving Christmas five years in a row, you've decided to take a vacation at a nice resort on a tropical island. Surely, Christmas will go on without you.\n",
    "\n",
    "The tropical island has its own currency and is entirely cash-only. The gold coins used there have a little picture of a starfish; the locals just call them stars. None of the currency exchanges seem to have heard of them, but somehow, you'll need to find fifty of these coins by the time you arrive so you can pay the deposit on your room.\n",
    "\n",
    "To save your vacation, you need to get all fifty stars by December 25th.\n",
    "\n",
    "Collect stars by solving puzzles. Two puzzles will be made available on each day in the Advent calendar; the second puzzle is unlocked when you complete the first. Each puzzle grants one star. Good luck!\n",
    "\n",
    "Before you leave, the Elves in accounting just need you to fix your expense report (your puzzle input); apparently, something isn't quite adding up.\n",
    "\n",
    "Specifically, they need you to find the two entries that sum to 2020 and then multiply those two numbers together.\n",
    "\n",
    "For example, suppose your expense report contained the following:\n",
    "\n",
    "```\n",
    "1721\n",
    "979\n",
    "366\n",
    "299\n",
    "675\n",
    "1456\n",
    "```\n",
    "\n",
    "In this list, the two entries that sum to 2020 are 1721 and 299. Multiplying them together produces 1721 * 299 = 514579, so the correct answer is 514579.\n",
    "\n",
    "Of course, your expense report is much larger. Find the two entries that sum to 2020; what do you get if you multiply them together?"
   ]
  },
  {
   "cell_type": "code",
   "execution_count": 1,
   "id": "604cf4ec",
   "metadata": {},
   "outputs": [],
   "source": [
    "from pathlib import Path"
   ]
  },
  {
   "cell_type": "code",
   "execution_count": 2,
   "id": "615166f2",
   "metadata": {},
   "outputs": [],
   "source": [
    "def load_txt(filepath):\n",
    "    with Path(filepath).open(\"r\") as f:\n",
    "        return [int(elem.strip()) for elem in f.readlines()]"
   ]
  },
  {
   "cell_type": "code",
   "execution_count": 4,
   "id": "0d08063d",
   "metadata": {},
   "outputs": [],
   "source": [
    "def sum_checker(data, value: int = 2020):\n",
    "    for i in range(0,len(data)):\n",
    "        for j in range(i+1,len(data)):\n",
    "            if data[i]+data[j] == value:\n",
    "                return (data[i]*data[j])"
   ]
  },
  {
   "cell_type": "code",
   "execution_count": 5,
   "id": "64deb89d",
   "metadata": {},
   "outputs": [
    {
     "data": {
      "text/plain": [
       "927684"
      ]
     },
     "execution_count": 5,
     "metadata": {},
     "output_type": "execute_result"
    }
   ],
   "source": [
    "data = load_txt(\"day01_data.txt\")\n",
    "sum_checker(data)"
   ]
  },
  {
   "cell_type": "markdown",
   "id": "9ad3e4ba",
   "metadata": {},
   "source": [
    "## Part 2"
   ]
  },
  {
   "cell_type": "markdown",
   "id": "53d1a58f",
   "metadata": {},
   "source": [
    "The Elves in accounting are thankful for your help; one of them even offers you a starfish coin they had left over from a past vacation. They offer you a second one if you can find three numbers in your expense report that meet the same criteria.\n",
    "\n",
    "Using the above example again, the three entries that sum to 2020 are 979, 366, and 675. Multiplying them together produces the answer, 241861950.\n",
    "\n",
    "In your expense report, what is the product of the three entries that sum to 2020?"
   ]
  },
  {
   "cell_type": "code",
   "execution_count": 7,
   "id": "ed7bcb9b",
   "metadata": {},
   "outputs": [],
   "source": [
    "def sum_checker_3(data, value: int=2020):\n",
    "    for i in range(0,len(data)):\n",
    "        for j in range(i+1,len(data)):\n",
    "            for k in range(j+1,len(data)):\n",
    "                if data[i]+data[j]+data[k] == value:\n",
    "                    return (data[i]*data[j]*data[k])"
   ]
  },
  {
   "cell_type": "code",
   "execution_count": 8,
   "id": "b1848933",
   "metadata": {},
   "outputs": [
    {
     "data": {
      "text/plain": [
       "292093004"
      ]
     },
     "execution_count": 8,
     "metadata": {},
     "output_type": "execute_result"
    }
   ],
   "source": [
    "sum_checker_3(data)"
   ]
  },
  {
   "cell_type": "code",
   "execution_count": null,
   "id": "600d64df",
   "metadata": {},
   "outputs": [],
   "source": []
  }
 ],
 "metadata": {
  "kernelspec": {
   "display_name": "Python 3 (ipykernel)",
   "language": "python",
   "name": "python3"
  },
  "language_info": {
   "codemirror_mode": {
    "name": "ipython",
    "version": 3
   },
   "file_extension": ".py",
   "mimetype": "text/x-python",
   "name": "python",
   "nbconvert_exporter": "python",
   "pygments_lexer": "ipython3",
   "version": "3.8.8"
  }
 },
 "nbformat": 4,
 "nbformat_minor": 5
}
