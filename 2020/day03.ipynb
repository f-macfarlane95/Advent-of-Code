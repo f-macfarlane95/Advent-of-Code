{
 "cells": [
  {
   "cell_type": "markdown",
   "id": "f7a69979",
   "metadata": {},
   "source": [
    "# Day 3: Toboggan Trajectory"
   ]
  },
  {
   "cell_type": "markdown",
   "id": "25631546",
   "metadata": {},
   "source": [
    "## part 1"
   ]
  },
  {
   "cell_type": "markdown",
   "id": "79d0f59b",
   "metadata": {},
   "source": [
    "With the toboggan login problems resolved, you set off toward the airport. While travel by toboggan might be easy, it's certainly not safe: there's very minimal steering and the area is covered in trees. You'll need to see which angles will take you near the fewest trees.\n",
    "\n",
    "Due to the local geology, trees in this area only grow on exact integer coordinates in a grid. You make a map (your puzzle input) of the open squares (.) and trees (#) you can see. For example:\n",
    "\n",
    "```\n",
    "..##.......\n",
    "#...#...#..\n",
    ".#....#..#.\n",
    "..#.#...#.#\n",
    ".#...##..#.\n",
    "..#.##.....\n",
    ".#.#.#....#\n",
    ".#........#\n",
    "#.##...#...\n",
    "#...##....#\n",
    ".#..#...#.#\n",
    "```\n",
    "\n",
    "These aren't the only trees, though; due to something you read about once involving arboreal genetics and biome stability, the same pattern repeats to the right many times:\n",
    "\n",
    "```\n",
    "..##.........##.........##.........##.........##.........##.......  --->\n",
    "#...#...#..#...#...#..#...#...#..#...#...#..#...#...#..#...#...#..\n",
    ".#....#..#..#....#..#..#....#..#..#....#..#..#....#..#..#....#..#.\n",
    "..#.#...#.#..#.#...#.#..#.#...#.#..#.#...#.#..#.#...#.#..#.#...#.#\n",
    ".#...##..#..#...##..#..#...##..#..#...##..#..#...##..#..#...##..#.\n",
    "..#.##.......#.##.......#.##.......#.##.......#.##.......#.##.....  --->\n",
    ".#.#.#....#.#.#.#....#.#.#.#....#.#.#.#....#.#.#.#....#.#.#.#....#\n",
    ".#........#.#........#.#........#.#........#.#........#.#........#\n",
    "#.##...#...#.##...#...#.##...#...#.##...#...#.##...#...#.##...#...\n",
    "#...##....##...##....##...##....##...##....##...##....##...##....#\n",
    ".#..#...#.#.#..#...#.#.#..#...#.#.#..#...#.#.#..#...#.#.#..#...#.#  --->\n",
    "```\n",
    "\n",
    "You start on the open square (.) in the top-left corner and need to reach the bottom (below the bottom-most row on your map).\n",
    "\n",
    "The toboggan can only follow a few specific slopes (you opted for a cheaper model that prefers rational numbers); start by counting all the trees you would encounter for the slope right 3, down 1:\n",
    "\n",
    "From your starting position at the top-left, check the position that is right 3 and down 1. Then, check the position that is right 3 and down 1 from there, and so on until you go past the bottom of the map.\n",
    "\n",
    "The locations you'd check in the above example are marked here with O where there was an open square and X where there was a tree:\n",
    "\n",
    "```\n",
    "..##.........##.........##.........##.........##.........##.......  --->\n",
    "#..O#...#..#...#...#..#...#...#..#...#...#..#...#...#..#...#...#..\n",
    ".#....X..#..#....#..#..#....#..#..#....#..#..#....#..#..#....#..#.\n",
    "..#.#...#O#..#.#...#.#..#.#...#.#..#.#...#.#..#.#...#.#..#.#...#.#\n",
    ".#...##..#..X...##..#..#...##..#..#...##..#..#...##..#..#...##..#.\n",
    "..#.##.......#.X#.......#.##.......#.##.......#.##.......#.##.....  --->\n",
    ".#.#.#....#.#.#.#.O..#.#.#.#....#.#.#.#....#.#.#.#....#.#.#.#....#\n",
    ".#........#.#........X.#........#.#........#.#........#.#........#\n",
    "#.##...#...#.##...#...#.X#...#...#.##...#...#.##...#...#.##...#...\n",
    "#...##....##...##....##...#X....##...##....##...##....##...##....#\n",
    ".#..#...#.#.#..#...#.#.#..#...X.#.#..#...#.#.#..#...#.#.#..#...#.#  --->\n",
    "```\n",
    "\n",
    "In this example, traversing the map using this slope would cause you to encounter 7 trees.\n",
    "\n",
    "Starting at the top-left corner of your map and following a slope of right 3 and down 1, how many trees would you encounter?"
   ]
  },
  {
   "cell_type": "code",
   "execution_count": 1,
   "id": "2a218321",
   "metadata": {},
   "outputs": [],
   "source": [
    "import numpy as np"
   ]
  },
  {
   "cell_type": "code",
   "execution_count": 2,
   "id": "67b07cd9",
   "metadata": {},
   "outputs": [],
   "source": [
    "def load_terrain(path):\n",
    "    file = open(path, \"r\")\n",
    "    lines = file.readlines()\n",
    "    str_list = [list(sub) for sub in lines]\n",
    "    \n",
    "    #print(len(str_list))\n",
    "    data=np.empty\n",
    "    for idx, s in enumerate(str_list):\n",
    "        #print(s)\n",
    "        #print(idx)\n",
    "        if idx == 0:\n",
    "            if '\\n' in s:\n",
    "                s.remove('\\n')\n",
    "            #print(s)\n",
    "            data = s\n",
    "            #print(data)\n",
    "        else:\n",
    "            if '\\n' in s:\n",
    "                s.remove('\\n')\n",
    "            #print(s)\n",
    "            data = np.vstack([data, s])\n",
    "            #print(data)\n",
    "        \n",
    "    return data"
   ]
  },
  {
   "cell_type": "code",
   "execution_count": 3,
   "id": "a477f043",
   "metadata": {},
   "outputs": [
    {
     "name": "stdout",
     "output_type": "stream",
     "text": [
      "[['.' '.' '#' '#' '.' '.' '.' '.' '.' '.' '.']\n",
      " ['#' '.' '.' '.' '#' '.' '.' '.' '#' '.' '.']\n",
      " ['.' '#' '.' '.' '.' '.' '#' '.' '.' '#' '.']\n",
      " ['.' '.' '#' '.' '#' '.' '.' '.' '#' '.' '#']\n",
      " ['.' '#' '.' '.' '.' '#' '#' '.' '.' '#' '.']\n",
      " ['.' '.' '#' '.' '#' '#' '.' '.' '.' '.' '.']\n",
      " ['.' '#' '.' '#' '.' '#' '.' '.' '.' '.' '#']\n",
      " ['.' '#' '.' '.' '.' '.' '.' '.' '.' '.' '#']\n",
      " ['#' '.' '#' '#' '.' '.' '.' '#' '.' '.' '.']\n",
      " ['#' '.' '.' '.' '#' '#' '.' '.' '.' '.' '#']\n",
      " ['.' '#' '.' '.' '#' '.' '.' '.' '#' '.' '#']]\n"
     ]
    }
   ],
   "source": [
    "test_data = load_terrain('day03_data_test.txt')\n",
    "print(test_data)"
   ]
  },
  {
   "cell_type": "code",
   "execution_count": 5,
   "id": "9c4b6761",
   "metadata": {},
   "outputs": [
    {
     "name": "stdout",
     "output_type": "stream",
     "text": [
      "[['.' '.' '.' ... '.' '.' '.']\n",
      " ['.' '.' '.' ... '.' '.' '.']\n",
      " ['.' '#' '.' ... '.' '.' '#']\n",
      " ...\n",
      " ['.' '.' '.' ... '.' '.' '.']\n",
      " ['.' '.' '.' ... '.' '.' '.']\n",
      " ['#' '.' '.' ... '#' '.' '.']]\n"
     ]
    }
   ],
   "source": [
    "data = load_terrain('day03_data.txt')\n",
    "print(data)"
   ]
  },
  {
   "cell_type": "code",
   "execution_count": 38,
   "id": "6c6845cd",
   "metadata": {},
   "outputs": [],
   "source": [
    "def tree_counter(start_point: [0,0], slope: [1,3], data):\n",
    "    height, width = np.shape(data)\n",
    "    x = start_point[1]\n",
    "    tree_count = 0\n",
    "    for y in range(start_point[0], height, slope[0]):\n",
    "        if data[y,np.mod(x,width)] == '#':\n",
    "            tree_count+=1\n",
    "        x+=slope[1]\n",
    "        #print(x,y)\n",
    "        #print(np.mod(x,width),y)\n",
    "    return tree_count\n",
    "        \n",
    "    #print(width)\n",
    "    #print(height)\n",
    "    #print(data[0,3])"
   ]
  },
  {
   "cell_type": "markdown",
   "id": "b1b9cf5b",
   "metadata": {},
   "source": [
    "### Verify using smaple data (answer should be 7)"
   ]
  },
  {
   "cell_type": "code",
   "execution_count": 39,
   "id": "068858f3",
   "metadata": {},
   "outputs": [
    {
     "data": {
      "text/plain": [
       "7"
      ]
     },
     "execution_count": 39,
     "metadata": {},
     "output_type": "execute_result"
    }
   ],
   "source": [
    "tree_counter([0,0],[1,3],test_data)"
   ]
  },
  {
   "cell_type": "markdown",
   "id": "6eaaedcc",
   "metadata": {},
   "source": [
    "### Calculate for given test data"
   ]
  },
  {
   "cell_type": "code",
   "execution_count": 40,
   "id": "309875f2",
   "metadata": {},
   "outputs": [
    {
     "data": {
      "text/plain": [
       "148"
      ]
     },
     "execution_count": 40,
     "metadata": {},
     "output_type": "execute_result"
    }
   ],
   "source": [
    "tree_counter([0,0],[1,3],data)"
   ]
  },
  {
   "cell_type": "markdown",
   "id": "7206dce4",
   "metadata": {},
   "source": [
    "## Part 2"
   ]
  },
  {
   "cell_type": "markdown",
   "id": "7ea4e8a2",
   "metadata": {},
   "source": [
    "Time to check the rest of the slopes - you need to minimize the probability of a sudden arboreal stop, after all.\n",
    "\n",
    "Determine the number of trees you would encounter if, for each of the following slopes, you start at the top-left corner and traverse the map all the way to the bottom:\n",
    "\n",
    "```\n",
    "Right 1, down 1.\n",
    "Right 3, down 1. (This is the slope you already checked.)\n",
    "Right 5, down 1.\n",
    "Right 7, down 1.\n",
    "Right 1, down 2.\n",
    "```\n",
    "In the above example, these slopes would find 2, 7, 3, 4, and 2 tree(s) respectively; multiplied together, these produce the answer 336.\n",
    "\n",
    "What do you get if you multiply together the number of trees encountered on each of the listed slopes?"
   ]
  },
  {
   "cell_type": "markdown",
   "id": "46b0833e",
   "metadata": {},
   "source": [
    "### Verify sample data"
   ]
  },
  {
   "cell_type": "code",
   "execution_count": 47,
   "id": "e0ce054a",
   "metadata": {},
   "outputs": [
    {
     "name": "stdout",
     "output_type": "stream",
     "text": [
      "336\n"
     ]
    }
   ],
   "source": [
    "slopes = [[1,1],[1,3],[1,5],[1,7],[2,1]]\n",
    "s = 1\n",
    "for slope in slopes:\n",
    "    s = s * tree_counter([0,0],slope,test_data)\n",
    "    \n",
    "print(s)"
   ]
  },
  {
   "cell_type": "markdown",
   "id": "6ec9a05d",
   "metadata": {},
   "source": [
    "### Calculate for given test data"
   ]
  },
  {
   "cell_type": "code",
   "execution_count": 48,
   "id": "38be75c0",
   "metadata": {},
   "outputs": [
    {
     "name": "stdout",
     "output_type": "stream",
     "text": [
      "727923200\n"
     ]
    }
   ],
   "source": [
    "s = 1\n",
    "for slope in slopes:\n",
    "    s = s * tree_counter([0,0],slope,data)\n",
    "    \n",
    "print(s)"
   ]
  },
  {
   "cell_type": "code",
   "execution_count": null,
   "id": "ee4d9b9e",
   "metadata": {},
   "outputs": [],
   "source": []
  }
 ],
 "metadata": {
  "kernelspec": {
   "display_name": "Python 3 (ipykernel)",
   "language": "python",
   "name": "python3"
  },
  "language_info": {
   "codemirror_mode": {
    "name": "ipython",
    "version": 3
   },
   "file_extension": ".py",
   "mimetype": "text/x-python",
   "name": "python",
   "nbconvert_exporter": "python",
   "pygments_lexer": "ipython3",
   "version": "3.8.8"
  },
  "varInspector": {
   "cols": {
    "lenName": 16,
    "lenType": 16,
    "lenVar": 40
   },
   "kernels_config": {
    "python": {
     "delete_cmd_postfix": "",
     "delete_cmd_prefix": "del ",
     "library": "var_list.py",
     "varRefreshCmd": "print(var_dic_list())"
    },
    "r": {
     "delete_cmd_postfix": ") ",
     "delete_cmd_prefix": "rm(",
     "library": "var_list.r",
     "varRefreshCmd": "cat(var_dic_list()) "
    }
   },
   "types_to_exclude": [
    "module",
    "function",
    "builtin_function_or_method",
    "instance",
    "_Feature"
   ],
   "window_display": true
  }
 },
 "nbformat": 4,
 "nbformat_minor": 5
}
