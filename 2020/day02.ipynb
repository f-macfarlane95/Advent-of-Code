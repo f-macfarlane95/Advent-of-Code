{
 "cells": [
  {
   "cell_type": "markdown",
   "id": "a2542b7c",
   "metadata": {},
   "source": [
    "# Day 2: Password Philosophy"
   ]
  },
  {
   "cell_type": "markdown",
   "id": "5a51e7fd",
   "metadata": {},
   "source": [
    "## Part 1"
   ]
  },
  {
   "cell_type": "markdown",
   "id": "33a46d8d",
   "metadata": {},
   "source": [
    "Your flight departs in a few days from the coastal airport; the easiest way down to the coast from here is via toboggan.\n",
    "\n",
    "The shopkeeper at the North Pole Toboggan Rental Shop is having a bad day. \"Something's wrong with our computers; we can't log in!\" You ask if you can take a look.\n",
    "\n",
    "Their password database seems to be a little corrupted: some of the passwords wouldn't have been allowed by the Official Toboggan Corporate Policy that was in effect when they were chosen.\n",
    "\n",
    "To try to debug the problem, they have created a list (your puzzle input) of passwords (according to the corrupted database) and the corporate policy when that password was set.\n",
    "\n",
    "For example, suppose you have the following list:\n",
    "```\n",
    "1-3 a: abcde\n",
    "1-3 b: cdefg\n",
    "2-9 c: ccccccccc\n",
    "```\n",
    "Each line gives the password policy and then the password. The password policy indicates the lowest and highest number of times a given letter must appear for the password to be valid. For example, 1-3 a means that the password must contain a at least 1 time and at most 3 times.\n",
    "\n",
    "In the above example, 2 passwords are valid. The middle password, cdefg, is not; it contains no instances of b, but needs at least 1. The first and third passwords are valid: they contain one a or nine c, both within the limits of their respective policies.\n",
    "\n",
    "How many passwords are valid according to their policies?"
   ]
  },
  {
   "cell_type": "code",
   "execution_count": 1,
   "id": "448fe420",
   "metadata": {},
   "outputs": [],
   "source": [
    "def read_data(path):\n",
    "    file = open(path, \"r\")\n",
    "    lines = file.readlines()\n",
    "    return lines"
   ]
  },
  {
   "cell_type": "code",
   "execution_count": 2,
   "id": "50aeb1be",
   "metadata": {},
   "outputs": [],
   "source": [
    "def validate_passwords(data):\n",
    "    valid_count = 0\n",
    "    for s in data:\n",
    "        pword_elems=s.split()\n",
    "        min_c, max_c = pword_elems[0].split('-')\n",
    "        min_c = int(min_c)\n",
    "        max_c = int(max_c)\n",
    "        \n",
    "        pword_char = pword_elems[1].replace(':','')\n",
    "        \n",
    "        pword = pword_elems[2]\n",
    "        \n",
    "        #print(min_c)\n",
    "        #print(max_c)\n",
    "        \n",
    "        #print(pword_char)\n",
    "        #print(pword)\n",
    "        \n",
    "        numOccur = pword.count(pword_char)\n",
    "        #print(min_c, numOccur, max_c)\n",
    "        if numOccur <= max_c:\n",
    "            if numOccur >= min_c:\n",
    "                valid_count += 1\n",
    "        \n",
    "        \n",
    "    return valid_count"
   ]
  },
  {
   "cell_type": "code",
   "execution_count": 3,
   "id": "f8afc6f3",
   "metadata": {},
   "outputs": [],
   "source": [
    "passwords = read_data(\"day02_data.txt\")"
   ]
  },
  {
   "cell_type": "code",
   "execution_count": 4,
   "id": "ae99cebd",
   "metadata": {},
   "outputs": [
    {
     "name": "stdout",
     "output_type": "stream",
     "text": [
      "517\n"
     ]
    }
   ],
   "source": [
    "numValid = validate_passwords(passwords)\n",
    "print(numValid)"
   ]
  },
  {
   "cell_type": "markdown",
   "id": "43d9e237",
   "metadata": {},
   "source": [
    "## Part 2"
   ]
  },
  {
   "cell_type": "markdown",
   "id": "b4860a07",
   "metadata": {},
   "source": [
    "While it appears you validated the passwords correctly, they don't seem to be what the Official Toboggan Corporate Authentication System is expecting.\n",
    "\n",
    "The shopkeeper suddenly realizes that he just accidentally explained the password policy rules from his old job at the sled rental place down the street! The Official Toboggan Corporate Policy actually works a little differently.\n",
    "\n",
    "Each policy actually describes two positions in the password, where 1 means the first character, 2 means the second character, and so on. (Be careful; Toboggan Corporate Policies have no concept of \"index zero\"!) Exactly one of these positions must contain the given letter. Other occurrences of the letter are irrelevant for the purposes of policy enforcement.\n",
    "\n",
    "Given the same example list from above:\n",
    "\n",
    "```\n",
    "1-3 a: abcde is valid: position 1 contains a and position 3 does not.\n",
    "1-3 b: cdefg is invalid: neither position 1 nor position 3 contains b.\n",
    "2-9 c: ccccccccc is invalid: both position 2 and position 9 contain c.\n",
    "```\n",
    "\n",
    "How many passwords are valid according to the new interpretation of the policies?"
   ]
  },
  {
   "cell_type": "code",
   "execution_count": 5,
   "id": "e204a298",
   "metadata": {},
   "outputs": [],
   "source": [
    "def validate_passwords_positional(data):\n",
    "    valid_count = 0\n",
    "    for s in data:\n",
    "        pword_elems=s.split()\n",
    "        min_c, max_c = pword_elems[0].split('-')\n",
    "        loc_1 = int(min_c)-1\n",
    "        loc_2 = int(max_c)-1\n",
    "        \n",
    "        pword_char = pword_elems[1].replace(':','')\n",
    "        \n",
    "        pword = pword_elems[2]\n",
    "        \n",
    "        #print(pword_char)\n",
    "        #print(pword)\n",
    "        \n",
    "        #print(pword[loc_1],min_c) # r 13\n",
    "        #print(pword[loc_2],max_c) # h 16\n",
    "        #print(pword_char)         # k\n",
    "        \n",
    "        if bool(pword[loc_1]==pword_char)^bool(pword[loc_2]==pword_char):\n",
    "            valid_count += 1\n",
    "        \n",
    "        \n",
    "    return valid_count"
   ]
  },
  {
   "cell_type": "code",
   "execution_count": 6,
   "id": "84f7da6c",
   "metadata": {},
   "outputs": [
    {
     "name": "stdout",
     "output_type": "stream",
     "text": [
      "284\n"
     ]
    }
   ],
   "source": [
    "numValid = validate_passwords_positional(passwords)\n",
    "print(numValid)"
   ]
  }
 ],
 "metadata": {
  "kernelspec": {
   "display_name": "Python 3 (ipykernel)",
   "language": "python",
   "name": "python3"
  },
  "language_info": {
   "codemirror_mode": {
    "name": "ipython",
    "version": 3
   },
   "file_extension": ".py",
   "mimetype": "text/x-python",
   "name": "python",
   "nbconvert_exporter": "python",
   "pygments_lexer": "ipython3",
   "version": "3.8.8"
  },
  "varInspector": {
   "cols": {
    "lenName": 16,
    "lenType": 16,
    "lenVar": 40
   },
   "kernels_config": {
    "python": {
     "delete_cmd_postfix": "",
     "delete_cmd_prefix": "del ",
     "library": "var_list.py",
     "varRefreshCmd": "print(var_dic_list())"
    },
    "r": {
     "delete_cmd_postfix": ") ",
     "delete_cmd_prefix": "rm(",
     "library": "var_list.r",
     "varRefreshCmd": "cat(var_dic_list()) "
    }
   },
   "position": {
    "height": "790.844px",
    "left": "1557px",
    "right": "20px",
    "top": "121px",
    "width": "350px"
   },
   "types_to_exclude": [
    "module",
    "function",
    "builtin_function_or_method",
    "instance",
    "_Feature"
   ],
   "window_display": true
  }
 },
 "nbformat": 4,
 "nbformat_minor": 5
}
