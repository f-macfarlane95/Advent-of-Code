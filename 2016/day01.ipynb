{
 "cells": [
  {
   "cell_type": "markdown",
   "id": "69a65466",
   "metadata": {},
   "source": [
    "# Day 1: No Time for a Taxicab"
   ]
  },
  {
   "cell_type": "markdown",
   "id": "bec0ece2",
   "metadata": {},
   "source": [
    "## Part 1"
   ]
  },
  {
   "cell_type": "markdown",
   "id": "ae9a6a3d",
   "metadata": {},
   "source": [
    "Santa's sleigh uses a very high-precision clock to guide its movements, and the clock's oscillator is regulated by stars. Unfortunately, the stars have been stolen... by the Easter Bunny. To save Christmas, Santa needs you to retrieve all fifty stars by December 25th.\n",
    "\n",
    "Collect stars by solving puzzles. Two puzzles will be made available on each day in the Advent calendar; the second puzzle is unlocked when you complete the first. Each puzzle grants one star. Good luck!\n",
    "\n",
    "You're airdropped near Easter Bunny Headquarters in a city somewhere. \"Near\", unfortunately, is as close as you can get - the instructions on the Easter Bunny Recruiting Document the Elves intercepted start here, and nobody had time to work them out further.\n",
    "\n",
    "The Document indicates that you should start at the given coordinates (where you just landed) and face North. Then, follow the provided sequence: either turn left (L) or right (R) 90 degrees, then walk forward the given number of blocks, ending at a new intersection.\n",
    "\n",
    "There's no time to follow such ridiculous instructions on foot, though, so you take a moment and work out the destination. Given that you can only walk on the street grid of the city, how far is the shortest path to the destination?\n",
    "\n",
    "For example:\n",
    "\n",
    "- Following R2, L3 leaves you 2 blocks East and 3 blocks North, or 5 blocks away.\n",
    "- R2, R2, R2 leaves you 2 blocks due South of your starting position, which is 2 blocks away.\n",
    "- R5, L5, R5, R3 leaves you 12 blocks away.\n",
    "\n",
    "How many blocks away is Easter Bunny HQ?"
   ]
  },
  {
   "cell_type": "code",
   "execution_count": 1,
   "id": "c698d72d",
   "metadata": {},
   "outputs": [],
   "source": [
    "import numpy as np\n",
    "import matplotlib.pyplot as plt\n",
    "import re"
   ]
  },
  {
   "cell_type": "code",
   "execution_count": 2,
   "id": "f1318a8b",
   "metadata": {},
   "outputs": [],
   "source": [
    "class Taxi:\n",
    "    \n",
    "    h_offset = [1, 0, -1, 0]\n",
    "    v_offset = [0, 1, 0, -1]\n",
    "    \n",
    "    def __init__(self):\n",
    "        self.x = 0\n",
    "        self.y = 0\n",
    "        self.direction = 0\n",
    "        # N - 0, E - 1, S - 2, W - 3\n",
    "        \n",
    "    def move(self, instruction):\n",
    "        \n",
    "        #print(instruction[0],instruction[0]==\"L\")\n",
    "        \n",
    "        if instruction[0] == \"L\":\n",
    "            rotate = -1\n",
    "        else:\n",
    "            rotate = 1\n",
    "            \n",
    "        self.direction = (self.direction + rotate) % 4\n",
    "        \n",
    "        hops = re.split(r'\\D+',instruction)\n",
    "        hops = int(hops[1])\n",
    "        \n",
    "        #print(self.direction, hops)\n",
    "        \n",
    "        for h in range(hops):\n",
    "            self.x += self.h_offset[self.direction]\n",
    "            self.y += self.v_offset[self.direction]\n",
    "        #print(self.x, self.y)        \n",
    "    def calc_dist(self):\n",
    "        return abs(self.x) + abs(self.y)\n",
    "    "
   ]
  },
  {
   "cell_type": "code",
   "execution_count": 3,
   "id": "76d0972d",
   "metadata": {},
   "outputs": [],
   "source": [
    "def load_hops(path):\n",
    "    file = open(path, \"r\")\n",
    "    lines = file.readlines()\n",
    "    \n",
    "    lines = [l.split(\", \") for l in lines]\n",
    "    lines = lines[0]\n",
    "    return lines"
   ]
  },
  {
   "cell_type": "code",
   "execution_count": 4,
   "id": "38232c61",
   "metadata": {},
   "outputs": [
    {
     "name": "stdout",
     "output_type": "stream",
     "text": [
      "12\n"
     ]
    }
   ],
   "source": [
    "hops = load_hops(\"day01_data_test.txt\")\n",
    "taxi = Taxi()\n",
    "\n",
    "for h in hops:\n",
    "    taxi.move(h)\n",
    "\n",
    "manhattan = taxi.calc_dist()\n",
    "print(manhattan)\n"
   ]
  },
  {
   "cell_type": "code",
   "execution_count": 5,
   "id": "d9eecf8f",
   "metadata": {},
   "outputs": [
    {
     "name": "stdout",
     "output_type": "stream",
     "text": [
      "241\n"
     ]
    }
   ],
   "source": [
    "hops = load_hops(\"day01_data.txt\")\n",
    "taxi = Taxi()\n",
    "\n",
    "for h in hops:\n",
    "    taxi.move(h)\n",
    "\n",
    "manhattan = taxi.calc_dist()\n",
    "print(manhattan)"
   ]
  },
  {
   "cell_type": "markdown",
   "id": "b69c1eb1",
   "metadata": {},
   "source": [
    "## Part 2"
   ]
  },
  {
   "cell_type": "markdown",
   "id": "ea495fae",
   "metadata": {},
   "source": [
    "Then, you notice the instructions continue on the back of the Recruiting Document. Easter Bunny HQ is actually at the first location you visit twice.\n",
    "\n",
    "For example, if your instructions are R8, R4, R4, R8, the first location you visit twice is 4 blocks away, due East.\n",
    "\n",
    "How many blocks away is the first location you visit twice?"
   ]
  },
  {
   "cell_type": "code",
   "execution_count": 6,
   "id": "109b1826",
   "metadata": {},
   "outputs": [],
   "source": [
    "class Taxi:\n",
    "    \n",
    "    h_offset = [1, 0, -1, 0]\n",
    "    v_offset = [0, 1, 0, -1]\n",
    "    \n",
    "    def __init__(self):\n",
    "        self.x = 0\n",
    "        self.y = 0\n",
    "        self.direction = 0\n",
    "        # N - 0, E - 1, S - 2, W - 3\n",
    "        \n",
    "        self.history = set()\n",
    "        # creates an empty set to store all the positions previously visited\n",
    "        \n",
    "    def move(self, instruction):\n",
    "        \n",
    "        #print(instruction[0],instruction[0]==\"L\")\n",
    "        \n",
    "        if instruction[0] == \"L\":\n",
    "            rotate = -1\n",
    "        else:\n",
    "            rotate = 1\n",
    "            \n",
    "        self.direction = (self.direction + rotate) % 4\n",
    "        \n",
    "        hops = re.split(r'\\D+',instruction)\n",
    "        hops = int(hops[1])\n",
    "        \n",
    "        #print(self.direction, hops)\n",
    "        \n",
    "        for h in range(hops):\n",
    "            self.x += self.h_offset[self.direction]\n",
    "            self.y += self.v_offset[self.direction]\n",
    "            \n",
    "            if (self.x, self.y) in self.history: # checks new position isn't in history \n",
    "                #print(self.history)\n",
    "                #print(self.x,self.y)\n",
    "                \n",
    "                return True\n",
    "            \n",
    "            self.history.add((self.x, self.y)) # otherwise add position to history \n",
    "            \n",
    "        #print(self.x, self.y)        \n",
    "    def calc_dist(self):\n",
    "        return abs(self.x) + abs(self.y)"
   ]
  },
  {
   "cell_type": "code",
   "execution_count": 7,
   "id": "f0afb00e",
   "metadata": {},
   "outputs": [
    {
     "data": {
      "text/plain": [
       "104"
      ]
     },
     "execution_count": 7,
     "metadata": {},
     "output_type": "execute_result"
    }
   ],
   "source": [
    "hops = load_hops(\"day01_data.txt\")\n",
    "taxi = Taxi()\n",
    "\n",
    "for h in hops:\n",
    "    taxi.move(h)\n",
    "    \n",
    "taxi.calc_dist()"
   ]
  },
  {
   "cell_type": "code",
   "execution_count": 8,
   "id": "70b0e813",
   "metadata": {},
   "outputs": [
    {
     "data": {
      "image/png": "[encoded data removed]",
      "text/plain": [
       "<Figure size 432x288 with 1 Axes>"
      ]
     },
     "metadata": {
      "needs_background": "light"
     },
     "output_type": "display_data"
    }
   ],
   "source": [
    "x = np.asarray(list(taxi.history))\n",
    "\n",
    "[max_x, max_y] = np.max(x,0)\n",
    "[min_x, min_y] = np.min(x,0)\n",
    "\n",
    "num_points = len(x)\n",
    "\n",
    "plt.plot(x[:,0], x[:,1],'.',markersize=1)\n",
    "plt.axis([min_x-20, max_x+20, min_y-20, max_y+20])\n",
    "plt.show()"
   ]
  },
  {
   "cell_type": "code",
   "execution_count": 9,
   "id": "40ccfaad",
   "metadata": {},
   "outputs": [
    {
     "data": {
      "text/plain": [
       "116"
      ]
     },
     "execution_count": 9,
     "metadata": {},
     "output_type": "execute_result"
    }
   ],
   "source": [
    "hops = load_hops(\"day01_data.txt\")\n",
    "taxi = Taxi()\n",
    "\n",
    "for h in hops:\n",
    "    if taxi.move(h):\n",
    "        break\n",
    "    \n",
    "taxi.calc_dist()"
   ]
  },
  {
   "cell_type": "code",
   "execution_count": 10,
   "id": "62650d99",
   "metadata": {},
   "outputs": [
    {
     "data": {
      "image/png": "[encoded data removed]",
      "text/plain": [
       "<Figure size 432x288 with 1 Axes>"
      ]
     },
     "metadata": {
      "needs_background": "light"
     },
     "output_type": "display_data"
    }
   ],
   "source": [
    "x = np.asarray(list(taxi.history))\n",
    "\n",
    "num_points = len(x)\n",
    "\n",
    "plt.plot(x[:,0], x[:,1],'.',markersize=1)\n",
    "plt.plot(x[-1,0], x[-1,1],'gx',markersize=10)\n",
    "plt.axis([min_x-20, max_x+20, min_y-20, max_y+20])\n",
    "plt.show()"
   ]
  }
 ],
 "metadata": {
  "kernelspec": {
   "display_name": "Python 3 (ipykernel)",
   "language": "python",
   "name": "python3"
  },
  "language_info": {
   "codemirror_mode": {
    "name": "ipython",
    "version": 3
   },
   "file_extension": ".py",
   "mimetype": "text/x-python",
   "name": "python",
   "nbconvert_exporter": "python",
   "pygments_lexer": "ipython3",
   "version": "3.8.8"
  },
  "varInspector": {
   "cols": {
    "lenName": 16,
    "lenType": 16,
    "lenVar": 40
   },
   "kernels_config": {
    "python": {
     "delete_cmd_postfix": "",
     "delete_cmd_prefix": "del ",
     "library": "var_list.py",
     "varRefreshCmd": "print(var_dic_list())"
    },
    "r": {
     "delete_cmd_postfix": ") ",
     "delete_cmd_prefix": "rm(",
     "library": "var_list.r",
     "varRefreshCmd": "cat(var_dic_list()) "
    }
   },
   "position": {
    "height": "231.844px",
    "left": "1550px",
    "right": "20px",
    "top": "120px",
    "width": "350px"
   },
   "types_to_exclude": [
    "module",
    "function",
    "builtin_function_or_method",
    "instance",
    "_Feature"
   ],
   "window_display": true
  }
 },
 "nbformat": 4,
 "nbformat_minor": 5
}
