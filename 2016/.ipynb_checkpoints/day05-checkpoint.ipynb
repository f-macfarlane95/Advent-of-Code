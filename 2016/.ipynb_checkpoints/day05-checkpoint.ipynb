{
 "cells": [
  {
   "cell_type": "markdown",
   "id": "5fca75cc",
   "metadata": {},
   "source": [
    "# Day 5: How About a Nice Game of Chess?"
   ]
  },
  {
   "cell_type": "markdown",
   "id": "98dd656f",
   "metadata": {},
   "source": [
    "## Part 1"
   ]
  },
  {
   "cell_type": "markdown",
   "id": "a76a885c",
   "metadata": {},
   "source": [
    "You are faced with a security door designed by Easter Bunny engineers that seem to have acquired most of their security knowledge by watching hacking movies.\n",
    "\n",
    "The eight-character password for the door is generated one character at a time by finding the MD5 hash of some Door ID (your puzzle input) and an increasing integer index (starting with 0).\n",
    "\n",
    "A hash indicates the next character in the password if its hexadecimal representation starts with five zeroes. If it does, the sixth character in the hash is the next character of the password.\n",
    "\n",
    "For example, if the Door ID is ```abc```:\n",
    "\n",
    "- The first index which produces a hash that starts with five zeroes is ```3231929```, which we find by hashing ```abc3231929```; the sixth character of the hash, and thus the first character of the password, is ```1```.\n",
    "- ```5017308``` produces the next interesting hash, which starts with ```000008f82...```, so the second character of the password is ```8```.\n",
    "- The third time a hash starts with five zeroes is for ```abc5278568```, discovering the character ```f```.\n",
    "\n",
    "In this example, after continuing this search a total of eight times, the password is ```18f47a30```.\n",
    "\n",
    "Given the actual Door ID, what is the password?"
   ]
  },
  {
   "cell_type": "code",
   "execution_count": 1,
   "id": "0008fcf5",
   "metadata": {},
   "outputs": [
    {
     "name": "stdout",
     "output_type": "stream",
     "text": [
      "f77a0e6e\n"
     ]
    }
   ],
   "source": [
    "import hashlib\n",
    "import time\n",
    "from IPython.display import display, clear_output\n",
    "\n",
    "str_in = \"cxdnnyjw\"\n",
    "password = str()\n",
    "\n",
    "i = 0\n",
    "while len(password)<8:\n",
    "    #clear_output(wait=True)\n",
    "    MD5_hash = hashlib.md5(str(str_in+str(i)).encode()).hexdigest()\n",
    "    #display('i = '+str(i)+' Input: cxdnnyjw'+str(i)+' MD5 Hash: '+MD5_hash+' Password: '+password)\n",
    "\n",
    "    if MD5_hash[0:5] == \"00000\":\n",
    "        password = password + MD5_hash[5]\n",
    "        #print(password)\n",
    "    i+=1\n",
    "\n",
    "print(password)"
   ]
  },
  {
   "cell_type": "markdown",
   "id": "9f08c09c",
   "metadata": {},
   "source": [
    "## Part 2"
   ]
  },
  {
   "cell_type": "markdown",
   "id": "1da70575",
   "metadata": {},
   "source": [
    "As the door slides open, you are presented with a second door that uses a slightly more inspired security mechanism. Clearly unimpressed by the last version (in what movie is the password decrypted in order?!), the Easter Bunny engineers have worked out a better solution.\n",
    "\n",
    "Instead of simply filling in the password from left to right, the hash now also indicates the position within the password to fill. You still look for hashes that begin with five zeroes; however, now, the sixth character represents the position (0-7), and the seventh character is the character to put in that position.\n",
    "\n",
    "A hash result of ```000001f``` means that ```f``` is the second character in the password. Use only the first result for each position, and ignore invalid positions.\n",
    "\n",
    "For example, if the Door ID is ```abc```:\n",
    "\n",
    "- The first interesting hash is from ```abc3231929```, which produces ```0000015...```; so, ```5``` goes in position ```1```: ```_5______```.\n",
    "- In the previous method, ```5017308``` produced an interesting hash; however, it is ignored, because it specifies an invalid position (```8```).\n",
    "- The second interesting hash is at index ```5357525```, which produces ```000004e...```; so, ```e``` goes in position ```4```: ```_5__e___```.\n",
    "You almost choke on your popcorn as the final character falls into place, producing the password ```05ace8e3```.\n",
    "\n",
    "Given the actual Door ID and this new method, what is the password? Be extra proud of your solution if it uses a cinematic \"decrypting\" animation."
   ]
  },
  {
   "cell_type": "code",
   "execution_count": 2,
   "id": "886a9439",
   "metadata": {},
   "outputs": [
    {
     "name": "stdout",
     "output_type": "stream",
     "text": [
      "[None, None, None, None, None, None, None, 'c']\n",
      "['9', None, None, None, None, None, None, 'c']\n",
      "['9', None, None, None, None, None, 'e', 'c']\n",
      "['9', None, None, None, '2', None, 'e', 'c']\n",
      "['9', None, '9', None, '2', None, 'e', 'c']\n",
      "['9', None, '9', '8', '2', None, 'e', 'c']\n",
      "['9', None, '9', '8', '2', '8', 'e', 'c']\n",
      "['9', '9', '9', '8', '2', '8', 'e', 'c']\n",
      "999828ec\n"
     ]
    }
   ],
   "source": [
    "i = 0\n",
    "password = [None] * 8\n",
    "found = 0\n",
    "while found<8:\n",
    "    #clear_output(wait=True)\n",
    "    MD5_hash = hashlib.md5(str(str_in+str(i)).encode()).hexdigest()\n",
    "    #display('i = '+str(i)+' Input: cxdnnyjw'+str(i)+' MD5 Hash: '+MD5_hash+' Password: '+password)\n",
    "\n",
    "    if MD5_hash[0:5] == \"00000\":\n",
    "        pass_int = int(MD5_hash[5], 16)\n",
    "        if pass_int < 8:\n",
    "            if password[pass_int] == None:\n",
    "                password[int(MD5_hash[5])] = MD5_hash[6]\n",
    "                print(password)\n",
    "                found += 1\n",
    "    i+=1\n",
    "\n",
    "print(''.join(password))"
   ]
  }
 ],
 "metadata": {
  "kernelspec": {
   "display_name": "Python 3 (ipykernel)",
   "language": "python",
   "name": "python3"
  },
  "language_info": {
   "codemirror_mode": {
    "name": "ipython",
    "version": 3
   },
   "file_extension": ".py",
   "mimetype": "text/x-python",
   "name": "python",
   "nbconvert_exporter": "python",
   "pygments_lexer": "ipython3",
   "version": "3.8.8"
  },
  "varInspector": {
   "cols": {
    "lenName": 16,
    "lenType": 16,
    "lenVar": 40
   },
   "kernels_config": {
    "python": {
     "delete_cmd_postfix": "",
     "delete_cmd_prefix": "del ",
     "library": "var_list.py",
     "varRefreshCmd": "print(var_dic_list())"
    },
    "r": {
     "delete_cmd_postfix": ") ",
     "delete_cmd_prefix": "rm(",
     "library": "var_list.r",
     "varRefreshCmd": "cat(var_dic_list()) "
    }
   },
   "oldHeight": 217.844,
   "position": {
    "height": "239.844px",
    "left": "697px",
    "right": "20px",
    "top": "121px",
    "width": "350px"
   },
   "types_to_exclude": [
    "module",
    "function",
    "builtin_function_or_method",
    "instance",
    "_Feature"
   ],
   "varInspector_section_display": "block",
   "window_display": false
  }
 },
 "nbformat": 4,
 "nbformat_minor": 5
}
